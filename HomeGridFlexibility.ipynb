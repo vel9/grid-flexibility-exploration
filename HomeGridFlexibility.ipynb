{
 "cells": [
  {
   "cell_type": "markdown",
   "id": "e9811d5c-37fe-4872-934f-1df3b09452b3",
   "metadata": {},
   "source": [
    "# Exploring Grid Flexibility\n",
    "\n",
    "This data exploration is inspired by Saul Griffith's Electrify: \"Electrifying the whole household roughly triples the amount of electricity it requires...While this might initially seem like a problem, adding thermal loads and connecting electric vehicles to the house provides greater opportunity for these machines to take turns sucking up some sunshine.\" (p.88)\n",
    "\n",
    "As an engineer learning about the energy space, the goal of this exploratory notebook is to faciliate conversations with folks who are dealing with these problems in their day-to-day work, to start learning about some of the freely available grid data and to apply simple algorithms.\n",
    "\n",
    "The final \"allocated resources\" chart is inspired by Griffith's flexible load profile chart on page 89. I attempt to approach it algorithmically by getting price and output data from the NYISO grid and:\n",
    "1. allocating home energy resources by windows of time where price is lowest\n",
    "2. allocating same resources by windows of time where renewable energy output is the highest"
   ]
  },
  {
   "cell_type": "markdown",
   "id": "23c5f984-d411-4fe0-b245-60b87fe151e4",
   "metadata": {},
   "source": [
    "## Get and display price data for a given day"
   ]
  },
  {
   "cell_type": "code",
   "execution_count": 10,
   "id": "09789276-fb6f-4c68-b999-2a29a8b9457c",
   "metadata": {},
   "outputs": [
    {
     "data": {
      "application/vnd.plotly.v1+json": {
       "config": {
        "plotlyServerURL": "https://plot.ly"
       },
       "data": [
        {
         "hovertemplate": "Time=%{x}<br>LMP=%{y}<extra></extra>",
         "legendgroup": "",
         "line": {
          "color": "#636efa",
          "dash": "solid"
         },
         "marker": {
          "symbol": "circle"
         },
         "mode": "lines",
         "name": "",
         "orientation": "v",
         "showlegend": false,
         "type": "scatter",
         "x": [
          "2024-02-26T00:00:00-05:00",
          "2024-02-26T00:05:00-05:00",
          "2024-02-26T00:10:00-05:00",
          "2024-02-26T00:15:00-05:00",
          "2024-02-26T00:20:00-05:00",
          "2024-02-26T00:25:00-05:00",
          "2024-02-26T00:30:00-05:00",
          "2024-02-26T00:35:00-05:00",
          "2024-02-26T00:40:00-05:00",
          "2024-02-26T00:45:00-05:00",
          "2024-02-26T00:50:00-05:00",
          "2024-02-26T00:55:00-05:00",
          "2024-02-26T01:00:00-05:00",
          "2024-02-26T01:05:00-05:00",
          "2024-02-26T01:10:00-05:00",
          "2024-02-26T01:15:00-05:00",
          "2024-02-26T01:20:00-05:00",
          "2024-02-26T01:25:00-05:00",
          "2024-02-26T01:30:00-05:00",
          "2024-02-26T01:35:00-05:00",
          "2024-02-26T01:40:00-05:00",
          "2024-02-26T01:45:00-05:00",
          "2024-02-26T01:50:00-05:00",
          "2024-02-26T01:55:00-05:00",
          "2024-02-26T02:00:00-05:00",
          "2024-02-26T02:05:00-05:00",
          "2024-02-26T02:10:00-05:00",
          "2024-02-26T02:15:00-05:00",
          "2024-02-26T02:20:00-05:00",
          "2024-02-26T02:25:00-05:00",
          "2024-02-26T02:30:00-05:00",
          "2024-02-26T02:35:00-05:00",
          "2024-02-26T02:40:00-05:00",
          "2024-02-26T02:45:00-05:00",
          "2024-02-26T02:50:00-05:00",
          "2024-02-26T02:55:00-05:00",
          "2024-02-26T03:00:00-05:00",
          "2024-02-26T03:05:00-05:00",
          "2024-02-26T03:10:00-05:00",
          "2024-02-26T03:15:00-05:00",
          "2024-02-26T03:20:00-05:00",
          "2024-02-26T03:25:00-05:00",
          "2024-02-26T03:30:00-05:00",
          "2024-02-26T03:35:00-05:00",
          "2024-02-26T03:40:00-05:00",
          "2024-02-26T03:45:00-05:00",
          "2024-02-26T03:50:00-05:00",
          "2024-02-26T03:55:00-05:00",
          "2024-02-26T04:00:00-05:00",
          "2024-02-26T04:05:00-05:00",
          "2024-02-26T04:10:00-05:00",
          "2024-02-26T04:15:00-05:00",
          "2024-02-26T04:20:00-05:00",
          "2024-02-26T04:25:00-05:00",
          "2024-02-26T04:30:00-05:00",
          "2024-02-26T04:35:00-05:00",
          "2024-02-26T04:40:00-05:00",
          "2024-02-26T04:45:00-05:00",
          "2024-02-26T04:50:00-05:00",
          "2024-02-26T04:55:00-05:00",
          "2024-02-26T05:00:00-05:00",
          "2024-02-26T05:05:00-05:00",
          "2024-02-26T05:10:00-05:00",
          "2024-02-26T05:15:00-05:00",
          "2024-02-26T05:20:00-05:00",
          "2024-02-26T05:25:00-05:00",
          "2024-02-26T05:30:00-05:00",
          "2024-02-26T05:35:00-05:00",
          "2024-02-26T05:40:00-05:00",
          "2024-02-26T05:45:00-05:00",
          "2024-02-26T05:50:00-05:00",
          "2024-02-26T05:55:00-05:00",
          "2024-02-26T06:00:00-05:00",
          "2024-02-26T06:05:00-05:00",
          "2024-02-26T06:10:00-05:00",
          "2024-02-26T06:15:00-05:00",
          "2024-02-26T06:20:00-05:00",
          "2024-02-26T06:25:00-05:00",
          "2024-02-26T06:30:00-05:00",
          "2024-02-26T06:35:00-05:00",
          "2024-02-26T06:40:00-05:00",
          "2024-02-26T06:45:00-05:00",
          "2024-02-26T06:50:00-05:00",
          "2024-02-26T06:55:00-05:00",
          "2024-02-26T07:00:00-05:00",
          "2024-02-26T07:05:00-05:00",
          "2024-02-26T07:10:00-05:00",
          "2024-02-26T07:15:00-05:00",
          "2024-02-26T07:20:00-05:00",
          "2024-02-26T07:25:00-05:00",
          "2024-02-26T07:30:00-05:00",
          "2024-02-26T07:35:00-05:00",
          "2024-02-26T07:40:00-05:00",
          "2024-02-26T07:45:00-05:00",
          "2024-02-26T07:50:00-05:00",
          "2024-02-26T07:55:00-05:00",
          "2024-02-26T08:00:00-05:00",
          "2024-02-26T08:05:00-05:00",
          "2024-02-26T08:10:00-05:00",
          "2024-02-26T08:15:00-05:00",
          "2024-02-26T08:20:00-05:00",
          "2024-02-26T08:25:00-05:00",
          "2024-02-26T08:30:00-05:00",
          "2024-02-26T08:35:00-05:00",
          "2024-02-26T08:40:00-05:00",
          "2024-02-26T08:45:00-05:00",
          "2024-02-26T08:50:00-05:00",
          "2024-02-26T08:55:00-05:00",
          "2024-02-26T09:00:00-05:00",
          "2024-02-26T09:05:00-05:00",
          "2024-02-26T09:10:00-05:00",
          "2024-02-26T09:15:00-05:00",
          "2024-02-26T09:20:00-05:00",
          "2024-02-26T09:25:00-05:00",
          "2024-02-26T09:30:00-05:00",
          "2024-02-26T09:35:00-05:00",
          "2024-02-26T09:40:00-05:00",
          "2024-02-26T09:45:00-05:00",
          "2024-02-26T09:50:00-05:00",
          "2024-02-26T09:55:00-05:00",
          "2024-02-26T10:00:00-05:00",
          "2024-02-26T10:05:00-05:00",
          "2024-02-26T10:10:00-05:00",
          "2024-02-26T10:15:00-05:00",
          "2024-02-26T10:20:00-05:00",
          "2024-02-26T10:25:00-05:00",
          "2024-02-26T10:30:00-05:00",
          "2024-02-26T10:35:00-05:00",
          "2024-02-26T10:40:00-05:00",
          "2024-02-26T10:45:00-05:00",
          "2024-02-26T10:50:00-05:00",
          "2024-02-26T10:55:00-05:00",
          "2024-02-26T11:00:00-05:00",
          "2024-02-26T11:05:00-05:00",
          "2024-02-26T11:10:00-05:00",
          "2024-02-26T11:15:00-05:00",
          "2024-02-26T11:20:00-05:00",
          "2024-02-26T11:25:00-05:00",
          "2024-02-26T11:30:00-05:00",
          "2024-02-26T11:35:00-05:00",
          "2024-02-26T11:40:00-05:00",
          "2024-02-26T11:45:00-05:00",
          "2024-02-26T11:50:00-05:00",
          "2024-02-26T11:55:00-05:00",
          "2024-02-26T12:00:00-05:00",
          "2024-02-26T12:05:00-05:00",
          "2024-02-26T12:10:00-05:00",
          "2024-02-26T12:15:00-05:00",
          "2024-02-26T12:20:00-05:00",
          "2024-02-26T12:25:00-05:00",
          "2024-02-26T12:30:00-05:00",
          "2024-02-26T12:35:00-05:00",
          "2024-02-26T12:40:00-05:00",
          "2024-02-26T12:45:00-05:00",
          "2024-02-26T12:50:00-05:00",
          "2024-02-26T12:55:00-05:00",
          "2024-02-26T13:00:00-05:00",
          "2024-02-26T13:05:00-05:00",
          "2024-02-26T13:10:00-05:00",
          "2024-02-26T13:15:00-05:00",
          "2024-02-26T13:20:00-05:00",
          "2024-02-26T13:25:00-05:00",
          "2024-02-26T13:30:00-05:00",
          "2024-02-26T13:35:00-05:00",
          "2024-02-26T13:40:00-05:00",
          "2024-02-26T13:45:00-05:00",
          "2024-02-26T13:50:00-05:00",
          "2024-02-26T13:55:00-05:00",
          "2024-02-26T14:00:00-05:00",
          "2024-02-26T14:05:00-05:00",
          "2024-02-26T14:10:00-05:00",
          "2024-02-26T14:15:00-05:00",
          "2024-02-26T14:20:00-05:00",
          "2024-02-26T14:25:00-05:00",
          "2024-02-26T14:30:00-05:00",
          "2024-02-26T14:35:00-05:00",
          "2024-02-26T14:40:00-05:00",
          "2024-02-26T14:45:00-05:00",
          "2024-02-26T14:50:00-05:00",
          "2024-02-26T14:55:00-05:00",
          "2024-02-26T15:00:00-05:00",
          "2024-02-26T15:05:00-05:00",
          "2024-02-26T15:10:00-05:00",
          "2024-02-26T15:15:00-05:00",
          "2024-02-26T15:20:00-05:00",
          "2024-02-26T15:25:00-05:00",
          "2024-02-26T15:30:00-05:00",
          "2024-02-26T15:35:00-05:00",
          "2024-02-26T15:40:00-05:00",
          "2024-02-26T15:45:00-05:00",
          "2024-02-26T15:50:00-05:00",
          "2024-02-26T15:55:00-05:00",
          "2024-02-26T16:00:00-05:00",
          "2024-02-26T16:05:00-05:00",
          "2024-02-26T16:10:00-05:00",
          "2024-02-26T16:15:00-05:00",
          "2024-02-26T16:20:00-05:00",
          "2024-02-26T16:25:00-05:00",
          "2024-02-26T16:30:00-05:00",
          "2024-02-26T16:35:00-05:00",
          "2024-02-26T16:40:00-05:00",
          "2024-02-26T16:45:00-05:00",
          "2024-02-26T16:50:00-05:00",
          "2024-02-26T16:55:00-05:00",
          "2024-02-26T17:00:00-05:00",
          "2024-02-26T17:05:00-05:00",
          "2024-02-26T17:09:37-05:00",
          "2024-02-26T17:10:00-05:00",
          "2024-02-26T17:14:37-05:00",
          "2024-02-26T17:15:00-05:00",
          "2024-02-26T17:15:31-05:00",
          "2024-02-26T17:20:00-05:00",
          "2024-02-26T17:25:00-05:00",
          "2024-02-26T17:30:00-05:00",
          "2024-02-26T17:35:00-05:00",
          "2024-02-26T17:40:00-05:00",
          "2024-02-26T17:45:00-05:00",
          "2024-02-26T17:50:00-05:00",
          "2024-02-26T17:55:00-05:00",
          "2024-02-26T18:00:00-05:00",
          "2024-02-26T18:05:00-05:00",
          "2024-02-26T18:10:00-05:00",
          "2024-02-26T18:15:00-05:00",
          "2024-02-26T18:20:00-05:00",
          "2024-02-26T18:25:00-05:00",
          "2024-02-26T18:30:00-05:00",
          "2024-02-26T18:35:00-05:00",
          "2024-02-26T18:40:00-05:00",
          "2024-02-26T18:45:00-05:00",
          "2024-02-26T18:50:00-05:00",
          "2024-02-26T18:55:00-05:00",
          "2024-02-26T19:00:00-05:00",
          "2024-02-26T19:05:00-05:00",
          "2024-02-26T19:10:00-05:00",
          "2024-02-26T19:15:00-05:00",
          "2024-02-26T19:20:00-05:00",
          "2024-02-26T19:25:00-05:00",
          "2024-02-26T19:30:00-05:00",
          "2024-02-26T19:35:00-05:00",
          "2024-02-26T19:40:00-05:00",
          "2024-02-26T19:45:00-05:00",
          "2024-02-26T19:50:00-05:00",
          "2024-02-26T19:55:00-05:00",
          "2024-02-26T20:00:00-05:00",
          "2024-02-26T20:05:00-05:00",
          "2024-02-26T20:10:00-05:00",
          "2024-02-26T20:15:00-05:00",
          "2024-02-26T20:20:00-05:00",
          "2024-02-26T20:25:00-05:00",
          "2024-02-26T20:30:00-05:00",
          "2024-02-26T20:35:00-05:00",
          "2024-02-26T20:40:00-05:00",
          "2024-02-26T20:45:00-05:00",
          "2024-02-26T20:50:00-05:00",
          "2024-02-26T20:55:00-05:00",
          "2024-02-26T21:00:00-05:00",
          "2024-02-26T21:05:00-05:00",
          "2024-02-26T21:10:00-05:00",
          "2024-02-26T21:15:00-05:00",
          "2024-02-26T21:20:00-05:00",
          "2024-02-26T21:25:00-05:00",
          "2024-02-26T21:30:00-05:00",
          "2024-02-26T21:35:00-05:00",
          "2024-02-26T21:40:00-05:00",
          "2024-02-26T21:45:00-05:00",
          "2024-02-26T21:50:00-05:00",
          "2024-02-26T21:55:00-05:00",
          "2024-02-26T22:00:00-05:00",
          "2024-02-26T22:05:00-05:00",
          "2024-02-26T22:10:00-05:00",
          "2024-02-26T22:15:00-05:00",
          "2024-02-26T22:20:00-05:00",
          "2024-02-26T22:25:00-05:00",
          "2024-02-26T22:30:00-05:00",
          "2024-02-26T22:35:00-05:00",
          "2024-02-26T22:40:00-05:00",
          "2024-02-26T22:45:00-05:00",
          "2024-02-26T22:50:00-05:00",
          "2024-02-26T22:55:00-05:00",
          "2024-02-26T23:00:00-05:00",
          "2024-02-26T23:05:00-05:00",
          "2024-02-26T23:10:00-05:00",
          "2024-02-26T23:15:00-05:00",
          "2024-02-26T23:20:00-05:00",
          "2024-02-26T23:25:00-05:00",
          "2024-02-26T23:30:00-05:00",
          "2024-02-26T23:35:00-05:00",
          "2024-02-26T23:40:00-05:00",
          "2024-02-26T23:45:00-05:00",
          "2024-02-26T23:50:00-05:00",
          "2024-02-26T23:55:00-05:00"
         ],
         "xaxis": "x",
         "y": [
          26.29,
          25.9,
          22.51,
          21.34,
          21.36,
          21.36,
          21.38,
          20.32,
          21.27,
          21.26,
          21.24,
          22.3,
          22.34,
          22.39,
          22.86,
          22.88,
          22.89,
          21.38,
          20.38,
          20.4,
          20.44,
          21.47,
          21.47,
          23,
          23.05,
          23.07,
          23.09,
          23.09,
          23.02,
          22.97,
          22.48,
          22.58,
          22.62,
          22.66,
          23.04,
          21.58,
          22.82,
          23.96,
          21.6,
          21.62,
          21.53,
          21.53,
          24.05,
          23.99,
          24,
          24.13,
          24.03,
          23.42,
          22.58,
          24.13,
          25.92,
          25.31,
          25.86,
          24.12,
          24.66,
          25.29,
          25.29,
          25.37,
          25.99,
          22.91,
          25.48,
          25.97,
          26.98,
          30.8,
          28.82,
          27.38,
          27.4,
          32.09,
          32.15,
          32.93,
          34.35,
          27.16,
          26.43,
          29.27,
          30.13,
          32.58,
          33.3,
          51.77,
          117.35,
          137.15,
          73.41,
          52.23,
          54,
          23.88,
          26.23,
          26.41,
          23.65,
          22.42,
          22.44,
          22.48,
          22.46,
          22.42,
          22.49,
          22.46,
          22.24,
          20.51,
          19.01,
          19.02,
          18.97,
          18.73,
          18.71,
          17.99,
          16.96,
          16.95,
          16.54,
          16.94,
          17,
          19.95,
          21.41,
          20.21,
          20.25,
          21.41,
          20.97,
          20.17,
          20.15,
          19.06,
          18.29,
          18.21,
          18.12,
          19.04,
          19.58,
          20.19,
          20.04,
          20.23,
          20.21,
          20.23,
          20.21,
          21.64,
          21.64,
          20.25,
          20.25,
          22.42,
          21.55,
          21.53,
          21.52,
          20.32,
          20.34,
          20.34,
          20.28,
          19.75,
          18.49,
          18.61,
          18.54,
          19.75,
          20.36,
          19.77,
          19.6,
          18.66,
          18.5,
          18.36,
          17.69,
          17.29,
          18.1,
          18.14,
          17.71,
          16.13,
          16.22,
          16.06,
          15.87,
          15.89,
          15.84,
          15.82,
          15.44,
          15.32,
          12.3,
          12.31,
          12.31,
          15.13,
          15.46,
          15.49,
          15.49,
          16.11,
          16.1,
          15.27,
          14.5,
          14.87,
          15.25,
          15.39,
          15.35,
          15.18,
          14.47,
          14.75,
          15.28,
          15.47,
          15.92,
          16.41,
          16.76,
          17.08,
          17.55,
          17.57,
          17.11,
          14.97,
          14.87,
          15.93,
          15.95,
          18.06,
          19.04,
          19.1,
          19.25,
          19.57,
          21.07,
          21.94,
          23.96,
          19.06,
          18.89,
          19.93,
          19.92,
          21.47,
          21.47,
          21.47,
          21.47,
          25.23,
          25.23,
          29.43,
          41.99,
          41.93,
          33.79,
          63.9,
          42.22,
          42.28,
          42.32,
          29.63,
          29.52,
          27.65,
          29.48,
          29.48,
          29.41,
          26.81,
          26.85,
          26.52,
          27.23,
          27.26,
          27.32,
          27.2,
          27.06,
          25.73,
          27.12,
          27.26,
          25.72,
          20.1,
          18.89,
          18.85,
          25.04,
          29.74,
          29.28,
          29.39,
          29.38,
          25.74,
          23.03,
          22.16,
          20.94,
          19.12,
          19,
          18.98,
          25.58,
          28.65,
          27.1,
          26.24,
          24.33,
          23.1,
          23.1,
          22.72,
          21,
          20.57,
          19.2,
          18.93,
          21.32,
          19.16,
          18.94,
          18.91,
          18.92,
          18.25,
          18.28,
          18.93,
          18.24,
          18.19,
          18.29,
          19.13,
          21.37,
          20.21,
          19.02,
          18.99,
          18.95,
          18.32,
          18.31,
          18.23,
          18.16,
          17.47,
          16.71,
          17.3,
          15.69
         ],
         "yaxis": "y"
        }
       ],
       "layout": {
        "autosize": true,
        "legend": {
         "tracegroupgap": 0
        },
        "template": {
         "data": {
          "bar": [
           {
            "error_x": {
             "color": "#2a3f5f"
            },
            "error_y": {
             "color": "#2a3f5f"
            },
            "marker": {
             "line": {
              "color": "#E5ECF6",
              "width": 0.5
             },
             "pattern": {
              "fillmode": "overlay",
              "size": 10,
              "solidity": 0.2
             }
            },
            "type": "bar"
           }
          ],
          "barpolar": [
           {
            "marker": {
             "line": {
              "color": "#E5ECF6",
              "width": 0.5
             },
             "pattern": {
              "fillmode": "overlay",
              "size": 10,
              "solidity": 0.2
             }
            },
            "type": "barpolar"
           }
          ],
          "carpet": [
           {
            "aaxis": {
             "endlinecolor": "#2a3f5f",
             "gridcolor": "white",
             "linecolor": "white",
             "minorgridcolor": "white",
             "startlinecolor": "#2a3f5f"
            },
            "baxis": {
             "endlinecolor": "#2a3f5f",
             "gridcolor": "white",
             "linecolor": "white",
             "minorgridcolor": "white",
             "startlinecolor": "#2a3f5f"
            },
            "type": "carpet"
           }
          ],
          "choropleth": [
           {
            "colorbar": {
             "outlinewidth": 0,
             "ticks": ""
            },
            "type": "choropleth"
           }
          ],
          "contour": [
           {
            "colorbar": {
             "outlinewidth": 0,
             "ticks": ""
            },
            "colorscale": [
             [
              0,
              "#0d0887"
             ],
             [
              0.1111111111111111,
              "#46039f"
             ],
             [
              0.2222222222222222,
              "#7201a8"
             ],
             [
              0.3333333333333333,
              "#9c179e"
             ],
             [
              0.4444444444444444,
              "#bd3786"
             ],
             [
              0.5555555555555556,
              "#d8576b"
             ],
             [
              0.6666666666666666,
              "#ed7953"
             ],
             [
              0.7777777777777778,
              "#fb9f3a"
             ],
             [
              0.8888888888888888,
              "#fdca26"
             ],
             [
              1,
              "#f0f921"
             ]
            ],
            "type": "contour"
           }
          ],
          "contourcarpet": [
           {
            "colorbar": {
             "outlinewidth": 0,
             "ticks": ""
            },
            "type": "contourcarpet"
           }
          ],
          "heatmap": [
           {
            "colorbar": {
             "outlinewidth": 0,
             "ticks": ""
            },
            "colorscale": [
             [
              0,
              "#0d0887"
             ],
             [
              0.1111111111111111,
              "#46039f"
             ],
             [
              0.2222222222222222,
              "#7201a8"
             ],
             [
              0.3333333333333333,
              "#9c179e"
             ],
             [
              0.4444444444444444,
              "#bd3786"
             ],
             [
              0.5555555555555556,
              "#d8576b"
             ],
             [
              0.6666666666666666,
              "#ed7953"
             ],
             [
              0.7777777777777778,
              "#fb9f3a"
             ],
             [
              0.8888888888888888,
              "#fdca26"
             ],
             [
              1,
              "#f0f921"
             ]
            ],
            "type": "heatmap"
           }
          ],
          "heatmapgl": [
           {
            "colorbar": {
             "outlinewidth": 0,
             "ticks": ""
            },
            "colorscale": [
             [
              0,
              "#0d0887"
             ],
             [
              0.1111111111111111,
              "#46039f"
             ],
             [
              0.2222222222222222,
              "#7201a8"
             ],
             [
              0.3333333333333333,
              "#9c179e"
             ],
             [
              0.4444444444444444,
              "#bd3786"
             ],
             [
              0.5555555555555556,
              "#d8576b"
             ],
             [
              0.6666666666666666,
              "#ed7953"
             ],
             [
              0.7777777777777778,
              "#fb9f3a"
             ],
             [
              0.8888888888888888,
              "#fdca26"
             ],
             [
              1,
              "#f0f921"
             ]
            ],
            "type": "heatmapgl"
           }
          ],
          "histogram": [
           {
            "marker": {
             "pattern": {
              "fillmode": "overlay",
              "size": 10,
              "solidity": 0.2
             }
            },
            "type": "histogram"
           }
          ],
          "histogram2d": [
           {
            "colorbar": {
             "outlinewidth": 0,
             "ticks": ""
            },
            "colorscale": [
             [
              0,
              "#0d0887"
             ],
             [
              0.1111111111111111,
              "#46039f"
             ],
             [
              0.2222222222222222,
              "#7201a8"
             ],
             [
              0.3333333333333333,
              "#9c179e"
             ],
             [
              0.4444444444444444,
              "#bd3786"
             ],
             [
              0.5555555555555556,
              "#d8576b"
             ],
             [
              0.6666666666666666,
              "#ed7953"
             ],
             [
              0.7777777777777778,
              "#fb9f3a"
             ],
             [
              0.8888888888888888,
              "#fdca26"
             ],
             [
              1,
              "#f0f921"
             ]
            ],
            "type": "histogram2d"
           }
          ],
          "histogram2dcontour": [
           {
            "colorbar": {
             "outlinewidth": 0,
             "ticks": ""
            },
            "colorscale": [
             [
              0,
              "#0d0887"
             ],
             [
              0.1111111111111111,
              "#46039f"
             ],
             [
              0.2222222222222222,
              "#7201a8"
             ],
             [
              0.3333333333333333,
              "#9c179e"
             ],
             [
              0.4444444444444444,
              "#bd3786"
             ],
             [
              0.5555555555555556,
              "#d8576b"
             ],
             [
              0.6666666666666666,
              "#ed7953"
             ],
             [
              0.7777777777777778,
              "#fb9f3a"
             ],
             [
              0.8888888888888888,
              "#fdca26"
             ],
             [
              1,
              "#f0f921"
             ]
            ],
            "type": "histogram2dcontour"
           }
          ],
          "mesh3d": [
           {
            "colorbar": {
             "outlinewidth": 0,
             "ticks": ""
            },
            "type": "mesh3d"
           }
          ],
          "parcoords": [
           {
            "line": {
             "colorbar": {
              "outlinewidth": 0,
              "ticks": ""
             }
            },
            "type": "parcoords"
           }
          ],
          "pie": [
           {
            "automargin": true,
            "type": "pie"
           }
          ],
          "scatter": [
           {
            "fillpattern": {
             "fillmode": "overlay",
             "size": 10,
             "solidity": 0.2
            },
            "type": "scatter"
           }
          ],
          "scatter3d": [
           {
            "line": {
             "colorbar": {
              "outlinewidth": 0,
              "ticks": ""
             }
            },
            "marker": {
             "colorbar": {
              "outlinewidth": 0,
              "ticks": ""
             }
            },
            "type": "scatter3d"
           }
          ],
          "scattercarpet": [
           {
            "marker": {
             "colorbar": {
              "outlinewidth": 0,
              "ticks": ""
             }
            },
            "type": "scattercarpet"
           }
          ],
          "scattergeo": [
           {
            "marker": {
             "colorbar": {
              "outlinewidth": 0,
              "ticks": ""
             }
            },
            "type": "scattergeo"
           }
          ],
          "scattergl": [
           {
            "marker": {
             "colorbar": {
              "outlinewidth": 0,
              "ticks": ""
             }
            },
            "type": "scattergl"
           }
          ],
          "scattermapbox": [
           {
            "marker": {
             "colorbar": {
              "outlinewidth": 0,
              "ticks": ""
             }
            },
            "type": "scattermapbox"
           }
          ],
          "scatterpolar": [
           {
            "marker": {
             "colorbar": {
              "outlinewidth": 0,
              "ticks": ""
             }
            },
            "type": "scatterpolar"
           }
          ],
          "scatterpolargl": [
           {
            "marker": {
             "colorbar": {
              "outlinewidth": 0,
              "ticks": ""
             }
            },
            "type": "scatterpolargl"
           }
          ],
          "scatterternary": [
           {
            "marker": {
             "colorbar": {
              "outlinewidth": 0,
              "ticks": ""
             }
            },
            "type": "scatterternary"
           }
          ],
          "surface": [
           {
            "colorbar": {
             "outlinewidth": 0,
             "ticks": ""
            },
            "colorscale": [
             [
              0,
              "#0d0887"
             ],
             [
              0.1111111111111111,
              "#46039f"
             ],
             [
              0.2222222222222222,
              "#7201a8"
             ],
             [
              0.3333333333333333,
              "#9c179e"
             ],
             [
              0.4444444444444444,
              "#bd3786"
             ],
             [
              0.5555555555555556,
              "#d8576b"
             ],
             [
              0.6666666666666666,
              "#ed7953"
             ],
             [
              0.7777777777777778,
              "#fb9f3a"
             ],
             [
              0.8888888888888888,
              "#fdca26"
             ],
             [
              1,
              "#f0f921"
             ]
            ],
            "type": "surface"
           }
          ],
          "table": [
           {
            "cells": {
             "fill": {
              "color": "#EBF0F8"
             },
             "line": {
              "color": "white"
             }
            },
            "header": {
             "fill": {
              "color": "#C8D4E3"
             },
             "line": {
              "color": "white"
             }
            },
            "type": "table"
           }
          ]
         },
         "layout": {
          "annotationdefaults": {
           "arrowcolor": "#2a3f5f",
           "arrowhead": 0,
           "arrowwidth": 1
          },
          "autotypenumbers": "strict",
          "coloraxis": {
           "colorbar": {
            "outlinewidth": 0,
            "ticks": ""
           }
          },
          "colorscale": {
           "diverging": [
            [
             0,
             "#8e0152"
            ],
            [
             0.1,
             "#c51b7d"
            ],
            [
             0.2,
             "#de77ae"
            ],
            [
             0.3,
             "#f1b6da"
            ],
            [
             0.4,
             "#fde0ef"
            ],
            [
             0.5,
             "#f7f7f7"
            ],
            [
             0.6,
             "#e6f5d0"
            ],
            [
             0.7,
             "#b8e186"
            ],
            [
             0.8,
             "#7fbc41"
            ],
            [
             0.9,
             "#4d9221"
            ],
            [
             1,
             "#276419"
            ]
           ],
           "sequential": [
            [
             0,
             "#0d0887"
            ],
            [
             0.1111111111111111,
             "#46039f"
            ],
            [
             0.2222222222222222,
             "#7201a8"
            ],
            [
             0.3333333333333333,
             "#9c179e"
            ],
            [
             0.4444444444444444,
             "#bd3786"
            ],
            [
             0.5555555555555556,
             "#d8576b"
            ],
            [
             0.6666666666666666,
             "#ed7953"
            ],
            [
             0.7777777777777778,
             "#fb9f3a"
            ],
            [
             0.8888888888888888,
             "#fdca26"
            ],
            [
             1,
             "#f0f921"
            ]
           ],
           "sequentialminus": [
            [
             0,
             "#0d0887"
            ],
            [
             0.1111111111111111,
             "#46039f"
            ],
            [
             0.2222222222222222,
             "#7201a8"
            ],
            [
             0.3333333333333333,
             "#9c179e"
            ],
            [
             0.4444444444444444,
             "#bd3786"
            ],
            [
             0.5555555555555556,
             "#d8576b"
            ],
            [
             0.6666666666666666,
             "#ed7953"
            ],
            [
             0.7777777777777778,
             "#fb9f3a"
            ],
            [
             0.8888888888888888,
             "#fdca26"
            ],
            [
             1,
             "#f0f921"
            ]
           ]
          },
          "colorway": [
           "#636efa",
           "#EF553B",
           "#00cc96",
           "#ab63fa",
           "#FFA15A",
           "#19d3f3",
           "#FF6692",
           "#B6E880",
           "#FF97FF",
           "#FECB52"
          ],
          "font": {
           "color": "#2a3f5f"
          },
          "geo": {
           "bgcolor": "white",
           "lakecolor": "white",
           "landcolor": "#E5ECF6",
           "showlakes": true,
           "showland": true,
           "subunitcolor": "white"
          },
          "hoverlabel": {
           "align": "left"
          },
          "hovermode": "closest",
          "mapbox": {
           "style": "light"
          },
          "paper_bgcolor": "white",
          "plot_bgcolor": "#E5ECF6",
          "polar": {
           "angularaxis": {
            "gridcolor": "white",
            "linecolor": "white",
            "ticks": ""
           },
           "bgcolor": "#E5ECF6",
           "radialaxis": {
            "gridcolor": "white",
            "linecolor": "white",
            "ticks": ""
           }
          },
          "scene": {
           "xaxis": {
            "backgroundcolor": "#E5ECF6",
            "gridcolor": "white",
            "gridwidth": 2,
            "linecolor": "white",
            "showbackground": true,
            "ticks": "",
            "zerolinecolor": "white"
           },
           "yaxis": {
            "backgroundcolor": "#E5ECF6",
            "gridcolor": "white",
            "gridwidth": 2,
            "linecolor": "white",
            "showbackground": true,
            "ticks": "",
            "zerolinecolor": "white"
           },
           "zaxis": {
            "backgroundcolor": "#E5ECF6",
            "gridcolor": "white",
            "gridwidth": 2,
            "linecolor": "white",
            "showbackground": true,
            "ticks": "",
            "zerolinecolor": "white"
           }
          },
          "shapedefaults": {
           "line": {
            "color": "#2a3f5f"
           }
          },
          "ternary": {
           "aaxis": {
            "gridcolor": "white",
            "linecolor": "white",
            "ticks": ""
           },
           "baxis": {
            "gridcolor": "white",
            "linecolor": "white",
            "ticks": ""
           },
           "bgcolor": "#E5ECF6",
           "caxis": {
            "gridcolor": "white",
            "linecolor": "white",
            "ticks": ""
           }
          },
          "title": {
           "x": 0.05
          },
          "xaxis": {
           "automargin": true,
           "gridcolor": "white",
           "linecolor": "white",
           "ticks": "",
           "title": {
            "standoff": 15
           },
           "zerolinecolor": "white",
           "zerolinewidth": 2
          },
          "yaxis": {
           "automargin": true,
           "gridcolor": "white",
           "linecolor": "white",
           "ticks": "",
           "title": {
            "standoff": 15
           },
           "zerolinecolor": "white",
           "zerolinewidth": 2
          }
         }
        },
        "title": {
         "text": "Price Over Time"
        },
        "xaxis": {
         "anchor": "y",
         "autorange": true,
         "domain": [
          0,
          1
         ],
         "range": [
          "2024-02-26",
          "2024-02-26 23:55"
         ],
         "title": {
          "text": "Time"
         },
         "type": "date"
        },
        "yaxis": {
         "anchor": "x",
         "autorange": true,
         "domain": [
          0,
          1
         ],
         "range": [
          5.363888888888889,
          144.0861111111111
         ],
         "title": {
          "text": "LMP"
         },
         "type": "linear"
        }
       }
      },
      "image/png": "[encoded data removed]",
      "text/html": [
       "<div>                            <div id=\"b1d690b7-0c7a-4057-9759-6fc191cc17f1\" class=\"plotly-graph-div\" style=\"height:525px; width:100%;\"></div>            <script type=\"text/javascript\">                require([\"plotly\"], function(Plotly) {                    window.PLOTLYENV=window.PLOTLYENV || {};                                    if (document.getElementById(\"b1d690b7-0c7a-4057-9759-6fc191cc17f1\")) {                    Plotly.newPlot(                        \"b1d690b7-0c7a-4057-9759-6fc191cc17f1\",                        [{\"hovertemplate\":\"Time=%{x}\\u003cbr\\u003eLMP=%{y}\\u003cextra\\u003e\\u003c\\u002fextra\\u003e\",\"legendgroup\":\"\",\"line\":{\"color\":\"#636efa\",\"dash\":\"solid\"},\"marker\":{\"symbol\":\"circle\"},\"mode\":\"lines\",\"name\":\"\",\"orientation\":\"v\",\"showlegend\":false,\"x\":[\"2024-02-26T00:00:00-05:00\",\"2024-02-26T00:05:00-05:00\",\"2024-02-26T00:10:00-05:00\",\"2024-02-26T00:15:00-05:00\",\"2024-02-26T00:20:00-05:00\",\"2024-02-26T00:25:00-05:00\",\"2024-02-26T00:30:00-05:00\",\"2024-02-26T00:35:00-05:00\",\"2024-02-26T00:40:00-05:00\",\"2024-02-26T00:45:00-05:00\",\"2024-02-26T00:50:00-05:00\",\"2024-02-26T00:55:00-05:00\",\"2024-02-26T01:00:00-05:00\",\"2024-02-26T01:05:00-05:00\",\"2024-02-26T01:10:00-05:00\",\"2024-02-26T01:15:00-05:00\",\"2024-02-26T01:20:00-05:00\",\"2024-02-26T01:25:00-05:00\",\"2024-02-26T01:30:00-05:00\",\"2024-02-26T01:35:00-05:00\",\"2024-02-26T01:40:00-05:00\",\"2024-02-26T01:45:00-05:00\",\"2024-02-26T01:50:00-05:00\",\"2024-02-26T01:55:00-05:00\",\"2024-02-26T02:00:00-05:00\",\"2024-02-26T02:05:00-05:00\",\"2024-02-26T02:10:00-05:00\",\"2024-02-26T02:15:00-05:00\",\"2024-02-26T02:20:00-05:00\",\"2024-02-26T02:25:00-05:00\",\"2024-02-26T02:30:00-05:00\",\"2024-02-26T02:35:00-05:00\",\"2024-02-26T02:40:00-05:00\",\"2024-02-26T02:45:00-05:00\",\"2024-02-26T02:50:00-05:00\",\"2024-02-26T02:55:00-05:00\",\"2024-02-26T03:00:00-05:00\",\"2024-02-26T03:05:00-05:00\",\"2024-02-26T03:10:00-05:00\",\"2024-02-26T03:15:00-05:00\",\"2024-02-26T03:20:00-05:00\",\"2024-02-26T03:25:00-05:00\",\"2024-02-26T03:30:00-05:00\",\"2024-02-26T03:35:00-05:00\",\"2024-02-26T03:40:00-05:00\",\"2024-02-26T03:45:00-05:00\",\"2024-02-26T03:50:00-05:00\",\"2024-02-26T03:55:00-05:00\",\"2024-02-26T04:00:00-05:00\",\"2024-02-26T04:05:00-05:00\",\"2024-02-26T04:10:00-05:00\",\"2024-02-26T04:15:00-05:00\",\"2024-02-26T04:20:00-05:00\",\"2024-02-26T04:25:00-05:00\",\"2024-02-26T04:30:00-05:00\",\"2024-02-26T04:35:00-05:00\",\"2024-02-26T04:40:00-05:00\",\"2024-02-26T04:45:00-05:00\",\"2024-02-26T04:50:00-05:00\",\"2024-02-26T04:55:00-05:00\",\"2024-02-26T05:00:00-05:00\",\"2024-02-26T05:05:00-05:00\",\"2024-02-26T05:10:00-05:00\",\"2024-02-26T05:15:00-05:00\",\"2024-02-26T05:20:00-05:00\",\"2024-02-26T05:25:00-05:00\",\"2024-02-26T05:30:00-05:00\",\"2024-02-26T05:35:00-05:00\",\"2024-02-26T05:40:00-05:00\",\"2024-02-26T05:45:00-05:00\",\"2024-02-26T05:50:00-05:00\",\"2024-02-26T05:55:00-05:00\",\"2024-02-26T06:00:00-05:00\",\"2024-02-26T06:05:00-05:00\",\"2024-02-26T06:10:00-05:00\",\"2024-02-26T06:15:00-05:00\",\"2024-02-26T06:20:00-05:00\",\"2024-02-26T06:25:00-05:00\",\"2024-02-26T06:30:00-05:00\",\"2024-02-26T06:35:00-05:00\",\"2024-02-26T06:40:00-05:00\",\"2024-02-26T06:45:00-05:00\",\"2024-02-26T06:50:00-05:00\",\"2024-02-26T06:55:00-05:00\",\"2024-02-26T07:00:00-05:00\",\"2024-02-26T07:05:00-05:00\",\"2024-02-26T07:10:00-05:00\",\"2024-02-26T07:15:00-05:00\",\"2024-02-26T07:20:00-05:00\",\"2024-02-26T07:25:00-05:00\",\"2024-02-26T07:30:00-05:00\",\"2024-02-26T07:35:00-05:00\",\"2024-02-26T07:40:00-05:00\",\"2024-02-26T07:45:00-05:00\",\"2024-02-26T07:50:00-05:00\",\"2024-02-26T07:55:00-05:00\",\"2024-02-26T08:00:00-05:00\",\"2024-02-26T08:05:00-05:00\",\"2024-02-26T08:10:00-05:00\",\"2024-02-26T08:15:00-05:00\",\"2024-02-26T08:20:00-05:00\",\"2024-02-26T08:25:00-05:00\",\"2024-02-26T08:30:00-05:00\",\"2024-02-26T08:35:00-05:00\",\"2024-02-26T08:40:00-05:00\",\"2024-02-26T08:45:00-05:00\",\"2024-02-26T08:50:00-05:00\",\"2024-02-26T08:55:00-05:00\",\"2024-02-26T09:00:00-05:00\",\"2024-02-26T09:05:00-05:00\",\"2024-02-26T09:10:00-05:00\",\"2024-02-26T09:15:00-05:00\",\"2024-02-26T09:20:00-05:00\",\"2024-02-26T09:25:00-05:00\",\"2024-02-26T09:30:00-05:00\",\"2024-02-26T09:35:00-05:00\",\"2024-02-26T09:40:00-05:00\",\"2024-02-26T09:45:00-05:00\",\"2024-02-26T09:50:00-05:00\",\"2024-02-26T09:55:00-05:00\",\"2024-02-26T10:00:00-05:00\",\"2024-02-26T10:05:00-05:00\",\"2024-02-26T10:10:00-05:00\",\"2024-02-26T10:15:00-05:00\",\"2024-02-26T10:20:00-05:00\",\"2024-02-26T10:25:00-05:00\",\"2024-02-26T10:30:00-05:00\",\"2024-02-26T10:35:00-05:00\",\"2024-02-26T10:40:00-05:00\",\"2024-02-26T10:45:00-05:00\",\"2024-02-26T10:50:00-05:00\",\"2024-02-26T10:55:00-05:00\",\"2024-02-26T11:00:00-05:00\",\"2024-02-26T11:05:00-05:00\",\"2024-02-26T11:10:00-05:00\",\"2024-02-26T11:15:00-05:00\",\"2024-02-26T11:20:00-05:00\",\"2024-02-26T11:25:00-05:00\",\"2024-02-26T11:30:00-05:00\",\"2024-02-26T11:35:00-05:00\",\"2024-02-26T11:40:00-05:00\",\"2024-02-26T11:45:00-05:00\",\"2024-02-26T11:50:00-05:00\",\"2024-02-26T11:55:00-05:00\",\"2024-02-26T12:00:00-05:00\",\"2024-02-26T12:05:00-05:00\",\"2024-02-26T12:10:00-05:00\",\"2024-02-26T12:15:00-05:00\",\"2024-02-26T12:20:00-05:00\",\"2024-02-26T12:25:00-05:00\",\"2024-02-26T12:30:00-05:00\",\"2024-02-26T12:35:00-05:00\",\"2024-02-26T12:40:00-05:00\",\"2024-02-26T12:45:00-05:00\",\"2024-02-26T12:50:00-05:00\",\"2024-02-26T12:55:00-05:00\",\"2024-02-26T13:00:00-05:00\",\"2024-02-26T13:05:00-05:00\",\"2024-02-26T13:10:00-05:00\",\"2024-02-26T13:15:00-05:00\",\"2024-02-26T13:20:00-05:00\",\"2024-02-26T13:25:00-05:00\",\"2024-02-26T13:30:00-05:00\",\"2024-02-26T13:35:00-05:00\",\"2024-02-26T13:40:00-05:00\",\"2024-02-26T13:45:00-05:00\",\"2024-02-26T13:50:00-05:00\",\"2024-02-26T13:55:00-05:00\",\"2024-02-26T14:00:00-05:00\",\"2024-02-26T14:05:00-05:00\",\"2024-02-26T14:10:00-05:00\",\"2024-02-26T14:15:00-05:00\",\"2024-02-26T14:20:00-05:00\",\"2024-02-26T14:25:00-05:00\",\"2024-02-26T14:30:00-05:00\",\"2024-02-26T14:35:00-05:00\",\"2024-02-26T14:40:00-05:00\",\"2024-02-26T14:45:00-05:00\",\"2024-02-26T14:50:00-05:00\",\"2024-02-26T14:55:00-05:00\",\"2024-02-26T15:00:00-05:00\",\"2024-02-26T15:05:00-05:00\",\"2024-02-26T15:10:00-05:00\",\"2024-02-26T15:15:00-05:00\",\"2024-02-26T15:20:00-05:00\",\"2024-02-26T15:25:00-05:00\",\"2024-02-26T15:30:00-05:00\",\"2024-02-26T15:35:00-05:00\",\"2024-02-26T15:40:00-05:00\",\"2024-02-26T15:45:00-05:00\",\"2024-02-26T15:50:00-05:00\",\"2024-02-26T15:55:00-05:00\",\"2024-02-26T16:00:00-05:00\",\"2024-02-26T16:05:00-05:00\",\"2024-02-26T16:10:00-05:00\",\"2024-02-26T16:15:00-05:00\",\"2024-02-26T16:20:00-05:00\",\"2024-02-26T16:25:00-05:00\",\"2024-02-26T16:30:00-05:00\",\"2024-02-26T16:35:00-05:00\",\"2024-02-26T16:40:00-05:00\",\"2024-02-26T16:45:00-05:00\",\"2024-02-26T16:50:00-05:00\",\"2024-02-26T16:55:00-05:00\",\"2024-02-26T17:00:00-05:00\",\"2024-02-26T17:05:00-05:00\",\"2024-02-26T17:09:37-05:00\",\"2024-02-26T17:10:00-05:00\",\"2024-02-26T17:14:37-05:00\",\"2024-02-26T17:15:00-05:00\",\"2024-02-26T17:15:31-05:00\",\"2024-02-26T17:20:00-05:00\",\"2024-02-26T17:25:00-05:00\",\"2024-02-26T17:30:00-05:00\",\"2024-02-26T17:35:00-05:00\",\"2024-02-26T17:40:00-05:00\",\"2024-02-26T17:45:00-05:00\",\"2024-02-26T17:50:00-05:00\",\"2024-02-26T17:55:00-05:00\",\"2024-02-26T18:00:00-05:00\",\"2024-02-26T18:05:00-05:00\",\"2024-02-26T18:10:00-05:00\",\"2024-02-26T18:15:00-05:00\",\"2024-02-26T18:20:00-05:00\",\"2024-02-26T18:25:00-05:00\",\"2024-02-26T18:30:00-05:00\",\"2024-02-26T18:35:00-05:00\",\"2024-02-26T18:40:00-05:00\",\"2024-02-26T18:45:00-05:00\",\"2024-02-26T18:50:00-05:00\",\"2024-02-26T18:55:00-05:00\",\"2024-02-26T19:00:00-05:00\",\"2024-02-26T19:05:00-05:00\",\"2024-02-26T19:10:00-05:00\",\"2024-02-26T19:15:00-05:00\",\"2024-02-26T19:20:00-05:00\",\"2024-02-26T19:25:00-05:00\",\"2024-02-26T19:30:00-05:00\",\"2024-02-26T19:35:00-05:00\",\"2024-02-26T19:40:00-05:00\",\"2024-02-26T19:45:00-05:00\",\"2024-02-26T19:50:00-05:00\",\"2024-02-26T19:55:00-05:00\",\"2024-02-26T20:00:00-05:00\",\"2024-02-26T20:05:00-05:00\",\"2024-02-26T20:10:00-05:00\",\"2024-02-26T20:15:00-05:00\",\"2024-02-26T20:20:00-05:00\",\"2024-02-26T20:25:00-05:00\",\"2024-02-26T20:30:00-05:00\",\"2024-02-26T20:35:00-05:00\",\"2024-02-26T20:40:00-05:00\",\"2024-02-26T20:45:00-05:00\",\"2024-02-26T20:50:00-05:00\",\"2024-02-26T20:55:00-05:00\",\"2024-02-26T21:00:00-05:00\",\"2024-02-26T21:05:00-05:00\",\"2024-02-26T21:10:00-05:00\",\"2024-02-26T21:15:00-05:00\",\"2024-02-26T21:20:00-05:00\",\"2024-02-26T21:25:00-05:00\",\"2024-02-26T21:30:00-05:00\",\"2024-02-26T21:35:00-05:00\",\"2024-02-26T21:40:00-05:00\",\"2024-02-26T21:45:00-05:00\",\"2024-02-26T21:50:00-05:00\",\"2024-02-26T21:55:00-05:00\",\"2024-02-26T22:00:00-05:00\",\"2024-02-26T22:05:00-05:00\",\"2024-02-26T22:10:00-05:00\",\"2024-02-26T22:15:00-05:00\",\"2024-02-26T22:20:00-05:00\",\"2024-02-26T22:25:00-05:00\",\"2024-02-26T22:30:00-05:00\",\"2024-02-26T22:35:00-05:00\",\"2024-02-26T22:40:00-05:00\",\"2024-02-26T22:45:00-05:00\",\"2024-02-26T22:50:00-05:00\",\"2024-02-26T22:55:00-05:00\",\"2024-02-26T23:00:00-05:00\",\"2024-02-26T23:05:00-05:00\",\"2024-02-26T23:10:00-05:00\",\"2024-02-26T23:15:00-05:00\",\"2024-02-26T23:20:00-05:00\",\"2024-02-26T23:25:00-05:00\",\"2024-02-26T23:30:00-05:00\",\"2024-02-26T23:35:00-05:00\",\"2024-02-26T23:40:00-05:00\",\"2024-02-26T23:45:00-05:00\",\"2024-02-26T23:50:00-05:00\",\"2024-02-26T23:55:00-05:00\"],\"xaxis\":\"x\",\"y\":[26.29,25.9,22.51,21.34,21.36,21.36,21.38,20.32,21.27,21.26,21.24,22.3,22.34,22.39,22.86,22.88,22.89,21.38,20.38,20.4,20.44,21.47,21.47,23.0,23.05,23.07,23.09,23.09,23.02,22.97,22.48,22.58,22.62,22.66,23.04,21.58,22.82,23.96,21.6,21.62,21.53,21.53,24.05,23.99,24.0,24.13,24.03,23.42,22.58,24.13,25.92,25.31,25.86,24.12,24.66,25.29,25.29,25.37,25.99,22.91,25.48,25.97,26.98,30.8,28.82,27.38,27.4,32.09,32.15,32.93,34.35,27.16,26.43,29.27,30.13,32.58,33.3,51.77,117.35,137.15,73.41,52.23,54.0,23.88,26.23,26.41,23.65,22.42,22.44,22.48,22.46,22.42,22.49,22.46,22.24,20.51,19.01,19.02,18.97,18.73,18.71,17.99,16.96,16.95,16.54,16.94,17.0,19.95,21.41,20.21,20.25,21.41,20.97,20.17,20.15,19.06,18.29,18.21,18.12,19.04,19.58,20.19,20.04,20.23,20.21,20.23,20.21,21.64,21.64,20.25,20.25,22.42,21.55,21.53,21.52,20.32,20.34,20.34,20.28,19.75,18.49,18.61,18.54,19.75,20.36,19.77,19.6,18.66,18.5,18.36,17.69,17.29,18.1,18.14,17.71,16.13,16.22,16.06,15.87,15.89,15.84,15.82,15.44,15.32,12.3,12.31,12.31,15.13,15.46,15.49,15.49,16.11,16.1,15.27,14.5,14.87,15.25,15.39,15.35,15.18,14.47,14.75,15.28,15.47,15.92,16.41,16.76,17.08,17.55,17.57,17.11,14.97,14.87,15.93,15.95,18.06,19.04,19.1,19.25,19.57,21.07,21.94,23.96,19.06,18.89,19.93,19.92,21.47,21.47,21.47,21.47,25.23,25.23,29.43,41.99,41.93,33.79,63.9,42.22,42.28,42.32,29.63,29.52,27.65,29.48,29.48,29.41,26.81,26.85,26.52,27.23,27.26,27.32,27.2,27.06,25.73,27.12,27.26,25.72,20.1,18.89,18.85,25.04,29.74,29.28,29.39,29.38,25.74,23.03,22.16,20.94,19.12,19.0,18.98,25.58,28.65,27.1,26.24,24.33,23.1,23.1,22.72,21.0,20.57,19.2,18.93,21.32,19.16,18.94,18.91,18.92,18.25,18.28,18.93,18.24,18.19,18.29,19.13,21.37,20.21,19.02,18.99,18.95,18.32,18.31,18.23,18.16,17.47,16.71,17.3,15.69],\"yaxis\":\"y\",\"type\":\"scatter\"}],                        {\"template\":{\"data\":{\"histogram2dcontour\":[{\"type\":\"histogram2dcontour\",\"colorbar\":{\"outlinewidth\":0,\"ticks\":\"\"},\"colorscale\":[[0.0,\"#0d0887\"],[0.1111111111111111,\"#46039f\"],[0.2222222222222222,\"#7201a8\"],[0.3333333333333333,\"#9c179e\"],[0.4444444444444444,\"#bd3786\"],[0.5555555555555556,\"#d8576b\"],[0.6666666666666666,\"#ed7953\"],[0.7777777777777778,\"#fb9f3a\"],[0.8888888888888888,\"#fdca26\"],[1.0,\"#f0f921\"]]}],\"choropleth\":[{\"type\":\"choropleth\",\"colorbar\":{\"outlinewidth\":0,\"ticks\":\"\"}}],\"histogram2d\":[{\"type\":\"histogram2d\",\"colorbar\":{\"outlinewidth\":0,\"ticks\":\"\"},\"colorscale\":[[0.0,\"#0d0887\"],[0.1111111111111111,\"#46039f\"],[0.2222222222222222,\"#7201a8\"],[0.3333333333333333,\"#9c179e\"],[0.4444444444444444,\"#bd3786\"],[0.5555555555555556,\"#d8576b\"],[0.6666666666666666,\"#ed7953\"],[0.7777777777777778,\"#fb9f3a\"],[0.8888888888888888,\"#fdca26\"],[1.0,\"#f0f921\"]]}],\"heatmap\":[{\"type\":\"heatmap\",\"colorbar\":{\"outlinewidth\":0,\"ticks\":\"\"},\"colorscale\":[[0.0,\"#0d0887\"],[0.1111111111111111,\"#46039f\"],[0.2222222222222222,\"#7201a8\"],[0.3333333333333333,\"#9c179e\"],[0.4444444444444444,\"#bd3786\"],[0.5555555555555556,\"#d8576b\"],[0.6666666666666666,\"#ed7953\"],[0.7777777777777778,\"#fb9f3a\"],[0.8888888888888888,\"#fdca26\"],[1.0,\"#f0f921\"]]}],\"heatmapgl\":[{\"type\":\"heatmapgl\",\"colorbar\":{\"outlinewidth\":0,\"ticks\":\"\"},\"colorscale\":[[0.0,\"#0d0887\"],[0.1111111111111111,\"#46039f\"],[0.2222222222222222,\"#7201a8\"],[0.3333333333333333,\"#9c179e\"],[0.4444444444444444,\"#bd3786\"],[0.5555555555555556,\"#d8576b\"],[0.6666666666666666,\"#ed7953\"],[0.7777777777777778,\"#fb9f3a\"],[0.8888888888888888,\"#fdca26\"],[1.0,\"#f0f921\"]]}],\"contourcarpet\":[{\"type\":\"contourcarpet\",\"colorbar\":{\"outlinewidth\":0,\"ticks\":\"\"}}],\"contour\":[{\"type\":\"contour\",\"colorbar\":{\"outlinewidth\":0,\"ticks\":\"\"},\"colorscale\":[[0.0,\"#0d0887\"],[0.1111111111111111,\"#46039f\"],[0.2222222222222222,\"#7201a8\"],[0.3333333333333333,\"#9c179e\"],[0.4444444444444444,\"#bd3786\"],[0.5555555555555556,\"#d8576b\"],[0.6666666666666666,\"#ed7953\"],[0.7777777777777778,\"#fb9f3a\"],[0.8888888888888888,\"#fdca26\"],[1.0,\"#f0f921\"]]}],\"surface\":[{\"type\":\"surface\",\"colorbar\":{\"outlinewidth\":0,\"ticks\":\"\"},\"colorscale\":[[0.0,\"#0d0887\"],[0.1111111111111111,\"#46039f\"],[0.2222222222222222,\"#7201a8\"],[0.3333333333333333,\"#9c179e\"],[0.4444444444444444,\"#bd3786\"],[0.5555555555555556,\"#d8576b\"],[0.6666666666666666,\"#ed7953\"],[0.7777777777777778,\"#fb9f3a\"],[0.8888888888888888,\"#fdca26\"],[1.0,\"#f0f921\"]]}],\"mesh3d\":[{\"type\":\"mesh3d\",\"colorbar\":{\"outlinewidth\":0,\"ticks\":\"\"}}],\"scatter\":[{\"fillpattern\":{\"fillmode\":\"overlay\",\"size\":10,\"solidity\":0.2},\"type\":\"scatter\"}],\"parcoords\":[{\"type\":\"parcoords\",\"line\":{\"colorbar\":{\"outlinewidth\":0,\"ticks\":\"\"}}}],\"scatterpolargl\":[{\"type\":\"scatterpolargl\",\"marker\":{\"colorbar\":{\"outlinewidth\":0,\"ticks\":\"\"}}}],\"bar\":[{\"error_x\":{\"color\":\"#2a3f5f\"},\"error_y\":{\"color\":\"#2a3f5f\"},\"marker\":{\"line\":{\"color\":\"#E5ECF6\",\"width\":0.5},\"pattern\":{\"fillmode\":\"overlay\",\"size\":10,\"solidity\":0.2}},\"type\":\"bar\"}],\"scattergeo\":[{\"type\":\"scattergeo\",\"marker\":{\"colorbar\":{\"outlinewidth\":0,\"ticks\":\"\"}}}],\"scatterpolar\":[{\"type\":\"scatterpolar\",\"marker\":{\"colorbar\":{\"outlinewidth\":0,\"ticks\":\"\"}}}],\"histogram\":[{\"marker\":{\"pattern\":{\"fillmode\":\"overlay\",\"size\":10,\"solidity\":0.2}},\"type\":\"histogram\"}],\"scattergl\":[{\"type\":\"scattergl\",\"marker\":{\"colorbar\":{\"outlinewidth\":0,\"ticks\":\"\"}}}],\"scatter3d\":[{\"type\":\"scatter3d\",\"line\":{\"colorbar\":{\"outlinewidth\":0,\"ticks\":\"\"}},\"marker\":{\"colorbar\":{\"outlinewidth\":0,\"ticks\":\"\"}}}],\"scattermapbox\":[{\"type\":\"scattermapbox\",\"marker\":{\"colorbar\":{\"outlinewidth\":0,\"ticks\":\"\"}}}],\"scatterternary\":[{\"type\":\"scatterternary\",\"marker\":{\"colorbar\":{\"outlinewidth\":0,\"ticks\":\"\"}}}],\"scattercarpet\":[{\"type\":\"scattercarpet\",\"marker\":{\"colorbar\":{\"outlinewidth\":0,\"ticks\":\"\"}}}],\"carpet\":[{\"aaxis\":{\"endlinecolor\":\"#2a3f5f\",\"gridcolor\":\"white\",\"linecolor\":\"white\",\"minorgridcolor\":\"white\",\"startlinecolor\":\"#2a3f5f\"},\"baxis\":{\"endlinecolor\":\"#2a3f5f\",\"gridcolor\":\"white\",\"linecolor\":\"white\",\"minorgridcolor\":\"white\",\"startlinecolor\":\"#2a3f5f\"},\"type\":\"carpet\"}],\"table\":[{\"cells\":{\"fill\":{\"color\":\"#EBF0F8\"},\"line\":{\"color\":\"white\"}},\"header\":{\"fill\":{\"color\":\"#C8D4E3\"},\"line\":{\"color\":\"white\"}},\"type\":\"table\"}],\"barpolar\":[{\"marker\":{\"line\":{\"color\":\"#E5ECF6\",\"width\":0.5},\"pattern\":{\"fillmode\":\"overlay\",\"size\":10,\"solidity\":0.2}},\"type\":\"barpolar\"}],\"pie\":[{\"automargin\":true,\"type\":\"pie\"}]},\"layout\":{\"autotypenumbers\":\"strict\",\"colorway\":[\"#636efa\",\"#EF553B\",\"#00cc96\",\"#ab63fa\",\"#FFA15A\",\"#19d3f3\",\"#FF6692\",\"#B6E880\",\"#FF97FF\",\"#FECB52\"],\"font\":{\"color\":\"#2a3f5f\"},\"hovermode\":\"closest\",\"hoverlabel\":{\"align\":\"left\"},\"paper_bgcolor\":\"white\",\"plot_bgcolor\":\"#E5ECF6\",\"polar\":{\"bgcolor\":\"#E5ECF6\",\"angularaxis\":{\"gridcolor\":\"white\",\"linecolor\":\"white\",\"ticks\":\"\"},\"radialaxis\":{\"gridcolor\":\"white\",\"linecolor\":\"white\",\"ticks\":\"\"}},\"ternary\":{\"bgcolor\":\"#E5ECF6\",\"aaxis\":{\"gridcolor\":\"white\",\"linecolor\":\"white\",\"ticks\":\"\"},\"baxis\":{\"gridcolor\":\"white\",\"linecolor\":\"white\",\"ticks\":\"\"},\"caxis\":{\"gridcolor\":\"white\",\"linecolor\":\"white\",\"ticks\":\"\"}},\"coloraxis\":{\"colorbar\":{\"outlinewidth\":0,\"ticks\":\"\"}},\"colorscale\":{\"sequential\":[[0.0,\"#0d0887\"],[0.1111111111111111,\"#46039f\"],[0.2222222222222222,\"#7201a8\"],[0.3333333333333333,\"#9c179e\"],[0.4444444444444444,\"#bd3786\"],[0.5555555555555556,\"#d8576b\"],[0.6666666666666666,\"#ed7953\"],[0.7777777777777778,\"#fb9f3a\"],[0.8888888888888888,\"#fdca26\"],[1.0,\"#f0f921\"]],\"sequentialminus\":[[0.0,\"#0d0887\"],[0.1111111111111111,\"#46039f\"],[0.2222222222222222,\"#7201a8\"],[0.3333333333333333,\"#9c179e\"],[0.4444444444444444,\"#bd3786\"],[0.5555555555555556,\"#d8576b\"],[0.6666666666666666,\"#ed7953\"],[0.7777777777777778,\"#fb9f3a\"],[0.8888888888888888,\"#fdca26\"],[1.0,\"#f0f921\"]],\"diverging\":[[0,\"#8e0152\"],[0.1,\"#c51b7d\"],[0.2,\"#de77ae\"],[0.3,\"#f1b6da\"],[0.4,\"#fde0ef\"],[0.5,\"#f7f7f7\"],[0.6,\"#e6f5d0\"],[0.7,\"#b8e186\"],[0.8,\"#7fbc41\"],[0.9,\"#4d9221\"],[1,\"#276419\"]]},\"xaxis\":{\"gridcolor\":\"white\",\"linecolor\":\"white\",\"ticks\":\"\",\"title\":{\"standoff\":15},\"zerolinecolor\":\"white\",\"automargin\":true,\"zerolinewidth\":2},\"yaxis\":{\"gridcolor\":\"white\",\"linecolor\":\"white\",\"ticks\":\"\",\"title\":{\"standoff\":15},\"zerolinecolor\":\"white\",\"automargin\":true,\"zerolinewidth\":2},\"scene\":{\"xaxis\":{\"backgroundcolor\":\"#E5ECF6\",\"gridcolor\":\"white\",\"linecolor\":\"white\",\"showbackground\":true,\"ticks\":\"\",\"zerolinecolor\":\"white\",\"gridwidth\":2},\"yaxis\":{\"backgroundcolor\":\"#E5ECF6\",\"gridcolor\":\"white\",\"linecolor\":\"white\",\"showbackground\":true,\"ticks\":\"\",\"zerolinecolor\":\"white\",\"gridwidth\":2},\"zaxis\":{\"backgroundcolor\":\"#E5ECF6\",\"gridcolor\":\"white\",\"linecolor\":\"white\",\"showbackground\":true,\"ticks\":\"\",\"zerolinecolor\":\"white\",\"gridwidth\":2}},\"shapedefaults\":{\"line\":{\"color\":\"#2a3f5f\"}},\"annotationdefaults\":{\"arrowcolor\":\"#2a3f5f\",\"arrowhead\":0,\"arrowwidth\":1},\"geo\":{\"bgcolor\":\"white\",\"landcolor\":\"#E5ECF6\",\"subunitcolor\":\"white\",\"showland\":true,\"showlakes\":true,\"lakecolor\":\"white\"},\"title\":{\"x\":0.05},\"mapbox\":{\"style\":\"light\"}}},\"xaxis\":{\"anchor\":\"y\",\"domain\":[0.0,1.0],\"title\":{\"text\":\"Time\"}},\"yaxis\":{\"anchor\":\"x\",\"domain\":[0.0,1.0],\"title\":{\"text\":\"LMP\"}},\"legend\":{\"tracegroupgap\":0},\"title\":{\"text\":\"Price Over Time\"}},                        {\"responsive\": true}                    ).then(function(){\n",
       "                            \n",
       "var gd = document.getElementById('b1d690b7-0c7a-4057-9759-6fc191cc17f1');\n",
       "var x = new MutationObserver(function (mutations, observer) {{\n",
       "        var display = window.getComputedStyle(gd).display;\n",
       "        if (!display || display === 'none') {{\n",
       "            console.log([gd, 'removed!']);\n",
       "            Plotly.purge(gd);\n",
       "            observer.disconnect();\n",
       "        }}\n",
       "}});\n",
       "\n",
       "// Listen for the removal of the full notebook cells\n",
       "var notebookContainer = gd.closest('#notebook-container');\n",
       "if (notebookContainer) {{\n",
       "    x.observe(notebookContainer, {childList: true});\n",
       "}}\n",
       "\n",
       "// Listen for the clearing of the current output cell\n",
       "var outputEl = gd.closest('.output');\n",
       "if (outputEl) {{\n",
       "    x.observe(outputEl, {childList: true});\n",
       "}}\n",
       "\n",
       "                        })                };                });            </script>        </div>"
      ]
     },
     "metadata": {},
     "output_type": "display_data"
    }
   ],
   "source": [
    "import gridstatus\n",
    "import plotly.express as px\n",
    "\n",
    "\n",
    "def get_nyiso_price_data_by_location(date, location):\n",
    "    nyiso = gridstatus.NYISO()\n",
    "    lmp = nyiso.get_lmp(date=date, market=\"REAL_TIME_5_MIN\")\n",
    "    lmp_col_subset = lmp[[\"Time\", \"Location\", \"LMP\"]]\n",
    "    lmp_subset_filtered = lmp_col_subset[lmp_col_subset[\"Location\"] == location]\n",
    "    return lmp_subset_filtered\n",
    "\n",
    "price_data_by_location = get_nyiso_price_data_by_location(\"February 26, 2024\", \"GENESE\");\n",
    "\n",
    "fig = px.line(price_data_by_location, x=\"Time\", y=\"LMP\", title=\"Price Over Time\")\n",
    "fig.show()"
   ]
  },
  {
   "cell_type": "markdown",
   "id": "cfb7c9f1-511b-4fc8-ad2e-89cc09e32b36",
   "metadata": {},
   "source": [
    "## Average price in one-hour chunks"
   ]
  },
  {
   "cell_type": "code",
   "execution_count": 11,
   "id": "04a48eeb-b720-4b2e-974c-80c3a5165c34",
   "metadata": {},
   "outputs": [
    {
     "data": {
      "application/vnd.plotly.v1+json": {
       "config": {
        "plotlyServerURL": "https://plot.ly"
       },
       "data": [
        {
         "alignmentgroup": "True",
         "hovertemplate": "Time=%{x}<br>Average LMP=%{y}<extra></extra>",
         "legendgroup": "",
         "marker": {
          "color": "#636efa",
          "pattern": {
           "shape": ""
          }
         },
         "name": "",
         "offsetgroup": "",
         "orientation": "v",
         "showlegend": false,
         "textposition": "auto",
         "type": "bar",
         "x": [
          "2024-02-26T00:00:00-05:00",
          "2024-02-26T01:05:00-05:00",
          "2024-02-26T02:10:00-05:00",
          "2024-02-26T03:15:00-05:00",
          "2024-02-26T04:15:00-05:00",
          "2024-02-26T05:15:00-05:00",
          "2024-02-26T06:15:00-05:00",
          "2024-02-26T07:15:00-05:00",
          "2024-02-26T08:15:00-05:00",
          "2024-02-26T09:15:00-05:00",
          "2024-02-26T10:15:00-05:00",
          "2024-02-26T11:15:00-05:00",
          "2024-02-26T12:15:00-05:00",
          "2024-02-26T13:15:00-05:00",
          "2024-02-26T14:15:00-05:00",
          "2024-02-26T15:15:00-05:00",
          "2024-02-26T16:15:00-05:00",
          "2024-02-26T17:10:00-05:00",
          "2024-02-26T18:00:00-05:00",
          "2024-02-26T19:00:00-05:00",
          "2024-02-26T20:00:00-05:00",
          "2024-02-26T21:00:00-05:00",
          "2024-02-26T22:00:00-05:00",
          "2024-02-26T23:00:00-05:00"
         ],
         "xaxis": "x",
         "y": [
          22.22076923076923,
          21.975384615384616,
          22.73153846153846,
          23.410833333333333,
          25.269166666666667,
          29.909166666666668,
          54.32999999999999,
          21.409999999999997,
          18.47,
          19.6025,
          20.973333333333333,
          19.679166666666664,
          17.394166666666667,
          14.733333333333334,
          15.21,
          16.299166666666668,
          19.9825,
          32.46666666666667,
          30.598333333333333,
          24.795833333333338,
          24.361666666666665,
          23.021666666666665,
          18.884166666666665,
          18.113333333333333
         ],
         "yaxis": "y"
        }
       ],
       "layout": {
        "autosize": true,
        "barmode": "relative",
        "legend": {
         "tracegroupgap": 0
        },
        "template": {
         "data": {
          "bar": [
           {
            "error_x": {
             "color": "#2a3f5f"
            },
            "error_y": {
             "color": "#2a3f5f"
            },
            "marker": {
             "line": {
              "color": "#E5ECF6",
              "width": 0.5
             },
             "pattern": {
              "fillmode": "overlay",
              "size": 10,
              "solidity": 0.2
             }
            },
            "type": "bar"
           }
          ],
          "barpolar": [
           {
            "marker": {
             "line": {
              "color": "#E5ECF6",
              "width": 0.5
             },
             "pattern": {
              "fillmode": "overlay",
              "size": 10,
              "solidity": 0.2
             }
            },
            "type": "barpolar"
           }
          ],
          "carpet": [
           {
            "aaxis": {
             "endlinecolor": "#2a3f5f",
             "gridcolor": "white",
             "linecolor": "white",
             "minorgridcolor": "white",
             "startlinecolor": "#2a3f5f"
            },
            "baxis": {
             "endlinecolor": "#2a3f5f",
             "gridcolor": "white",
             "linecolor": "white",
             "minorgridcolor": "white",
             "startlinecolor": "#2a3f5f"
            },
            "type": "carpet"
           }
          ],
          "choropleth": [
           {
            "colorbar": {
             "outlinewidth": 0,
             "ticks": ""
            },
            "type": "choropleth"
           }
          ],
          "contour": [
           {
            "colorbar": {
             "outlinewidth": 0,
             "ticks": ""
            },
            "colorscale": [
             [
              0,
              "#0d0887"
             ],
             [
              0.1111111111111111,
              "#46039f"
             ],
             [
              0.2222222222222222,
              "#7201a8"
             ],
             [
              0.3333333333333333,
              "#9c179e"
             ],
             [
              0.4444444444444444,
              "#bd3786"
             ],
             [
              0.5555555555555556,
              "#d8576b"
             ],
             [
              0.6666666666666666,
              "#ed7953"
             ],
             [
              0.7777777777777778,
              "#fb9f3a"
             ],
             [
              0.8888888888888888,
              "#fdca26"
             ],
             [
              1,
              "#f0f921"
             ]
            ],
            "type": "contour"
           }
          ],
          "contourcarpet": [
           {
            "colorbar": {
             "outlinewidth": 0,
             "ticks": ""
            },
            "type": "contourcarpet"
           }
          ],
          "heatmap": [
           {
            "colorbar": {
             "outlinewidth": 0,
             "ticks": ""
            },
            "colorscale": [
             [
              0,
              "#0d0887"
             ],
             [
              0.1111111111111111,
              "#46039f"
             ],
             [
              0.2222222222222222,
              "#7201a8"
             ],
             [
              0.3333333333333333,
              "#9c179e"
             ],
             [
              0.4444444444444444,
              "#bd3786"
             ],
             [
              0.5555555555555556,
              "#d8576b"
             ],
             [
              0.6666666666666666,
              "#ed7953"
             ],
             [
              0.7777777777777778,
              "#fb9f3a"
             ],
             [
              0.8888888888888888,
              "#fdca26"
             ],
             [
              1,
              "#f0f921"
             ]
            ],
            "type": "heatmap"
           }
          ],
          "heatmapgl": [
           {
            "colorbar": {
             "outlinewidth": 0,
             "ticks": ""
            },
            "colorscale": [
             [
              0,
              "#0d0887"
             ],
             [
              0.1111111111111111,
              "#46039f"
             ],
             [
              0.2222222222222222,
              "#7201a8"
             ],
             [
              0.3333333333333333,
              "#9c179e"
             ],
             [
              0.4444444444444444,
              "#bd3786"
             ],
             [
              0.5555555555555556,
              "#d8576b"
             ],
             [
              0.6666666666666666,
              "#ed7953"
             ],
             [
              0.7777777777777778,
              "#fb9f3a"
             ],
             [
              0.8888888888888888,
              "#fdca26"
             ],
             [
              1,
              "#f0f921"
             ]
            ],
            "type": "heatmapgl"
           }
          ],
          "histogram": [
           {
            "marker": {
             "pattern": {
              "fillmode": "overlay",
              "size": 10,
              "solidity": 0.2
             }
            },
            "type": "histogram"
           }
          ],
          "histogram2d": [
           {
            "colorbar": {
             "outlinewidth": 0,
             "ticks": ""
            },
            "colorscale": [
             [
              0,
              "#0d0887"
             ],
             [
              0.1111111111111111,
              "#46039f"
             ],
             [
              0.2222222222222222,
              "#7201a8"
             ],
             [
              0.3333333333333333,
              "#9c179e"
             ],
             [
              0.4444444444444444,
              "#bd3786"
             ],
             [
              0.5555555555555556,
              "#d8576b"
             ],
             [
              0.6666666666666666,
              "#ed7953"
             ],
             [
              0.7777777777777778,
              "#fb9f3a"
             ],
             [
              0.8888888888888888,
              "#fdca26"
             ],
             [
              1,
              "#f0f921"
             ]
            ],
            "type": "histogram2d"
           }
          ],
          "histogram2dcontour": [
           {
            "colorbar": {
             "outlinewidth": 0,
             "ticks": ""
            },
            "colorscale": [
             [
              0,
              "#0d0887"
             ],
             [
              0.1111111111111111,
              "#46039f"
             ],
             [
              0.2222222222222222,
              "#7201a8"
             ],
             [
              0.3333333333333333,
              "#9c179e"
             ],
             [
              0.4444444444444444,
              "#bd3786"
             ],
             [
              0.5555555555555556,
              "#d8576b"
             ],
             [
              0.6666666666666666,
              "#ed7953"
             ],
             [
              0.7777777777777778,
              "#fb9f3a"
             ],
             [
              0.8888888888888888,
              "#fdca26"
             ],
             [
              1,
              "#f0f921"
             ]
            ],
            "type": "histogram2dcontour"
           }
          ],
          "mesh3d": [
           {
            "colorbar": {
             "outlinewidth": 0,
             "ticks": ""
            },
            "type": "mesh3d"
           }
          ],
          "parcoords": [
           {
            "line": {
             "colorbar": {
              "outlinewidth": 0,
              "ticks": ""
             }
            },
            "type": "parcoords"
           }
          ],
          "pie": [
           {
            "automargin": true,
            "type": "pie"
           }
          ],
          "scatter": [
           {
            "fillpattern": {
             "fillmode": "overlay",
             "size": 10,
             "solidity": 0.2
            },
            "type": "scatter"
           }
          ],
          "scatter3d": [
           {
            "line": {
             "colorbar": {
              "outlinewidth": 0,
              "ticks": ""
             }
            },
            "marker": {
             "colorbar": {
              "outlinewidth": 0,
              "ticks": ""
             }
            },
            "type": "scatter3d"
           }
          ],
          "scattercarpet": [
           {
            "marker": {
             "colorbar": {
              "outlinewidth": 0,
              "ticks": ""
             }
            },
            "type": "scattercarpet"
           }
          ],
          "scattergeo": [
           {
            "marker": {
             "colorbar": {
              "outlinewidth": 0,
              "ticks": ""
             }
            },
            "type": "scattergeo"
           }
          ],
          "scattergl": [
           {
            "marker": {
             "colorbar": {
              "outlinewidth": 0,
              "ticks": ""
             }
            },
            "type": "scattergl"
           }
          ],
          "scattermapbox": [
           {
            "marker": {
             "colorbar": {
              "outlinewidth": 0,
              "ticks": ""
             }
            },
            "type": "scattermapbox"
           }
          ],
          "scatterpolar": [
           {
            "marker": {
             "colorbar": {
              "outlinewidth": 0,
              "ticks": ""
             }
            },
            "type": "scatterpolar"
           }
          ],
          "scatterpolargl": [
           {
            "marker": {
             "colorbar": {
              "outlinewidth": 0,
              "ticks": ""
             }
            },
            "type": "scatterpolargl"
           }
          ],
          "scatterternary": [
           {
            "marker": {
             "colorbar": {
              "outlinewidth": 0,
              "ticks": ""
             }
            },
            "type": "scatterternary"
           }
          ],
          "surface": [
           {
            "colorbar": {
             "outlinewidth": 0,
             "ticks": ""
            },
            "colorscale": [
             [
              0,
              "#0d0887"
             ],
             [
              0.1111111111111111,
              "#46039f"
             ],
             [
              0.2222222222222222,
              "#7201a8"
             ],
             [
              0.3333333333333333,
              "#9c179e"
             ],
             [
              0.4444444444444444,
              "#bd3786"
             ],
             [
              0.5555555555555556,
              "#d8576b"
             ],
             [
              0.6666666666666666,
              "#ed7953"
             ],
             [
              0.7777777777777778,
              "#fb9f3a"
             ],
             [
              0.8888888888888888,
              "#fdca26"
             ],
             [
              1,
              "#f0f921"
             ]
            ],
            "type": "surface"
           }
          ],
          "table": [
           {
            "cells": {
             "fill": {
              "color": "#EBF0F8"
             },
             "line": {
              "color": "white"
             }
            },
            "header": {
             "fill": {
              "color": "#C8D4E3"
             },
             "line": {
              "color": "white"
             }
            },
            "type": "table"
           }
          ]
         },
         "layout": {
          "annotationdefaults": {
           "arrowcolor": "#2a3f5f",
           "arrowhead": 0,
           "arrowwidth": 1
          },
          "autotypenumbers": "strict",
          "coloraxis": {
           "colorbar": {
            "outlinewidth": 0,
            "ticks": ""
           }
          },
          "colorscale": {
           "diverging": [
            [
             0,
             "#8e0152"
            ],
            [
             0.1,
             "#c51b7d"
            ],
            [
             0.2,
             "#de77ae"
            ],
            [
             0.3,
             "#f1b6da"
            ],
            [
             0.4,
             "#fde0ef"
            ],
            [
             0.5,
             "#f7f7f7"
            ],
            [
             0.6,
             "#e6f5d0"
            ],
            [
             0.7,
             "#b8e186"
            ],
            [
             0.8,
             "#7fbc41"
            ],
            [
             0.9,
             "#4d9221"
            ],
            [
             1,
             "#276419"
            ]
           ],
           "sequential": [
            [
             0,
             "#0d0887"
            ],
            [
             0.1111111111111111,
             "#46039f"
            ],
            [
             0.2222222222222222,
             "#7201a8"
            ],
            [
             0.3333333333333333,
             "#9c179e"
            ],
            [
             0.4444444444444444,
             "#bd3786"
            ],
            [
             0.5555555555555556,
             "#d8576b"
            ],
            [
             0.6666666666666666,
             "#ed7953"
            ],
            [
             0.7777777777777778,
             "#fb9f3a"
            ],
            [
             0.8888888888888888,
             "#fdca26"
            ],
            [
             1,
             "#f0f921"
            ]
           ],
           "sequentialminus": [
            [
             0,
             "#0d0887"
            ],
            [
             0.1111111111111111,
             "#46039f"
            ],
            [
             0.2222222222222222,
             "#7201a8"
            ],
            [
             0.3333333333333333,
             "#9c179e"
            ],
            [
             0.4444444444444444,
             "#bd3786"
            ],
            [
             0.5555555555555556,
             "#d8576b"
            ],
            [
             0.6666666666666666,
             "#ed7953"
            ],
            [
             0.7777777777777778,
             "#fb9f3a"
            ],
            [
             0.8888888888888888,
             "#fdca26"
            ],
            [
             1,
             "#f0f921"
            ]
           ]
          },
          "colorway": [
           "#636efa",
           "#EF553B",
           "#00cc96",
           "#ab63fa",
           "#FFA15A",
           "#19d3f3",
           "#FF6692",
           "#B6E880",
           "#FF97FF",
           "#FECB52"
          ],
          "font": {
           "color": "#2a3f5f"
          },
          "geo": {
           "bgcolor": "white",
           "lakecolor": "white",
           "landcolor": "#E5ECF6",
           "showlakes": true,
           "showland": true,
           "subunitcolor": "white"
          },
          "hoverlabel": {
           "align": "left"
          },
          "hovermode": "closest",
          "mapbox": {
           "style": "light"
          },
          "paper_bgcolor": "white",
          "plot_bgcolor": "#E5ECF6",
          "polar": {
           "angularaxis": {
            "gridcolor": "white",
            "linecolor": "white",
            "ticks": ""
           },
           "bgcolor": "#E5ECF6",
           "radialaxis": {
            "gridcolor": "white",
            "linecolor": "white",
            "ticks": ""
           }
          },
          "scene": {
           "xaxis": {
            "backgroundcolor": "#E5ECF6",
            "gridcolor": "white",
            "gridwidth": 2,
            "linecolor": "white",
            "showbackground": true,
            "ticks": "",
            "zerolinecolor": "white"
           },
           "yaxis": {
            "backgroundcolor": "#E5ECF6",
            "gridcolor": "white",
            "gridwidth": 2,
            "linecolor": "white",
            "showbackground": true,
            "ticks": "",
            "zerolinecolor": "white"
           },
           "zaxis": {
            "backgroundcolor": "#E5ECF6",
            "gridcolor": "white",
            "gridwidth": 2,
            "linecolor": "white",
            "showbackground": true,
            "ticks": "",
            "zerolinecolor": "white"
           }
          },
          "shapedefaults": {
           "line": {
            "color": "#2a3f5f"
           }
          },
          "ternary": {
           "aaxis": {
            "gridcolor": "white",
            "linecolor": "white",
            "ticks": ""
           },
           "baxis": {
            "gridcolor": "white",
            "linecolor": "white",
            "ticks": ""
           },
           "bgcolor": "#E5ECF6",
           "caxis": {
            "gridcolor": "white",
            "linecolor": "white",
            "ticks": ""
           }
          },
          "title": {
           "x": 0.05
          },
          "xaxis": {
           "automargin": true,
           "gridcolor": "white",
           "linecolor": "white",
           "ticks": "",
           "title": {
            "standoff": 15
           },
           "zerolinecolor": "white",
           "zerolinewidth": 2
          },
          "yaxis": {
           "automargin": true,
           "gridcolor": "white",
           "linecolor": "white",
           "ticks": "",
           "title": {
            "standoff": 15
           },
           "zerolinecolor": "white",
           "zerolinewidth": 2
          }
         }
        },
        "title": {
         "text": "Average Price By Hour"
        },
        "xaxis": {
         "anchor": "y",
         "autorange": true,
         "domain": [
          0,
          1
         ],
         "range": [
          "2024-02-25 23:35",
          "2024-02-26 23:25"
         ],
         "title": {
          "text": "Time"
         },
         "type": "date"
        },
        "yaxis": {
         "anchor": "x",
         "autorange": true,
         "domain": [
          0,
          1
         ],
         "range": [
          0,
          57.18947368421052
         ],
         "title": {
          "text": "Average LMP"
         },
         "type": "linear"
        }
       }
      },
      "image/png": "[encoded data removed]",
      "text/html": [
       "<div>                            <div id=\"4e3ab5d9-2c2d-46a0-a8ac-e42204484d51\" class=\"plotly-graph-div\" style=\"height:525px; width:100%;\"></div>            <script type=\"text/javascript\">                require([\"plotly\"], function(Plotly) {                    window.PLOTLYENV=window.PLOTLYENV || {};                                    if (document.getElementById(\"4e3ab5d9-2c2d-46a0-a8ac-e42204484d51\")) {                    Plotly.newPlot(                        \"4e3ab5d9-2c2d-46a0-a8ac-e42204484d51\",                        [{\"alignmentgroup\":\"True\",\"hovertemplate\":\"Time=%{x}\\u003cbr\\u003eAverage LMP=%{y}\\u003cextra\\u003e\\u003c\\u002fextra\\u003e\",\"legendgroup\":\"\",\"marker\":{\"color\":\"#636efa\",\"pattern\":{\"shape\":\"\"}},\"name\":\"\",\"offsetgroup\":\"\",\"orientation\":\"v\",\"showlegend\":false,\"textposition\":\"auto\",\"x\":[\"2024-02-26T00:00:00-05:00\",\"2024-02-26T01:05:00-05:00\",\"2024-02-26T02:10:00-05:00\",\"2024-02-26T03:15:00-05:00\",\"2024-02-26T04:15:00-05:00\",\"2024-02-26T05:15:00-05:00\",\"2024-02-26T06:15:00-05:00\",\"2024-02-26T07:15:00-05:00\",\"2024-02-26T08:15:00-05:00\",\"2024-02-26T09:15:00-05:00\",\"2024-02-26T10:15:00-05:00\",\"2024-02-26T11:15:00-05:00\",\"2024-02-26T12:15:00-05:00\",\"2024-02-26T13:15:00-05:00\",\"2024-02-26T14:15:00-05:00\",\"2024-02-26T15:15:00-05:00\",\"2024-02-26T16:15:00-05:00\",\"2024-02-26T17:10:00-05:00\",\"2024-02-26T18:00:00-05:00\",\"2024-02-26T19:00:00-05:00\",\"2024-02-26T20:00:00-05:00\",\"2024-02-26T21:00:00-05:00\",\"2024-02-26T22:00:00-05:00\",\"2024-02-26T23:00:00-05:00\"],\"xaxis\":\"x\",\"y\":[22.22076923076923,21.975384615384616,22.73153846153846,23.410833333333333,25.269166666666667,29.909166666666668,54.32999999999999,21.409999999999997,18.47,19.6025,20.973333333333333,19.679166666666664,17.394166666666667,14.733333333333334,15.21,16.299166666666668,19.9825,32.46666666666667,30.598333333333333,24.795833333333338,24.361666666666665,23.021666666666665,18.884166666666665,18.113333333333333],\"yaxis\":\"y\",\"type\":\"bar\"}],                        {\"template\":{\"data\":{\"histogram2dcontour\":[{\"type\":\"histogram2dcontour\",\"colorbar\":{\"outlinewidth\":0,\"ticks\":\"\"},\"colorscale\":[[0.0,\"#0d0887\"],[0.1111111111111111,\"#46039f\"],[0.2222222222222222,\"#7201a8\"],[0.3333333333333333,\"#9c179e\"],[0.4444444444444444,\"#bd3786\"],[0.5555555555555556,\"#d8576b\"],[0.6666666666666666,\"#ed7953\"],[0.7777777777777778,\"#fb9f3a\"],[0.8888888888888888,\"#fdca26\"],[1.0,\"#f0f921\"]]}],\"choropleth\":[{\"type\":\"choropleth\",\"colorbar\":{\"outlinewidth\":0,\"ticks\":\"\"}}],\"histogram2d\":[{\"type\":\"histogram2d\",\"colorbar\":{\"outlinewidth\":0,\"ticks\":\"\"},\"colorscale\":[[0.0,\"#0d0887\"],[0.1111111111111111,\"#46039f\"],[0.2222222222222222,\"#7201a8\"],[0.3333333333333333,\"#9c179e\"],[0.4444444444444444,\"#bd3786\"],[0.5555555555555556,\"#d8576b\"],[0.6666666666666666,\"#ed7953\"],[0.7777777777777778,\"#fb9f3a\"],[0.8888888888888888,\"#fdca26\"],[1.0,\"#f0f921\"]]}],\"heatmap\":[{\"type\":\"heatmap\",\"colorbar\":{\"outlinewidth\":0,\"ticks\":\"\"},\"colorscale\":[[0.0,\"#0d0887\"],[0.1111111111111111,\"#46039f\"],[0.2222222222222222,\"#7201a8\"],[0.3333333333333333,\"#9c179e\"],[0.4444444444444444,\"#bd3786\"],[0.5555555555555556,\"#d8576b\"],[0.6666666666666666,\"#ed7953\"],[0.7777777777777778,\"#fb9f3a\"],[0.8888888888888888,\"#fdca26\"],[1.0,\"#f0f921\"]]}],\"heatmapgl\":[{\"type\":\"heatmapgl\",\"colorbar\":{\"outlinewidth\":0,\"ticks\":\"\"},\"colorscale\":[[0.0,\"#0d0887\"],[0.1111111111111111,\"#46039f\"],[0.2222222222222222,\"#7201a8\"],[0.3333333333333333,\"#9c179e\"],[0.4444444444444444,\"#bd3786\"],[0.5555555555555556,\"#d8576b\"],[0.6666666666666666,\"#ed7953\"],[0.7777777777777778,\"#fb9f3a\"],[0.8888888888888888,\"#fdca26\"],[1.0,\"#f0f921\"]]}],\"contourcarpet\":[{\"type\":\"contourcarpet\",\"colorbar\":{\"outlinewidth\":0,\"ticks\":\"\"}}],\"contour\":[{\"type\":\"contour\",\"colorbar\":{\"outlinewidth\":0,\"ticks\":\"\"},\"colorscale\":[[0.0,\"#0d0887\"],[0.1111111111111111,\"#46039f\"],[0.2222222222222222,\"#7201a8\"],[0.3333333333333333,\"#9c179e\"],[0.4444444444444444,\"#bd3786\"],[0.5555555555555556,\"#d8576b\"],[0.6666666666666666,\"#ed7953\"],[0.7777777777777778,\"#fb9f3a\"],[0.8888888888888888,\"#fdca26\"],[1.0,\"#f0f921\"]]}],\"surface\":[{\"type\":\"surface\",\"colorbar\":{\"outlinewidth\":0,\"ticks\":\"\"},\"colorscale\":[[0.0,\"#0d0887\"],[0.1111111111111111,\"#46039f\"],[0.2222222222222222,\"#7201a8\"],[0.3333333333333333,\"#9c179e\"],[0.4444444444444444,\"#bd3786\"],[0.5555555555555556,\"#d8576b\"],[0.6666666666666666,\"#ed7953\"],[0.7777777777777778,\"#fb9f3a\"],[0.8888888888888888,\"#fdca26\"],[1.0,\"#f0f921\"]]}],\"mesh3d\":[{\"type\":\"mesh3d\",\"colorbar\":{\"outlinewidth\":0,\"ticks\":\"\"}}],\"scatter\":[{\"fillpattern\":{\"fillmode\":\"overlay\",\"size\":10,\"solidity\":0.2},\"type\":\"scatter\"}],\"parcoords\":[{\"type\":\"parcoords\",\"line\":{\"colorbar\":{\"outlinewidth\":0,\"ticks\":\"\"}}}],\"scatterpolargl\":[{\"type\":\"scatterpolargl\",\"marker\":{\"colorbar\":{\"outlinewidth\":0,\"ticks\":\"\"}}}],\"bar\":[{\"error_x\":{\"color\":\"#2a3f5f\"},\"error_y\":{\"color\":\"#2a3f5f\"},\"marker\":{\"line\":{\"color\":\"#E5ECF6\",\"width\":0.5},\"pattern\":{\"fillmode\":\"overlay\",\"size\":10,\"solidity\":0.2}},\"type\":\"bar\"}],\"scattergeo\":[{\"type\":\"scattergeo\",\"marker\":{\"colorbar\":{\"outlinewidth\":0,\"ticks\":\"\"}}}],\"scatterpolar\":[{\"type\":\"scatterpolar\",\"marker\":{\"colorbar\":{\"outlinewidth\":0,\"ticks\":\"\"}}}],\"histogram\":[{\"marker\":{\"pattern\":{\"fillmode\":\"overlay\",\"size\":10,\"solidity\":0.2}},\"type\":\"histogram\"}],\"scattergl\":[{\"type\":\"scattergl\",\"marker\":{\"colorbar\":{\"outlinewidth\":0,\"ticks\":\"\"}}}],\"scatter3d\":[{\"type\":\"scatter3d\",\"line\":{\"colorbar\":{\"outlinewidth\":0,\"ticks\":\"\"}},\"marker\":{\"colorbar\":{\"outlinewidth\":0,\"ticks\":\"\"}}}],\"scattermapbox\":[{\"type\":\"scattermapbox\",\"marker\":{\"colorbar\":{\"outlinewidth\":0,\"ticks\":\"\"}}}],\"scatterternary\":[{\"type\":\"scatterternary\",\"marker\":{\"colorbar\":{\"outlinewidth\":0,\"ticks\":\"\"}}}],\"scattercarpet\":[{\"type\":\"scattercarpet\",\"marker\":{\"colorbar\":{\"outlinewidth\":0,\"ticks\":\"\"}}}],\"carpet\":[{\"aaxis\":{\"endlinecolor\":\"#2a3f5f\",\"gridcolor\":\"white\",\"linecolor\":\"white\",\"minorgridcolor\":\"white\",\"startlinecolor\":\"#2a3f5f\"},\"baxis\":{\"endlinecolor\":\"#2a3f5f\",\"gridcolor\":\"white\",\"linecolor\":\"white\",\"minorgridcolor\":\"white\",\"startlinecolor\":\"#2a3f5f\"},\"type\":\"carpet\"}],\"table\":[{\"cells\":{\"fill\":{\"color\":\"#EBF0F8\"},\"line\":{\"color\":\"white\"}},\"header\":{\"fill\":{\"color\":\"#C8D4E3\"},\"line\":{\"color\":\"white\"}},\"type\":\"table\"}],\"barpolar\":[{\"marker\":{\"line\":{\"color\":\"#E5ECF6\",\"width\":0.5},\"pattern\":{\"fillmode\":\"overlay\",\"size\":10,\"solidity\":0.2}},\"type\":\"barpolar\"}],\"pie\":[{\"automargin\":true,\"type\":\"pie\"}]},\"layout\":{\"autotypenumbers\":\"strict\",\"colorway\":[\"#636efa\",\"#EF553B\",\"#00cc96\",\"#ab63fa\",\"#FFA15A\",\"#19d3f3\",\"#FF6692\",\"#B6E880\",\"#FF97FF\",\"#FECB52\"],\"font\":{\"color\":\"#2a3f5f\"},\"hovermode\":\"closest\",\"hoverlabel\":{\"align\":\"left\"},\"paper_bgcolor\":\"white\",\"plot_bgcolor\":\"#E5ECF6\",\"polar\":{\"bgcolor\":\"#E5ECF6\",\"angularaxis\":{\"gridcolor\":\"white\",\"linecolor\":\"white\",\"ticks\":\"\"},\"radialaxis\":{\"gridcolor\":\"white\",\"linecolor\":\"white\",\"ticks\":\"\"}},\"ternary\":{\"bgcolor\":\"#E5ECF6\",\"aaxis\":{\"gridcolor\":\"white\",\"linecolor\":\"white\",\"ticks\":\"\"},\"baxis\":{\"gridcolor\":\"white\",\"linecolor\":\"white\",\"ticks\":\"\"},\"caxis\":{\"gridcolor\":\"white\",\"linecolor\":\"white\",\"ticks\":\"\"}},\"coloraxis\":{\"colorbar\":{\"outlinewidth\":0,\"ticks\":\"\"}},\"colorscale\":{\"sequential\":[[0.0,\"#0d0887\"],[0.1111111111111111,\"#46039f\"],[0.2222222222222222,\"#7201a8\"],[0.3333333333333333,\"#9c179e\"],[0.4444444444444444,\"#bd3786\"],[0.5555555555555556,\"#d8576b\"],[0.6666666666666666,\"#ed7953\"],[0.7777777777777778,\"#fb9f3a\"],[0.8888888888888888,\"#fdca26\"],[1.0,\"#f0f921\"]],\"sequentialminus\":[[0.0,\"#0d0887\"],[0.1111111111111111,\"#46039f\"],[0.2222222222222222,\"#7201a8\"],[0.3333333333333333,\"#9c179e\"],[0.4444444444444444,\"#bd3786\"],[0.5555555555555556,\"#d8576b\"],[0.6666666666666666,\"#ed7953\"],[0.7777777777777778,\"#fb9f3a\"],[0.8888888888888888,\"#fdca26\"],[1.0,\"#f0f921\"]],\"diverging\":[[0,\"#8e0152\"],[0.1,\"#c51b7d\"],[0.2,\"#de77ae\"],[0.3,\"#f1b6da\"],[0.4,\"#fde0ef\"],[0.5,\"#f7f7f7\"],[0.6,\"#e6f5d0\"],[0.7,\"#b8e186\"],[0.8,\"#7fbc41\"],[0.9,\"#4d9221\"],[1,\"#276419\"]]},\"xaxis\":{\"gridcolor\":\"white\",\"linecolor\":\"white\",\"ticks\":\"\",\"title\":{\"standoff\":15},\"zerolinecolor\":\"white\",\"automargin\":true,\"zerolinewidth\":2},\"yaxis\":{\"gridcolor\":\"white\",\"linecolor\":\"white\",\"ticks\":\"\",\"title\":{\"standoff\":15},\"zerolinecolor\":\"white\",\"automargin\":true,\"zerolinewidth\":2},\"scene\":{\"xaxis\":{\"backgroundcolor\":\"#E5ECF6\",\"gridcolor\":\"white\",\"linecolor\":\"white\",\"showbackground\":true,\"ticks\":\"\",\"zerolinecolor\":\"white\",\"gridwidth\":2},\"yaxis\":{\"backgroundcolor\":\"#E5ECF6\",\"gridcolor\":\"white\",\"linecolor\":\"white\",\"showbackground\":true,\"ticks\":\"\",\"zerolinecolor\":\"white\",\"gridwidth\":2},\"zaxis\":{\"backgroundcolor\":\"#E5ECF6\",\"gridcolor\":\"white\",\"linecolor\":\"white\",\"showbackground\":true,\"ticks\":\"\",\"zerolinecolor\":\"white\",\"gridwidth\":2}},\"shapedefaults\":{\"line\":{\"color\":\"#2a3f5f\"}},\"annotationdefaults\":{\"arrowcolor\":\"#2a3f5f\",\"arrowhead\":0,\"arrowwidth\":1},\"geo\":{\"bgcolor\":\"white\",\"landcolor\":\"#E5ECF6\",\"subunitcolor\":\"white\",\"showland\":true,\"showlakes\":true,\"lakecolor\":\"white\"},\"title\":{\"x\":0.05},\"mapbox\":{\"style\":\"light\"}}},\"xaxis\":{\"anchor\":\"y\",\"domain\":[0.0,1.0],\"title\":{\"text\":\"Time\"}},\"yaxis\":{\"anchor\":\"x\",\"domain\":[0.0,1.0],\"title\":{\"text\":\"Average LMP\"}},\"legend\":{\"tracegroupgap\":0},\"title\":{\"text\":\"Average Price By Hour\"},\"barmode\":\"relative\"},                        {\"responsive\": true}                    ).then(function(){\n",
       "                            \n",
       "var gd = document.getElementById('4e3ab5d9-2c2d-46a0-a8ac-e42204484d51');\n",
       "var x = new MutationObserver(function (mutations, observer) {{\n",
       "        var display = window.getComputedStyle(gd).display;\n",
       "        if (!display || display === 'none') {{\n",
       "            console.log([gd, 'removed!']);\n",
       "            Plotly.purge(gd);\n",
       "            observer.disconnect();\n",
       "        }}\n",
       "}});\n",
       "\n",
       "// Listen for the removal of the full notebook cells\n",
       "var notebookContainer = gd.closest('#notebook-container');\n",
       "if (notebookContainer) {{\n",
       "    x.observe(notebookContainer, {childList: true});\n",
       "}}\n",
       "\n",
       "// Listen for the clearing of the current output cell\n",
       "var outputEl = gd.closest('.output');\n",
       "if (outputEl) {{\n",
       "    x.observe(outputEl, {childList: true});\n",
       "}}\n",
       "\n",
       "                        })                };                });            </script>        </div>"
      ]
     },
     "metadata": {},
     "output_type": "display_data"
    }
   ],
   "source": [
    "import numpy as np\n",
    "import pandas as pd\n",
    "\n",
    "\n",
    "def get_data_averaged_by_hour(data_by_location, column_to_average):\n",
    "    data_averaged_by_hour = [];\n",
    "    num_chunks = len(data_by_location) / 12 # 12 represents number of 5 minute chunks in an hour, our intervals in data\n",
    "    for chunk in np.array_split(data_by_location, num_chunks):\n",
    "        data_averaged_by_hour.append([chunk[\"Time\"].iloc[0], chunk.loc[:, column_to_average].mean()])\n",
    "    return data_averaged_by_hour\n",
    "    \n",
    "def show_chart(data, x_col, y_col, chart_title):\n",
    "    data_df = pd.DataFrame(data, columns=[x_col, y_col])\n",
    "    fig = px.bar(data_df, x=x_col, y=y_col, title=chart_title)\n",
    "    fig.show()\n",
    "\n",
    "price_data_averaged_by_hour = get_data_averaged_by_hour(price_data_by_location, \"LMP\")\n",
    "show_chart(price_data_averaged_by_hour, \"Time\", \"Average LMP\", \"Average Price By Hour\")"
   ]
  },
  {
   "cell_type": "markdown",
   "id": "9a168c21-89c7-4f7b-a21b-5cb48cacf615",
   "metadata": {},
   "source": [
    "## Allocate resources by priority, to windows of time with lowest price\n",
    "**Note**: In this simple implementation we do not consider that the resources could be allocated in parallel\n",
    "\n",
    "We can see that the windows with highest price remain unallocated to our resources."
   ]
  },
  {
   "cell_type": "code",
   "execution_count": 12,
   "id": "41694c74-82b7-4495-bf4b-babcccba7ac0",
   "metadata": {},
   "outputs": [
    {
     "data": {
      "application/vnd.plotly.v1+json": {
       "config": {
        "plotlyServerURL": "https://plot.ly"
       },
       "data": [
        {
         "alignmentgroup": "True",
         "hovertemplate": "Resource=Battery<br>Time=%{x}<br>Average LMP=%{y}<extra></extra>",
         "legendgroup": "Battery",
         "marker": {
          "color": "#636efa",
          "pattern": {
           "shape": ""
          }
         },
         "name": "Battery",
         "offsetgroup": "Battery",
         "orientation": "v",
         "showlegend": true,
         "textposition": "auto",
         "type": "bar",
         "x": [
          "2024-02-26T13:15:00-05:00",
          "2024-02-26T14:15:00-05:00",
          "2024-02-26T15:15:00-05:00"
         ],
         "xaxis": "x",
         "y": [
          14.733333333333334,
          15.21,
          16.299166666666668
         ],
         "yaxis": "y"
        },
        {
         "alignmentgroup": "True",
         "hovertemplate": "Resource=Dryer<br>Time=%{x}<br>Average LMP=%{y}<extra></extra>",
         "legendgroup": "Dryer",
         "marker": {
          "color": "#EF553B",
          "pattern": {
           "shape": ""
          }
         },
         "name": "Dryer",
         "offsetgroup": "Dryer",
         "orientation": "v",
         "showlegend": true,
         "textposition": "auto",
         "type": "bar",
         "x": [
          "2024-02-26T12:15:00-05:00"
         ],
         "xaxis": "x",
         "y": [
          17.394166666666667
         ],
         "yaxis": "y"
        },
        {
         "alignmentgroup": "True",
         "hovertemplate": "Resource=Dishwasher<br>Time=%{x}<br>Average LMP=%{y}<extra></extra>",
         "legendgroup": "Dishwasher",
         "marker": {
          "color": "#00cc96",
          "pattern": {
           "shape": ""
          }
         },
         "name": "Dishwasher",
         "offsetgroup": "Dishwasher",
         "orientation": "v",
         "showlegend": true,
         "textposition": "auto",
         "type": "bar",
         "x": [
          "2024-02-26T23:00:00-05:00",
          "2024-02-26T08:15:00-05:00"
         ],
         "xaxis": "x",
         "y": [
          18.113333333333333,
          18.47
         ],
         "yaxis": "y"
        },
        {
         "alignmentgroup": "True",
         "hovertemplate": "Resource=Electric Vehicle<br>Time=%{x}<br>Average LMP=%{y}<extra></extra>",
         "legendgroup": "Electric Vehicle",
         "marker": {
          "color": "#ab63fa",
          "pattern": {
           "shape": ""
          }
         },
         "name": "Electric Vehicle",
         "offsetgroup": "Electric Vehicle",
         "orientation": "v",
         "showlegend": true,
         "textposition": "auto",
         "type": "bar",
         "x": [
          "2024-02-26T22:00:00-05:00",
          "2024-02-26T09:15:00-05:00",
          "2024-02-26T11:15:00-05:00",
          "2024-02-26T16:15:00-05:00",
          "2024-02-26T10:15:00-05:00"
         ],
         "xaxis": "x",
         "y": [
          18.884166666666665,
          19.6025,
          19.679166666666664,
          19.9825,
          20.973333333333333
         ],
         "yaxis": "y"
        },
        {
         "alignmentgroup": "True",
         "hovertemplate": "Resource=Water Heater<br>Time=%{x}<br>Average LMP=%{y}<extra></extra>",
         "legendgroup": "Water Heater",
         "marker": {
          "color": "#FFA15A",
          "pattern": {
           "shape": ""
          }
         },
         "name": "Water Heater",
         "offsetgroup": "Water Heater",
         "orientation": "v",
         "showlegend": true,
         "textposition": "auto",
         "type": "bar",
         "x": [
          "2024-02-26T07:15:00-05:00",
          "2024-02-26T01:05:00-05:00",
          "2024-02-26T00:00:00-05:00"
         ],
         "xaxis": "x",
         "y": [
          21.409999999999997,
          21.975384615384616,
          22.22076923076923
         ],
         "yaxis": "y"
        },
        {
         "alignmentgroup": "True",
         "hovertemplate": "Resource=Unallocated<br>Time=%{x}<br>Average LMP=%{y}<extra></extra>",
         "legendgroup": "Unallocated",
         "marker": {
          "color": "#19d3f3",
          "pattern": {
           "shape": ""
          }
         },
         "name": "Unallocated",
         "offsetgroup": "Unallocated",
         "orientation": "v",
         "showlegend": true,
         "textposition": "auto",
         "type": "bar",
         "x": [
          "2024-02-26T02:10:00-05:00",
          "2024-02-26T21:00:00-05:00",
          "2024-02-26T03:15:00-05:00",
          "2024-02-26T20:00:00-05:00",
          "2024-02-26T19:00:00-05:00",
          "2024-02-26T04:15:00-05:00",
          "2024-02-26T05:15:00-05:00",
          "2024-02-26T18:00:00-05:00",
          "2024-02-26T17:10:00-05:00",
          "2024-02-26T06:15:00-05:00"
         ],
         "xaxis": "x",
         "y": [
          22.73153846153846,
          23.021666666666665,
          23.410833333333333,
          24.361666666666665,
          24.795833333333338,
          25.269166666666667,
          29.909166666666668,
          30.598333333333333,
          32.46666666666667,
          54.32999999999999
         ],
         "yaxis": "y"
        }
       ],
       "layout": {
        "autosize": true,
        "barmode": "relative",
        "legend": {
         "title": {
          "text": "Resource"
         },
         "tracegroupgap": 0
        },
        "template": {
         "data": {
          "bar": [
           {
            "error_x": {
             "color": "#2a3f5f"
            },
            "error_y": {
             "color": "#2a3f5f"
            },
            "marker": {
             "line": {
              "color": "#E5ECF6",
              "width": 0.5
             },
             "pattern": {
              "fillmode": "overlay",
              "size": 10,
              "solidity": 0.2
             }
            },
            "type": "bar"
           }
          ],
          "barpolar": [
           {
            "marker": {
             "line": {
              "color": "#E5ECF6",
              "width": 0.5
             },
             "pattern": {
              "fillmode": "overlay",
              "size": 10,
              "solidity": 0.2
             }
            },
            "type": "barpolar"
           }
          ],
          "carpet": [
           {
            "aaxis": {
             "endlinecolor": "#2a3f5f",
             "gridcolor": "white",
             "linecolor": "white",
             "minorgridcolor": "white",
             "startlinecolor": "#2a3f5f"
            },
            "baxis": {
             "endlinecolor": "#2a3f5f",
             "gridcolor": "white",
             "linecolor": "white",
             "minorgridcolor": "white",
             "startlinecolor": "#2a3f5f"
            },
            "type": "carpet"
           }
          ],
          "choropleth": [
           {
            "colorbar": {
             "outlinewidth": 0,
             "ticks": ""
            },
            "type": "choropleth"
           }
          ],
          "contour": [
           {
            "colorbar": {
             "outlinewidth": 0,
             "ticks": ""
            },
            "colorscale": [
             [
              0,
              "#0d0887"
             ],
             [
              0.1111111111111111,
              "#46039f"
             ],
             [
              0.2222222222222222,
              "#7201a8"
             ],
             [
              0.3333333333333333,
              "#9c179e"
             ],
             [
              0.4444444444444444,
              "#bd3786"
             ],
             [
              0.5555555555555556,
              "#d8576b"
             ],
             [
              0.6666666666666666,
              "#ed7953"
             ],
             [
              0.7777777777777778,
              "#fb9f3a"
             ],
             [
              0.8888888888888888,
              "#fdca26"
             ],
             [
              1,
              "#f0f921"
             ]
            ],
            "type": "contour"
           }
          ],
          "contourcarpet": [
           {
            "colorbar": {
             "outlinewidth": 0,
             "ticks": ""
            },
            "type": "contourcarpet"
           }
          ],
          "heatmap": [
           {
            "colorbar": {
             "outlinewidth": 0,
             "ticks": ""
            },
            "colorscale": [
             [
              0,
              "#0d0887"
             ],
             [
              0.1111111111111111,
              "#46039f"
             ],
             [
              0.2222222222222222,
              "#7201a8"
             ],
             [
              0.3333333333333333,
              "#9c179e"
             ],
             [
              0.4444444444444444,
              "#bd3786"
             ],
             [
              0.5555555555555556,
              "#d8576b"
             ],
             [
              0.6666666666666666,
              "#ed7953"
             ],
             [
              0.7777777777777778,
              "#fb9f3a"
             ],
             [
              0.8888888888888888,
              "#fdca26"
             ],
             [
              1,
              "#f0f921"
             ]
            ],
            "type": "heatmap"
           }
          ],
          "heatmapgl": [
           {
            "colorbar": {
             "outlinewidth": 0,
             "ticks": ""
            },
            "colorscale": [
             [
              0,
              "#0d0887"
             ],
             [
              0.1111111111111111,
              "#46039f"
             ],
             [
              0.2222222222222222,
              "#7201a8"
             ],
             [
              0.3333333333333333,
              "#9c179e"
             ],
             [
              0.4444444444444444,
              "#bd3786"
             ],
             [
              0.5555555555555556,
              "#d8576b"
             ],
             [
              0.6666666666666666,
              "#ed7953"
             ],
             [
              0.7777777777777778,
              "#fb9f3a"
             ],
             [
              0.8888888888888888,
              "#fdca26"
             ],
             [
              1,
              "#f0f921"
             ]
            ],
            "type": "heatmapgl"
           }
          ],
          "histogram": [
           {
            "marker": {
             "pattern": {
              "fillmode": "overlay",
              "size": 10,
              "solidity": 0.2
             }
            },
            "type": "histogram"
           }
          ],
          "histogram2d": [
           {
            "colorbar": {
             "outlinewidth": 0,
             "ticks": ""
            },
            "colorscale": [
             [
              0,
              "#0d0887"
             ],
             [
              0.1111111111111111,
              "#46039f"
             ],
             [
              0.2222222222222222,
              "#7201a8"
             ],
             [
              0.3333333333333333,
              "#9c179e"
             ],
             [
              0.4444444444444444,
              "#bd3786"
             ],
             [
              0.5555555555555556,
              "#d8576b"
             ],
             [
              0.6666666666666666,
              "#ed7953"
             ],
             [
              0.7777777777777778,
              "#fb9f3a"
             ],
             [
              0.8888888888888888,
              "#fdca26"
             ],
             [
              1,
              "#f0f921"
             ]
            ],
            "type": "histogram2d"
           }
          ],
          "histogram2dcontour": [
           {
            "colorbar": {
             "outlinewidth": 0,
             "ticks": ""
            },
            "colorscale": [
             [
              0,
              "#0d0887"
             ],
             [
              0.1111111111111111,
              "#46039f"
             ],
             [
              0.2222222222222222,
              "#7201a8"
             ],
             [
              0.3333333333333333,
              "#9c179e"
             ],
             [
              0.4444444444444444,
              "#bd3786"
             ],
             [
              0.5555555555555556,
              "#d8576b"
             ],
             [
              0.6666666666666666,
              "#ed7953"
             ],
             [
              0.7777777777777778,
              "#fb9f3a"
             ],
             [
              0.8888888888888888,
              "#fdca26"
             ],
             [
              1,
              "#f0f921"
             ]
            ],
            "type": "histogram2dcontour"
           }
          ],
          "mesh3d": [
           {
            "colorbar": {
             "outlinewidth": 0,
             "ticks": ""
            },
            "type": "mesh3d"
           }
          ],
          "parcoords": [
           {
            "line": {
             "colorbar": {
              "outlinewidth": 0,
              "ticks": ""
             }
            },
            "type": "parcoords"
           }
          ],
          "pie": [
           {
            "automargin": true,
            "type": "pie"
           }
          ],
          "scatter": [
           {
            "fillpattern": {
             "fillmode": "overlay",
             "size": 10,
             "solidity": 0.2
            },
            "type": "scatter"
           }
          ],
          "scatter3d": [
           {
            "line": {
             "colorbar": {
              "outlinewidth": 0,
              "ticks": ""
             }
            },
            "marker": {
             "colorbar": {
              "outlinewidth": 0,
              "ticks": ""
             }
            },
            "type": "scatter3d"
           }
          ],
          "scattercarpet": [
           {
            "marker": {
             "colorbar": {
              "outlinewidth": 0,
              "ticks": ""
             }
            },
            "type": "scattercarpet"
           }
          ],
          "scattergeo": [
           {
            "marker": {
             "colorbar": {
              "outlinewidth": 0,
              "ticks": ""
             }
            },
            "type": "scattergeo"
           }
          ],
          "scattergl": [
           {
            "marker": {
             "colorbar": {
              "outlinewidth": 0,
              "ticks": ""
             }
            },
            "type": "scattergl"
           }
          ],
          "scattermapbox": [
           {
            "marker": {
             "colorbar": {
              "outlinewidth": 0,
              "ticks": ""
             }
            },
            "type": "scattermapbox"
           }
          ],
          "scatterpolar": [
           {
            "marker": {
             "colorbar": {
              "outlinewidth": 0,
              "ticks": ""
             }
            },
            "type": "scatterpolar"
           }
          ],
          "scatterpolargl": [
           {
            "marker": {
             "colorbar": {
              "outlinewidth": 0,
              "ticks": ""
             }
            },
            "type": "scatterpolargl"
           }
          ],
          "scatterternary": [
           {
            "marker": {
             "colorbar": {
              "outlinewidth": 0,
              "ticks": ""
             }
            },
            "type": "scatterternary"
           }
          ],
          "surface": [
           {
            "colorbar": {
             "outlinewidth": 0,
             "ticks": ""
            },
            "colorscale": [
             [
              0,
              "#0d0887"
             ],
             [
              0.1111111111111111,
              "#46039f"
             ],
             [
              0.2222222222222222,
              "#7201a8"
             ],
             [
              0.3333333333333333,
              "#9c179e"
             ],
             [
              0.4444444444444444,
              "#bd3786"
             ],
             [
              0.5555555555555556,
              "#d8576b"
             ],
             [
              0.6666666666666666,
              "#ed7953"
             ],
             [
              0.7777777777777778,
              "#fb9f3a"
             ],
             [
              0.8888888888888888,
              "#fdca26"
             ],
             [
              1,
              "#f0f921"
             ]
            ],
            "type": "surface"
           }
          ],
          "table": [
           {
            "cells": {
             "fill": {
              "color": "#EBF0F8"
             },
             "line": {
              "color": "white"
             }
            },
            "header": {
             "fill": {
              "color": "#C8D4E3"
             },
             "line": {
              "color": "white"
             }
            },
            "type": "table"
           }
          ]
         },
         "layout": {
          "annotationdefaults": {
           "arrowcolor": "#2a3f5f",
           "arrowhead": 0,
           "arrowwidth": 1
          },
          "autotypenumbers": "strict",
          "coloraxis": {
           "colorbar": {
            "outlinewidth": 0,
            "ticks": ""
           }
          },
          "colorscale": {
           "diverging": [
            [
             0,
             "#8e0152"
            ],
            [
             0.1,
             "#c51b7d"
            ],
            [
             0.2,
             "#de77ae"
            ],
            [
             0.3,
             "#f1b6da"
            ],
            [
             0.4,
             "#fde0ef"
            ],
            [
             0.5,
             "#f7f7f7"
            ],
            [
             0.6,
             "#e6f5d0"
            ],
            [
             0.7,
             "#b8e186"
            ],
            [
             0.8,
             "#7fbc41"
            ],
            [
             0.9,
             "#4d9221"
            ],
            [
             1,
             "#276419"
            ]
           ],
           "sequential": [
            [
             0,
             "#0d0887"
            ],
            [
             0.1111111111111111,
             "#46039f"
            ],
            [
             0.2222222222222222,
             "#7201a8"
            ],
            [
             0.3333333333333333,
             "#9c179e"
            ],
            [
             0.4444444444444444,
             "#bd3786"
            ],
            [
             0.5555555555555556,
             "#d8576b"
            ],
            [
             0.6666666666666666,
             "#ed7953"
            ],
            [
             0.7777777777777778,
             "#fb9f3a"
            ],
            [
             0.8888888888888888,
             "#fdca26"
            ],
            [
             1,
             "#f0f921"
            ]
           ],
           "sequentialminus": [
            [
             0,
             "#0d0887"
            ],
            [
             0.1111111111111111,
             "#46039f"
            ],
            [
             0.2222222222222222,
             "#7201a8"
            ],
            [
             0.3333333333333333,
             "#9c179e"
            ],
            [
             0.4444444444444444,
             "#bd3786"
            ],
            [
             0.5555555555555556,
             "#d8576b"
            ],
            [
             0.6666666666666666,
             "#ed7953"
            ],
            [
             0.7777777777777778,
             "#fb9f3a"
            ],
            [
             0.8888888888888888,
             "#fdca26"
            ],
            [
             1,
             "#f0f921"
            ]
           ]
          },
          "colorway": [
           "#636efa",
           "#EF553B",
           "#00cc96",
           "#ab63fa",
           "#FFA15A",
           "#19d3f3",
           "#FF6692",
           "#B6E880",
           "#FF97FF",
           "#FECB52"
          ],
          "font": {
           "color": "#2a3f5f"
          },
          "geo": {
           "bgcolor": "white",
           "lakecolor": "white",
           "landcolor": "#E5ECF6",
           "showlakes": true,
           "showland": true,
           "subunitcolor": "white"
          },
          "hoverlabel": {
           "align": "left"
          },
          "hovermode": "closest",
          "mapbox": {
           "style": "light"
          },
          "paper_bgcolor": "white",
          "plot_bgcolor": "#E5ECF6",
          "polar": {
           "angularaxis": {
            "gridcolor": "white",
            "linecolor": "white",
            "ticks": ""
           },
           "bgcolor": "#E5ECF6",
           "radialaxis": {
            "gridcolor": "white",
            "linecolor": "white",
            "ticks": ""
           }
          },
          "scene": {
           "xaxis": {
            "backgroundcolor": "#E5ECF6",
            "gridcolor": "white",
            "gridwidth": 2,
            "linecolor": "white",
            "showbackground": true,
            "ticks": "",
            "zerolinecolor": "white"
           },
           "yaxis": {
            "backgroundcolor": "#E5ECF6",
            "gridcolor": "white",
            "gridwidth": 2,
            "linecolor": "white",
            "showbackground": true,
            "ticks": "",
            "zerolinecolor": "white"
           },
           "zaxis": {
            "backgroundcolor": "#E5ECF6",
            "gridcolor": "white",
            "gridwidth": 2,
            "linecolor": "white",
            "showbackground": true,
            "ticks": "",
            "zerolinecolor": "white"
           }
          },
          "shapedefaults": {
           "line": {
            "color": "#2a3f5f"
           }
          },
          "ternary": {
           "aaxis": {
            "gridcolor": "white",
            "linecolor": "white",
            "ticks": ""
           },
           "baxis": {
            "gridcolor": "white",
            "linecolor": "white",
            "ticks": ""
           },
           "bgcolor": "#E5ECF6",
           "caxis": {
            "gridcolor": "white",
            "linecolor": "white",
            "ticks": ""
           }
          },
          "title": {
           "x": 0.05
          },
          "xaxis": {
           "automargin": true,
           "gridcolor": "white",
           "linecolor": "white",
           "ticks": "",
           "title": {
            "standoff": 15
           },
           "zerolinecolor": "white",
           "zerolinewidth": 2
          },
          "yaxis": {
           "automargin": true,
           "gridcolor": "white",
           "linecolor": "white",
           "ticks": "",
           "title": {
            "standoff": 15
           },
           "zerolinecolor": "white",
           "zerolinewidth": 2
          }
         }
        },
        "title": {
         "text": "Average Price By Hour"
        },
        "xaxis": {
         "anchor": "y",
         "autorange": true,
         "domain": [
          0,
          1
         ],
         "range": [
          "2024-02-25 23:35",
          "2024-02-26 23:25"
         ],
         "title": {
          "text": "Time"
         },
         "type": "date"
        },
        "yaxis": {
         "anchor": "x",
         "autorange": true,
         "domain": [
          0,
          1
         ],
         "range": [
          0,
          57.18947368421052
         ],
         "title": {
          "text": "Average LMP"
         },
         "type": "linear"
        }
       }
      },
      "image/png": "[encoded data removed]",
      "text/html": [
       "<div>                            <div id=\"f1464fa6-0442-49be-ae04-057ca687d0b0\" class=\"plotly-graph-div\" style=\"height:525px; width:100%;\"></div>            <script type=\"text/javascript\">                require([\"plotly\"], function(Plotly) {                    window.PLOTLYENV=window.PLOTLYENV || {};                                    if (document.getElementById(\"f1464fa6-0442-49be-ae04-057ca687d0b0\")) {                    Plotly.newPlot(                        \"f1464fa6-0442-49be-ae04-057ca687d0b0\",                        [{\"alignmentgroup\":\"True\",\"hovertemplate\":\"Resource=Battery\\u003cbr\\u003eTime=%{x}\\u003cbr\\u003eAverage LMP=%{y}\\u003cextra\\u003e\\u003c\\u002fextra\\u003e\",\"legendgroup\":\"Battery\",\"marker\":{\"color\":\"#636efa\",\"pattern\":{\"shape\":\"\"}},\"name\":\"Battery\",\"offsetgroup\":\"Battery\",\"orientation\":\"v\",\"showlegend\":true,\"textposition\":\"auto\",\"x\":[\"2024-02-26T13:15:00-05:00\",\"2024-02-26T14:15:00-05:00\",\"2024-02-26T15:15:00-05:00\"],\"xaxis\":\"x\",\"y\":[14.733333333333334,15.21,16.299166666666668],\"yaxis\":\"y\",\"type\":\"bar\"},{\"alignmentgroup\":\"True\",\"hovertemplate\":\"Resource=Dryer\\u003cbr\\u003eTime=%{x}\\u003cbr\\u003eAverage LMP=%{y}\\u003cextra\\u003e\\u003c\\u002fextra\\u003e\",\"legendgroup\":\"Dryer\",\"marker\":{\"color\":\"#EF553B\",\"pattern\":{\"shape\":\"\"}},\"name\":\"Dryer\",\"offsetgroup\":\"Dryer\",\"orientation\":\"v\",\"showlegend\":true,\"textposition\":\"auto\",\"x\":[\"2024-02-26T12:15:00-05:00\"],\"xaxis\":\"x\",\"y\":[17.394166666666667],\"yaxis\":\"y\",\"type\":\"bar\"},{\"alignmentgroup\":\"True\",\"hovertemplate\":\"Resource=Dishwasher\\u003cbr\\u003eTime=%{x}\\u003cbr\\u003eAverage LMP=%{y}\\u003cextra\\u003e\\u003c\\u002fextra\\u003e\",\"legendgroup\":\"Dishwasher\",\"marker\":{\"color\":\"#00cc96\",\"pattern\":{\"shape\":\"\"}},\"name\":\"Dishwasher\",\"offsetgroup\":\"Dishwasher\",\"orientation\":\"v\",\"showlegend\":true,\"textposition\":\"auto\",\"x\":[\"2024-02-26T23:00:00-05:00\",\"2024-02-26T08:15:00-05:00\"],\"xaxis\":\"x\",\"y\":[18.113333333333333,18.47],\"yaxis\":\"y\",\"type\":\"bar\"},{\"alignmentgroup\":\"True\",\"hovertemplate\":\"Resource=Electric Vehicle\\u003cbr\\u003eTime=%{x}\\u003cbr\\u003eAverage LMP=%{y}\\u003cextra\\u003e\\u003c\\u002fextra\\u003e\",\"legendgroup\":\"Electric Vehicle\",\"marker\":{\"color\":\"#ab63fa\",\"pattern\":{\"shape\":\"\"}},\"name\":\"Electric Vehicle\",\"offsetgroup\":\"Electric Vehicle\",\"orientation\":\"v\",\"showlegend\":true,\"textposition\":\"auto\",\"x\":[\"2024-02-26T22:00:00-05:00\",\"2024-02-26T09:15:00-05:00\",\"2024-02-26T11:15:00-05:00\",\"2024-02-26T16:15:00-05:00\",\"2024-02-26T10:15:00-05:00\"],\"xaxis\":\"x\",\"y\":[18.884166666666665,19.6025,19.679166666666664,19.9825,20.973333333333333],\"yaxis\":\"y\",\"type\":\"bar\"},{\"alignmentgroup\":\"True\",\"hovertemplate\":\"Resource=Water Heater\\u003cbr\\u003eTime=%{x}\\u003cbr\\u003eAverage LMP=%{y}\\u003cextra\\u003e\\u003c\\u002fextra\\u003e\",\"legendgroup\":\"Water Heater\",\"marker\":{\"color\":\"#FFA15A\",\"pattern\":{\"shape\":\"\"}},\"name\":\"Water Heater\",\"offsetgroup\":\"Water Heater\",\"orientation\":\"v\",\"showlegend\":true,\"textposition\":\"auto\",\"x\":[\"2024-02-26T07:15:00-05:00\",\"2024-02-26T01:05:00-05:00\",\"2024-02-26T00:00:00-05:00\"],\"xaxis\":\"x\",\"y\":[21.409999999999997,21.975384615384616,22.22076923076923],\"yaxis\":\"y\",\"type\":\"bar\"},{\"alignmentgroup\":\"True\",\"hovertemplate\":\"Resource=Unallocated\\u003cbr\\u003eTime=%{x}\\u003cbr\\u003eAverage LMP=%{y}\\u003cextra\\u003e\\u003c\\u002fextra\\u003e\",\"legendgroup\":\"Unallocated\",\"marker\":{\"color\":\"#19d3f3\",\"pattern\":{\"shape\":\"\"}},\"name\":\"Unallocated\",\"offsetgroup\":\"Unallocated\",\"orientation\":\"v\",\"showlegend\":true,\"textposition\":\"auto\",\"x\":[\"2024-02-26T02:10:00-05:00\",\"2024-02-26T21:00:00-05:00\",\"2024-02-26T03:15:00-05:00\",\"2024-02-26T20:00:00-05:00\",\"2024-02-26T19:00:00-05:00\",\"2024-02-26T04:15:00-05:00\",\"2024-02-26T05:15:00-05:00\",\"2024-02-26T18:00:00-05:00\",\"2024-02-26T17:10:00-05:00\",\"2024-02-26T06:15:00-05:00\"],\"xaxis\":\"x\",\"y\":[22.73153846153846,23.021666666666665,23.410833333333333,24.361666666666665,24.795833333333338,25.269166666666667,29.909166666666668,30.598333333333333,32.46666666666667,54.32999999999999],\"yaxis\":\"y\",\"type\":\"bar\"}],                        {\"template\":{\"data\":{\"histogram2dcontour\":[{\"type\":\"histogram2dcontour\",\"colorbar\":{\"outlinewidth\":0,\"ticks\":\"\"},\"colorscale\":[[0.0,\"#0d0887\"],[0.1111111111111111,\"#46039f\"],[0.2222222222222222,\"#7201a8\"],[0.3333333333333333,\"#9c179e\"],[0.4444444444444444,\"#bd3786\"],[0.5555555555555556,\"#d8576b\"],[0.6666666666666666,\"#ed7953\"],[0.7777777777777778,\"#fb9f3a\"],[0.8888888888888888,\"#fdca26\"],[1.0,\"#f0f921\"]]}],\"choropleth\":[{\"type\":\"choropleth\",\"colorbar\":{\"outlinewidth\":0,\"ticks\":\"\"}}],\"histogram2d\":[{\"type\":\"histogram2d\",\"colorbar\":{\"outlinewidth\":0,\"ticks\":\"\"},\"colorscale\":[[0.0,\"#0d0887\"],[0.1111111111111111,\"#46039f\"],[0.2222222222222222,\"#7201a8\"],[0.3333333333333333,\"#9c179e\"],[0.4444444444444444,\"#bd3786\"],[0.5555555555555556,\"#d8576b\"],[0.6666666666666666,\"#ed7953\"],[0.7777777777777778,\"#fb9f3a\"],[0.8888888888888888,\"#fdca26\"],[1.0,\"#f0f921\"]]}],\"heatmap\":[{\"type\":\"heatmap\",\"colorbar\":{\"outlinewidth\":0,\"ticks\":\"\"},\"colorscale\":[[0.0,\"#0d0887\"],[0.1111111111111111,\"#46039f\"],[0.2222222222222222,\"#7201a8\"],[0.3333333333333333,\"#9c179e\"],[0.4444444444444444,\"#bd3786\"],[0.5555555555555556,\"#d8576b\"],[0.6666666666666666,\"#ed7953\"],[0.7777777777777778,\"#fb9f3a\"],[0.8888888888888888,\"#fdca26\"],[1.0,\"#f0f921\"]]}],\"heatmapgl\":[{\"type\":\"heatmapgl\",\"colorbar\":{\"outlinewidth\":0,\"ticks\":\"\"},\"colorscale\":[[0.0,\"#0d0887\"],[0.1111111111111111,\"#46039f\"],[0.2222222222222222,\"#7201a8\"],[0.3333333333333333,\"#9c179e\"],[0.4444444444444444,\"#bd3786\"],[0.5555555555555556,\"#d8576b\"],[0.6666666666666666,\"#ed7953\"],[0.7777777777777778,\"#fb9f3a\"],[0.8888888888888888,\"#fdca26\"],[1.0,\"#f0f921\"]]}],\"contourcarpet\":[{\"type\":\"contourcarpet\",\"colorbar\":{\"outlinewidth\":0,\"ticks\":\"\"}}],\"contour\":[{\"type\":\"contour\",\"colorbar\":{\"outlinewidth\":0,\"ticks\":\"\"},\"colorscale\":[[0.0,\"#0d0887\"],[0.1111111111111111,\"#46039f\"],[0.2222222222222222,\"#7201a8\"],[0.3333333333333333,\"#9c179e\"],[0.4444444444444444,\"#bd3786\"],[0.5555555555555556,\"#d8576b\"],[0.6666666666666666,\"#ed7953\"],[0.7777777777777778,\"#fb9f3a\"],[0.8888888888888888,\"#fdca26\"],[1.0,\"#f0f921\"]]}],\"surface\":[{\"type\":\"surface\",\"colorbar\":{\"outlinewidth\":0,\"ticks\":\"\"},\"colorscale\":[[0.0,\"#0d0887\"],[0.1111111111111111,\"#46039f\"],[0.2222222222222222,\"#7201a8\"],[0.3333333333333333,\"#9c179e\"],[0.4444444444444444,\"#bd3786\"],[0.5555555555555556,\"#d8576b\"],[0.6666666666666666,\"#ed7953\"],[0.7777777777777778,\"#fb9f3a\"],[0.8888888888888888,\"#fdca26\"],[1.0,\"#f0f921\"]]}],\"mesh3d\":[{\"type\":\"mesh3d\",\"colorbar\":{\"outlinewidth\":0,\"ticks\":\"\"}}],\"scatter\":[{\"fillpattern\":{\"fillmode\":\"overlay\",\"size\":10,\"solidity\":0.2},\"type\":\"scatter\"}],\"parcoords\":[{\"type\":\"parcoords\",\"line\":{\"colorbar\":{\"outlinewidth\":0,\"ticks\":\"\"}}}],\"scatterpolargl\":[{\"type\":\"scatterpolargl\",\"marker\":{\"colorbar\":{\"outlinewidth\":0,\"ticks\":\"\"}}}],\"bar\":[{\"error_x\":{\"color\":\"#2a3f5f\"},\"error_y\":{\"color\":\"#2a3f5f\"},\"marker\":{\"line\":{\"color\":\"#E5ECF6\",\"width\":0.5},\"pattern\":{\"fillmode\":\"overlay\",\"size\":10,\"solidity\":0.2}},\"type\":\"bar\"}],\"scattergeo\":[{\"type\":\"scattergeo\",\"marker\":{\"colorbar\":{\"outlinewidth\":0,\"ticks\":\"\"}}}],\"scatterpolar\":[{\"type\":\"scatterpolar\",\"marker\":{\"colorbar\":{\"outlinewidth\":0,\"ticks\":\"\"}}}],\"histogram\":[{\"marker\":{\"pattern\":{\"fillmode\":\"overlay\",\"size\":10,\"solidity\":0.2}},\"type\":\"histogram\"}],\"scattergl\":[{\"type\":\"scattergl\",\"marker\":{\"colorbar\":{\"outlinewidth\":0,\"ticks\":\"\"}}}],\"scatter3d\":[{\"type\":\"scatter3d\",\"line\":{\"colorbar\":{\"outlinewidth\":0,\"ticks\":\"\"}},\"marker\":{\"colorbar\":{\"outlinewidth\":0,\"ticks\":\"\"}}}],\"scattermapbox\":[{\"type\":\"scattermapbox\",\"marker\":{\"colorbar\":{\"outlinewidth\":0,\"ticks\":\"\"}}}],\"scatterternary\":[{\"type\":\"scatterternary\",\"marker\":{\"colorbar\":{\"outlinewidth\":0,\"ticks\":\"\"}}}],\"scattercarpet\":[{\"type\":\"scattercarpet\",\"marker\":{\"colorbar\":{\"outlinewidth\":0,\"ticks\":\"\"}}}],\"carpet\":[{\"aaxis\":{\"endlinecolor\":\"#2a3f5f\",\"gridcolor\":\"white\",\"linecolor\":\"white\",\"minorgridcolor\":\"white\",\"startlinecolor\":\"#2a3f5f\"},\"baxis\":{\"endlinecolor\":\"#2a3f5f\",\"gridcolor\":\"white\",\"linecolor\":\"white\",\"minorgridcolor\":\"white\",\"startlinecolor\":\"#2a3f5f\"},\"type\":\"carpet\"}],\"table\":[{\"cells\":{\"fill\":{\"color\":\"#EBF0F8\"},\"line\":{\"color\":\"white\"}},\"header\":{\"fill\":{\"color\":\"#C8D4E3\"},\"line\":{\"color\":\"white\"}},\"type\":\"table\"}],\"barpolar\":[{\"marker\":{\"line\":{\"color\":\"#E5ECF6\",\"width\":0.5},\"pattern\":{\"fillmode\":\"overlay\",\"size\":10,\"solidity\":0.2}},\"type\":\"barpolar\"}],\"pie\":[{\"automargin\":true,\"type\":\"pie\"}]},\"layout\":{\"autotypenumbers\":\"strict\",\"colorway\":[\"#636efa\",\"#EF553B\",\"#00cc96\",\"#ab63fa\",\"#FFA15A\",\"#19d3f3\",\"#FF6692\",\"#B6E880\",\"#FF97FF\",\"#FECB52\"],\"font\":{\"color\":\"#2a3f5f\"},\"hovermode\":\"closest\",\"hoverlabel\":{\"align\":\"left\"},\"paper_bgcolor\":\"white\",\"plot_bgcolor\":\"#E5ECF6\",\"polar\":{\"bgcolor\":\"#E5ECF6\",\"angularaxis\":{\"gridcolor\":\"white\",\"linecolor\":\"white\",\"ticks\":\"\"},\"radialaxis\":{\"gridcolor\":\"white\",\"linecolor\":\"white\",\"ticks\":\"\"}},\"ternary\":{\"bgcolor\":\"#E5ECF6\",\"aaxis\":{\"gridcolor\":\"white\",\"linecolor\":\"white\",\"ticks\":\"\"},\"baxis\":{\"gridcolor\":\"white\",\"linecolor\":\"white\",\"ticks\":\"\"},\"caxis\":{\"gridcolor\":\"white\",\"linecolor\":\"white\",\"ticks\":\"\"}},\"coloraxis\":{\"colorbar\":{\"outlinewidth\":0,\"ticks\":\"\"}},\"colorscale\":{\"sequential\":[[0.0,\"#0d0887\"],[0.1111111111111111,\"#46039f\"],[0.2222222222222222,\"#7201a8\"],[0.3333333333333333,\"#9c179e\"],[0.4444444444444444,\"#bd3786\"],[0.5555555555555556,\"#d8576b\"],[0.6666666666666666,\"#ed7953\"],[0.7777777777777778,\"#fb9f3a\"],[0.8888888888888888,\"#fdca26\"],[1.0,\"#f0f921\"]],\"sequentialminus\":[[0.0,\"#0d0887\"],[0.1111111111111111,\"#46039f\"],[0.2222222222222222,\"#7201a8\"],[0.3333333333333333,\"#9c179e\"],[0.4444444444444444,\"#bd3786\"],[0.5555555555555556,\"#d8576b\"],[0.6666666666666666,\"#ed7953\"],[0.7777777777777778,\"#fb9f3a\"],[0.8888888888888888,\"#fdca26\"],[1.0,\"#f0f921\"]],\"diverging\":[[0,\"#8e0152\"],[0.1,\"#c51b7d\"],[0.2,\"#de77ae\"],[0.3,\"#f1b6da\"],[0.4,\"#fde0ef\"],[0.5,\"#f7f7f7\"],[0.6,\"#e6f5d0\"],[0.7,\"#b8e186\"],[0.8,\"#7fbc41\"],[0.9,\"#4d9221\"],[1,\"#276419\"]]},\"xaxis\":{\"gridcolor\":\"white\",\"linecolor\":\"white\",\"ticks\":\"\",\"title\":{\"standoff\":15},\"zerolinecolor\":\"white\",\"automargin\":true,\"zerolinewidth\":2},\"yaxis\":{\"gridcolor\":\"white\",\"linecolor\":\"white\",\"ticks\":\"\",\"title\":{\"standoff\":15},\"zerolinecolor\":\"white\",\"automargin\":true,\"zerolinewidth\":2},\"scene\":{\"xaxis\":{\"backgroundcolor\":\"#E5ECF6\",\"gridcolor\":\"white\",\"linecolor\":\"white\",\"showbackground\":true,\"ticks\":\"\",\"zerolinecolor\":\"white\",\"gridwidth\":2},\"yaxis\":{\"backgroundcolor\":\"#E5ECF6\",\"gridcolor\":\"white\",\"linecolor\":\"white\",\"showbackground\":true,\"ticks\":\"\",\"zerolinecolor\":\"white\",\"gridwidth\":2},\"zaxis\":{\"backgroundcolor\":\"#E5ECF6\",\"gridcolor\":\"white\",\"linecolor\":\"white\",\"showbackground\":true,\"ticks\":\"\",\"zerolinecolor\":\"white\",\"gridwidth\":2}},\"shapedefaults\":{\"line\":{\"color\":\"#2a3f5f\"}},\"annotationdefaults\":{\"arrowcolor\":\"#2a3f5f\",\"arrowhead\":0,\"arrowwidth\":1},\"geo\":{\"bgcolor\":\"white\",\"landcolor\":\"#E5ECF6\",\"subunitcolor\":\"white\",\"showland\":true,\"showlakes\":true,\"lakecolor\":\"white\"},\"title\":{\"x\":0.05},\"mapbox\":{\"style\":\"light\"}}},\"xaxis\":{\"anchor\":\"y\",\"domain\":[0.0,1.0],\"title\":{\"text\":\"Time\"}},\"yaxis\":{\"anchor\":\"x\",\"domain\":[0.0,1.0],\"title\":{\"text\":\"Average LMP\"}},\"legend\":{\"title\":{\"text\":\"Resource\"},\"tracegroupgap\":0},\"title\":{\"text\":\"Average Price By Hour\"},\"barmode\":\"relative\"},                        {\"responsive\": true}                    ).then(function(){\n",
       "                            \n",
       "var gd = document.getElementById('f1464fa6-0442-49be-ae04-057ca687d0b0');\n",
       "var x = new MutationObserver(function (mutations, observer) {{\n",
       "        var display = window.getComputedStyle(gd).display;\n",
       "        if (!display || display === 'none') {{\n",
       "            console.log([gd, 'removed!']);\n",
       "            Plotly.purge(gd);\n",
       "            observer.disconnect();\n",
       "        }}\n",
       "}});\n",
       "\n",
       "// Listen for the removal of the full notebook cells\n",
       "var notebookContainer = gd.closest('#notebook-container');\n",
       "if (notebookContainer) {{\n",
       "    x.observe(notebookContainer, {childList: true});\n",
       "}}\n",
       "\n",
       "// Listen for the clearing of the current output cell\n",
       "var outputEl = gd.closest('.output');\n",
       "if (outputEl) {{\n",
       "    x.observe(outputEl, {childList: true});\n",
       "}}\n",
       "\n",
       "                        })                };                });            </script>        </div>"
      ]
     },
     "metadata": {},
     "output_type": "display_data"
    }
   ],
   "source": [
    "from operator import itemgetter\n",
    "from allocator import allocate_resources\n",
    "\n",
    "\n",
    "def get_resources():\n",
    "    return [\n",
    "        {\"name\": \"Battery\", \"hours\": 3, \"priority\": 1},\n",
    "        {\"name\": \"Dryer\", \"hours\": 1, \"priority\": 2},\n",
    "        {\"name\": \"Dishwasher\", \"hours\": 2, \"priority\": 3},\n",
    "        {\"name\": \"Electric Vehicle\", \"hours\": 5, \"priority\": 4},\n",
    "        {\"name\": \"Water Heater\", \"hours\": 3, \"priority\": 5},\n",
    "    ]\n",
    "\n",
    "def allocate_resources_by_price(resources, price_data_averaged_by_hour):\n",
    "    # allocate our resources to windows with lowest price\n",
    "    price_data_averaged_by_hour_sorted = sorted(price_data_averaged_by_hour, key=itemgetter(1))\n",
    "    return allocate_resources(resources, price_data_averaged_by_hour_sorted)\n",
    "\n",
    "def show_chart_with_color(data, color_col, x_col, y_col, chart_title):\n",
    "    data_df = pd.DataFrame(data, columns=[color_col, x_col, y_col])\n",
    "    fig = px.bar(data_df, x=x_col, y=y_col, title=chart_title, color=color_col)\n",
    "    fig.show()\n",
    "\n",
    "resources = get_resources()\n",
    "price_data_with_resources_allocated = allocate_resources_by_price(resources, price_data_averaged_by_hour)\n",
    "show_chart_with_color(price_data_with_resources_allocated, \"Resource\", \"Time\", \"Average LMP\", \"Average Price By Hour\")"
   ]
  },
  {
   "cell_type": "markdown",
   "id": "df264508-fc09-4a0a-9a25-4fe736bdda12",
   "metadata": {},
   "source": [
    "## Get data for NYISO \"Other Renewables\" Output (MW)\n",
    "According to NYISO Real-Time Dashboard, Other Renewables consists of: Solar Energy, Energy Storage Resources, Methane, Refuse, Wood\n",
    "\n",
    "To approach Saul Griffith's chart of aligning loads with midday abundance of energy, I use data from the above energy mix output to allocate flexible resources. "
   ]
  },
  {
   "cell_type": "code",
   "execution_count": 13,
   "id": "f6cc056f-e75a-4c4c-8dd0-84281a2b8d84",
   "metadata": {},
   "outputs": [
    {
     "data": {
      "application/vnd.plotly.v1+json": {
       "config": {
        "plotlyServerURL": "https://plot.ly"
       },
       "data": [
        {
         "hovertemplate": "Time=%{x}<br>Other Renewables=%{y}<extra></extra>",
         "legendgroup": "",
         "line": {
          "color": "#636efa",
          "dash": "solid"
         },
         "marker": {
          "symbol": "circle"
         },
         "mode": "lines",
         "name": "",
         "orientation": "v",
         "showlegend": false,
         "type": "scatter",
         "x": [
          "2024-02-26T00:05:00-05:00",
          "2024-02-26T00:10:00-05:00",
          "2024-02-26T00:15:00-05:00",
          "2024-02-26T00:20:00-05:00",
          "2024-02-26T00:25:00-05:00",
          "2024-02-26T00:30:00-05:00",
          "2024-02-26T00:35:00-05:00",
          "2024-02-26T00:40:00-05:00",
          "2024-02-26T00:45:00-05:00",
          "2024-02-26T00:50:00-05:00",
          "2024-02-26T00:55:00-05:00",
          "2024-02-26T01:00:00-05:00",
          "2024-02-26T01:05:00-05:00",
          "2024-02-26T01:10:00-05:00",
          "2024-02-26T01:15:00-05:00",
          "2024-02-26T01:20:00-05:00",
          "2024-02-26T01:25:00-05:00",
          "2024-02-26T01:30:00-05:00",
          "2024-02-26T01:35:00-05:00",
          "2024-02-26T01:40:00-05:00",
          "2024-02-26T01:45:00-05:00",
          "2024-02-26T01:50:00-05:00",
          "2024-02-26T01:55:00-05:00",
          "2024-02-26T02:00:00-05:00",
          "2024-02-26T02:05:00-05:00",
          "2024-02-26T02:10:00-05:00",
          "2024-02-26T02:15:00-05:00",
          "2024-02-26T02:20:00-05:00",
          "2024-02-26T02:25:00-05:00",
          "2024-02-26T02:30:00-05:00",
          "2024-02-26T02:35:00-05:00",
          "2024-02-26T02:40:00-05:00",
          "2024-02-26T02:45:00-05:00",
          "2024-02-26T02:50:00-05:00",
          "2024-02-26T02:55:00-05:00",
          "2024-02-26T03:00:00-05:00",
          "2024-02-26T03:05:00-05:00",
          "2024-02-26T03:10:00-05:00",
          "2024-02-26T03:15:00-05:00",
          "2024-02-26T03:20:00-05:00",
          "2024-02-26T03:25:00-05:00",
          "2024-02-26T03:30:00-05:00",
          "2024-02-26T03:35:00-05:00",
          "2024-02-26T03:40:00-05:00",
          "2024-02-26T03:45:00-05:00",
          "2024-02-26T03:50:00-05:00",
          "2024-02-26T03:55:00-05:00",
          "2024-02-26T04:00:00-05:00",
          "2024-02-26T04:05:00-05:00",
          "2024-02-26T04:10:00-05:00",
          "2024-02-26T04:15:00-05:00",
          "2024-02-26T04:20:00-05:00",
          "2024-02-26T04:25:00-05:00",
          "2024-02-26T04:30:00-05:00",
          "2024-02-26T04:35:00-05:00",
          "2024-02-26T04:40:00-05:00",
          "2024-02-26T04:45:00-05:00",
          "2024-02-26T04:50:00-05:00",
          "2024-02-26T04:55:00-05:00",
          "2024-02-26T05:00:00-05:00",
          "2024-02-26T05:05:00-05:00",
          "2024-02-26T05:10:00-05:00",
          "2024-02-26T05:15:00-05:00",
          "2024-02-26T05:20:00-05:00",
          "2024-02-26T05:25:00-05:00",
          "2024-02-26T05:30:00-05:00",
          "2024-02-26T05:35:00-05:00",
          "2024-02-26T05:40:00-05:00",
          "2024-02-26T05:45:00-05:00",
          "2024-02-26T05:50:00-05:00",
          "2024-02-26T05:55:00-05:00",
          "2024-02-26T06:00:00-05:00",
          "2024-02-26T06:05:00-05:00",
          "2024-02-26T06:10:00-05:00",
          "2024-02-26T06:15:00-05:00",
          "2024-02-26T06:20:00-05:00",
          "2024-02-26T06:25:00-05:00",
          "2024-02-26T06:30:00-05:00",
          "2024-02-26T06:35:00-05:00",
          "2024-02-26T06:40:00-05:00",
          "2024-02-26T06:45:00-05:00",
          "2024-02-26T06:50:00-05:00",
          "2024-02-26T06:55:00-05:00",
          "2024-02-26T07:00:00-05:00",
          "2024-02-26T07:05:00-05:00",
          "2024-02-26T07:10:00-05:00",
          "2024-02-26T07:15:00-05:00",
          "2024-02-26T07:20:00-05:00",
          "2024-02-26T07:25:00-05:00",
          "2024-02-26T07:30:00-05:00",
          "2024-02-26T07:35:00-05:00",
          "2024-02-26T07:40:00-05:00",
          "2024-02-26T07:45:00-05:00",
          "2024-02-26T07:50:00-05:00",
          "2024-02-26T07:55:00-05:00",
          "2024-02-26T08:00:00-05:00",
          "2024-02-26T08:05:00-05:00",
          "2024-02-26T08:10:00-05:00",
          "2024-02-26T08:15:00-05:00",
          "2024-02-26T08:20:00-05:00",
          "2024-02-26T08:25:00-05:00",
          "2024-02-26T08:30:00-05:00",
          "2024-02-26T08:35:00-05:00",
          "2024-02-26T08:40:00-05:00",
          "2024-02-26T08:45:00-05:00",
          "2024-02-26T08:50:00-05:00",
          "2024-02-26T08:55:00-05:00",
          "2024-02-26T09:00:00-05:00",
          "2024-02-26T09:05:00-05:00",
          "2024-02-26T09:10:00-05:00",
          "2024-02-26T09:15:00-05:00",
          "2024-02-26T09:20:00-05:00",
          "2024-02-26T09:25:00-05:00",
          "2024-02-26T09:30:00-05:00",
          "2024-02-26T09:35:00-05:00",
          "2024-02-26T09:40:00-05:00",
          "2024-02-26T09:45:00-05:00",
          "2024-02-26T09:50:00-05:00",
          "2024-02-26T09:55:00-05:00",
          "2024-02-26T10:00:00-05:00",
          "2024-02-26T10:05:00-05:00",
          "2024-02-26T10:10:00-05:00",
          "2024-02-26T10:15:00-05:00",
          "2024-02-26T10:20:00-05:00",
          "2024-02-26T10:25:00-05:00",
          "2024-02-26T10:30:00-05:00",
          "2024-02-26T10:35:00-05:00",
          "2024-02-26T10:40:00-05:00",
          "2024-02-26T10:45:00-05:00",
          "2024-02-26T10:50:00-05:00",
          "2024-02-26T10:55:00-05:00",
          "2024-02-26T11:00:00-05:00",
          "2024-02-26T11:05:00-05:00",
          "2024-02-26T11:10:00-05:00",
          "2024-02-26T11:15:00-05:00",
          "2024-02-26T11:20:00-05:00",
          "2024-02-26T11:25:00-05:00",
          "2024-02-26T11:30:00-05:00",
          "2024-02-26T11:35:00-05:00",
          "2024-02-26T11:40:00-05:00",
          "2024-02-26T11:45:00-05:00",
          "2024-02-26T11:50:00-05:00",
          "2024-02-26T11:55:00-05:00",
          "2024-02-26T12:00:00-05:00",
          "2024-02-26T12:05:00-05:00",
          "2024-02-26T12:10:00-05:00",
          "2024-02-26T12:15:00-05:00",
          "2024-02-26T12:20:00-05:00",
          "2024-02-26T12:25:00-05:00",
          "2024-02-26T12:30:00-05:00",
          "2024-02-26T12:35:00-05:00",
          "2024-02-26T12:40:00-05:00",
          "2024-02-26T12:45:00-05:00",
          "2024-02-26T12:50:00-05:00",
          "2024-02-26T12:55:00-05:00",
          "2024-02-26T13:00:00-05:00",
          "2024-02-26T13:05:00-05:00",
          "2024-02-26T13:10:00-05:00",
          "2024-02-26T13:15:00-05:00",
          "2024-02-26T13:20:00-05:00",
          "2024-02-26T13:25:00-05:00",
          "2024-02-26T13:30:00-05:00",
          "2024-02-26T13:35:00-05:00",
          "2024-02-26T13:40:00-05:00",
          "2024-02-26T13:45:00-05:00",
          "2024-02-26T13:50:00-05:00",
          "2024-02-26T13:55:00-05:00",
          "2024-02-26T14:00:00-05:00",
          "2024-02-26T14:05:00-05:00",
          "2024-02-26T14:10:00-05:00",
          "2024-02-26T14:15:00-05:00",
          "2024-02-26T14:20:00-05:00",
          "2024-02-26T14:25:00-05:00",
          "2024-02-26T14:30:00-05:00",
          "2024-02-26T14:35:00-05:00",
          "2024-02-26T14:40:00-05:00",
          "2024-02-26T14:45:00-05:00",
          "2024-02-26T14:50:00-05:00",
          "2024-02-26T14:55:00-05:00",
          "2024-02-26T15:00:00-05:00",
          "2024-02-26T15:05:00-05:00",
          "2024-02-26T15:10:00-05:00",
          "2024-02-26T15:15:00-05:00",
          "2024-02-26T15:20:00-05:00",
          "2024-02-26T15:25:00-05:00",
          "2024-02-26T15:30:00-05:00",
          "2024-02-26T15:35:00-05:00",
          "2024-02-26T15:40:00-05:00",
          "2024-02-26T15:45:00-05:00",
          "2024-02-26T15:50:00-05:00",
          "2024-02-26T15:55:00-05:00",
          "2024-02-26T16:00:00-05:00",
          "2024-02-26T16:05:00-05:00",
          "2024-02-26T16:10:00-05:00",
          "2024-02-26T16:15:00-05:00",
          "2024-02-26T16:20:00-05:00",
          "2024-02-26T16:25:00-05:00",
          "2024-02-26T16:30:00-05:00",
          "2024-02-26T16:35:00-05:00",
          "2024-02-26T16:40:00-05:00",
          "2024-02-26T16:45:00-05:00",
          "2024-02-26T16:50:00-05:00",
          "2024-02-26T16:55:00-05:00",
          "2024-02-26T17:00:00-05:00",
          "2024-02-26T17:05:00-05:00",
          "2024-02-26T17:10:00-05:00",
          "2024-02-26T17:14:37-05:00",
          "2024-02-26T17:15:00-05:00",
          "2024-02-26T17:19:37-05:00",
          "2024-02-26T17:20:00-05:00",
          "2024-02-26T17:20:31-05:00",
          "2024-02-26T17:25:00-05:00",
          "2024-02-26T17:30:00-05:00",
          "2024-02-26T17:35:00-05:00",
          "2024-02-26T17:40:00-05:00",
          "2024-02-26T17:45:00-05:00",
          "2024-02-26T17:50:00-05:00",
          "2024-02-26T17:55:00-05:00",
          "2024-02-26T18:00:00-05:00",
          "2024-02-26T18:05:00-05:00",
          "2024-02-26T18:10:00-05:00",
          "2024-02-26T18:15:00-05:00",
          "2024-02-26T18:20:00-05:00",
          "2024-02-26T18:25:00-05:00",
          "2024-02-26T18:30:00-05:00",
          "2024-02-26T18:35:00-05:00",
          "2024-02-26T18:40:00-05:00",
          "2024-02-26T18:45:00-05:00",
          "2024-02-26T18:50:00-05:00",
          "2024-02-26T18:55:00-05:00",
          "2024-02-26T19:00:00-05:00",
          "2024-02-26T19:05:00-05:00",
          "2024-02-26T19:10:00-05:00",
          "2024-02-26T19:15:00-05:00",
          "2024-02-26T19:20:00-05:00",
          "2024-02-26T19:25:00-05:00",
          "2024-02-26T19:30:00-05:00",
          "2024-02-26T19:35:00-05:00",
          "2024-02-26T19:40:00-05:00",
          "2024-02-26T19:45:00-05:00",
          "2024-02-26T19:50:00-05:00",
          "2024-02-26T19:55:00-05:00",
          "2024-02-26T20:00:00-05:00",
          "2024-02-26T20:05:00-05:00",
          "2024-02-26T20:10:00-05:00",
          "2024-02-26T20:15:00-05:00",
          "2024-02-26T20:20:00-05:00",
          "2024-02-26T20:25:00-05:00",
          "2024-02-26T20:30:00-05:00",
          "2024-02-26T20:35:00-05:00",
          "2024-02-26T20:40:00-05:00",
          "2024-02-26T20:45:00-05:00",
          "2024-02-26T20:50:00-05:00",
          "2024-02-26T20:55:00-05:00",
          "2024-02-26T21:00:00-05:00",
          "2024-02-26T21:05:00-05:00",
          "2024-02-26T21:10:00-05:00",
          "2024-02-26T21:15:00-05:00",
          "2024-02-26T21:20:00-05:00",
          "2024-02-26T21:25:00-05:00",
          "2024-02-26T21:30:00-05:00",
          "2024-02-26T21:35:00-05:00",
          "2024-02-26T21:40:00-05:00",
          "2024-02-26T21:45:00-05:00",
          "2024-02-26T21:50:00-05:00",
          "2024-02-26T21:55:00-05:00",
          "2024-02-26T22:00:00-05:00",
          "2024-02-26T22:05:00-05:00",
          "2024-02-26T22:10:00-05:00",
          "2024-02-26T22:15:00-05:00",
          "2024-02-26T22:20:00-05:00",
          "2024-02-26T22:25:00-05:00",
          "2024-02-26T22:30:00-05:00",
          "2024-02-26T22:35:00-05:00",
          "2024-02-26T22:40:00-05:00",
          "2024-02-26T22:45:00-05:00",
          "2024-02-26T22:50:00-05:00",
          "2024-02-26T22:55:00-05:00",
          "2024-02-26T23:00:00-05:00",
          "2024-02-26T23:05:00-05:00",
          "2024-02-26T23:10:00-05:00",
          "2024-02-26T23:15:00-05:00",
          "2024-02-26T23:20:00-05:00",
          "2024-02-26T23:25:00-05:00",
          "2024-02-26T23:30:00-05:00",
          "2024-02-26T23:35:00-05:00",
          "2024-02-26T23:40:00-05:00",
          "2024-02-26T23:45:00-05:00",
          "2024-02-26T23:50:00-05:00",
          "2024-02-26T23:55:00-05:00"
         ],
         "xaxis": "x",
         "y": [
          244,
          240,
          241,
          241,
          241,
          242,
          241,
          244,
          243,
          248,
          251,
          241,
          237,
          236,
          231,
          230,
          226,
          224,
          224,
          229,
          234,
          238,
          233,
          229,
          233,
          235,
          231,
          226,
          223,
          230,
          233,
          231,
          229,
          234,
          227,
          229,
          239,
          238,
          232,
          230,
          230,
          243,
          233,
          229,
          233,
          235,
          233,
          242,
          238,
          234,
          230,
          230,
          236,
          232,
          230,
          228,
          234,
          233,
          233,
          216,
          221,
          215,
          228,
          249,
          238,
          222,
          223,
          234,
          230,
          220,
          229,
          229,
          224,
          230,
          243,
          245,
          250,
          250,
          251,
          242,
          239,
          229,
          224,
          226,
          229,
          239,
          241,
          238,
          231,
          231,
          240,
          246,
          256,
          258,
          271,
          284,
          292,
          295,
          297,
          304,
          304,
          310,
          307,
          310,
          314,
          316,
          319,
          335,
          358,
          353,
          340,
          347,
          343,
          356,
          363,
          361,
          363,
          363,
          364,
          370,
          388,
          388,
          372,
          376,
          384,
          374,
          365,
          369,
          366,
          367,
          376,
          361,
          360,
          362,
          366,
          365,
          366,
          369,
          372,
          377,
          376,
          365,
          369,
          375,
          375,
          385,
          394,
          392,
          381,
          392,
          394,
          380,
          391,
          403,
          400,
          404,
          408,
          407,
          408,
          408,
          407,
          407,
          412,
          406,
          404,
          406,
          404,
          393,
          409,
          412,
          395,
          393,
          387,
          388,
          385,
          381,
          383,
          387,
          376,
          376,
          376,
          378,
          381,
          371,
          383,
          356,
          342,
          352,
          345,
          352,
          347,
          328,
          319,
          308,
          307,
          298,
          286,
          283,
          271,
          268,
          279,
          286,
          283,
          254,
          245,
          241,
          239,
          251,
          246,
          253,
          254,
          244,
          243,
          242,
          258,
          236,
          247,
          240,
          227,
          225,
          225,
          225,
          219,
          222,
          221,
          225,
          227,
          225,
          229,
          230,
          231,
          229,
          228,
          228,
          225,
          223,
          229,
          229,
          231,
          229,
          232,
          231,
          234,
          246,
          237,
          226,
          233,
          234,
          232,
          233,
          230,
          230,
          234,
          232,
          232,
          247,
          234,
          228,
          228,
          230,
          230,
          230,
          228,
          227,
          229,
          230,
          228,
          225,
          233,
          233,
          232,
          250,
          235,
          232,
          230,
          229,
          230,
          229,
          237,
          243,
          247,
          250,
          248,
          250,
          247,
          249,
          251,
          248,
          239,
          238
         ],
         "yaxis": "y"
        }
       ],
       "layout": {
        "autosize": true,
        "legend": {
         "tracegroupgap": 0
        },
        "template": {
         "data": {
          "bar": [
           {
            "error_x": {
             "color": "#2a3f5f"
            },
            "error_y": {
             "color": "#2a3f5f"
            },
            "marker": {
             "line": {
              "color": "#E5ECF6",
              "width": 0.5
             },
             "pattern": {
              "fillmode": "overlay",
              "size": 10,
              "solidity": 0.2
             }
            },
            "type": "bar"
           }
          ],
          "barpolar": [
           {
            "marker": {
             "line": {
              "color": "#E5ECF6",
              "width": 0.5
             },
             "pattern": {
              "fillmode": "overlay",
              "size": 10,
              "solidity": 0.2
             }
            },
            "type": "barpolar"
           }
          ],
          "carpet": [
           {
            "aaxis": {
             "endlinecolor": "#2a3f5f",
             "gridcolor": "white",
             "linecolor": "white",
             "minorgridcolor": "white",
             "startlinecolor": "#2a3f5f"
            },
            "baxis": {
             "endlinecolor": "#2a3f5f",
             "gridcolor": "white",
             "linecolor": "white",
             "minorgridcolor": "white",
             "startlinecolor": "#2a3f5f"
            },
            "type": "carpet"
           }
          ],
          "choropleth": [
           {
            "colorbar": {
             "outlinewidth": 0,
             "ticks": ""
            },
            "type": "choropleth"
           }
          ],
          "contour": [
           {
            "colorbar": {
             "outlinewidth": 0,
             "ticks": ""
            },
            "colorscale": [
             [
              0,
              "#0d0887"
             ],
             [
              0.1111111111111111,
              "#46039f"
             ],
             [
              0.2222222222222222,
              "#7201a8"
             ],
             [
              0.3333333333333333,
              "#9c179e"
             ],
             [
              0.4444444444444444,
              "#bd3786"
             ],
             [
              0.5555555555555556,
              "#d8576b"
             ],
             [
              0.6666666666666666,
              "#ed7953"
             ],
             [
              0.7777777777777778,
              "#fb9f3a"
             ],
             [
              0.8888888888888888,
              "#fdca26"
             ],
             [
              1,
              "#f0f921"
             ]
            ],
            "type": "contour"
           }
          ],
          "contourcarpet": [
           {
            "colorbar": {
             "outlinewidth": 0,
             "ticks": ""
            },
            "type": "contourcarpet"
           }
          ],
          "heatmap": [
           {
            "colorbar": {
             "outlinewidth": 0,
             "ticks": ""
            },
            "colorscale": [
             [
              0,
              "#0d0887"
             ],
             [
              0.1111111111111111,
              "#46039f"
             ],
             [
              0.2222222222222222,
              "#7201a8"
             ],
             [
              0.3333333333333333,
              "#9c179e"
             ],
             [
              0.4444444444444444,
              "#bd3786"
             ],
             [
              0.5555555555555556,
              "#d8576b"
             ],
             [
              0.6666666666666666,
              "#ed7953"
             ],
             [
              0.7777777777777778,
              "#fb9f3a"
             ],
             [
              0.8888888888888888,
              "#fdca26"
             ],
             [
              1,
              "#f0f921"
             ]
            ],
            "type": "heatmap"
           }
          ],
          "heatmapgl": [
           {
            "colorbar": {
             "outlinewidth": 0,
             "ticks": ""
            },
            "colorscale": [
             [
              0,
              "#0d0887"
             ],
             [
              0.1111111111111111,
              "#46039f"
             ],
             [
              0.2222222222222222,
              "#7201a8"
             ],
             [
              0.3333333333333333,
              "#9c179e"
             ],
             [
              0.4444444444444444,
              "#bd3786"
             ],
             [
              0.5555555555555556,
              "#d8576b"
             ],
             [
              0.6666666666666666,
              "#ed7953"
             ],
             [
              0.7777777777777778,
              "#fb9f3a"
             ],
             [
              0.8888888888888888,
              "#fdca26"
             ],
             [
              1,
              "#f0f921"
             ]
            ],
            "type": "heatmapgl"
           }
          ],
          "histogram": [
           {
            "marker": {
             "pattern": {
              "fillmode": "overlay",
              "size": 10,
              "solidity": 0.2
             }
            },
            "type": "histogram"
           }
          ],
          "histogram2d": [
           {
            "colorbar": {
             "outlinewidth": 0,
             "ticks": ""
            },
            "colorscale": [
             [
              0,
              "#0d0887"
             ],
             [
              0.1111111111111111,
              "#46039f"
             ],
             [
              0.2222222222222222,
              "#7201a8"
             ],
             [
              0.3333333333333333,
              "#9c179e"
             ],
             [
              0.4444444444444444,
              "#bd3786"
             ],
             [
              0.5555555555555556,
              "#d8576b"
             ],
             [
              0.6666666666666666,
              "#ed7953"
             ],
             [
              0.7777777777777778,
              "#fb9f3a"
             ],
             [
              0.8888888888888888,
              "#fdca26"
             ],
             [
              1,
              "#f0f921"
             ]
            ],
            "type": "histogram2d"
           }
          ],
          "histogram2dcontour": [
           {
            "colorbar": {
             "outlinewidth": 0,
             "ticks": ""
            },
            "colorscale": [
             [
              0,
              "#0d0887"
             ],
             [
              0.1111111111111111,
              "#46039f"
             ],
             [
              0.2222222222222222,
              "#7201a8"
             ],
             [
              0.3333333333333333,
              "#9c179e"
             ],
             [
              0.4444444444444444,
              "#bd3786"
             ],
             [
              0.5555555555555556,
              "#d8576b"
             ],
             [
              0.6666666666666666,
              "#ed7953"
             ],
             [
              0.7777777777777778,
              "#fb9f3a"
             ],
             [
              0.8888888888888888,
              "#fdca26"
             ],
             [
              1,
              "#f0f921"
             ]
            ],
            "type": "histogram2dcontour"
           }
          ],
          "mesh3d": [
           {
            "colorbar": {
             "outlinewidth": 0,
             "ticks": ""
            },
            "type": "mesh3d"
           }
          ],
          "parcoords": [
           {
            "line": {
             "colorbar": {
              "outlinewidth": 0,
              "ticks": ""
             }
            },
            "type": "parcoords"
           }
          ],
          "pie": [
           {
            "automargin": true,
            "type": "pie"
           }
          ],
          "scatter": [
           {
            "fillpattern": {
             "fillmode": "overlay",
             "size": 10,
             "solidity": 0.2
            },
            "type": "scatter"
           }
          ],
          "scatter3d": [
           {
            "line": {
             "colorbar": {
              "outlinewidth": 0,
              "ticks": ""
             }
            },
            "marker": {
             "colorbar": {
              "outlinewidth": 0,
              "ticks": ""
             }
            },
            "type": "scatter3d"
           }
          ],
          "scattercarpet": [
           {
            "marker": {
             "colorbar": {
              "outlinewidth": 0,
              "ticks": ""
             }
            },
            "type": "scattercarpet"
           }
          ],
          "scattergeo": [
           {
            "marker": {
             "colorbar": {
              "outlinewidth": 0,
              "ticks": ""
             }
            },
            "type": "scattergeo"
           }
          ],
          "scattergl": [
           {
            "marker": {
             "colorbar": {
              "outlinewidth": 0,
              "ticks": ""
             }
            },
            "type": "scattergl"
           }
          ],
          "scattermapbox": [
           {
            "marker": {
             "colorbar": {
              "outlinewidth": 0,
              "ticks": ""
             }
            },
            "type": "scattermapbox"
           }
          ],
          "scatterpolar": [
           {
            "marker": {
             "colorbar": {
              "outlinewidth": 0,
              "ticks": ""
             }
            },
            "type": "scatterpolar"
           }
          ],
          "scatterpolargl": [
           {
            "marker": {
             "colorbar": {
              "outlinewidth": 0,
              "ticks": ""
             }
            },
            "type": "scatterpolargl"
           }
          ],
          "scatterternary": [
           {
            "marker": {
             "colorbar": {
              "outlinewidth": 0,
              "ticks": ""
             }
            },
            "type": "scatterternary"
           }
          ],
          "surface": [
           {
            "colorbar": {
             "outlinewidth": 0,
             "ticks": ""
            },
            "colorscale": [
             [
              0,
              "#0d0887"
             ],
             [
              0.1111111111111111,
              "#46039f"
             ],
             [
              0.2222222222222222,
              "#7201a8"
             ],
             [
              0.3333333333333333,
              "#9c179e"
             ],
             [
              0.4444444444444444,
              "#bd3786"
             ],
             [
              0.5555555555555556,
              "#d8576b"
             ],
             [
              0.6666666666666666,
              "#ed7953"
             ],
             [
              0.7777777777777778,
              "#fb9f3a"
             ],
             [
              0.8888888888888888,
              "#fdca26"
             ],
             [
              1,
              "#f0f921"
             ]
            ],
            "type": "surface"
           }
          ],
          "table": [
           {
            "cells": {
             "fill": {
              "color": "#EBF0F8"
             },
             "line": {
              "color": "white"
             }
            },
            "header": {
             "fill": {
              "color": "#C8D4E3"
             },
             "line": {
              "color": "white"
             }
            },
            "type": "table"
           }
          ]
         },
         "layout": {
          "annotationdefaults": {
           "arrowcolor": "#2a3f5f",
           "arrowhead": 0,
           "arrowwidth": 1
          },
          "autotypenumbers": "strict",
          "coloraxis": {
           "colorbar": {
            "outlinewidth": 0,
            "ticks": ""
           }
          },
          "colorscale": {
           "diverging": [
            [
             0,
             "#8e0152"
            ],
            [
             0.1,
             "#c51b7d"
            ],
            [
             0.2,
             "#de77ae"
            ],
            [
             0.3,
             "#f1b6da"
            ],
            [
             0.4,
             "#fde0ef"
            ],
            [
             0.5,
             "#f7f7f7"
            ],
            [
             0.6,
             "#e6f5d0"
            ],
            [
             0.7,
             "#b8e186"
            ],
            [
             0.8,
             "#7fbc41"
            ],
            [
             0.9,
             "#4d9221"
            ],
            [
             1,
             "#276419"
            ]
           ],
           "sequential": [
            [
             0,
             "#0d0887"
            ],
            [
             0.1111111111111111,
             "#46039f"
            ],
            [
             0.2222222222222222,
             "#7201a8"
            ],
            [
             0.3333333333333333,
             "#9c179e"
            ],
            [
             0.4444444444444444,
             "#bd3786"
            ],
            [
             0.5555555555555556,
             "#d8576b"
            ],
            [
             0.6666666666666666,
             "#ed7953"
            ],
            [
             0.7777777777777778,
             "#fb9f3a"
            ],
            [
             0.8888888888888888,
             "#fdca26"
            ],
            [
             1,
             "#f0f921"
            ]
           ],
           "sequentialminus": [
            [
             0,
             "#0d0887"
            ],
            [
             0.1111111111111111,
             "#46039f"
            ],
            [
             0.2222222222222222,
             "#7201a8"
            ],
            [
             0.3333333333333333,
             "#9c179e"
            ],
            [
             0.4444444444444444,
             "#bd3786"
            ],
            [
             0.5555555555555556,
             "#d8576b"
            ],
            [
             0.6666666666666666,
             "#ed7953"
            ],
            [
             0.7777777777777778,
             "#fb9f3a"
            ],
            [
             0.8888888888888888,
             "#fdca26"
            ],
            [
             1,
             "#f0f921"
            ]
           ]
          },
          "colorway": [
           "#636efa",
           "#EF553B",
           "#00cc96",
           "#ab63fa",
           "#FFA15A",
           "#19d3f3",
           "#FF6692",
           "#B6E880",
           "#FF97FF",
           "#FECB52"
          ],
          "font": {
           "color": "#2a3f5f"
          },
          "geo": {
           "bgcolor": "white",
           "lakecolor": "white",
           "landcolor": "#E5ECF6",
           "showlakes": true,
           "showland": true,
           "subunitcolor": "white"
          },
          "hoverlabel": {
           "align": "left"
          },
          "hovermode": "closest",
          "mapbox": {
           "style": "light"
          },
          "paper_bgcolor": "white",
          "plot_bgcolor": "#E5ECF6",
          "polar": {
           "angularaxis": {
            "gridcolor": "white",
            "linecolor": "white",
            "ticks": ""
           },
           "bgcolor": "#E5ECF6",
           "radialaxis": {
            "gridcolor": "white",
            "linecolor": "white",
            "ticks": ""
           }
          },
          "scene": {
           "xaxis": {
            "backgroundcolor": "#E5ECF6",
            "gridcolor": "white",
            "gridwidth": 2,
            "linecolor": "white",
            "showbackground": true,
            "ticks": "",
            "zerolinecolor": "white"
           },
           "yaxis": {
            "backgroundcolor": "#E5ECF6",
            "gridcolor": "white",
            "gridwidth": 2,
            "linecolor": "white",
            "showbackground": true,
            "ticks": "",
            "zerolinecolor": "white"
           },
           "zaxis": {
            "backgroundcolor": "#E5ECF6",
            "gridcolor": "white",
            "gridwidth": 2,
            "linecolor": "white",
            "showbackground": true,
            "ticks": "",
            "zerolinecolor": "white"
           }
          },
          "shapedefaults": {
           "line": {
            "color": "#2a3f5f"
           }
          },
          "ternary": {
           "aaxis": {
            "gridcolor": "white",
            "linecolor": "white",
            "ticks": ""
           },
           "baxis": {
            "gridcolor": "white",
            "linecolor": "white",
            "ticks": ""
           },
           "bgcolor": "#E5ECF6",
           "caxis": {
            "gridcolor": "white",
            "linecolor": "white",
            "ticks": ""
           }
          },
          "title": {
           "x": 0.05
          },
          "xaxis": {
           "automargin": true,
           "gridcolor": "white",
           "linecolor": "white",
           "ticks": "",
           "title": {
            "standoff": 15
           },
           "zerolinecolor": "white",
           "zerolinewidth": 2
          },
          "yaxis": {
           "automargin": true,
           "gridcolor": "white",
           "linecolor": "white",
           "ticks": "",
           "title": {
            "standoff": 15
           },
           "zerolinecolor": "white",
           "zerolinewidth": 2
          }
         }
        },
        "title": {
         "text": "Output (MW) Over Time"
        },
        "xaxis": {
         "anchor": "y",
         "autorange": true,
         "domain": [
          0,
          1
         ],
         "range": [
          "2024-02-26 00:05",
          "2024-02-26 23:55"
         ],
         "title": {
          "text": "Time"
         },
         "type": "date"
        },
        "yaxis": {
         "anchor": "x",
         "autorange": true,
         "domain": [
          0,
          1
         ],
         "range": [
          204.05555555555554,
          422.94444444444446
         ],
         "title": {
          "text": "Other Renewables"
         },
         "type": "linear"
        }
       }
      },
      "image/png": "[encoded data removed]",
      "text/html": [
       "<div>                            <div id=\"10b43009-54f8-4196-984f-3a7e96780f2c\" class=\"plotly-graph-div\" style=\"height:525px; width:100%;\"></div>            <script type=\"text/javascript\">                require([\"plotly\"], function(Plotly) {                    window.PLOTLYENV=window.PLOTLYENV || {};                                    if (document.getElementById(\"10b43009-54f8-4196-984f-3a7e96780f2c\")) {                    Plotly.newPlot(                        \"10b43009-54f8-4196-984f-3a7e96780f2c\",                        [{\"hovertemplate\":\"Time=%{x}\\u003cbr\\u003eOther Renewables=%{y}\\u003cextra\\u003e\\u003c\\u002fextra\\u003e\",\"legendgroup\":\"\",\"line\":{\"color\":\"#636efa\",\"dash\":\"solid\"},\"marker\":{\"symbol\":\"circle\"},\"mode\":\"lines\",\"name\":\"\",\"orientation\":\"v\",\"showlegend\":false,\"x\":[\"2024-02-26T00:05:00-05:00\",\"2024-02-26T00:10:00-05:00\",\"2024-02-26T00:15:00-05:00\",\"2024-02-26T00:20:00-05:00\",\"2024-02-26T00:25:00-05:00\",\"2024-02-26T00:30:00-05:00\",\"2024-02-26T00:35:00-05:00\",\"2024-02-26T00:40:00-05:00\",\"2024-02-26T00:45:00-05:00\",\"2024-02-26T00:50:00-05:00\",\"2024-02-26T00:55:00-05:00\",\"2024-02-26T01:00:00-05:00\",\"2024-02-26T01:05:00-05:00\",\"2024-02-26T01:10:00-05:00\",\"2024-02-26T01:15:00-05:00\",\"2024-02-26T01:20:00-05:00\",\"2024-02-26T01:25:00-05:00\",\"2024-02-26T01:30:00-05:00\",\"2024-02-26T01:35:00-05:00\",\"2024-02-26T01:40:00-05:00\",\"2024-02-26T01:45:00-05:00\",\"2024-02-26T01:50:00-05:00\",\"2024-02-26T01:55:00-05:00\",\"2024-02-26T02:00:00-05:00\",\"2024-02-26T02:05:00-05:00\",\"2024-02-26T02:10:00-05:00\",\"2024-02-26T02:15:00-05:00\",\"2024-02-26T02:20:00-05:00\",\"2024-02-26T02:25:00-05:00\",\"2024-02-26T02:30:00-05:00\",\"2024-02-26T02:35:00-05:00\",\"2024-02-26T02:40:00-05:00\",\"2024-02-26T02:45:00-05:00\",\"2024-02-26T02:50:00-05:00\",\"2024-02-26T02:55:00-05:00\",\"2024-02-26T03:00:00-05:00\",\"2024-02-26T03:05:00-05:00\",\"2024-02-26T03:10:00-05:00\",\"2024-02-26T03:15:00-05:00\",\"2024-02-26T03:20:00-05:00\",\"2024-02-26T03:25:00-05:00\",\"2024-02-26T03:30:00-05:00\",\"2024-02-26T03:35:00-05:00\",\"2024-02-26T03:40:00-05:00\",\"2024-02-26T03:45:00-05:00\",\"2024-02-26T03:50:00-05:00\",\"2024-02-26T03:55:00-05:00\",\"2024-02-26T04:00:00-05:00\",\"2024-02-26T04:05:00-05:00\",\"2024-02-26T04:10:00-05:00\",\"2024-02-26T04:15:00-05:00\",\"2024-02-26T04:20:00-05:00\",\"2024-02-26T04:25:00-05:00\",\"2024-02-26T04:30:00-05:00\",\"2024-02-26T04:35:00-05:00\",\"2024-02-26T04:40:00-05:00\",\"2024-02-26T04:45:00-05:00\",\"2024-02-26T04:50:00-05:00\",\"2024-02-26T04:55:00-05:00\",\"2024-02-26T05:00:00-05:00\",\"2024-02-26T05:05:00-05:00\",\"2024-02-26T05:10:00-05:00\",\"2024-02-26T05:15:00-05:00\",\"2024-02-26T05:20:00-05:00\",\"2024-02-26T05:25:00-05:00\",\"2024-02-26T05:30:00-05:00\",\"2024-02-26T05:35:00-05:00\",\"2024-02-26T05:40:00-05:00\",\"2024-02-26T05:45:00-05:00\",\"2024-02-26T05:50:00-05:00\",\"2024-02-26T05:55:00-05:00\",\"2024-02-26T06:00:00-05:00\",\"2024-02-26T06:05:00-05:00\",\"2024-02-26T06:10:00-05:00\",\"2024-02-26T06:15:00-05:00\",\"2024-02-26T06:20:00-05:00\",\"2024-02-26T06:25:00-05:00\",\"2024-02-26T06:30:00-05:00\",\"2024-02-26T06:35:00-05:00\",\"2024-02-26T06:40:00-05:00\",\"2024-02-26T06:45:00-05:00\",\"2024-02-26T06:50:00-05:00\",\"2024-02-26T06:55:00-05:00\",\"2024-02-26T07:00:00-05:00\",\"2024-02-26T07:05:00-05:00\",\"2024-02-26T07:10:00-05:00\",\"2024-02-26T07:15:00-05:00\",\"2024-02-26T07:20:00-05:00\",\"2024-02-26T07:25:00-05:00\",\"2024-02-26T07:30:00-05:00\",\"2024-02-26T07:35:00-05:00\",\"2024-02-26T07:40:00-05:00\",\"2024-02-26T07:45:00-05:00\",\"2024-02-26T07:50:00-05:00\",\"2024-02-26T07:55:00-05:00\",\"2024-02-26T08:00:00-05:00\",\"2024-02-26T08:05:00-05:00\",\"2024-02-26T08:10:00-05:00\",\"2024-02-26T08:15:00-05:00\",\"2024-02-26T08:20:00-05:00\",\"2024-02-26T08:25:00-05:00\",\"2024-02-26T08:30:00-05:00\",\"2024-02-26T08:35:00-05:00\",\"2024-02-26T08:40:00-05:00\",\"2024-02-26T08:45:00-05:00\",\"2024-02-26T08:50:00-05:00\",\"2024-02-26T08:55:00-05:00\",\"2024-02-26T09:00:00-05:00\",\"2024-02-26T09:05:00-05:00\",\"2024-02-26T09:10:00-05:00\",\"2024-02-26T09:15:00-05:00\",\"2024-02-26T09:20:00-05:00\",\"2024-02-26T09:25:00-05:00\",\"2024-02-26T09:30:00-05:00\",\"2024-02-26T09:35:00-05:00\",\"2024-02-26T09:40:00-05:00\",\"2024-02-26T09:45:00-05:00\",\"2024-02-26T09:50:00-05:00\",\"2024-02-26T09:55:00-05:00\",\"2024-02-26T10:00:00-05:00\",\"2024-02-26T10:05:00-05:00\",\"2024-02-26T10:10:00-05:00\",\"2024-02-26T10:15:00-05:00\",\"2024-02-26T10:20:00-05:00\",\"2024-02-26T10:25:00-05:00\",\"2024-02-26T10:30:00-05:00\",\"2024-02-26T10:35:00-05:00\",\"2024-02-26T10:40:00-05:00\",\"2024-02-26T10:45:00-05:00\",\"2024-02-26T10:50:00-05:00\",\"2024-02-26T10:55:00-05:00\",\"2024-02-26T11:00:00-05:00\",\"2024-02-26T11:05:00-05:00\",\"2024-02-26T11:10:00-05:00\",\"2024-02-26T11:15:00-05:00\",\"2024-02-26T11:20:00-05:00\",\"2024-02-26T11:25:00-05:00\",\"2024-02-26T11:30:00-05:00\",\"2024-02-26T11:35:00-05:00\",\"2024-02-26T11:40:00-05:00\",\"2024-02-26T11:45:00-05:00\",\"2024-02-26T11:50:00-05:00\",\"2024-02-26T11:55:00-05:00\",\"2024-02-26T12:00:00-05:00\",\"2024-02-26T12:05:00-05:00\",\"2024-02-26T12:10:00-05:00\",\"2024-02-26T12:15:00-05:00\",\"2024-02-26T12:20:00-05:00\",\"2024-02-26T12:25:00-05:00\",\"2024-02-26T12:30:00-05:00\",\"2024-02-26T12:35:00-05:00\",\"2024-02-26T12:40:00-05:00\",\"2024-02-26T12:45:00-05:00\",\"2024-02-26T12:50:00-05:00\",\"2024-02-26T12:55:00-05:00\",\"2024-02-26T13:00:00-05:00\",\"2024-02-26T13:05:00-05:00\",\"2024-02-26T13:10:00-05:00\",\"2024-02-26T13:15:00-05:00\",\"2024-02-26T13:20:00-05:00\",\"2024-02-26T13:25:00-05:00\",\"2024-02-26T13:30:00-05:00\",\"2024-02-26T13:35:00-05:00\",\"2024-02-26T13:40:00-05:00\",\"2024-02-26T13:45:00-05:00\",\"2024-02-26T13:50:00-05:00\",\"2024-02-26T13:55:00-05:00\",\"2024-02-26T14:00:00-05:00\",\"2024-02-26T14:05:00-05:00\",\"2024-02-26T14:10:00-05:00\",\"2024-02-26T14:15:00-05:00\",\"2024-02-26T14:20:00-05:00\",\"2024-02-26T14:25:00-05:00\",\"2024-02-26T14:30:00-05:00\",\"2024-02-26T14:35:00-05:00\",\"2024-02-26T14:40:00-05:00\",\"2024-02-26T14:45:00-05:00\",\"2024-02-26T14:50:00-05:00\",\"2024-02-26T14:55:00-05:00\",\"2024-02-26T15:00:00-05:00\",\"2024-02-26T15:05:00-05:00\",\"2024-02-26T15:10:00-05:00\",\"2024-02-26T15:15:00-05:00\",\"2024-02-26T15:20:00-05:00\",\"2024-02-26T15:25:00-05:00\",\"2024-02-26T15:30:00-05:00\",\"2024-02-26T15:35:00-05:00\",\"2024-02-26T15:40:00-05:00\",\"2024-02-26T15:45:00-05:00\",\"2024-02-26T15:50:00-05:00\",\"2024-02-26T15:55:00-05:00\",\"2024-02-26T16:00:00-05:00\",\"2024-02-26T16:05:00-05:00\",\"2024-02-26T16:10:00-05:00\",\"2024-02-26T16:15:00-05:00\",\"2024-02-26T16:20:00-05:00\",\"2024-02-26T16:25:00-05:00\",\"2024-02-26T16:30:00-05:00\",\"2024-02-26T16:35:00-05:00\",\"2024-02-26T16:40:00-05:00\",\"2024-02-26T16:45:00-05:00\",\"2024-02-26T16:50:00-05:00\",\"2024-02-26T16:55:00-05:00\",\"2024-02-26T17:00:00-05:00\",\"2024-02-26T17:05:00-05:00\",\"2024-02-26T17:10:00-05:00\",\"2024-02-26T17:14:37-05:00\",\"2024-02-26T17:15:00-05:00\",\"2024-02-26T17:19:37-05:00\",\"2024-02-26T17:20:00-05:00\",\"2024-02-26T17:20:31-05:00\",\"2024-02-26T17:25:00-05:00\",\"2024-02-26T17:30:00-05:00\",\"2024-02-26T17:35:00-05:00\",\"2024-02-26T17:40:00-05:00\",\"2024-02-26T17:45:00-05:00\",\"2024-02-26T17:50:00-05:00\",\"2024-02-26T17:55:00-05:00\",\"2024-02-26T18:00:00-05:00\",\"2024-02-26T18:05:00-05:00\",\"2024-02-26T18:10:00-05:00\",\"2024-02-26T18:15:00-05:00\",\"2024-02-26T18:20:00-05:00\",\"2024-02-26T18:25:00-05:00\",\"2024-02-26T18:30:00-05:00\",\"2024-02-26T18:35:00-05:00\",\"2024-02-26T18:40:00-05:00\",\"2024-02-26T18:45:00-05:00\",\"2024-02-26T18:50:00-05:00\",\"2024-02-26T18:55:00-05:00\",\"2024-02-26T19:00:00-05:00\",\"2024-02-26T19:05:00-05:00\",\"2024-02-26T19:10:00-05:00\",\"2024-02-26T19:15:00-05:00\",\"2024-02-26T19:20:00-05:00\",\"2024-02-26T19:25:00-05:00\",\"2024-02-26T19:30:00-05:00\",\"2024-02-26T19:35:00-05:00\",\"2024-02-26T19:40:00-05:00\",\"2024-02-26T19:45:00-05:00\",\"2024-02-26T19:50:00-05:00\",\"2024-02-26T19:55:00-05:00\",\"2024-02-26T20:00:00-05:00\",\"2024-02-26T20:05:00-05:00\",\"2024-02-26T20:10:00-05:00\",\"2024-02-26T20:15:00-05:00\",\"2024-02-26T20:20:00-05:00\",\"2024-02-26T20:25:00-05:00\",\"2024-02-26T20:30:00-05:00\",\"2024-02-26T20:35:00-05:00\",\"2024-02-26T20:40:00-05:00\",\"2024-02-26T20:45:00-05:00\",\"2024-02-26T20:50:00-05:00\",\"2024-02-26T20:55:00-05:00\",\"2024-02-26T21:00:00-05:00\",\"2024-02-26T21:05:00-05:00\",\"2024-02-26T21:10:00-05:00\",\"2024-02-26T21:15:00-05:00\",\"2024-02-26T21:20:00-05:00\",\"2024-02-26T21:25:00-05:00\",\"2024-02-26T21:30:00-05:00\",\"2024-02-26T21:35:00-05:00\",\"2024-02-26T21:40:00-05:00\",\"2024-02-26T21:45:00-05:00\",\"2024-02-26T21:50:00-05:00\",\"2024-02-26T21:55:00-05:00\",\"2024-02-26T22:00:00-05:00\",\"2024-02-26T22:05:00-05:00\",\"2024-02-26T22:10:00-05:00\",\"2024-02-26T22:15:00-05:00\",\"2024-02-26T22:20:00-05:00\",\"2024-02-26T22:25:00-05:00\",\"2024-02-26T22:30:00-05:00\",\"2024-02-26T22:35:00-05:00\",\"2024-02-26T22:40:00-05:00\",\"2024-02-26T22:45:00-05:00\",\"2024-02-26T22:50:00-05:00\",\"2024-02-26T22:55:00-05:00\",\"2024-02-26T23:00:00-05:00\",\"2024-02-26T23:05:00-05:00\",\"2024-02-26T23:10:00-05:00\",\"2024-02-26T23:15:00-05:00\",\"2024-02-26T23:20:00-05:00\",\"2024-02-26T23:25:00-05:00\",\"2024-02-26T23:30:00-05:00\",\"2024-02-26T23:35:00-05:00\",\"2024-02-26T23:40:00-05:00\",\"2024-02-26T23:45:00-05:00\",\"2024-02-26T23:50:00-05:00\",\"2024-02-26T23:55:00-05:00\"],\"xaxis\":\"x\",\"y\":[244.0,240.0,241.0,241.0,241.0,242.0,241.0,244.0,243.0,248.0,251.0,241.0,237.0,236.0,231.0,230.0,226.0,224.0,224.0,229.0,234.0,238.0,233.0,229.0,233.0,235.0,231.0,226.0,223.0,230.0,233.0,231.0,229.0,234.0,227.0,229.0,239.0,238.0,232.0,230.0,230.0,243.0,233.0,229.0,233.0,235.0,233.0,242.0,238.0,234.0,230.0,230.0,236.0,232.0,230.0,228.0,234.0,233.0,233.0,216.0,221.0,215.0,228.0,249.0,238.0,222.0,223.0,234.0,230.0,220.0,229.0,229.0,224.0,230.0,243.0,245.0,250.0,250.0,251.0,242.0,239.0,229.0,224.0,226.0,229.0,239.0,241.0,238.0,231.0,231.0,240.0,246.0,256.0,258.0,271.0,284.0,292.0,295.0,297.0,304.0,304.0,310.0,307.0,310.0,314.0,316.0,319.0,335.0,358.0,353.0,340.0,347.0,343.0,356.0,363.0,361.0,363.0,363.0,364.0,370.0,388.0,388.0,372.0,376.0,384.0,374.0,365.0,369.0,366.0,367.0,376.0,361.0,360.0,362.0,366.0,365.0,366.0,369.0,372.0,377.0,376.0,365.0,369.0,375.0,375.0,385.0,394.0,392.0,381.0,392.0,394.0,380.0,391.0,403.0,400.0,404.0,408.0,407.0,408.0,408.0,407.0,407.0,412.0,406.0,404.0,406.0,404.0,393.0,409.0,412.0,395.0,393.0,387.0,388.0,385.0,381.0,383.0,387.0,376.0,376.0,376.0,378.0,381.0,371.0,383.0,356.0,342.0,352.0,345.0,352.0,347.0,328.0,319.0,308.0,307.0,298.0,286.0,283.0,271.0,268.0,279.0,286.0,283.0,254.0,245.0,241.0,239.0,251.0,246.0,253.0,254.0,244.0,243.0,242.0,258.0,236.0,247.0,240.0,227.0,225.0,225.0,225.0,219.0,222.0,221.0,225.0,227.0,225.0,229.0,230.0,231.0,229.0,228.0,228.0,225.0,223.0,229.0,229.0,231.0,229.0,232.0,231.0,234.0,246.0,237.0,226.0,233.0,234.0,232.0,233.0,230.0,230.0,234.0,232.0,232.0,247.0,234.0,228.0,228.0,230.0,230.0,230.0,228.0,227.0,229.0,230.0,228.0,225.0,233.0,233.0,232.0,250.0,235.0,232.0,230.0,229.0,230.0,229.0,237.0,243.0,247.0,250.0,248.0,250.0,247.0,249.0,251.0,248.0,239.0,238.0],\"yaxis\":\"y\",\"type\":\"scatter\"}],                        {\"template\":{\"data\":{\"histogram2dcontour\":[{\"type\":\"histogram2dcontour\",\"colorbar\":{\"outlinewidth\":0,\"ticks\":\"\"},\"colorscale\":[[0.0,\"#0d0887\"],[0.1111111111111111,\"#46039f\"],[0.2222222222222222,\"#7201a8\"],[0.3333333333333333,\"#9c179e\"],[0.4444444444444444,\"#bd3786\"],[0.5555555555555556,\"#d8576b\"],[0.6666666666666666,\"#ed7953\"],[0.7777777777777778,\"#fb9f3a\"],[0.8888888888888888,\"#fdca26\"],[1.0,\"#f0f921\"]]}],\"choropleth\":[{\"type\":\"choropleth\",\"colorbar\":{\"outlinewidth\":0,\"ticks\":\"\"}}],\"histogram2d\":[{\"type\":\"histogram2d\",\"colorbar\":{\"outlinewidth\":0,\"ticks\":\"\"},\"colorscale\":[[0.0,\"#0d0887\"],[0.1111111111111111,\"#46039f\"],[0.2222222222222222,\"#7201a8\"],[0.3333333333333333,\"#9c179e\"],[0.4444444444444444,\"#bd3786\"],[0.5555555555555556,\"#d8576b\"],[0.6666666666666666,\"#ed7953\"],[0.7777777777777778,\"#fb9f3a\"],[0.8888888888888888,\"#fdca26\"],[1.0,\"#f0f921\"]]}],\"heatmap\":[{\"type\":\"heatmap\",\"colorbar\":{\"outlinewidth\":0,\"ticks\":\"\"},\"colorscale\":[[0.0,\"#0d0887\"],[0.1111111111111111,\"#46039f\"],[0.2222222222222222,\"#7201a8\"],[0.3333333333333333,\"#9c179e\"],[0.4444444444444444,\"#bd3786\"],[0.5555555555555556,\"#d8576b\"],[0.6666666666666666,\"#ed7953\"],[0.7777777777777778,\"#fb9f3a\"],[0.8888888888888888,\"#fdca26\"],[1.0,\"#f0f921\"]]}],\"heatmapgl\":[{\"type\":\"heatmapgl\",\"colorbar\":{\"outlinewidth\":0,\"ticks\":\"\"},\"colorscale\":[[0.0,\"#0d0887\"],[0.1111111111111111,\"#46039f\"],[0.2222222222222222,\"#7201a8\"],[0.3333333333333333,\"#9c179e\"],[0.4444444444444444,\"#bd3786\"],[0.5555555555555556,\"#d8576b\"],[0.6666666666666666,\"#ed7953\"],[0.7777777777777778,\"#fb9f3a\"],[0.8888888888888888,\"#fdca26\"],[1.0,\"#f0f921\"]]}],\"contourcarpet\":[{\"type\":\"contourcarpet\",\"colorbar\":{\"outlinewidth\":0,\"ticks\":\"\"}}],\"contour\":[{\"type\":\"contour\",\"colorbar\":{\"outlinewidth\":0,\"ticks\":\"\"},\"colorscale\":[[0.0,\"#0d0887\"],[0.1111111111111111,\"#46039f\"],[0.2222222222222222,\"#7201a8\"],[0.3333333333333333,\"#9c179e\"],[0.4444444444444444,\"#bd3786\"],[0.5555555555555556,\"#d8576b\"],[0.6666666666666666,\"#ed7953\"],[0.7777777777777778,\"#fb9f3a\"],[0.8888888888888888,\"#fdca26\"],[1.0,\"#f0f921\"]]}],\"surface\":[{\"type\":\"surface\",\"colorbar\":{\"outlinewidth\":0,\"ticks\":\"\"},\"colorscale\":[[0.0,\"#0d0887\"],[0.1111111111111111,\"#46039f\"],[0.2222222222222222,\"#7201a8\"],[0.3333333333333333,\"#9c179e\"],[0.4444444444444444,\"#bd3786\"],[0.5555555555555556,\"#d8576b\"],[0.6666666666666666,\"#ed7953\"],[0.7777777777777778,\"#fb9f3a\"],[0.8888888888888888,\"#fdca26\"],[1.0,\"#f0f921\"]]}],\"mesh3d\":[{\"type\":\"mesh3d\",\"colorbar\":{\"outlinewidth\":0,\"ticks\":\"\"}}],\"scatter\":[{\"fillpattern\":{\"fillmode\":\"overlay\",\"size\":10,\"solidity\":0.2},\"type\":\"scatter\"}],\"parcoords\":[{\"type\":\"parcoords\",\"line\":{\"colorbar\":{\"outlinewidth\":0,\"ticks\":\"\"}}}],\"scatterpolargl\":[{\"type\":\"scatterpolargl\",\"marker\":{\"colorbar\":{\"outlinewidth\":0,\"ticks\":\"\"}}}],\"bar\":[{\"error_x\":{\"color\":\"#2a3f5f\"},\"error_y\":{\"color\":\"#2a3f5f\"},\"marker\":{\"line\":{\"color\":\"#E5ECF6\",\"width\":0.5},\"pattern\":{\"fillmode\":\"overlay\",\"size\":10,\"solidity\":0.2}},\"type\":\"bar\"}],\"scattergeo\":[{\"type\":\"scattergeo\",\"marker\":{\"colorbar\":{\"outlinewidth\":0,\"ticks\":\"\"}}}],\"scatterpolar\":[{\"type\":\"scatterpolar\",\"marker\":{\"colorbar\":{\"outlinewidth\":0,\"ticks\":\"\"}}}],\"histogram\":[{\"marker\":{\"pattern\":{\"fillmode\":\"overlay\",\"size\":10,\"solidity\":0.2}},\"type\":\"histogram\"}],\"scattergl\":[{\"type\":\"scattergl\",\"marker\":{\"colorbar\":{\"outlinewidth\":0,\"ticks\":\"\"}}}],\"scatter3d\":[{\"type\":\"scatter3d\",\"line\":{\"colorbar\":{\"outlinewidth\":0,\"ticks\":\"\"}},\"marker\":{\"colorbar\":{\"outlinewidth\":0,\"ticks\":\"\"}}}],\"scattermapbox\":[{\"type\":\"scattermapbox\",\"marker\":{\"colorbar\":{\"outlinewidth\":0,\"ticks\":\"\"}}}],\"scatterternary\":[{\"type\":\"scatterternary\",\"marker\":{\"colorbar\":{\"outlinewidth\":0,\"ticks\":\"\"}}}],\"scattercarpet\":[{\"type\":\"scattercarpet\",\"marker\":{\"colorbar\":{\"outlinewidth\":0,\"ticks\":\"\"}}}],\"carpet\":[{\"aaxis\":{\"endlinecolor\":\"#2a3f5f\",\"gridcolor\":\"white\",\"linecolor\":\"white\",\"minorgridcolor\":\"white\",\"startlinecolor\":\"#2a3f5f\"},\"baxis\":{\"endlinecolor\":\"#2a3f5f\",\"gridcolor\":\"white\",\"linecolor\":\"white\",\"minorgridcolor\":\"white\",\"startlinecolor\":\"#2a3f5f\"},\"type\":\"carpet\"}],\"table\":[{\"cells\":{\"fill\":{\"color\":\"#EBF0F8\"},\"line\":{\"color\":\"white\"}},\"header\":{\"fill\":{\"color\":\"#C8D4E3\"},\"line\":{\"color\":\"white\"}},\"type\":\"table\"}],\"barpolar\":[{\"marker\":{\"line\":{\"color\":\"#E5ECF6\",\"width\":0.5},\"pattern\":{\"fillmode\":\"overlay\",\"size\":10,\"solidity\":0.2}},\"type\":\"barpolar\"}],\"pie\":[{\"automargin\":true,\"type\":\"pie\"}]},\"layout\":{\"autotypenumbers\":\"strict\",\"colorway\":[\"#636efa\",\"#EF553B\",\"#00cc96\",\"#ab63fa\",\"#FFA15A\",\"#19d3f3\",\"#FF6692\",\"#B6E880\",\"#FF97FF\",\"#FECB52\"],\"font\":{\"color\":\"#2a3f5f\"},\"hovermode\":\"closest\",\"hoverlabel\":{\"align\":\"left\"},\"paper_bgcolor\":\"white\",\"plot_bgcolor\":\"#E5ECF6\",\"polar\":{\"bgcolor\":\"#E5ECF6\",\"angularaxis\":{\"gridcolor\":\"white\",\"linecolor\":\"white\",\"ticks\":\"\"},\"radialaxis\":{\"gridcolor\":\"white\",\"linecolor\":\"white\",\"ticks\":\"\"}},\"ternary\":{\"bgcolor\":\"#E5ECF6\",\"aaxis\":{\"gridcolor\":\"white\",\"linecolor\":\"white\",\"ticks\":\"\"},\"baxis\":{\"gridcolor\":\"white\",\"linecolor\":\"white\",\"ticks\":\"\"},\"caxis\":{\"gridcolor\":\"white\",\"linecolor\":\"white\",\"ticks\":\"\"}},\"coloraxis\":{\"colorbar\":{\"outlinewidth\":0,\"ticks\":\"\"}},\"colorscale\":{\"sequential\":[[0.0,\"#0d0887\"],[0.1111111111111111,\"#46039f\"],[0.2222222222222222,\"#7201a8\"],[0.3333333333333333,\"#9c179e\"],[0.4444444444444444,\"#bd3786\"],[0.5555555555555556,\"#d8576b\"],[0.6666666666666666,\"#ed7953\"],[0.7777777777777778,\"#fb9f3a\"],[0.8888888888888888,\"#fdca26\"],[1.0,\"#f0f921\"]],\"sequentialminus\":[[0.0,\"#0d0887\"],[0.1111111111111111,\"#46039f\"],[0.2222222222222222,\"#7201a8\"],[0.3333333333333333,\"#9c179e\"],[0.4444444444444444,\"#bd3786\"],[0.5555555555555556,\"#d8576b\"],[0.6666666666666666,\"#ed7953\"],[0.7777777777777778,\"#fb9f3a\"],[0.8888888888888888,\"#fdca26\"],[1.0,\"#f0f921\"]],\"diverging\":[[0,\"#8e0152\"],[0.1,\"#c51b7d\"],[0.2,\"#de77ae\"],[0.3,\"#f1b6da\"],[0.4,\"#fde0ef\"],[0.5,\"#f7f7f7\"],[0.6,\"#e6f5d0\"],[0.7,\"#b8e186\"],[0.8,\"#7fbc41\"],[0.9,\"#4d9221\"],[1,\"#276419\"]]},\"xaxis\":{\"gridcolor\":\"white\",\"linecolor\":\"white\",\"ticks\":\"\",\"title\":{\"standoff\":15},\"zerolinecolor\":\"white\",\"automargin\":true,\"zerolinewidth\":2},\"yaxis\":{\"gridcolor\":\"white\",\"linecolor\":\"white\",\"ticks\":\"\",\"title\":{\"standoff\":15},\"zerolinecolor\":\"white\",\"automargin\":true,\"zerolinewidth\":2},\"scene\":{\"xaxis\":{\"backgroundcolor\":\"#E5ECF6\",\"gridcolor\":\"white\",\"linecolor\":\"white\",\"showbackground\":true,\"ticks\":\"\",\"zerolinecolor\":\"white\",\"gridwidth\":2},\"yaxis\":{\"backgroundcolor\":\"#E5ECF6\",\"gridcolor\":\"white\",\"linecolor\":\"white\",\"showbackground\":true,\"ticks\":\"\",\"zerolinecolor\":\"white\",\"gridwidth\":2},\"zaxis\":{\"backgroundcolor\":\"#E5ECF6\",\"gridcolor\":\"white\",\"linecolor\":\"white\",\"showbackground\":true,\"ticks\":\"\",\"zerolinecolor\":\"white\",\"gridwidth\":2}},\"shapedefaults\":{\"line\":{\"color\":\"#2a3f5f\"}},\"annotationdefaults\":{\"arrowcolor\":\"#2a3f5f\",\"arrowhead\":0,\"arrowwidth\":1},\"geo\":{\"bgcolor\":\"white\",\"landcolor\":\"#E5ECF6\",\"subunitcolor\":\"white\",\"showland\":true,\"showlakes\":true,\"lakecolor\":\"white\"},\"title\":{\"x\":0.05},\"mapbox\":{\"style\":\"light\"}}},\"xaxis\":{\"anchor\":\"y\",\"domain\":[0.0,1.0],\"title\":{\"text\":\"Time\"}},\"yaxis\":{\"anchor\":\"x\",\"domain\":[0.0,1.0],\"title\":{\"text\":\"Other Renewables\"}},\"legend\":{\"tracegroupgap\":0},\"title\":{\"text\":\"Output (MW) Over Time\"}},                        {\"responsive\": true}                    ).then(function(){\n",
       "                            \n",
       "var gd = document.getElementById('10b43009-54f8-4196-984f-3a7e96780f2c');\n",
       "var x = new MutationObserver(function (mutations, observer) {{\n",
       "        var display = window.getComputedStyle(gd).display;\n",
       "        if (!display || display === 'none') {{\n",
       "            console.log([gd, 'removed!']);\n",
       "            Plotly.purge(gd);\n",
       "            observer.disconnect();\n",
       "        }}\n",
       "}});\n",
       "\n",
       "// Listen for the removal of the full notebook cells\n",
       "var notebookContainer = gd.closest('#notebook-container');\n",
       "if (notebookContainer) {{\n",
       "    x.observe(notebookContainer, {childList: true});\n",
       "}}\n",
       "\n",
       "// Listen for the clearing of the current output cell\n",
       "var outputEl = gd.closest('.output');\n",
       "if (outputEl) {{\n",
       "    x.observe(outputEl, {childList: true});\n",
       "}}\n",
       "\n",
       "                        })                };                });            </script>        </div>"
      ]
     },
     "metadata": {},
     "output_type": "display_data"
    }
   ],
   "source": [
    "def get_other_renewable_energy_output():\n",
    "    nyiso = gridstatus.NYISO()\n",
    "    energy_output = nyiso.get_fuel_mix(start=\"February 26, 2024\", end=\"February 27, 2024\")\n",
    "    energy_output_col_subset = energy_output[[\"Time\", \"Other Renewables\"]]\n",
    "    energy_output_filtered = energy_output_col_subset[energy_output_col_subset[\"Time\"] < \"February 27, 2024\"]\n",
    "    return energy_output_filtered\n",
    "    \n",
    "other_renewable_energy_output = get_other_renewable_energy_output()\n",
    "fig = px.line(other_renewable_energy_output, x=\"Time\", y=\"Other Renewables\", title=\"Output (MW) Over Time\")\n",
    "fig.show()"
   ]
  },
  {
   "cell_type": "markdown",
   "id": "67ff99c3-c329-4651-907d-4c09507d5b5b",
   "metadata": {},
   "source": [
    "## Average output MW in one-hour chunks"
   ]
  },
  {
   "cell_type": "code",
   "execution_count": 14,
   "id": "412a81d1-339c-428c-bbca-ccc8352a87e1",
   "metadata": {},
   "outputs": [
    {
     "data": {
      "application/vnd.plotly.v1+json": {
       "config": {
        "plotlyServerURL": "https://plot.ly"
       },
       "data": [
        {
         "alignmentgroup": "True",
         "hovertemplate": "Time=%{x}<br>Average Output=%{y}<extra></extra>",
         "legendgroup": "",
         "marker": {
          "color": "#636efa",
          "pattern": {
           "shape": ""
          }
         },
         "name": "",
         "offsetgroup": "",
         "orientation": "v",
         "showlegend": false,
         "textposition": "auto",
         "type": "bar",
         "x": [
          "2024-02-26T00:05:00-05:00",
          "2024-02-26T01:10:00-05:00",
          "2024-02-26T02:15:00-05:00",
          "2024-02-26T03:15:00-05:00",
          "2024-02-26T04:15:00-05:00",
          "2024-02-26T05:15:00-05:00",
          "2024-02-26T06:15:00-05:00",
          "2024-02-26T07:15:00-05:00",
          "2024-02-26T08:15:00-05:00",
          "2024-02-26T09:15:00-05:00",
          "2024-02-26T10:15:00-05:00",
          "2024-02-26T11:15:00-05:00",
          "2024-02-26T12:15:00-05:00",
          "2024-02-26T13:15:00-05:00",
          "2024-02-26T14:15:00-05:00",
          "2024-02-26T15:15:00-05:00",
          "2024-02-26T16:15:00-05:00",
          "2024-02-26T17:14:37-05:00",
          "2024-02-26T18:00:00-05:00",
          "2024-02-26T19:00:00-05:00",
          "2024-02-26T20:00:00-05:00",
          "2024-02-26T21:00:00-05:00",
          "2024-02-26T22:00:00-05:00",
          "2024-02-26T23:00:00-05:00"
         ],
         "xaxis": "x",
         "y": [
          242.6153846153846,
          230.92307692307693,
          230.83333333333334,
          234.33333333333334,
          228.16666666666666,
          229.66666666666666,
          238.91666666666666,
          256.9166666666667,
          318.9166666666667,
          362.1666666666667,
          369.3333333333333,
          371.6666666666667,
          395.5,
          406.3333333333333,
          383.75,
          348.6666666666667,
          275.0833333333333,
          246.08333333333334,
          225,
          228.75,
          233.41666666666666,
          231.08333333333334,
          232.16666666666666,
          245.58333333333334
         ],
         "yaxis": "y"
        }
       ],
       "layout": {
        "autosize": true,
        "barmode": "relative",
        "legend": {
         "tracegroupgap": 0
        },
        "template": {
         "data": {
          "bar": [
           {
            "error_x": {
             "color": "#2a3f5f"
            },
            "error_y": {
             "color": "#2a3f5f"
            },
            "marker": {
             "line": {
              "color": "#E5ECF6",
              "width": 0.5
             },
             "pattern": {
              "fillmode": "overlay",
              "size": 10,
              "solidity": 0.2
             }
            },
            "type": "bar"
           }
          ],
          "barpolar": [
           {
            "marker": {
             "line": {
              "color": "#E5ECF6",
              "width": 0.5
             },
             "pattern": {
              "fillmode": "overlay",
              "size": 10,
              "solidity": 0.2
             }
            },
            "type": "barpolar"
           }
          ],
          "carpet": [
           {
            "aaxis": {
             "endlinecolor": "#2a3f5f",
             "gridcolor": "white",
             "linecolor": "white",
             "minorgridcolor": "white",
             "startlinecolor": "#2a3f5f"
            },
            "baxis": {
             "endlinecolor": "#2a3f5f",
             "gridcolor": "white",
             "linecolor": "white",
             "minorgridcolor": "white",
             "startlinecolor": "#2a3f5f"
            },
            "type": "carpet"
           }
          ],
          "choropleth": [
           {
            "colorbar": {
             "outlinewidth": 0,
             "ticks": ""
            },
            "type": "choropleth"
           }
          ],
          "contour": [
           {
            "colorbar": {
             "outlinewidth": 0,
             "ticks": ""
            },
            "colorscale": [
             [
              0,
              "#0d0887"
             ],
             [
              0.1111111111111111,
              "#46039f"
             ],
             [
              0.2222222222222222,
              "#7201a8"
             ],
             [
              0.3333333333333333,
              "#9c179e"
             ],
             [
              0.4444444444444444,
              "#bd3786"
             ],
             [
              0.5555555555555556,
              "#d8576b"
             ],
             [
              0.6666666666666666,
              "#ed7953"
             ],
             [
              0.7777777777777778,
              "#fb9f3a"
             ],
             [
              0.8888888888888888,
              "#fdca26"
             ],
             [
              1,
              "#f0f921"
             ]
            ],
            "type": "contour"
           }
          ],
          "contourcarpet": [
           {
            "colorbar": {
             "outlinewidth": 0,
             "ticks": ""
            },
            "type": "contourcarpet"
           }
          ],
          "heatmap": [
           {
            "colorbar": {
             "outlinewidth": 0,
             "ticks": ""
            },
            "colorscale": [
             [
              0,
              "#0d0887"
             ],
             [
              0.1111111111111111,
              "#46039f"
             ],
             [
              0.2222222222222222,
              "#7201a8"
             ],
             [
              0.3333333333333333,
              "#9c179e"
             ],
             [
              0.4444444444444444,
              "#bd3786"
             ],
             [
              0.5555555555555556,
              "#d8576b"
             ],
             [
              0.6666666666666666,
              "#ed7953"
             ],
             [
              0.7777777777777778,
              "#fb9f3a"
             ],
             [
              0.8888888888888888,
              "#fdca26"
             ],
             [
              1,
              "#f0f921"
             ]
            ],
            "type": "heatmap"
           }
          ],
          "heatmapgl": [
           {
            "colorbar": {
             "outlinewidth": 0,
             "ticks": ""
            },
            "colorscale": [
             [
              0,
              "#0d0887"
             ],
             [
              0.1111111111111111,
              "#46039f"
             ],
             [
              0.2222222222222222,
              "#7201a8"
             ],
             [
              0.3333333333333333,
              "#9c179e"
             ],
             [
              0.4444444444444444,
              "#bd3786"
             ],
             [
              0.5555555555555556,
              "#d8576b"
             ],
             [
              0.6666666666666666,
              "#ed7953"
             ],
             [
              0.7777777777777778,
              "#fb9f3a"
             ],
             [
              0.8888888888888888,
              "#fdca26"
             ],
             [
              1,
              "#f0f921"
             ]
            ],
            "type": "heatmapgl"
           }
          ],
          "histogram": [
           {
            "marker": {
             "pattern": {
              "fillmode": "overlay",
              "size": 10,
              "solidity": 0.2
             }
            },
            "type": "histogram"
           }
          ],
          "histogram2d": [
           {
            "colorbar": {
             "outlinewidth": 0,
             "ticks": ""
            },
            "colorscale": [
             [
              0,
              "#0d0887"
             ],
             [
              0.1111111111111111,
              "#46039f"
             ],
             [
              0.2222222222222222,
              "#7201a8"
             ],
             [
              0.3333333333333333,
              "#9c179e"
             ],
             [
              0.4444444444444444,
              "#bd3786"
             ],
             [
              0.5555555555555556,
              "#d8576b"
             ],
             [
              0.6666666666666666,
              "#ed7953"
             ],
             [
              0.7777777777777778,
              "#fb9f3a"
             ],
             [
              0.8888888888888888,
              "#fdca26"
             ],
             [
              1,
              "#f0f921"
             ]
            ],
            "type": "histogram2d"
           }
          ],
          "histogram2dcontour": [
           {
            "colorbar": {
             "outlinewidth": 0,
             "ticks": ""
            },
            "colorscale": [
             [
              0,
              "#0d0887"
             ],
             [
              0.1111111111111111,
              "#46039f"
             ],
             [
              0.2222222222222222,
              "#7201a8"
             ],
             [
              0.3333333333333333,
              "#9c179e"
             ],
             [
              0.4444444444444444,
              "#bd3786"
             ],
             [
              0.5555555555555556,
              "#d8576b"
             ],
             [
              0.6666666666666666,
              "#ed7953"
             ],
             [
              0.7777777777777778,
              "#fb9f3a"
             ],
             [
              0.8888888888888888,
              "#fdca26"
             ],
             [
              1,
              "#f0f921"
             ]
            ],
            "type": "histogram2dcontour"
           }
          ],
          "mesh3d": [
           {
            "colorbar": {
             "outlinewidth": 0,
             "ticks": ""
            },
            "type": "mesh3d"
           }
          ],
          "parcoords": [
           {
            "line": {
             "colorbar": {
              "outlinewidth": 0,
              "ticks": ""
             }
            },
            "type": "parcoords"
           }
          ],
          "pie": [
           {
            "automargin": true,
            "type": "pie"
           }
          ],
          "scatter": [
           {
            "fillpattern": {
             "fillmode": "overlay",
             "size": 10,
             "solidity": 0.2
            },
            "type": "scatter"
           }
          ],
          "scatter3d": [
           {
            "line": {
             "colorbar": {
              "outlinewidth": 0,
              "ticks": ""
             }
            },
            "marker": {
             "colorbar": {
              "outlinewidth": 0,
              "ticks": ""
             }
            },
            "type": "scatter3d"
           }
          ],
          "scattercarpet": [
           {
            "marker": {
             "colorbar": {
              "outlinewidth": 0,
              "ticks": ""
             }
            },
            "type": "scattercarpet"
           }
          ],
          "scattergeo": [
           {
            "marker": {
             "colorbar": {
              "outlinewidth": 0,
              "ticks": ""
             }
            },
            "type": "scattergeo"
           }
          ],
          "scattergl": [
           {
            "marker": {
             "colorbar": {
              "outlinewidth": 0,
              "ticks": ""
             }
            },
            "type": "scattergl"
           }
          ],
          "scattermapbox": [
           {
            "marker": {
             "colorbar": {
              "outlinewidth": 0,
              "ticks": ""
             }
            },
            "type": "scattermapbox"
           }
          ],
          "scatterpolar": [
           {
            "marker": {
             "colorbar": {
              "outlinewidth": 0,
              "ticks": ""
             }
            },
            "type": "scatterpolar"
           }
          ],
          "scatterpolargl": [
           {
            "marker": {
             "colorbar": {
              "outlinewidth": 0,
              "ticks": ""
             }
            },
            "type": "scatterpolargl"
           }
          ],
          "scatterternary": [
           {
            "marker": {
             "colorbar": {
              "outlinewidth": 0,
              "ticks": ""
             }
            },
            "type": "scatterternary"
           }
          ],
          "surface": [
           {
            "colorbar": {
             "outlinewidth": 0,
             "ticks": ""
            },
            "colorscale": [
             [
              0,
              "#0d0887"
             ],
             [
              0.1111111111111111,
              "#46039f"
             ],
             [
              0.2222222222222222,
              "#7201a8"
             ],
             [
              0.3333333333333333,
              "#9c179e"
             ],
             [
              0.4444444444444444,
              "#bd3786"
             ],
             [
              0.5555555555555556,
              "#d8576b"
             ],
             [
              0.6666666666666666,
              "#ed7953"
             ],
             [
              0.7777777777777778,
              "#fb9f3a"
             ],
             [
              0.8888888888888888,
              "#fdca26"
             ],
             [
              1,
              "#f0f921"
             ]
            ],
            "type": "surface"
           }
          ],
          "table": [
           {
            "cells": {
             "fill": {
              "color": "#EBF0F8"
             },
             "line": {
              "color": "white"
             }
            },
            "header": {
             "fill": {
              "color": "#C8D4E3"
             },
             "line": {
              "color": "white"
             }
            },
            "type": "table"
           }
          ]
         },
         "layout": {
          "annotationdefaults": {
           "arrowcolor": "#2a3f5f",
           "arrowhead": 0,
           "arrowwidth": 1
          },
          "autotypenumbers": "strict",
          "coloraxis": {
           "colorbar": {
            "outlinewidth": 0,
            "ticks": ""
           }
          },
          "colorscale": {
           "diverging": [
            [
             0,
             "#8e0152"
            ],
            [
             0.1,
             "#c51b7d"
            ],
            [
             0.2,
             "#de77ae"
            ],
            [
             0.3,
             "#f1b6da"
            ],
            [
             0.4,
             "#fde0ef"
            ],
            [
             0.5,
             "#f7f7f7"
            ],
            [
             0.6,
             "#e6f5d0"
            ],
            [
             0.7,
             "#b8e186"
            ],
            [
             0.8,
             "#7fbc41"
            ],
            [
             0.9,
             "#4d9221"
            ],
            [
             1,
             "#276419"
            ]
           ],
           "sequential": [
            [
             0,
             "#0d0887"
            ],
            [
             0.1111111111111111,
             "#46039f"
            ],
            [
             0.2222222222222222,
             "#7201a8"
            ],
            [
             0.3333333333333333,
             "#9c179e"
            ],
            [
             0.4444444444444444,
             "#bd3786"
            ],
            [
             0.5555555555555556,
             "#d8576b"
            ],
            [
             0.6666666666666666,
             "#ed7953"
            ],
            [
             0.7777777777777778,
             "#fb9f3a"
            ],
            [
             0.8888888888888888,
             "#fdca26"
            ],
            [
             1,
             "#f0f921"
            ]
           ],
           "sequentialminus": [
            [
             0,
             "#0d0887"
            ],
            [
             0.1111111111111111,
             "#46039f"
            ],
            [
             0.2222222222222222,
             "#7201a8"
            ],
            [
             0.3333333333333333,
             "#9c179e"
            ],
            [
             0.4444444444444444,
             "#bd3786"
            ],
            [
             0.5555555555555556,
             "#d8576b"
            ],
            [
             0.6666666666666666,
             "#ed7953"
            ],
            [
             0.7777777777777778,
             "#fb9f3a"
            ],
            [
             0.8888888888888888,
             "#fdca26"
            ],
            [
             1,
             "#f0f921"
            ]
           ]
          },
          "colorway": [
           "#636efa",
           "#EF553B",
           "#00cc96",
           "#ab63fa",
           "#FFA15A",
           "#19d3f3",
           "#FF6692",
           "#B6E880",
           "#FF97FF",
           "#FECB52"
          ],
          "font": {
           "color": "#2a3f5f"
          },
          "geo": {
           "bgcolor": "white",
           "lakecolor": "white",
           "landcolor": "#E5ECF6",
           "showlakes": true,
           "showland": true,
           "subunitcolor": "white"
          },
          "hoverlabel": {
           "align": "left"
          },
          "hovermode": "closest",
          "mapbox": {
           "style": "light"
          },
          "paper_bgcolor": "white",
          "plot_bgcolor": "#E5ECF6",
          "polar": {
           "angularaxis": {
            "gridcolor": "white",
            "linecolor": "white",
            "ticks": ""
           },
           "bgcolor": "#E5ECF6",
           "radialaxis": {
            "gridcolor": "white",
            "linecolor": "white",
            "ticks": ""
           }
          },
          "scene": {
           "xaxis": {
            "backgroundcolor": "#E5ECF6",
            "gridcolor": "white",
            "gridwidth": 2,
            "linecolor": "white",
            "showbackground": true,
            "ticks": "",
            "zerolinecolor": "white"
           },
           "yaxis": {
            "backgroundcolor": "#E5ECF6",
            "gridcolor": "white",
            "gridwidth": 2,
            "linecolor": "white",
            "showbackground": true,
            "ticks": "",
            "zerolinecolor": "white"
           },
           "zaxis": {
            "backgroundcolor": "#E5ECF6",
            "gridcolor": "white",
            "gridwidth": 2,
            "linecolor": "white",
            "showbackground": true,
            "ticks": "",
            "zerolinecolor": "white"
           }
          },
          "shapedefaults": {
           "line": {
            "color": "#2a3f5f"
           }
          },
          "ternary": {
           "aaxis": {
            "gridcolor": "white",
            "linecolor": "white",
            "ticks": ""
           },
           "baxis": {
            "gridcolor": "white",
            "linecolor": "white",
            "ticks": ""
           },
           "bgcolor": "#E5ECF6",
           "caxis": {
            "gridcolor": "white",
            "linecolor": "white",
            "ticks": ""
           }
          },
          "title": {
           "x": 0.05
          },
          "xaxis": {
           "automargin": true,
           "gridcolor": "white",
           "linecolor": "white",
           "ticks": "",
           "title": {
            "standoff": 15
           },
           "zerolinecolor": "white",
           "zerolinewidth": 2
          },
          "yaxis": {
           "automargin": true,
           "gridcolor": "white",
           "linecolor": "white",
           "ticks": "",
           "title": {
            "standoff": 15
           },
           "zerolinecolor": "white",
           "zerolinewidth": 2
          }
         }
        },
        "title": {
         "text": "Average Output (MW) by Hour"
        },
        "xaxis": {
         "anchor": "y",
         "autorange": true,
         "domain": [
          0,
          1
         ],
         "range": [
          "2024-02-25 23:42:18.5",
          "2024-02-26 23:22:41.5"
         ],
         "title": {
          "text": "Time"
         },
         "type": "date"
        },
        "yaxis": {
         "anchor": "x",
         "autorange": true,
         "domain": [
          0,
          1
         ],
         "range": [
          0,
          427.719298245614
         ],
         "title": {
          "text": "Average Output"
         },
         "type": "linear"
        }
       }
      },
      "image/png": "[encoded data removed]",
      "text/html": [
       "<div>                            <div id=\"488b1790-96af-4dbb-a417-43291ebe5de9\" class=\"plotly-graph-div\" style=\"height:525px; width:100%;\"></div>            <script type=\"text/javascript\">                require([\"plotly\"], function(Plotly) {                    window.PLOTLYENV=window.PLOTLYENV || {};                                    if (document.getElementById(\"488b1790-96af-4dbb-a417-43291ebe5de9\")) {                    Plotly.newPlot(                        \"488b1790-96af-4dbb-a417-43291ebe5de9\",                        [{\"alignmentgroup\":\"True\",\"hovertemplate\":\"Time=%{x}\\u003cbr\\u003eAverage Output=%{y}\\u003cextra\\u003e\\u003c\\u002fextra\\u003e\",\"legendgroup\":\"\",\"marker\":{\"color\":\"#636efa\",\"pattern\":{\"shape\":\"\"}},\"name\":\"\",\"offsetgroup\":\"\",\"orientation\":\"v\",\"showlegend\":false,\"textposition\":\"auto\",\"x\":[\"2024-02-26T00:05:00-05:00\",\"2024-02-26T01:10:00-05:00\",\"2024-02-26T02:15:00-05:00\",\"2024-02-26T03:15:00-05:00\",\"2024-02-26T04:15:00-05:00\",\"2024-02-26T05:15:00-05:00\",\"2024-02-26T06:15:00-05:00\",\"2024-02-26T07:15:00-05:00\",\"2024-02-26T08:15:00-05:00\",\"2024-02-26T09:15:00-05:00\",\"2024-02-26T10:15:00-05:00\",\"2024-02-26T11:15:00-05:00\",\"2024-02-26T12:15:00-05:00\",\"2024-02-26T13:15:00-05:00\",\"2024-02-26T14:15:00-05:00\",\"2024-02-26T15:15:00-05:00\",\"2024-02-26T16:15:00-05:00\",\"2024-02-26T17:14:37-05:00\",\"2024-02-26T18:00:00-05:00\",\"2024-02-26T19:00:00-05:00\",\"2024-02-26T20:00:00-05:00\",\"2024-02-26T21:00:00-05:00\",\"2024-02-26T22:00:00-05:00\",\"2024-02-26T23:00:00-05:00\"],\"xaxis\":\"x\",\"y\":[242.6153846153846,230.92307692307693,230.83333333333334,234.33333333333334,228.16666666666666,229.66666666666666,238.91666666666666,256.9166666666667,318.9166666666667,362.1666666666667,369.3333333333333,371.6666666666667,395.5,406.3333333333333,383.75,348.6666666666667,275.0833333333333,246.08333333333334,225.0,228.75,233.41666666666666,231.08333333333334,232.16666666666666,245.58333333333334],\"yaxis\":\"y\",\"type\":\"bar\"}],                        {\"template\":{\"data\":{\"histogram2dcontour\":[{\"type\":\"histogram2dcontour\",\"colorbar\":{\"outlinewidth\":0,\"ticks\":\"\"},\"colorscale\":[[0.0,\"#0d0887\"],[0.1111111111111111,\"#46039f\"],[0.2222222222222222,\"#7201a8\"],[0.3333333333333333,\"#9c179e\"],[0.4444444444444444,\"#bd3786\"],[0.5555555555555556,\"#d8576b\"],[0.6666666666666666,\"#ed7953\"],[0.7777777777777778,\"#fb9f3a\"],[0.8888888888888888,\"#fdca26\"],[1.0,\"#f0f921\"]]}],\"choropleth\":[{\"type\":\"choropleth\",\"colorbar\":{\"outlinewidth\":0,\"ticks\":\"\"}}],\"histogram2d\":[{\"type\":\"histogram2d\",\"colorbar\":{\"outlinewidth\":0,\"ticks\":\"\"},\"colorscale\":[[0.0,\"#0d0887\"],[0.1111111111111111,\"#46039f\"],[0.2222222222222222,\"#7201a8\"],[0.3333333333333333,\"#9c179e\"],[0.4444444444444444,\"#bd3786\"],[0.5555555555555556,\"#d8576b\"],[0.6666666666666666,\"#ed7953\"],[0.7777777777777778,\"#fb9f3a\"],[0.8888888888888888,\"#fdca26\"],[1.0,\"#f0f921\"]]}],\"heatmap\":[{\"type\":\"heatmap\",\"colorbar\":{\"outlinewidth\":0,\"ticks\":\"\"},\"colorscale\":[[0.0,\"#0d0887\"],[0.1111111111111111,\"#46039f\"],[0.2222222222222222,\"#7201a8\"],[0.3333333333333333,\"#9c179e\"],[0.4444444444444444,\"#bd3786\"],[0.5555555555555556,\"#d8576b\"],[0.6666666666666666,\"#ed7953\"],[0.7777777777777778,\"#fb9f3a\"],[0.8888888888888888,\"#fdca26\"],[1.0,\"#f0f921\"]]}],\"heatmapgl\":[{\"type\":\"heatmapgl\",\"colorbar\":{\"outlinewidth\":0,\"ticks\":\"\"},\"colorscale\":[[0.0,\"#0d0887\"],[0.1111111111111111,\"#46039f\"],[0.2222222222222222,\"#7201a8\"],[0.3333333333333333,\"#9c179e\"],[0.4444444444444444,\"#bd3786\"],[0.5555555555555556,\"#d8576b\"],[0.6666666666666666,\"#ed7953\"],[0.7777777777777778,\"#fb9f3a\"],[0.8888888888888888,\"#fdca26\"],[1.0,\"#f0f921\"]]}],\"contourcarpet\":[{\"type\":\"contourcarpet\",\"colorbar\":{\"outlinewidth\":0,\"ticks\":\"\"}}],\"contour\":[{\"type\":\"contour\",\"colorbar\":{\"outlinewidth\":0,\"ticks\":\"\"},\"colorscale\":[[0.0,\"#0d0887\"],[0.1111111111111111,\"#46039f\"],[0.2222222222222222,\"#7201a8\"],[0.3333333333333333,\"#9c179e\"],[0.4444444444444444,\"#bd3786\"],[0.5555555555555556,\"#d8576b\"],[0.6666666666666666,\"#ed7953\"],[0.7777777777777778,\"#fb9f3a\"],[0.8888888888888888,\"#fdca26\"],[1.0,\"#f0f921\"]]}],\"surface\":[{\"type\":\"surface\",\"colorbar\":{\"outlinewidth\":0,\"ticks\":\"\"},\"colorscale\":[[0.0,\"#0d0887\"],[0.1111111111111111,\"#46039f\"],[0.2222222222222222,\"#7201a8\"],[0.3333333333333333,\"#9c179e\"],[0.4444444444444444,\"#bd3786\"],[0.5555555555555556,\"#d8576b\"],[0.6666666666666666,\"#ed7953\"],[0.7777777777777778,\"#fb9f3a\"],[0.8888888888888888,\"#fdca26\"],[1.0,\"#f0f921\"]]}],\"mesh3d\":[{\"type\":\"mesh3d\",\"colorbar\":{\"outlinewidth\":0,\"ticks\":\"\"}}],\"scatter\":[{\"fillpattern\":{\"fillmode\":\"overlay\",\"size\":10,\"solidity\":0.2},\"type\":\"scatter\"}],\"parcoords\":[{\"type\":\"parcoords\",\"line\":{\"colorbar\":{\"outlinewidth\":0,\"ticks\":\"\"}}}],\"scatterpolargl\":[{\"type\":\"scatterpolargl\",\"marker\":{\"colorbar\":{\"outlinewidth\":0,\"ticks\":\"\"}}}],\"bar\":[{\"error_x\":{\"color\":\"#2a3f5f\"},\"error_y\":{\"color\":\"#2a3f5f\"},\"marker\":{\"line\":{\"color\":\"#E5ECF6\",\"width\":0.5},\"pattern\":{\"fillmode\":\"overlay\",\"size\":10,\"solidity\":0.2}},\"type\":\"bar\"}],\"scattergeo\":[{\"type\":\"scattergeo\",\"marker\":{\"colorbar\":{\"outlinewidth\":0,\"ticks\":\"\"}}}],\"scatterpolar\":[{\"type\":\"scatterpolar\",\"marker\":{\"colorbar\":{\"outlinewidth\":0,\"ticks\":\"\"}}}],\"histogram\":[{\"marker\":{\"pattern\":{\"fillmode\":\"overlay\",\"size\":10,\"solidity\":0.2}},\"type\":\"histogram\"}],\"scattergl\":[{\"type\":\"scattergl\",\"marker\":{\"colorbar\":{\"outlinewidth\":0,\"ticks\":\"\"}}}],\"scatter3d\":[{\"type\":\"scatter3d\",\"line\":{\"colorbar\":{\"outlinewidth\":0,\"ticks\":\"\"}},\"marker\":{\"colorbar\":{\"outlinewidth\":0,\"ticks\":\"\"}}}],\"scattermapbox\":[{\"type\":\"scattermapbox\",\"marker\":{\"colorbar\":{\"outlinewidth\":0,\"ticks\":\"\"}}}],\"scatterternary\":[{\"type\":\"scatterternary\",\"marker\":{\"colorbar\":{\"outlinewidth\":0,\"ticks\":\"\"}}}],\"scattercarpet\":[{\"type\":\"scattercarpet\",\"marker\":{\"colorbar\":{\"outlinewidth\":0,\"ticks\":\"\"}}}],\"carpet\":[{\"aaxis\":{\"endlinecolor\":\"#2a3f5f\",\"gridcolor\":\"white\",\"linecolor\":\"white\",\"minorgridcolor\":\"white\",\"startlinecolor\":\"#2a3f5f\"},\"baxis\":{\"endlinecolor\":\"#2a3f5f\",\"gridcolor\":\"white\",\"linecolor\":\"white\",\"minorgridcolor\":\"white\",\"startlinecolor\":\"#2a3f5f\"},\"type\":\"carpet\"}],\"table\":[{\"cells\":{\"fill\":{\"color\":\"#EBF0F8\"},\"line\":{\"color\":\"white\"}},\"header\":{\"fill\":{\"color\":\"#C8D4E3\"},\"line\":{\"color\":\"white\"}},\"type\":\"table\"}],\"barpolar\":[{\"marker\":{\"line\":{\"color\":\"#E5ECF6\",\"width\":0.5},\"pattern\":{\"fillmode\":\"overlay\",\"size\":10,\"solidity\":0.2}},\"type\":\"barpolar\"}],\"pie\":[{\"automargin\":true,\"type\":\"pie\"}]},\"layout\":{\"autotypenumbers\":\"strict\",\"colorway\":[\"#636efa\",\"#EF553B\",\"#00cc96\",\"#ab63fa\",\"#FFA15A\",\"#19d3f3\",\"#FF6692\",\"#B6E880\",\"#FF97FF\",\"#FECB52\"],\"font\":{\"color\":\"#2a3f5f\"},\"hovermode\":\"closest\",\"hoverlabel\":{\"align\":\"left\"},\"paper_bgcolor\":\"white\",\"plot_bgcolor\":\"#E5ECF6\",\"polar\":{\"bgcolor\":\"#E5ECF6\",\"angularaxis\":{\"gridcolor\":\"white\",\"linecolor\":\"white\",\"ticks\":\"\"},\"radialaxis\":{\"gridcolor\":\"white\",\"linecolor\":\"white\",\"ticks\":\"\"}},\"ternary\":{\"bgcolor\":\"#E5ECF6\",\"aaxis\":{\"gridcolor\":\"white\",\"linecolor\":\"white\",\"ticks\":\"\"},\"baxis\":{\"gridcolor\":\"white\",\"linecolor\":\"white\",\"ticks\":\"\"},\"caxis\":{\"gridcolor\":\"white\",\"linecolor\":\"white\",\"ticks\":\"\"}},\"coloraxis\":{\"colorbar\":{\"outlinewidth\":0,\"ticks\":\"\"}},\"colorscale\":{\"sequential\":[[0.0,\"#0d0887\"],[0.1111111111111111,\"#46039f\"],[0.2222222222222222,\"#7201a8\"],[0.3333333333333333,\"#9c179e\"],[0.4444444444444444,\"#bd3786\"],[0.5555555555555556,\"#d8576b\"],[0.6666666666666666,\"#ed7953\"],[0.7777777777777778,\"#fb9f3a\"],[0.8888888888888888,\"#fdca26\"],[1.0,\"#f0f921\"]],\"sequentialminus\":[[0.0,\"#0d0887\"],[0.1111111111111111,\"#46039f\"],[0.2222222222222222,\"#7201a8\"],[0.3333333333333333,\"#9c179e\"],[0.4444444444444444,\"#bd3786\"],[0.5555555555555556,\"#d8576b\"],[0.6666666666666666,\"#ed7953\"],[0.7777777777777778,\"#fb9f3a\"],[0.8888888888888888,\"#fdca26\"],[1.0,\"#f0f921\"]],\"diverging\":[[0,\"#8e0152\"],[0.1,\"#c51b7d\"],[0.2,\"#de77ae\"],[0.3,\"#f1b6da\"],[0.4,\"#fde0ef\"],[0.5,\"#f7f7f7\"],[0.6,\"#e6f5d0\"],[0.7,\"#b8e186\"],[0.8,\"#7fbc41\"],[0.9,\"#4d9221\"],[1,\"#276419\"]]},\"xaxis\":{\"gridcolor\":\"white\",\"linecolor\":\"white\",\"ticks\":\"\",\"title\":{\"standoff\":15},\"zerolinecolor\":\"white\",\"automargin\":true,\"zerolinewidth\":2},\"yaxis\":{\"gridcolor\":\"white\",\"linecolor\":\"white\",\"ticks\":\"\",\"title\":{\"standoff\":15},\"zerolinecolor\":\"white\",\"automargin\":true,\"zerolinewidth\":2},\"scene\":{\"xaxis\":{\"backgroundcolor\":\"#E5ECF6\",\"gridcolor\":\"white\",\"linecolor\":\"white\",\"showbackground\":true,\"ticks\":\"\",\"zerolinecolor\":\"white\",\"gridwidth\":2},\"yaxis\":{\"backgroundcolor\":\"#E5ECF6\",\"gridcolor\":\"white\",\"linecolor\":\"white\",\"showbackground\":true,\"ticks\":\"\",\"zerolinecolor\":\"white\",\"gridwidth\":2},\"zaxis\":{\"backgroundcolor\":\"#E5ECF6\",\"gridcolor\":\"white\",\"linecolor\":\"white\",\"showbackground\":true,\"ticks\":\"\",\"zerolinecolor\":\"white\",\"gridwidth\":2}},\"shapedefaults\":{\"line\":{\"color\":\"#2a3f5f\"}},\"annotationdefaults\":{\"arrowcolor\":\"#2a3f5f\",\"arrowhead\":0,\"arrowwidth\":1},\"geo\":{\"bgcolor\":\"white\",\"landcolor\":\"#E5ECF6\",\"subunitcolor\":\"white\",\"showland\":true,\"showlakes\":true,\"lakecolor\":\"white\"},\"title\":{\"x\":0.05},\"mapbox\":{\"style\":\"light\"}}},\"xaxis\":{\"anchor\":\"y\",\"domain\":[0.0,1.0],\"title\":{\"text\":\"Time\"}},\"yaxis\":{\"anchor\":\"x\",\"domain\":[0.0,1.0],\"title\":{\"text\":\"Average Output\"}},\"legend\":{\"tracegroupgap\":0},\"title\":{\"text\":\"Average Output (MW) by Hour\"},\"barmode\":\"relative\"},                        {\"responsive\": true}                    ).then(function(){\n",
       "                            \n",
       "var gd = document.getElementById('488b1790-96af-4dbb-a417-43291ebe5de9');\n",
       "var x = new MutationObserver(function (mutations, observer) {{\n",
       "        var display = window.getComputedStyle(gd).display;\n",
       "        if (!display || display === 'none') {{\n",
       "            console.log([gd, 'removed!']);\n",
       "            Plotly.purge(gd);\n",
       "            observer.disconnect();\n",
       "        }}\n",
       "}});\n",
       "\n",
       "// Listen for the removal of the full notebook cells\n",
       "var notebookContainer = gd.closest('#notebook-container');\n",
       "if (notebookContainer) {{\n",
       "    x.observe(notebookContainer, {childList: true});\n",
       "}}\n",
       "\n",
       "// Listen for the clearing of the current output cell\n",
       "var outputEl = gd.closest('.output');\n",
       "if (outputEl) {{\n",
       "    x.observe(outputEl, {childList: true});\n",
       "}}\n",
       "\n",
       "                        })                };                });            </script>        </div>"
      ]
     },
     "metadata": {},
     "output_type": "display_data"
    }
   ],
   "source": [
    "energy_output_averaged_by_hour = get_data_averaged_by_hour(other_renewable_energy_output, \"Other Renewables\")\n",
    "show_chart(energy_output_averaged_by_hour, \"Time\", \"Average Output\", \"Average Output (MW) by Hour\")"
   ]
  },
  {
   "cell_type": "markdown",
   "id": "6567f8a1-a2d2-4677-ac43-8aff6b671c1c",
   "metadata": {},
   "source": [
    "## Allocate resources by priority, to windows of time with most energy output\n",
    "\n",
    "We sort the output of energy in descending order, so we can prioritize allocating to windows of time with most energy output\n",
    "\n",
    "**Note**: In this simple implementation we do not consider that the resources could be allocated in parallel\n",
    "\n",
    "We can see that the windows with lowest energy output unallocated to our resources."
   ]
  },
  {
   "cell_type": "code",
   "execution_count": 15,
   "id": "4ca96958-f40d-4727-93e6-0bc2db81b667",
   "metadata": {},
   "outputs": [
    {
     "data": {
      "application/vnd.plotly.v1+json": {
       "config": {
        "plotlyServerURL": "https://plot.ly"
       },
       "data": [
        {
         "alignmentgroup": "True",
         "hovertemplate": "Resource=Battery<br>Time=%{x}<br>Average Output=%{y}<extra></extra>",
         "legendgroup": "Battery",
         "marker": {
          "color": "#636efa",
          "pattern": {
           "shape": ""
          }
         },
         "name": "Battery",
         "offsetgroup": "Battery",
         "orientation": "v",
         "showlegend": true,
         "textposition": "auto",
         "type": "bar",
         "x": [
          "2024-02-26T13:15:00-05:00",
          "2024-02-26T12:15:00-05:00",
          "2024-02-26T14:15:00-05:00"
         ],
         "xaxis": "x",
         "y": [
          406.3333333333333,
          395.5,
          383.75
         ],
         "yaxis": "y"
        },
        {
         "alignmentgroup": "True",
         "hovertemplate": "Resource=Dryer<br>Time=%{x}<br>Average Output=%{y}<extra></extra>",
         "legendgroup": "Dryer",
         "marker": {
          "color": "#EF553B",
          "pattern": {
           "shape": ""
          }
         },
         "name": "Dryer",
         "offsetgroup": "Dryer",
         "orientation": "v",
         "showlegend": true,
         "textposition": "auto",
         "type": "bar",
         "x": [
          "2024-02-26T11:15:00-05:00"
         ],
         "xaxis": "x",
         "y": [
          371.6666666666667
         ],
         "yaxis": "y"
        },
        {
         "alignmentgroup": "True",
         "hovertemplate": "Resource=Dishwasher<br>Time=%{x}<br>Average Output=%{y}<extra></extra>",
         "legendgroup": "Dishwasher",
         "marker": {
          "color": "#00cc96",
          "pattern": {
           "shape": ""
          }
         },
         "name": "Dishwasher",
         "offsetgroup": "Dishwasher",
         "orientation": "v",
         "showlegend": true,
         "textposition": "auto",
         "type": "bar",
         "x": [
          "2024-02-26T10:15:00-05:00",
          "2024-02-26T09:15:00-05:00"
         ],
         "xaxis": "x",
         "y": [
          369.3333333333333,
          362.1666666666667
         ],
         "yaxis": "y"
        },
        {
         "alignmentgroup": "True",
         "hovertemplate": "Resource=Electric Vehicle<br>Time=%{x}<br>Average Output=%{y}<extra></extra>",
         "legendgroup": "Electric Vehicle",
         "marker": {
          "color": "#ab63fa",
          "pattern": {
           "shape": ""
          }
         },
         "name": "Electric Vehicle",
         "offsetgroup": "Electric Vehicle",
         "orientation": "v",
         "showlegend": true,
         "textposition": "auto",
         "type": "bar",
         "x": [
          "2024-02-26T15:15:00-05:00",
          "2024-02-26T08:15:00-05:00",
          "2024-02-26T16:15:00-05:00",
          "2024-02-26T07:15:00-05:00",
          "2024-02-26T17:14:37-05:00"
         ],
         "xaxis": "x",
         "y": [
          348.6666666666667,
          318.9166666666667,
          275.0833333333333,
          256.9166666666667,
          246.08333333333334
         ],
         "yaxis": "y"
        },
        {
         "alignmentgroup": "True",
         "hovertemplate": "Resource=Water Heater<br>Time=%{x}<br>Average Output=%{y}<extra></extra>",
         "legendgroup": "Water Heater",
         "marker": {
          "color": "#FFA15A",
          "pattern": {
           "shape": ""
          }
         },
         "name": "Water Heater",
         "offsetgroup": "Water Heater",
         "orientation": "v",
         "showlegend": true,
         "textposition": "auto",
         "type": "bar",
         "x": [
          "2024-02-26T23:00:00-05:00",
          "2024-02-26T00:05:00-05:00",
          "2024-02-26T06:15:00-05:00"
         ],
         "xaxis": "x",
         "y": [
          245.58333333333334,
          242.6153846153846,
          238.91666666666666
         ],
         "yaxis": "y"
        },
        {
         "alignmentgroup": "True",
         "hovertemplate": "Resource=Unallocated<br>Time=%{x}<br>Average Output=%{y}<extra></extra>",
         "legendgroup": "Unallocated",
         "marker": {
          "color": "#19d3f3",
          "pattern": {
           "shape": ""
          }
         },
         "name": "Unallocated",
         "offsetgroup": "Unallocated",
         "orientation": "v",
         "showlegend": true,
         "textposition": "auto",
         "type": "bar",
         "x": [
          "2024-02-26T03:15:00-05:00",
          "2024-02-26T20:00:00-05:00",
          "2024-02-26T22:00:00-05:00",
          "2024-02-26T21:00:00-05:00",
          "2024-02-26T01:10:00-05:00",
          "2024-02-26T02:15:00-05:00",
          "2024-02-26T05:15:00-05:00",
          "2024-02-26T19:00:00-05:00",
          "2024-02-26T04:15:00-05:00",
          "2024-02-26T18:00:00-05:00"
         ],
         "xaxis": "x",
         "y": [
          234.33333333333334,
          233.41666666666666,
          232.16666666666666,
          231.08333333333334,
          230.92307692307693,
          230.83333333333334,
          229.66666666666666,
          228.75,
          228.16666666666666,
          225
         ],
         "yaxis": "y"
        }
       ],
       "layout": {
        "autosize": true,
        "barmode": "relative",
        "legend": {
         "title": {
          "text": "Resource"
         },
         "tracegroupgap": 0
        },
        "template": {
         "data": {
          "bar": [
           {
            "error_x": {
             "color": "#2a3f5f"
            },
            "error_y": {
             "color": "#2a3f5f"
            },
            "marker": {
             "line": {
              "color": "#E5ECF6",
              "width": 0.5
             },
             "pattern": {
              "fillmode": "overlay",
              "size": 10,
              "solidity": 0.2
             }
            },
            "type": "bar"
           }
          ],
          "barpolar": [
           {
            "marker": {
             "line": {
              "color": "#E5ECF6",
              "width": 0.5
             },
             "pattern": {
              "fillmode": "overlay",
              "size": 10,
              "solidity": 0.2
             }
            },
            "type": "barpolar"
           }
          ],
          "carpet": [
           {
            "aaxis": {
             "endlinecolor": "#2a3f5f",
             "gridcolor": "white",
             "linecolor": "white",
             "minorgridcolor": "white",
             "startlinecolor": "#2a3f5f"
            },
            "baxis": {
             "endlinecolor": "#2a3f5f",
             "gridcolor": "white",
             "linecolor": "white",
             "minorgridcolor": "white",
             "startlinecolor": "#2a3f5f"
            },
            "type": "carpet"
           }
          ],
          "choropleth": [
           {
            "colorbar": {
             "outlinewidth": 0,
             "ticks": ""
            },
            "type": "choropleth"
           }
          ],
          "contour": [
           {
            "colorbar": {
             "outlinewidth": 0,
             "ticks": ""
            },
            "colorscale": [
             [
              0,
              "#0d0887"
             ],
             [
              0.1111111111111111,
              "#46039f"
             ],
             [
              0.2222222222222222,
              "#7201a8"
             ],
             [
              0.3333333333333333,
              "#9c179e"
             ],
             [
              0.4444444444444444,
              "#bd3786"
             ],
             [
              0.5555555555555556,
              "#d8576b"
             ],
             [
              0.6666666666666666,
              "#ed7953"
             ],
             [
              0.7777777777777778,
              "#fb9f3a"
             ],
             [
              0.8888888888888888,
              "#fdca26"
             ],
             [
              1,
              "#f0f921"
             ]
            ],
            "type": "contour"
           }
          ],
          "contourcarpet": [
           {
            "colorbar": {
             "outlinewidth": 0,
             "ticks": ""
            },
            "type": "contourcarpet"
           }
          ],
          "heatmap": [
           {
            "colorbar": {
             "outlinewidth": 0,
             "ticks": ""
            },
            "colorscale": [
             [
              0,
              "#0d0887"
             ],
             [
              0.1111111111111111,
              "#46039f"
             ],
             [
              0.2222222222222222,
              "#7201a8"
             ],
             [
              0.3333333333333333,
              "#9c179e"
             ],
             [
              0.4444444444444444,
              "#bd3786"
             ],
             [
              0.5555555555555556,
              "#d8576b"
             ],
             [
              0.6666666666666666,
              "#ed7953"
             ],
             [
              0.7777777777777778,
              "#fb9f3a"
             ],
             [
              0.8888888888888888,
              "#fdca26"
             ],
             [
              1,
              "#f0f921"
             ]
            ],
            "type": "heatmap"
           }
          ],
          "heatmapgl": [
           {
            "colorbar": {
             "outlinewidth": 0,
             "ticks": ""
            },
            "colorscale": [
             [
              0,
              "#0d0887"
             ],
             [
              0.1111111111111111,
              "#46039f"
             ],
             [
              0.2222222222222222,
              "#7201a8"
             ],
             [
              0.3333333333333333,
              "#9c179e"
             ],
             [
              0.4444444444444444,
              "#bd3786"
             ],
             [
              0.5555555555555556,
              "#d8576b"
             ],
             [
              0.6666666666666666,
              "#ed7953"
             ],
             [
              0.7777777777777778,
              "#fb9f3a"
             ],
             [
              0.8888888888888888,
              "#fdca26"
             ],
             [
              1,
              "#f0f921"
             ]
            ],
            "type": "heatmapgl"
           }
          ],
          "histogram": [
           {
            "marker": {
             "pattern": {
              "fillmode": "overlay",
              "size": 10,
              "solidity": 0.2
             }
            },
            "type": "histogram"
           }
          ],
          "histogram2d": [
           {
            "colorbar": {
             "outlinewidth": 0,
             "ticks": ""
            },
            "colorscale": [
             [
              0,
              "#0d0887"
             ],
             [
              0.1111111111111111,
              "#46039f"
             ],
             [
              0.2222222222222222,
              "#7201a8"
             ],
             [
              0.3333333333333333,
              "#9c179e"
             ],
             [
              0.4444444444444444,
              "#bd3786"
             ],
             [
              0.5555555555555556,
              "#d8576b"
             ],
             [
              0.6666666666666666,
              "#ed7953"
             ],
             [
              0.7777777777777778,
              "#fb9f3a"
             ],
             [
              0.8888888888888888,
              "#fdca26"
             ],
             [
              1,
              "#f0f921"
             ]
            ],
            "type": "histogram2d"
           }
          ],
          "histogram2dcontour": [
           {
            "colorbar": {
             "outlinewidth": 0,
             "ticks": ""
            },
            "colorscale": [
             [
              0,
              "#0d0887"
             ],
             [
              0.1111111111111111,
              "#46039f"
             ],
             [
              0.2222222222222222,
              "#7201a8"
             ],
             [
              0.3333333333333333,
              "#9c179e"
             ],
             [
              0.4444444444444444,
              "#bd3786"
             ],
             [
              0.5555555555555556,
              "#d8576b"
             ],
             [
              0.6666666666666666,
              "#ed7953"
             ],
             [
              0.7777777777777778,
              "#fb9f3a"
             ],
             [
              0.8888888888888888,
              "#fdca26"
             ],
             [
              1,
              "#f0f921"
             ]
            ],
            "type": "histogram2dcontour"
           }
          ],
          "mesh3d": [
           {
            "colorbar": {
             "outlinewidth": 0,
             "ticks": ""
            },
            "type": "mesh3d"
           }
          ],
          "parcoords": [
           {
            "line": {
             "colorbar": {
              "outlinewidth": 0,
              "ticks": ""
             }
            },
            "type": "parcoords"
           }
          ],
          "pie": [
           {
            "automargin": true,
            "type": "pie"
           }
          ],
          "scatter": [
           {
            "fillpattern": {
             "fillmode": "overlay",
             "size": 10,
             "solidity": 0.2
            },
            "type": "scatter"
           }
          ],
          "scatter3d": [
           {
            "line": {
             "colorbar": {
              "outlinewidth": 0,
              "ticks": ""
             }
            },
            "marker": {
             "colorbar": {
              "outlinewidth": 0,
              "ticks": ""
             }
            },
            "type": "scatter3d"
           }
          ],
          "scattercarpet": [
           {
            "marker": {
             "colorbar": {
              "outlinewidth": 0,
              "ticks": ""
             }
            },
            "type": "scattercarpet"
           }
          ],
          "scattergeo": [
           {
            "marker": {
             "colorbar": {
              "outlinewidth": 0,
              "ticks": ""
             }
            },
            "type": "scattergeo"
           }
          ],
          "scattergl": [
           {
            "marker": {
             "colorbar": {
              "outlinewidth": 0,
              "ticks": ""
             }
            },
            "type": "scattergl"
           }
          ],
          "scattermapbox": [
           {
            "marker": {
             "colorbar": {
              "outlinewidth": 0,
              "ticks": ""
             }
            },
            "type": "scattermapbox"
           }
          ],
          "scatterpolar": [
           {
            "marker": {
             "colorbar": {
              "outlinewidth": 0,
              "ticks": ""
             }
            },
            "type": "scatterpolar"
           }
          ],
          "scatterpolargl": [
           {
            "marker": {
             "colorbar": {
              "outlinewidth": 0,
              "ticks": ""
             }
            },
            "type": "scatterpolargl"
           }
          ],
          "scatterternary": [
           {
            "marker": {
             "colorbar": {
              "outlinewidth": 0,
              "ticks": ""
             }
            },
            "type": "scatterternary"
           }
          ],
          "surface": [
           {
            "colorbar": {
             "outlinewidth": 0,
             "ticks": ""
            },
            "colorscale": [
             [
              0,
              "#0d0887"
             ],
             [
              0.1111111111111111,
              "#46039f"
             ],
             [
              0.2222222222222222,
              "#7201a8"
             ],
             [
              0.3333333333333333,
              "#9c179e"
             ],
             [
              0.4444444444444444,
              "#bd3786"
             ],
             [
              0.5555555555555556,
              "#d8576b"
             ],
             [
              0.6666666666666666,
              "#ed7953"
             ],
             [
              0.7777777777777778,
              "#fb9f3a"
             ],
             [
              0.8888888888888888,
              "#fdca26"
             ],
             [
              1,
              "#f0f921"
             ]
            ],
            "type": "surface"
           }
          ],
          "table": [
           {
            "cells": {
             "fill": {
              "color": "#EBF0F8"
             },
             "line": {
              "color": "white"
             }
            },
            "header": {
             "fill": {
              "color": "#C8D4E3"
             },
             "line": {
              "color": "white"
             }
            },
            "type": "table"
           }
          ]
         },
         "layout": {
          "annotationdefaults": {
           "arrowcolor": "#2a3f5f",
           "arrowhead": 0,
           "arrowwidth": 1
          },
          "autotypenumbers": "strict",
          "coloraxis": {
           "colorbar": {
            "outlinewidth": 0,
            "ticks": ""
           }
          },
          "colorscale": {
           "diverging": [
            [
             0,
             "#8e0152"
            ],
            [
             0.1,
             "#c51b7d"
            ],
            [
             0.2,
             "#de77ae"
            ],
            [
             0.3,
             "#f1b6da"
            ],
            [
             0.4,
             "#fde0ef"
            ],
            [
             0.5,
             "#f7f7f7"
            ],
            [
             0.6,
             "#e6f5d0"
            ],
            [
             0.7,
             "#b8e186"
            ],
            [
             0.8,
             "#7fbc41"
            ],
            [
             0.9,
             "#4d9221"
            ],
            [
             1,
             "#276419"
            ]
           ],
           "sequential": [
            [
             0,
             "#0d0887"
            ],
            [
             0.1111111111111111,
             "#46039f"
            ],
            [
             0.2222222222222222,
             "#7201a8"
            ],
            [
             0.3333333333333333,
             "#9c179e"
            ],
            [
             0.4444444444444444,
             "#bd3786"
            ],
            [
             0.5555555555555556,
             "#d8576b"
            ],
            [
             0.6666666666666666,
             "#ed7953"
            ],
            [
             0.7777777777777778,
             "#fb9f3a"
            ],
            [
             0.8888888888888888,
             "#fdca26"
            ],
            [
             1,
             "#f0f921"
            ]
           ],
           "sequentialminus": [
            [
             0,
             "#0d0887"
            ],
            [
             0.1111111111111111,
             "#46039f"
            ],
            [
             0.2222222222222222,
             "#7201a8"
            ],
            [
             0.3333333333333333,
             "#9c179e"
            ],
            [
             0.4444444444444444,
             "#bd3786"
            ],
            [
             0.5555555555555556,
             "#d8576b"
            ],
            [
             0.6666666666666666,
             "#ed7953"
            ],
            [
             0.7777777777777778,
             "#fb9f3a"
            ],
            [
             0.8888888888888888,
             "#fdca26"
            ],
            [
             1,
             "#f0f921"
            ]
           ]
          },
          "colorway": [
           "#636efa",
           "#EF553B",
           "#00cc96",
           "#ab63fa",
           "#FFA15A",
           "#19d3f3",
           "#FF6692",
           "#B6E880",
           "#FF97FF",
           "#FECB52"
          ],
          "font": {
           "color": "#2a3f5f"
          },
          "geo": {
           "bgcolor": "white",
           "lakecolor": "white",
           "landcolor": "#E5ECF6",
           "showlakes": true,
           "showland": true,
           "subunitcolor": "white"
          },
          "hoverlabel": {
           "align": "left"
          },
          "hovermode": "closest",
          "mapbox": {
           "style": "light"
          },
          "paper_bgcolor": "white",
          "plot_bgcolor": "#E5ECF6",
          "polar": {
           "angularaxis": {
            "gridcolor": "white",
            "linecolor": "white",
            "ticks": ""
           },
           "bgcolor": "#E5ECF6",
           "radialaxis": {
            "gridcolor": "white",
            "linecolor": "white",
            "ticks": ""
           }
          },
          "scene": {
           "xaxis": {
            "backgroundcolor": "#E5ECF6",
            "gridcolor": "white",
            "gridwidth": 2,
            "linecolor": "white",
            "showbackground": true,
            "ticks": "",
            "zerolinecolor": "white"
           },
           "yaxis": {
            "backgroundcolor": "#E5ECF6",
            "gridcolor": "white",
            "gridwidth": 2,
            "linecolor": "white",
            "showbackground": true,
            "ticks": "",
            "zerolinecolor": "white"
           },
           "zaxis": {
            "backgroundcolor": "#E5ECF6",
            "gridcolor": "white",
            "gridwidth": 2,
            "linecolor": "white",
            "showbackground": true,
            "ticks": "",
            "zerolinecolor": "white"
           }
          },
          "shapedefaults": {
           "line": {
            "color": "#2a3f5f"
           }
          },
          "ternary": {
           "aaxis": {
            "gridcolor": "white",
            "linecolor": "white",
            "ticks": ""
           },
           "baxis": {
            "gridcolor": "white",
            "linecolor": "white",
            "ticks": ""
           },
           "bgcolor": "#E5ECF6",
           "caxis": {
            "gridcolor": "white",
            "linecolor": "white",
            "ticks": ""
           }
          },
          "title": {
           "x": 0.05
          },
          "xaxis": {
           "automargin": true,
           "gridcolor": "white",
           "linecolor": "white",
           "ticks": "",
           "title": {
            "standoff": 15
           },
           "zerolinecolor": "white",
           "zerolinewidth": 2
          },
          "yaxis": {
           "automargin": true,
           "gridcolor": "white",
           "linecolor": "white",
           "ticks": "",
           "title": {
            "standoff": 15
           },
           "zerolinecolor": "white",
           "zerolinewidth": 2
          }
         }
        },
        "title": {
         "text": "Average Output by Hour (MW)"
        },
        "xaxis": {
         "anchor": "y",
         "autorange": true,
         "domain": [
          0,
          1
         ],
         "range": [
          "2024-02-25 23:42:18.5",
          "2024-02-26 23:22:41.5"
         ],
         "title": {
          "text": "Time"
         },
         "type": "date"
        },
        "yaxis": {
         "anchor": "x",
         "autorange": true,
         "domain": [
          0,
          1
         ],
         "range": [
          0,
          427.719298245614
         ],
         "title": {
          "text": "Average Output"
         },
         "type": "linear"
        }
       }
      },
      "image/png": "[encoded data removed]",
      "text/html": [
       "<div>                            <div id=\"4f6c2fcb-6fbb-4395-8521-eeee2b6a3fe4\" class=\"plotly-graph-div\" style=\"height:525px; width:100%;\"></div>            <script type=\"text/javascript\">                require([\"plotly\"], function(Plotly) {                    window.PLOTLYENV=window.PLOTLYENV || {};                                    if (document.getElementById(\"4f6c2fcb-6fbb-4395-8521-eeee2b6a3fe4\")) {                    Plotly.newPlot(                        \"4f6c2fcb-6fbb-4395-8521-eeee2b6a3fe4\",                        [{\"alignmentgroup\":\"True\",\"hovertemplate\":\"Resource=Battery\\u003cbr\\u003eTime=%{x}\\u003cbr\\u003eAverage Output=%{y}\\u003cextra\\u003e\\u003c\\u002fextra\\u003e\",\"legendgroup\":\"Battery\",\"marker\":{\"color\":\"#636efa\",\"pattern\":{\"shape\":\"\"}},\"name\":\"Battery\",\"offsetgroup\":\"Battery\",\"orientation\":\"v\",\"showlegend\":true,\"textposition\":\"auto\",\"x\":[\"2024-02-26T13:15:00-05:00\",\"2024-02-26T12:15:00-05:00\",\"2024-02-26T14:15:00-05:00\"],\"xaxis\":\"x\",\"y\":[406.3333333333333,395.5,383.75],\"yaxis\":\"y\",\"type\":\"bar\"},{\"alignmentgroup\":\"True\",\"hovertemplate\":\"Resource=Dryer\\u003cbr\\u003eTime=%{x}\\u003cbr\\u003eAverage Output=%{y}\\u003cextra\\u003e\\u003c\\u002fextra\\u003e\",\"legendgroup\":\"Dryer\",\"marker\":{\"color\":\"#EF553B\",\"pattern\":{\"shape\":\"\"}},\"name\":\"Dryer\",\"offsetgroup\":\"Dryer\",\"orientation\":\"v\",\"showlegend\":true,\"textposition\":\"auto\",\"x\":[\"2024-02-26T11:15:00-05:00\"],\"xaxis\":\"x\",\"y\":[371.6666666666667],\"yaxis\":\"y\",\"type\":\"bar\"},{\"alignmentgroup\":\"True\",\"hovertemplate\":\"Resource=Dishwasher\\u003cbr\\u003eTime=%{x}\\u003cbr\\u003eAverage Output=%{y}\\u003cextra\\u003e\\u003c\\u002fextra\\u003e\",\"legendgroup\":\"Dishwasher\",\"marker\":{\"color\":\"#00cc96\",\"pattern\":{\"shape\":\"\"}},\"name\":\"Dishwasher\",\"offsetgroup\":\"Dishwasher\",\"orientation\":\"v\",\"showlegend\":true,\"textposition\":\"auto\",\"x\":[\"2024-02-26T10:15:00-05:00\",\"2024-02-26T09:15:00-05:00\"],\"xaxis\":\"x\",\"y\":[369.3333333333333,362.1666666666667],\"yaxis\":\"y\",\"type\":\"bar\"},{\"alignmentgroup\":\"True\",\"hovertemplate\":\"Resource=Electric Vehicle\\u003cbr\\u003eTime=%{x}\\u003cbr\\u003eAverage Output=%{y}\\u003cextra\\u003e\\u003c\\u002fextra\\u003e\",\"legendgroup\":\"Electric Vehicle\",\"marker\":{\"color\":\"#ab63fa\",\"pattern\":{\"shape\":\"\"}},\"name\":\"Electric Vehicle\",\"offsetgroup\":\"Electric Vehicle\",\"orientation\":\"v\",\"showlegend\":true,\"textposition\":\"auto\",\"x\":[\"2024-02-26T15:15:00-05:00\",\"2024-02-26T08:15:00-05:00\",\"2024-02-26T16:15:00-05:00\",\"2024-02-26T07:15:00-05:00\",\"2024-02-26T17:14:37-05:00\"],\"xaxis\":\"x\",\"y\":[348.6666666666667,318.9166666666667,275.0833333333333,256.9166666666667,246.08333333333334],\"yaxis\":\"y\",\"type\":\"bar\"},{\"alignmentgroup\":\"True\",\"hovertemplate\":\"Resource=Water Heater\\u003cbr\\u003eTime=%{x}\\u003cbr\\u003eAverage Output=%{y}\\u003cextra\\u003e\\u003c\\u002fextra\\u003e\",\"legendgroup\":\"Water Heater\",\"marker\":{\"color\":\"#FFA15A\",\"pattern\":{\"shape\":\"\"}},\"name\":\"Water Heater\",\"offsetgroup\":\"Water Heater\",\"orientation\":\"v\",\"showlegend\":true,\"textposition\":\"auto\",\"x\":[\"2024-02-26T23:00:00-05:00\",\"2024-02-26T00:05:00-05:00\",\"2024-02-26T06:15:00-05:00\"],\"xaxis\":\"x\",\"y\":[245.58333333333334,242.6153846153846,238.91666666666666],\"yaxis\":\"y\",\"type\":\"bar\"},{\"alignmentgroup\":\"True\",\"hovertemplate\":\"Resource=Unallocated\\u003cbr\\u003eTime=%{x}\\u003cbr\\u003eAverage Output=%{y}\\u003cextra\\u003e\\u003c\\u002fextra\\u003e\",\"legendgroup\":\"Unallocated\",\"marker\":{\"color\":\"#19d3f3\",\"pattern\":{\"shape\":\"\"}},\"name\":\"Unallocated\",\"offsetgroup\":\"Unallocated\",\"orientation\":\"v\",\"showlegend\":true,\"textposition\":\"auto\",\"x\":[\"2024-02-26T03:15:00-05:00\",\"2024-02-26T20:00:00-05:00\",\"2024-02-26T22:00:00-05:00\",\"2024-02-26T21:00:00-05:00\",\"2024-02-26T01:10:00-05:00\",\"2024-02-26T02:15:00-05:00\",\"2024-02-26T05:15:00-05:00\",\"2024-02-26T19:00:00-05:00\",\"2024-02-26T04:15:00-05:00\",\"2024-02-26T18:00:00-05:00\"],\"xaxis\":\"x\",\"y\":[234.33333333333334,233.41666666666666,232.16666666666666,231.08333333333334,230.92307692307693,230.83333333333334,229.66666666666666,228.75,228.16666666666666,225.0],\"yaxis\":\"y\",\"type\":\"bar\"}],                        {\"template\":{\"data\":{\"histogram2dcontour\":[{\"type\":\"histogram2dcontour\",\"colorbar\":{\"outlinewidth\":0,\"ticks\":\"\"},\"colorscale\":[[0.0,\"#0d0887\"],[0.1111111111111111,\"#46039f\"],[0.2222222222222222,\"#7201a8\"],[0.3333333333333333,\"#9c179e\"],[0.4444444444444444,\"#bd3786\"],[0.5555555555555556,\"#d8576b\"],[0.6666666666666666,\"#ed7953\"],[0.7777777777777778,\"#fb9f3a\"],[0.8888888888888888,\"#fdca26\"],[1.0,\"#f0f921\"]]}],\"choropleth\":[{\"type\":\"choropleth\",\"colorbar\":{\"outlinewidth\":0,\"ticks\":\"\"}}],\"histogram2d\":[{\"type\":\"histogram2d\",\"colorbar\":{\"outlinewidth\":0,\"ticks\":\"\"},\"colorscale\":[[0.0,\"#0d0887\"],[0.1111111111111111,\"#46039f\"],[0.2222222222222222,\"#7201a8\"],[0.3333333333333333,\"#9c179e\"],[0.4444444444444444,\"#bd3786\"],[0.5555555555555556,\"#d8576b\"],[0.6666666666666666,\"#ed7953\"],[0.7777777777777778,\"#fb9f3a\"],[0.8888888888888888,\"#fdca26\"],[1.0,\"#f0f921\"]]}],\"heatmap\":[{\"type\":\"heatmap\",\"colorbar\":{\"outlinewidth\":0,\"ticks\":\"\"},\"colorscale\":[[0.0,\"#0d0887\"],[0.1111111111111111,\"#46039f\"],[0.2222222222222222,\"#7201a8\"],[0.3333333333333333,\"#9c179e\"],[0.4444444444444444,\"#bd3786\"],[0.5555555555555556,\"#d8576b\"],[0.6666666666666666,\"#ed7953\"],[0.7777777777777778,\"#fb9f3a\"],[0.8888888888888888,\"#fdca26\"],[1.0,\"#f0f921\"]]}],\"heatmapgl\":[{\"type\":\"heatmapgl\",\"colorbar\":{\"outlinewidth\":0,\"ticks\":\"\"},\"colorscale\":[[0.0,\"#0d0887\"],[0.1111111111111111,\"#46039f\"],[0.2222222222222222,\"#7201a8\"],[0.3333333333333333,\"#9c179e\"],[0.4444444444444444,\"#bd3786\"],[0.5555555555555556,\"#d8576b\"],[0.6666666666666666,\"#ed7953\"],[0.7777777777777778,\"#fb9f3a\"],[0.8888888888888888,\"#fdca26\"],[1.0,\"#f0f921\"]]}],\"contourcarpet\":[{\"type\":\"contourcarpet\",\"colorbar\":{\"outlinewidth\":0,\"ticks\":\"\"}}],\"contour\":[{\"type\":\"contour\",\"colorbar\":{\"outlinewidth\":0,\"ticks\":\"\"},\"colorscale\":[[0.0,\"#0d0887\"],[0.1111111111111111,\"#46039f\"],[0.2222222222222222,\"#7201a8\"],[0.3333333333333333,\"#9c179e\"],[0.4444444444444444,\"#bd3786\"],[0.5555555555555556,\"#d8576b\"],[0.6666666666666666,\"#ed7953\"],[0.7777777777777778,\"#fb9f3a\"],[0.8888888888888888,\"#fdca26\"],[1.0,\"#f0f921\"]]}],\"surface\":[{\"type\":\"surface\",\"colorbar\":{\"outlinewidth\":0,\"ticks\":\"\"},\"colorscale\":[[0.0,\"#0d0887\"],[0.1111111111111111,\"#46039f\"],[0.2222222222222222,\"#7201a8\"],[0.3333333333333333,\"#9c179e\"],[0.4444444444444444,\"#bd3786\"],[0.5555555555555556,\"#d8576b\"],[0.6666666666666666,\"#ed7953\"],[0.7777777777777778,\"#fb9f3a\"],[0.8888888888888888,\"#fdca26\"],[1.0,\"#f0f921\"]]}],\"mesh3d\":[{\"type\":\"mesh3d\",\"colorbar\":{\"outlinewidth\":0,\"ticks\":\"\"}}],\"scatter\":[{\"fillpattern\":{\"fillmode\":\"overlay\",\"size\":10,\"solidity\":0.2},\"type\":\"scatter\"}],\"parcoords\":[{\"type\":\"parcoords\",\"line\":{\"colorbar\":{\"outlinewidth\":0,\"ticks\":\"\"}}}],\"scatterpolargl\":[{\"type\":\"scatterpolargl\",\"marker\":{\"colorbar\":{\"outlinewidth\":0,\"ticks\":\"\"}}}],\"bar\":[{\"error_x\":{\"color\":\"#2a3f5f\"},\"error_y\":{\"color\":\"#2a3f5f\"},\"marker\":{\"line\":{\"color\":\"#E5ECF6\",\"width\":0.5},\"pattern\":{\"fillmode\":\"overlay\",\"size\":10,\"solidity\":0.2}},\"type\":\"bar\"}],\"scattergeo\":[{\"type\":\"scattergeo\",\"marker\":{\"colorbar\":{\"outlinewidth\":0,\"ticks\":\"\"}}}],\"scatterpolar\":[{\"type\":\"scatterpolar\",\"marker\":{\"colorbar\":{\"outlinewidth\":0,\"ticks\":\"\"}}}],\"histogram\":[{\"marker\":{\"pattern\":{\"fillmode\":\"overlay\",\"size\":10,\"solidity\":0.2}},\"type\":\"histogram\"}],\"scattergl\":[{\"type\":\"scattergl\",\"marker\":{\"colorbar\":{\"outlinewidth\":0,\"ticks\":\"\"}}}],\"scatter3d\":[{\"type\":\"scatter3d\",\"line\":{\"colorbar\":{\"outlinewidth\":0,\"ticks\":\"\"}},\"marker\":{\"colorbar\":{\"outlinewidth\":0,\"ticks\":\"\"}}}],\"scattermapbox\":[{\"type\":\"scattermapbox\",\"marker\":{\"colorbar\":{\"outlinewidth\":0,\"ticks\":\"\"}}}],\"scatterternary\":[{\"type\":\"scatterternary\",\"marker\":{\"colorbar\":{\"outlinewidth\":0,\"ticks\":\"\"}}}],\"scattercarpet\":[{\"type\":\"scattercarpet\",\"marker\":{\"colorbar\":{\"outlinewidth\":0,\"ticks\":\"\"}}}],\"carpet\":[{\"aaxis\":{\"endlinecolor\":\"#2a3f5f\",\"gridcolor\":\"white\",\"linecolor\":\"white\",\"minorgridcolor\":\"white\",\"startlinecolor\":\"#2a3f5f\"},\"baxis\":{\"endlinecolor\":\"#2a3f5f\",\"gridcolor\":\"white\",\"linecolor\":\"white\",\"minorgridcolor\":\"white\",\"startlinecolor\":\"#2a3f5f\"},\"type\":\"carpet\"}],\"table\":[{\"cells\":{\"fill\":{\"color\":\"#EBF0F8\"},\"line\":{\"color\":\"white\"}},\"header\":{\"fill\":{\"color\":\"#C8D4E3\"},\"line\":{\"color\":\"white\"}},\"type\":\"table\"}],\"barpolar\":[{\"marker\":{\"line\":{\"color\":\"#E5ECF6\",\"width\":0.5},\"pattern\":{\"fillmode\":\"overlay\",\"size\":10,\"solidity\":0.2}},\"type\":\"barpolar\"}],\"pie\":[{\"automargin\":true,\"type\":\"pie\"}]},\"layout\":{\"autotypenumbers\":\"strict\",\"colorway\":[\"#636efa\",\"#EF553B\",\"#00cc96\",\"#ab63fa\",\"#FFA15A\",\"#19d3f3\",\"#FF6692\",\"#B6E880\",\"#FF97FF\",\"#FECB52\"],\"font\":{\"color\":\"#2a3f5f\"},\"hovermode\":\"closest\",\"hoverlabel\":{\"align\":\"left\"},\"paper_bgcolor\":\"white\",\"plot_bgcolor\":\"#E5ECF6\",\"polar\":{\"bgcolor\":\"#E5ECF6\",\"angularaxis\":{\"gridcolor\":\"white\",\"linecolor\":\"white\",\"ticks\":\"\"},\"radialaxis\":{\"gridcolor\":\"white\",\"linecolor\":\"white\",\"ticks\":\"\"}},\"ternary\":{\"bgcolor\":\"#E5ECF6\",\"aaxis\":{\"gridcolor\":\"white\",\"linecolor\":\"white\",\"ticks\":\"\"},\"baxis\":{\"gridcolor\":\"white\",\"linecolor\":\"white\",\"ticks\":\"\"},\"caxis\":{\"gridcolor\":\"white\",\"linecolor\":\"white\",\"ticks\":\"\"}},\"coloraxis\":{\"colorbar\":{\"outlinewidth\":0,\"ticks\":\"\"}},\"colorscale\":{\"sequential\":[[0.0,\"#0d0887\"],[0.1111111111111111,\"#46039f\"],[0.2222222222222222,\"#7201a8\"],[0.3333333333333333,\"#9c179e\"],[0.4444444444444444,\"#bd3786\"],[0.5555555555555556,\"#d8576b\"],[0.6666666666666666,\"#ed7953\"],[0.7777777777777778,\"#fb9f3a\"],[0.8888888888888888,\"#fdca26\"],[1.0,\"#f0f921\"]],\"sequentialminus\":[[0.0,\"#0d0887\"],[0.1111111111111111,\"#46039f\"],[0.2222222222222222,\"#7201a8\"],[0.3333333333333333,\"#9c179e\"],[0.4444444444444444,\"#bd3786\"],[0.5555555555555556,\"#d8576b\"],[0.6666666666666666,\"#ed7953\"],[0.7777777777777778,\"#fb9f3a\"],[0.8888888888888888,\"#fdca26\"],[1.0,\"#f0f921\"]],\"diverging\":[[0,\"#8e0152\"],[0.1,\"#c51b7d\"],[0.2,\"#de77ae\"],[0.3,\"#f1b6da\"],[0.4,\"#fde0ef\"],[0.5,\"#f7f7f7\"],[0.6,\"#e6f5d0\"],[0.7,\"#b8e186\"],[0.8,\"#7fbc41\"],[0.9,\"#4d9221\"],[1,\"#276419\"]]},\"xaxis\":{\"gridcolor\":\"white\",\"linecolor\":\"white\",\"ticks\":\"\",\"title\":{\"standoff\":15},\"zerolinecolor\":\"white\",\"automargin\":true,\"zerolinewidth\":2},\"yaxis\":{\"gridcolor\":\"white\",\"linecolor\":\"white\",\"ticks\":\"\",\"title\":{\"standoff\":15},\"zerolinecolor\":\"white\",\"automargin\":true,\"zerolinewidth\":2},\"scene\":{\"xaxis\":{\"backgroundcolor\":\"#E5ECF6\",\"gridcolor\":\"white\",\"linecolor\":\"white\",\"showbackground\":true,\"ticks\":\"\",\"zerolinecolor\":\"white\",\"gridwidth\":2},\"yaxis\":{\"backgroundcolor\":\"#E5ECF6\",\"gridcolor\":\"white\",\"linecolor\":\"white\",\"showbackground\":true,\"ticks\":\"\",\"zerolinecolor\":\"white\",\"gridwidth\":2},\"zaxis\":{\"backgroundcolor\":\"#E5ECF6\",\"gridcolor\":\"white\",\"linecolor\":\"white\",\"showbackground\":true,\"ticks\":\"\",\"zerolinecolor\":\"white\",\"gridwidth\":2}},\"shapedefaults\":{\"line\":{\"color\":\"#2a3f5f\"}},\"annotationdefaults\":{\"arrowcolor\":\"#2a3f5f\",\"arrowhead\":0,\"arrowwidth\":1},\"geo\":{\"bgcolor\":\"white\",\"landcolor\":\"#E5ECF6\",\"subunitcolor\":\"white\",\"showland\":true,\"showlakes\":true,\"lakecolor\":\"white\"},\"title\":{\"x\":0.05},\"mapbox\":{\"style\":\"light\"}}},\"xaxis\":{\"anchor\":\"y\",\"domain\":[0.0,1.0],\"title\":{\"text\":\"Time\"}},\"yaxis\":{\"anchor\":\"x\",\"domain\":[0.0,1.0],\"title\":{\"text\":\"Average Output\"}},\"legend\":{\"title\":{\"text\":\"Resource\"},\"tracegroupgap\":0},\"title\":{\"text\":\"Average Output by Hour (MW)\"},\"barmode\":\"relative\"},                        {\"responsive\": true}                    ).then(function(){\n",
       "                            \n",
       "var gd = document.getElementById('4f6c2fcb-6fbb-4395-8521-eeee2b6a3fe4');\n",
       "var x = new MutationObserver(function (mutations, observer) {{\n",
       "        var display = window.getComputedStyle(gd).display;\n",
       "        if (!display || display === 'none') {{\n",
       "            console.log([gd, 'removed!']);\n",
       "            Plotly.purge(gd);\n",
       "            observer.disconnect();\n",
       "        }}\n",
       "}});\n",
       "\n",
       "// Listen for the removal of the full notebook cells\n",
       "var notebookContainer = gd.closest('#notebook-container');\n",
       "if (notebookContainer) {{\n",
       "    x.observe(notebookContainer, {childList: true});\n",
       "}}\n",
       "\n",
       "// Listen for the clearing of the current output cell\n",
       "var outputEl = gd.closest('.output');\n",
       "if (outputEl) {{\n",
       "    x.observe(outputEl, {childList: true});\n",
       "}}\n",
       "\n",
       "                        })                };                });            </script>        </div>"
      ]
     },
     "metadata": {},
     "output_type": "display_data"
    }
   ],
   "source": [
    "def allocate_resources_by_energy_output(resources, energy_output_averaged_by_hour):\n",
    "    energy_output_averaged_by_hour_sorted = sorted(energy_output_averaged_by_hour, key=itemgetter(1), reverse=True)\n",
    "    return allocate_resources(resources, energy_output_averaged_by_hour_sorted)\n",
    "\n",
    "renewable_data_with_resources_allocated = allocate_resources_by_energy_output(resources, energy_output_averaged_by_hour)\n",
    "show_chart_with_color(renewable_data_with_resources_allocated, \"Resource\", \"Time\", \"Average Output\", \"Average Output by Hour (MW)\")"
   ]
  },
  {
   "cell_type": "markdown",
   "id": "94047437-6334-4ca8-942b-181912c12404",
   "metadata": {},
   "source": [
    "## Limitations / Questions\n",
    "* That loads can in practice be scheduled in parallel is not taken into account\n",
    "* The amount of energy that given load may need is not taken into account\n",
    "* allocating loads can be done by price or by energy output, can it be assumed that price will always be low when energy output is highest?\n",
    "* How does energy allocation look on the day itself when values are not yet known? We can use a mix of current data and prediction based on historical data?"
   ]
  },
  {
   "cell_type": "markdown",
   "id": "72368426-6b49-462e-a15c-948e6f44cc9c",
   "metadata": {},
   "source": [
    "### References: \n",
    "1. https://medium.com/@si.a.arkin/my-experiences-of-pulling-historical-energy-price-data-via-gridstatus-2cf96e7a7505\n",
    "2. https://github.com/kmax12/gridstatus\n",
    "3. https://www.nyiso.com/real-time-dashboard"
   ]
  }
 ],
 "metadata": {
  "kernelspec": {
   "display_name": "Python 3 (ipykernel)",
   "language": "python",
   "name": "python3"
  },
  "language_info": {
   "codemirror_mode": {
    "name": "ipython",
    "version": 3
   },
   "file_extension": ".py",
   "mimetype": "text/x-python",
   "name": "python",
   "nbconvert_exporter": "python",
   "pygments_lexer": "ipython3",
   "version": "3.11.8"
  }
 },
 "nbformat": 4,
 "nbformat_minor": 5
}
