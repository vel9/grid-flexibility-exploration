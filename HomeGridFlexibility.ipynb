{
 "cells": [
  {
   "cell_type": "markdown",
   "id": "e9811d5c-37fe-4872-934f-1df3b09452b3",
   "metadata": {},
   "source": [
    "# Exploring Grid Flexibility\n",
    "\n",
    "This data exploration is inspired by Saul Griffith's Electrify: \"Electrifying the whole household roughly triples the amount of electricity it requires...While this might initially seem like a problem, adding thermal loads and connecting electric vehicles to the house provides greater opportunity for these machines to take turns sucking up some sunshine.\" (p.88)\n",
    "\n",
    "As an engineer learning about the energy space, the goal of this project is to faciliate conversations with folks who are dealing with these problems in their day-to-day work, and to start digging into some of the freely available data and simple algorithms we can apply to them.\n",
    "\n",
    "The final \"allocated resources\" chart is inspired by Griffith's flexible load profile chart on page 89. I attempt to get close to it algorithmically, by following these steps:\n",
    "\n",
    "1. Obtain and chart price data for a given day in New York's Genese region\n",
    "2. Average out the price in one-hour \"chunks\" - as the data is orginally in 5 minute intervals\n",
    "3. Create a list of energy resources with corresponding number of hours energy it needs\n",
    "4. Write a simple algorithm that selects the lowest-cost chunks of time for each resource taking its priority into account\n",
    "5. Chart the \"allocated resource\" results - expectation is that the higher cost hour-chunks remain unallocated"
   ]
  },
  {
   "cell_type": "code",
   "execution_count": 105,
   "id": "09789276-fb6f-4c68-b999-2a29a8b9457c",
   "metadata": {},
   "outputs": [
    {
     "data": {
      "application/vnd.plotly.v1+json": {
       "config": {
        "plotlyServerURL": "https://plot.ly"
       },
       "data": [
        {
         "hovertemplate": "Time=%{x}<br>LMP=%{y}<extra></extra>",
         "legendgroup": "",
         "line": {
          "color": "#636efa",
          "dash": "solid"
         },
         "marker": {
          "symbol": "circle"
         },
         "mode": "lines",
         "name": "",
         "orientation": "v",
         "showlegend": false,
         "type": "scatter",
         "x": [
          "2024-02-26T00:00:00-05:00",
          "2024-02-26T00:05:00-05:00",
          "2024-02-26T00:10:00-05:00",
          "2024-02-26T00:15:00-05:00",
          "2024-02-26T00:20:00-05:00",
          "2024-02-26T00:25:00-05:00",
          "2024-02-26T00:30:00-05:00",
          "2024-02-26T00:35:00-05:00",
          "2024-02-26T00:40:00-05:00",
          "2024-02-26T00:45:00-05:00",
          "2024-02-26T00:50:00-05:00",
          "2024-02-26T00:55:00-05:00",
          "2024-02-26T01:00:00-05:00",
          "2024-02-26T01:05:00-05:00",
          "2024-02-26T01:10:00-05:00",
          "2024-02-26T01:15:00-05:00",
          "2024-02-26T01:20:00-05:00",
          "2024-02-26T01:25:00-05:00",
          "2024-02-26T01:30:00-05:00",
          "2024-02-26T01:35:00-05:00",
          "2024-02-26T01:40:00-05:00",
          "2024-02-26T01:45:00-05:00",
          "2024-02-26T01:50:00-05:00",
          "2024-02-26T01:55:00-05:00",
          "2024-02-26T02:00:00-05:00",
          "2024-02-26T02:05:00-05:00",
          "2024-02-26T02:10:00-05:00",
          "2024-02-26T02:15:00-05:00",
          "2024-02-26T02:20:00-05:00",
          "2024-02-26T02:25:00-05:00",
          "2024-02-26T02:30:00-05:00",
          "2024-02-26T02:35:00-05:00",
          "2024-02-26T02:40:00-05:00",
          "2024-02-26T02:45:00-05:00",
          "2024-02-26T02:50:00-05:00",
          "2024-02-26T02:55:00-05:00",
          "2024-02-26T03:00:00-05:00",
          "2024-02-26T03:05:00-05:00",
          "2024-02-26T03:10:00-05:00",
          "2024-02-26T03:15:00-05:00",
          "2024-02-26T03:20:00-05:00",
          "2024-02-26T03:25:00-05:00",
          "2024-02-26T03:30:00-05:00",
          "2024-02-26T03:35:00-05:00",
          "2024-02-26T03:40:00-05:00",
          "2024-02-26T03:45:00-05:00",
          "2024-02-26T03:50:00-05:00",
          "2024-02-26T03:55:00-05:00",
          "2024-02-26T04:00:00-05:00",
          "2024-02-26T04:05:00-05:00",
          "2024-02-26T04:10:00-05:00",
          "2024-02-26T04:15:00-05:00",
          "2024-02-26T04:20:00-05:00",
          "2024-02-26T04:25:00-05:00",
          "2024-02-26T04:30:00-05:00",
          "2024-02-26T04:35:00-05:00",
          "2024-02-26T04:40:00-05:00",
          "2024-02-26T04:45:00-05:00",
          "2024-02-26T04:50:00-05:00",
          "2024-02-26T04:55:00-05:00",
          "2024-02-26T05:00:00-05:00",
          "2024-02-26T05:05:00-05:00",
          "2024-02-26T05:10:00-05:00",
          "2024-02-26T05:15:00-05:00",
          "2024-02-26T05:20:00-05:00",
          "2024-02-26T05:25:00-05:00",
          "2024-02-26T05:30:00-05:00",
          "2024-02-26T05:35:00-05:00",
          "2024-02-26T05:40:00-05:00",
          "2024-02-26T05:45:00-05:00",
          "2024-02-26T05:50:00-05:00",
          "2024-02-26T05:55:00-05:00",
          "2024-02-26T06:00:00-05:00",
          "2024-02-26T06:05:00-05:00",
          "2024-02-26T06:10:00-05:00",
          "2024-02-26T06:15:00-05:00",
          "2024-02-26T06:20:00-05:00",
          "2024-02-26T06:25:00-05:00",
          "2024-02-26T06:30:00-05:00",
          "2024-02-26T06:35:00-05:00",
          "2024-02-26T06:40:00-05:00",
          "2024-02-26T06:45:00-05:00",
          "2024-02-26T06:50:00-05:00",
          "2024-02-26T06:55:00-05:00",
          "2024-02-26T07:00:00-05:00",
          "2024-02-26T07:05:00-05:00",
          "2024-02-26T07:10:00-05:00",
          "2024-02-26T07:15:00-05:00",
          "2024-02-26T07:20:00-05:00",
          "2024-02-26T07:25:00-05:00",
          "2024-02-26T07:30:00-05:00",
          "2024-02-26T07:35:00-05:00",
          "2024-02-26T07:40:00-05:00",
          "2024-02-26T07:45:00-05:00",
          "2024-02-26T07:50:00-05:00",
          "2024-02-26T07:55:00-05:00",
          "2024-02-26T08:00:00-05:00",
          "2024-02-26T08:05:00-05:00",
          "2024-02-26T08:10:00-05:00",
          "2024-02-26T08:15:00-05:00",
          "2024-02-26T08:20:00-05:00",
          "2024-02-26T08:25:00-05:00",
          "2024-02-26T08:30:00-05:00",
          "2024-02-26T08:35:00-05:00",
          "2024-02-26T08:40:00-05:00",
          "2024-02-26T08:45:00-05:00",
          "2024-02-26T08:50:00-05:00",
          "2024-02-26T08:55:00-05:00",
          "2024-02-26T09:00:00-05:00",
          "2024-02-26T09:05:00-05:00",
          "2024-02-26T09:10:00-05:00",
          "2024-02-26T09:15:00-05:00",
          "2024-02-26T09:20:00-05:00",
          "2024-02-26T09:25:00-05:00",
          "2024-02-26T09:30:00-05:00",
          "2024-02-26T09:35:00-05:00",
          "2024-02-26T09:40:00-05:00",
          "2024-02-26T09:45:00-05:00",
          "2024-02-26T09:50:00-05:00",
          "2024-02-26T09:55:00-05:00",
          "2024-02-26T10:00:00-05:00",
          "2024-02-26T10:05:00-05:00",
          "2024-02-26T10:10:00-05:00",
          "2024-02-26T10:15:00-05:00",
          "2024-02-26T10:20:00-05:00",
          "2024-02-26T10:25:00-05:00",
          "2024-02-26T10:30:00-05:00",
          "2024-02-26T10:35:00-05:00",
          "2024-02-26T10:40:00-05:00",
          "2024-02-26T10:45:00-05:00",
          "2024-02-26T10:50:00-05:00",
          "2024-02-26T10:55:00-05:00",
          "2024-02-26T11:00:00-05:00",
          "2024-02-26T11:05:00-05:00",
          "2024-02-26T11:10:00-05:00",
          "2024-02-26T11:15:00-05:00",
          "2024-02-26T11:20:00-05:00",
          "2024-02-26T11:25:00-05:00",
          "2024-02-26T11:30:00-05:00",
          "2024-02-26T11:35:00-05:00",
          "2024-02-26T11:40:00-05:00",
          "2024-02-26T11:45:00-05:00",
          "2024-02-26T11:50:00-05:00",
          "2024-02-26T11:55:00-05:00",
          "2024-02-26T12:00:00-05:00",
          "2024-02-26T12:05:00-05:00",
          "2024-02-26T12:10:00-05:00",
          "2024-02-26T12:15:00-05:00",
          "2024-02-26T12:20:00-05:00",
          "2024-02-26T12:25:00-05:00",
          "2024-02-26T12:30:00-05:00",
          "2024-02-26T12:35:00-05:00",
          "2024-02-26T12:40:00-05:00",
          "2024-02-26T12:45:00-05:00",
          "2024-02-26T12:50:00-05:00",
          "2024-02-26T12:55:00-05:00",
          "2024-02-26T13:00:00-05:00",
          "2024-02-26T13:05:00-05:00",
          "2024-02-26T13:10:00-05:00",
          "2024-02-26T13:15:00-05:00",
          "2024-02-26T13:20:00-05:00",
          "2024-02-26T13:25:00-05:00",
          "2024-02-26T13:30:00-05:00",
          "2024-02-26T13:35:00-05:00",
          "2024-02-26T13:40:00-05:00",
          "2024-02-26T13:45:00-05:00",
          "2024-02-26T13:50:00-05:00",
          "2024-02-26T13:55:00-05:00",
          "2024-02-26T14:00:00-05:00",
          "2024-02-26T14:05:00-05:00",
          "2024-02-26T14:10:00-05:00",
          "2024-02-26T14:15:00-05:00",
          "2024-02-26T14:20:00-05:00",
          "2024-02-26T14:25:00-05:00",
          "2024-02-26T14:30:00-05:00",
          "2024-02-26T14:35:00-05:00",
          "2024-02-26T14:40:00-05:00",
          "2024-02-26T14:45:00-05:00",
          "2024-02-26T14:50:00-05:00",
          "2024-02-26T14:55:00-05:00",
          "2024-02-26T15:00:00-05:00",
          "2024-02-26T15:05:00-05:00",
          "2024-02-26T15:10:00-05:00",
          "2024-02-26T15:15:00-05:00",
          "2024-02-26T15:20:00-05:00",
          "2024-02-26T15:25:00-05:00",
          "2024-02-26T15:30:00-05:00",
          "2024-02-26T15:35:00-05:00",
          "2024-02-26T15:40:00-05:00",
          "2024-02-26T15:45:00-05:00",
          "2024-02-26T15:50:00-05:00",
          "2024-02-26T15:55:00-05:00",
          "2024-02-26T16:00:00-05:00",
          "2024-02-26T16:05:00-05:00",
          "2024-02-26T16:10:00-05:00",
          "2024-02-26T16:15:00-05:00",
          "2024-02-26T16:20:00-05:00",
          "2024-02-26T16:25:00-05:00",
          "2024-02-26T16:30:00-05:00",
          "2024-02-26T16:35:00-05:00",
          "2024-02-26T16:40:00-05:00",
          "2024-02-26T16:45:00-05:00",
          "2024-02-26T16:50:00-05:00",
          "2024-02-26T16:55:00-05:00",
          "2024-02-26T17:00:00-05:00",
          "2024-02-26T17:05:00-05:00",
          "2024-02-26T17:09:37-05:00",
          "2024-02-26T17:10:00-05:00",
          "2024-02-26T17:14:37-05:00",
          "2024-02-26T17:15:00-05:00",
          "2024-02-26T17:15:31-05:00",
          "2024-02-26T17:20:00-05:00",
          "2024-02-26T17:25:00-05:00",
          "2024-02-26T17:30:00-05:00",
          "2024-02-26T17:35:00-05:00",
          "2024-02-26T17:40:00-05:00",
          "2024-02-26T17:45:00-05:00",
          "2024-02-26T17:50:00-05:00",
          "2024-02-26T17:55:00-05:00",
          "2024-02-26T18:00:00-05:00",
          "2024-02-26T18:05:00-05:00",
          "2024-02-26T18:10:00-05:00",
          "2024-02-26T18:15:00-05:00",
          "2024-02-26T18:20:00-05:00",
          "2024-02-26T18:25:00-05:00",
          "2024-02-26T18:30:00-05:00",
          "2024-02-26T18:35:00-05:00",
          "2024-02-26T18:40:00-05:00",
          "2024-02-26T18:45:00-05:00",
          "2024-02-26T18:50:00-05:00",
          "2024-02-26T18:55:00-05:00",
          "2024-02-26T19:00:00-05:00",
          "2024-02-26T19:05:00-05:00",
          "2024-02-26T19:10:00-05:00",
          "2024-02-26T19:15:00-05:00",
          "2024-02-26T19:20:00-05:00",
          "2024-02-26T19:25:00-05:00",
          "2024-02-26T19:30:00-05:00",
          "2024-02-26T19:35:00-05:00",
          "2024-02-26T19:40:00-05:00",
          "2024-02-26T19:45:00-05:00",
          "2024-02-26T19:50:00-05:00",
          "2024-02-26T19:55:00-05:00",
          "2024-02-26T20:00:00-05:00",
          "2024-02-26T20:05:00-05:00",
          "2024-02-26T20:10:00-05:00",
          "2024-02-26T20:15:00-05:00",
          "2024-02-26T20:20:00-05:00",
          "2024-02-26T20:25:00-05:00",
          "2024-02-26T20:30:00-05:00",
          "2024-02-26T20:35:00-05:00",
          "2024-02-26T20:40:00-05:00",
          "2024-02-26T20:45:00-05:00",
          "2024-02-26T20:50:00-05:00",
          "2024-02-26T20:55:00-05:00",
          "2024-02-26T21:00:00-05:00",
          "2024-02-26T21:05:00-05:00",
          "2024-02-26T21:10:00-05:00",
          "2024-02-26T21:15:00-05:00",
          "2024-02-26T21:20:00-05:00",
          "2024-02-26T21:25:00-05:00",
          "2024-02-26T21:30:00-05:00",
          "2024-02-26T21:35:00-05:00",
          "2024-02-26T21:40:00-05:00",
          "2024-02-26T21:45:00-05:00",
          "2024-02-26T21:50:00-05:00",
          "2024-02-26T21:55:00-05:00",
          "2024-02-26T22:00:00-05:00",
          "2024-02-26T22:05:00-05:00",
          "2024-02-26T22:10:00-05:00",
          "2024-02-26T22:15:00-05:00",
          "2024-02-26T22:20:00-05:00",
          "2024-02-26T22:25:00-05:00",
          "2024-02-26T22:30:00-05:00",
          "2024-02-26T22:35:00-05:00",
          "2024-02-26T22:40:00-05:00",
          "2024-02-26T22:45:00-05:00",
          "2024-02-26T22:50:00-05:00",
          "2024-02-26T22:55:00-05:00",
          "2024-02-26T23:00:00-05:00",
          "2024-02-26T23:05:00-05:00",
          "2024-02-26T23:10:00-05:00",
          "2024-02-26T23:15:00-05:00",
          "2024-02-26T23:20:00-05:00",
          "2024-02-26T23:25:00-05:00",
          "2024-02-26T23:30:00-05:00",
          "2024-02-26T23:35:00-05:00",
          "2024-02-26T23:40:00-05:00",
          "2024-02-26T23:45:00-05:00",
          "2024-02-26T23:50:00-05:00",
          "2024-02-26T23:55:00-05:00"
         ],
         "xaxis": "x",
         "y": [
          26.29,
          25.9,
          22.51,
          21.34,
          21.36,
          21.36,
          21.38,
          20.32,
          21.27,
          21.26,
          21.24,
          22.3,
          22.34,
          22.39,
          22.86,
          22.88,
          22.89,
          21.38,
          20.38,
          20.4,
          20.44,
          21.47,
          21.47,
          23,
          23.05,
          23.07,
          23.09,
          23.09,
          23.02,
          22.97,
          22.48,
          22.58,
          22.62,
          22.66,
          23.04,
          21.58,
          22.82,
          23.96,
          21.6,
          21.62,
          21.53,
          21.53,
          24.05,
          23.99,
          24,
          24.13,
          24.03,
          23.42,
          22.58,
          24.13,
          25.92,
          25.31,
          25.86,
          24.12,
          24.66,
          25.29,
          25.29,
          25.37,
          25.99,
          22.91,
          25.48,
          25.97,
          26.98,
          30.8,
          28.82,
          27.38,
          27.4,
          32.09,
          32.15,
          32.93,
          34.35,
          27.16,
          26.43,
          29.27,
          30.13,
          32.58,
          33.3,
          51.77,
          117.35,
          137.15,
          73.41,
          52.23,
          54,
          23.88,
          26.23,
          26.41,
          23.65,
          22.42,
          22.44,
          22.48,
          22.46,
          22.42,
          22.49,
          22.46,
          22.24,
          20.51,
          19.01,
          19.02,
          18.97,
          18.73,
          18.71,
          17.99,
          16.96,
          16.95,
          16.54,
          16.94,
          17,
          19.95,
          21.41,
          20.21,
          20.25,
          21.41,
          20.97,
          20.17,
          20.15,
          19.06,
          18.29,
          18.21,
          18.12,
          19.04,
          19.58,
          20.19,
          20.04,
          20.23,
          20.21,
          20.23,
          20.21,
          21.64,
          21.64,
          20.25,
          20.25,
          22.42,
          21.55,
          21.53,
          21.52,
          20.32,
          20.34,
          20.34,
          20.28,
          19.75,
          18.49,
          18.61,
          18.54,
          19.75,
          20.36,
          19.77,
          19.6,
          18.66,
          18.5,
          18.36,
          17.69,
          17.29,
          18.1,
          18.14,
          17.71,
          16.13,
          16.22,
          16.06,
          15.87,
          15.89,
          15.84,
          15.82,
          15.44,
          15.32,
          12.3,
          12.31,
          12.31,
          15.13,
          15.46,
          15.49,
          15.49,
          16.11,
          16.1,
          15.27,
          14.5,
          14.87,
          15.25,
          15.39,
          15.35,
          15.18,
          14.47,
          14.75,
          15.28,
          15.47,
          15.92,
          16.41,
          16.76,
          17.08,
          17.55,
          17.57,
          17.11,
          14.97,
          14.87,
          15.93,
          15.95,
          18.06,
          19.04,
          19.1,
          19.25,
          19.57,
          21.07,
          21.94,
          23.96,
          19.06,
          18.89,
          19.93,
          19.92,
          21.47,
          21.47,
          21.47,
          21.47,
          25.23,
          25.23,
          29.43,
          41.99,
          41.93,
          33.79,
          63.9,
          42.22,
          42.28,
          42.32,
          29.63,
          29.52,
          27.65,
          29.48,
          29.48,
          29.41,
          26.81,
          26.85,
          26.52,
          27.23,
          27.26,
          27.32,
          27.2,
          27.06,
          25.73,
          27.12,
          27.26,
          25.72,
          20.1,
          18.89,
          18.85,
          25.04,
          29.74,
          29.28,
          29.39,
          29.38,
          25.74,
          23.03,
          22.16,
          20.94,
          19.12,
          19,
          18.98,
          25.58,
          28.65,
          27.1,
          26.24,
          24.33,
          23.1,
          23.1,
          22.72,
          21,
          20.57,
          19.2,
          18.93,
          21.32,
          19.16,
          18.94,
          18.91,
          18.92,
          18.25,
          18.28,
          18.93,
          18.24,
          18.19,
          18.29,
          19.13,
          21.37,
          20.21,
          19.02,
          18.99,
          18.95,
          18.32,
          18.31,
          18.23,
          18.16,
          17.47,
          16.71,
          17.3,
          15.69
         ],
         "yaxis": "y"
        }
       ],
       "layout": {
        "autosize": true,
        "legend": {
         "tracegroupgap": 0
        },
        "template": {
         "data": {
          "bar": [
           {
            "error_x": {
             "color": "#2a3f5f"
            },
            "error_y": {
             "color": "#2a3f5f"
            },
            "marker": {
             "line": {
              "color": "#E5ECF6",
              "width": 0.5
             },
             "pattern": {
              "fillmode": "overlay",
              "size": 10,
              "solidity": 0.2
             }
            },
            "type": "bar"
           }
          ],
          "barpolar": [
           {
            "marker": {
             "line": {
              "color": "#E5ECF6",
              "width": 0.5
             },
             "pattern": {
              "fillmode": "overlay",
              "size": 10,
              "solidity": 0.2
             }
            },
            "type": "barpolar"
           }
          ],
          "carpet": [
           {
            "aaxis": {
             "endlinecolor": "#2a3f5f",
             "gridcolor": "white",
             "linecolor": "white",
             "minorgridcolor": "white",
             "startlinecolor": "#2a3f5f"
            },
            "baxis": {
             "endlinecolor": "#2a3f5f",
             "gridcolor": "white",
             "linecolor": "white",
             "minorgridcolor": "white",
             "startlinecolor": "#2a3f5f"
            },
            "type": "carpet"
           }
          ],
          "choropleth": [
           {
            "colorbar": {
             "outlinewidth": 0,
             "ticks": ""
            },
            "type": "choropleth"
           }
          ],
          "contour": [
           {
            "colorbar": {
             "outlinewidth": 0,
             "ticks": ""
            },
            "colorscale": [
             [
              0,
              "#0d0887"
             ],
             [
              0.1111111111111111,
              "#46039f"
             ],
             [
              0.2222222222222222,
              "#7201a8"
             ],
             [
              0.3333333333333333,
              "#9c179e"
             ],
             [
              0.4444444444444444,
              "#bd3786"
             ],
             [
              0.5555555555555556,
              "#d8576b"
             ],
             [
              0.6666666666666666,
              "#ed7953"
             ],
             [
              0.7777777777777778,
              "#fb9f3a"
             ],
             [
              0.8888888888888888,
              "#fdca26"
             ],
             [
              1,
              "#f0f921"
             ]
            ],
            "type": "contour"
           }
          ],
          "contourcarpet": [
           {
            "colorbar": {
             "outlinewidth": 0,
             "ticks": ""
            },
            "type": "contourcarpet"
           }
          ],
          "heatmap": [
           {
            "colorbar": {
             "outlinewidth": 0,
             "ticks": ""
            },
            "colorscale": [
             [
              0,
              "#0d0887"
             ],
             [
              0.1111111111111111,
              "#46039f"
             ],
             [
              0.2222222222222222,
              "#7201a8"
             ],
             [
              0.3333333333333333,
              "#9c179e"
             ],
             [
              0.4444444444444444,
              "#bd3786"
             ],
             [
              0.5555555555555556,
              "#d8576b"
             ],
             [
              0.6666666666666666,
              "#ed7953"
             ],
             [
              0.7777777777777778,
              "#fb9f3a"
             ],
             [
              0.8888888888888888,
              "#fdca26"
             ],
             [
              1,
              "#f0f921"
             ]
            ],
            "type": "heatmap"
           }
          ],
          "heatmapgl": [
           {
            "colorbar": {
             "outlinewidth": 0,
             "ticks": ""
            },
            "colorscale": [
             [
              0,
              "#0d0887"
             ],
             [
              0.1111111111111111,
              "#46039f"
             ],
             [
              0.2222222222222222,
              "#7201a8"
             ],
             [
              0.3333333333333333,
              "#9c179e"
             ],
             [
              0.4444444444444444,
              "#bd3786"
             ],
             [
              0.5555555555555556,
              "#d8576b"
             ],
             [
              0.6666666666666666,
              "#ed7953"
             ],
             [
              0.7777777777777778,
              "#fb9f3a"
             ],
             [
              0.8888888888888888,
              "#fdca26"
             ],
             [
              1,
              "#f0f921"
             ]
            ],
            "type": "heatmapgl"
           }
          ],
          "histogram": [
           {
            "marker": {
             "pattern": {
              "fillmode": "overlay",
              "size": 10,
              "solidity": 0.2
             }
            },
            "type": "histogram"
           }
          ],
          "histogram2d": [
           {
            "colorbar": {
             "outlinewidth": 0,
             "ticks": ""
            },
            "colorscale": [
             [
              0,
              "#0d0887"
             ],
             [
              0.1111111111111111,
              "#46039f"
             ],
             [
              0.2222222222222222,
              "#7201a8"
             ],
             [
              0.3333333333333333,
              "#9c179e"
             ],
             [
              0.4444444444444444,
              "#bd3786"
             ],
             [
              0.5555555555555556,
              "#d8576b"
             ],
             [
              0.6666666666666666,
              "#ed7953"
             ],
             [
              0.7777777777777778,
              "#fb9f3a"
             ],
             [
              0.8888888888888888,
              "#fdca26"
             ],
             [
              1,
              "#f0f921"
             ]
            ],
            "type": "histogram2d"
           }
          ],
          "histogram2dcontour": [
           {
            "colorbar": {
             "outlinewidth": 0,
             "ticks": ""
            },
            "colorscale": [
             [
              0,
              "#0d0887"
             ],
             [
              0.1111111111111111,
              "#46039f"
             ],
             [
              0.2222222222222222,
              "#7201a8"
             ],
             [
              0.3333333333333333,
              "#9c179e"
             ],
             [
              0.4444444444444444,
              "#bd3786"
             ],
             [
              0.5555555555555556,
              "#d8576b"
             ],
             [
              0.6666666666666666,
              "#ed7953"
             ],
             [
              0.7777777777777778,
              "#fb9f3a"
             ],
             [
              0.8888888888888888,
              "#fdca26"
             ],
             [
              1,
              "#f0f921"
             ]
            ],
            "type": "histogram2dcontour"
           }
          ],
          "mesh3d": [
           {
            "colorbar": {
             "outlinewidth": 0,
             "ticks": ""
            },
            "type": "mesh3d"
           }
          ],
          "parcoords": [
           {
            "line": {
             "colorbar": {
              "outlinewidth": 0,
              "ticks": ""
             }
            },
            "type": "parcoords"
           }
          ],
          "pie": [
           {
            "automargin": true,
            "type": "pie"
           }
          ],
          "scatter": [
           {
            "fillpattern": {
             "fillmode": "overlay",
             "size": 10,
             "solidity": 0.2
            },
            "type": "scatter"
           }
          ],
          "scatter3d": [
           {
            "line": {
             "colorbar": {
              "outlinewidth": 0,
              "ticks": ""
             }
            },
            "marker": {
             "colorbar": {
              "outlinewidth": 0,
              "ticks": ""
             }
            },
            "type": "scatter3d"
           }
          ],
          "scattercarpet": [
           {
            "marker": {
             "colorbar": {
              "outlinewidth": 0,
              "ticks": ""
             }
            },
            "type": "scattercarpet"
           }
          ],
          "scattergeo": [
           {
            "marker": {
             "colorbar": {
              "outlinewidth": 0,
              "ticks": ""
             }
            },
            "type": "scattergeo"
           }
          ],
          "scattergl": [
           {
            "marker": {
             "colorbar": {
              "outlinewidth": 0,
              "ticks": ""
             }
            },
            "type": "scattergl"
           }
          ],
          "scattermapbox": [
           {
            "marker": {
             "colorbar": {
              "outlinewidth": 0,
              "ticks": ""
             }
            },
            "type": "scattermapbox"
           }
          ],
          "scatterpolar": [
           {
            "marker": {
             "colorbar": {
              "outlinewidth": 0,
              "ticks": ""
             }
            },
            "type": "scatterpolar"
           }
          ],
          "scatterpolargl": [
           {
            "marker": {
             "colorbar": {
              "outlinewidth": 0,
              "ticks": ""
             }
            },
            "type": "scatterpolargl"
           }
          ],
          "scatterternary": [
           {
            "marker": {
             "colorbar": {
              "outlinewidth": 0,
              "ticks": ""
             }
            },
            "type": "scatterternary"
           }
          ],
          "surface": [
           {
            "colorbar": {
             "outlinewidth": 0,
             "ticks": ""
            },
            "colorscale": [
             [
              0,
              "#0d0887"
             ],
             [
              0.1111111111111111,
              "#46039f"
             ],
             [
              0.2222222222222222,
              "#7201a8"
             ],
             [
              0.3333333333333333,
              "#9c179e"
             ],
             [
              0.4444444444444444,
              "#bd3786"
             ],
             [
              0.5555555555555556,
              "#d8576b"
             ],
             [
              0.6666666666666666,
              "#ed7953"
             ],
             [
              0.7777777777777778,
              "#fb9f3a"
             ],
             [
              0.8888888888888888,
              "#fdca26"
             ],
             [
              1,
              "#f0f921"
             ]
            ],
            "type": "surface"
           }
          ],
          "table": [
           {
            "cells": {
             "fill": {
              "color": "#EBF0F8"
             },
             "line": {
              "color": "white"
             }
            },
            "header": {
             "fill": {
              "color": "#C8D4E3"
             },
             "line": {
              "color": "white"
             }
            },
            "type": "table"
           }
          ]
         },
         "layout": {
          "annotationdefaults": {
           "arrowcolor": "#2a3f5f",
           "arrowhead": 0,
           "arrowwidth": 1
          },
          "autotypenumbers": "strict",
          "coloraxis": {
           "colorbar": {
            "outlinewidth": 0,
            "ticks": ""
           }
          },
          "colorscale": {
           "diverging": [
            [
             0,
             "#8e0152"
            ],
            [
             0.1,
             "#c51b7d"
            ],
            [
             0.2,
             "#de77ae"
            ],
            [
             0.3,
             "#f1b6da"
            ],
            [
             0.4,
             "#fde0ef"
            ],
            [
             0.5,
             "#f7f7f7"
            ],
            [
             0.6,
             "#e6f5d0"
            ],
            [
             0.7,
             "#b8e186"
            ],
            [
             0.8,
             "#7fbc41"
            ],
            [
             0.9,
             "#4d9221"
            ],
            [
             1,
             "#276419"
            ]
           ],
           "sequential": [
            [
             0,
             "#0d0887"
            ],
            [
             0.1111111111111111,
             "#46039f"
            ],
            [
             0.2222222222222222,
             "#7201a8"
            ],
            [
             0.3333333333333333,
             "#9c179e"
            ],
            [
             0.4444444444444444,
             "#bd3786"
            ],
            [
             0.5555555555555556,
             "#d8576b"
            ],
            [
             0.6666666666666666,
             "#ed7953"
            ],
            [
             0.7777777777777778,
             "#fb9f3a"
            ],
            [
             0.8888888888888888,
             "#fdca26"
            ],
            [
             1,
             "#f0f921"
            ]
           ],
           "sequentialminus": [
            [
             0,
             "#0d0887"
            ],
            [
             0.1111111111111111,
             "#46039f"
            ],
            [
             0.2222222222222222,
             "#7201a8"
            ],
            [
             0.3333333333333333,
             "#9c179e"
            ],
            [
             0.4444444444444444,
             "#bd3786"
            ],
            [
             0.5555555555555556,
             "#d8576b"
            ],
            [
             0.6666666666666666,
             "#ed7953"
            ],
            [
             0.7777777777777778,
             "#fb9f3a"
            ],
            [
             0.8888888888888888,
             "#fdca26"
            ],
            [
             1,
             "#f0f921"
            ]
           ]
          },
          "colorway": [
           "#636efa",
           "#EF553B",
           "#00cc96",
           "#ab63fa",
           "#FFA15A",
           "#19d3f3",
           "#FF6692",
           "#B6E880",
           "#FF97FF",
           "#FECB52"
          ],
          "font": {
           "color": "#2a3f5f"
          },
          "geo": {
           "bgcolor": "white",
           "lakecolor": "white",
           "landcolor": "#E5ECF6",
           "showlakes": true,
           "showland": true,
           "subunitcolor": "white"
          },
          "hoverlabel": {
           "align": "left"
          },
          "hovermode": "closest",
          "mapbox": {
           "style": "light"
          },
          "paper_bgcolor": "white",
          "plot_bgcolor": "#E5ECF6",
          "polar": {
           "angularaxis": {
            "gridcolor": "white",
            "linecolor": "white",
            "ticks": ""
           },
           "bgcolor": "#E5ECF6",
           "radialaxis": {
            "gridcolor": "white",
            "linecolor": "white",
            "ticks": ""
           }
          },
          "scene": {
           "xaxis": {
            "backgroundcolor": "#E5ECF6",
            "gridcolor": "white",
            "gridwidth": 2,
            "linecolor": "white",
            "showbackground": true,
            "ticks": "",
            "zerolinecolor": "white"
           },
           "yaxis": {
            "backgroundcolor": "#E5ECF6",
            "gridcolor": "white",
            "gridwidth": 2,
            "linecolor": "white",
            "showbackground": true,
            "ticks": "",
            "zerolinecolor": "white"
           },
           "zaxis": {
            "backgroundcolor": "#E5ECF6",
            "gridcolor": "white",
            "gridwidth": 2,
            "linecolor": "white",
            "showbackground": true,
            "ticks": "",
            "zerolinecolor": "white"
           }
          },
          "shapedefaults": {
           "line": {
            "color": "#2a3f5f"
           }
          },
          "ternary": {
           "aaxis": {
            "gridcolor": "white",
            "linecolor": "white",
            "ticks": ""
           },
           "baxis": {
            "gridcolor": "white",
            "linecolor": "white",
            "ticks": ""
           },
           "bgcolor": "#E5ECF6",
           "caxis": {
            "gridcolor": "white",
            "linecolor": "white",
            "ticks": ""
           }
          },
          "title": {
           "x": 0.05
          },
          "xaxis": {
           "automargin": true,
           "gridcolor": "white",
           "linecolor": "white",
           "ticks": "",
           "title": {
            "standoff": 15
           },
           "zerolinecolor": "white",
           "zerolinewidth": 2
          },
          "yaxis": {
           "automargin": true,
           "gridcolor": "white",
           "linecolor": "white",
           "ticks": "",
           "title": {
            "standoff": 15
           },
           "zerolinecolor": "white",
           "zerolinewidth": 2
          }
         }
        },
        "title": {
         "text": "Price Over Time"
        },
        "xaxis": {
         "anchor": "y",
         "autorange": true,
         "domain": [
          0,
          1
         ],
         "range": [
          "2024-02-26",
          "2024-02-26 23:55"
         ],
         "title": {
          "text": "Time"
         },
         "type": "date"
        },
        "yaxis": {
         "anchor": "x",
         "autorange": true,
         "domain": [
          0,
          1
         ],
         "range": [
          5.363888888888889,
          144.0861111111111
         ],
         "title": {
          "text": "LMP"
         },
         "type": "linear"
        }
       }
      },
      "image/png": "[encoded data removed]",
      "text/html": [
       "<div>                            <div id=\"2d6b1d5c-410a-496d-8bdc-725099c4eeb9\" class=\"plotly-graph-div\" style=\"height:525px; width:100%;\"></div>            <script type=\"text/javascript\">                require([\"plotly\"], function(Plotly) {                    window.PLOTLYENV=window.PLOTLYENV || {};                                    if (document.getElementById(\"2d6b1d5c-410a-496d-8bdc-725099c4eeb9\")) {                    Plotly.newPlot(                        \"2d6b1d5c-410a-496d-8bdc-725099c4eeb9\",                        [{\"hovertemplate\":\"Time=%{x}\\u003cbr\\u003eLMP=%{y}\\u003cextra\\u003e\\u003c\\u002fextra\\u003e\",\"legendgroup\":\"\",\"line\":{\"color\":\"#636efa\",\"dash\":\"solid\"},\"marker\":{\"symbol\":\"circle\"},\"mode\":\"lines\",\"name\":\"\",\"orientation\":\"v\",\"showlegend\":false,\"x\":[\"2024-02-26T00:00:00-05:00\",\"2024-02-26T00:05:00-05:00\",\"2024-02-26T00:10:00-05:00\",\"2024-02-26T00:15:00-05:00\",\"2024-02-26T00:20:00-05:00\",\"2024-02-26T00:25:00-05:00\",\"2024-02-26T00:30:00-05:00\",\"2024-02-26T00:35:00-05:00\",\"2024-02-26T00:40:00-05:00\",\"2024-02-26T00:45:00-05:00\",\"2024-02-26T00:50:00-05:00\",\"2024-02-26T00:55:00-05:00\",\"2024-02-26T01:00:00-05:00\",\"2024-02-26T01:05:00-05:00\",\"2024-02-26T01:10:00-05:00\",\"2024-02-26T01:15:00-05:00\",\"2024-02-26T01:20:00-05:00\",\"2024-02-26T01:25:00-05:00\",\"2024-02-26T01:30:00-05:00\",\"2024-02-26T01:35:00-05:00\",\"2024-02-26T01:40:00-05:00\",\"2024-02-26T01:45:00-05:00\",\"2024-02-26T01:50:00-05:00\",\"2024-02-26T01:55:00-05:00\",\"2024-02-26T02:00:00-05:00\",\"2024-02-26T02:05:00-05:00\",\"2024-02-26T02:10:00-05:00\",\"2024-02-26T02:15:00-05:00\",\"2024-02-26T02:20:00-05:00\",\"2024-02-26T02:25:00-05:00\",\"2024-02-26T02:30:00-05:00\",\"2024-02-26T02:35:00-05:00\",\"2024-02-26T02:40:00-05:00\",\"2024-02-26T02:45:00-05:00\",\"2024-02-26T02:50:00-05:00\",\"2024-02-26T02:55:00-05:00\",\"2024-02-26T03:00:00-05:00\",\"2024-02-26T03:05:00-05:00\",\"2024-02-26T03:10:00-05:00\",\"2024-02-26T03:15:00-05:00\",\"2024-02-26T03:20:00-05:00\",\"2024-02-26T03:25:00-05:00\",\"2024-02-26T03:30:00-05:00\",\"2024-02-26T03:35:00-05:00\",\"2024-02-26T03:40:00-05:00\",\"2024-02-26T03:45:00-05:00\",\"2024-02-26T03:50:00-05:00\",\"2024-02-26T03:55:00-05:00\",\"2024-02-26T04:00:00-05:00\",\"2024-02-26T04:05:00-05:00\",\"2024-02-26T04:10:00-05:00\",\"2024-02-26T04:15:00-05:00\",\"2024-02-26T04:20:00-05:00\",\"2024-02-26T04:25:00-05:00\",\"2024-02-26T04:30:00-05:00\",\"2024-02-26T04:35:00-05:00\",\"2024-02-26T04:40:00-05:00\",\"2024-02-26T04:45:00-05:00\",\"2024-02-26T04:50:00-05:00\",\"2024-02-26T04:55:00-05:00\",\"2024-02-26T05:00:00-05:00\",\"2024-02-26T05:05:00-05:00\",\"2024-02-26T05:10:00-05:00\",\"2024-02-26T05:15:00-05:00\",\"2024-02-26T05:20:00-05:00\",\"2024-02-26T05:25:00-05:00\",\"2024-02-26T05:30:00-05:00\",\"2024-02-26T05:35:00-05:00\",\"2024-02-26T05:40:00-05:00\",\"2024-02-26T05:45:00-05:00\",\"2024-02-26T05:50:00-05:00\",\"2024-02-26T05:55:00-05:00\",\"2024-02-26T06:00:00-05:00\",\"2024-02-26T06:05:00-05:00\",\"2024-02-26T06:10:00-05:00\",\"2024-02-26T06:15:00-05:00\",\"2024-02-26T06:20:00-05:00\",\"2024-02-26T06:25:00-05:00\",\"2024-02-26T06:30:00-05:00\",\"2024-02-26T06:35:00-05:00\",\"2024-02-26T06:40:00-05:00\",\"2024-02-26T06:45:00-05:00\",\"2024-02-26T06:50:00-05:00\",\"2024-02-26T06:55:00-05:00\",\"2024-02-26T07:00:00-05:00\",\"2024-02-26T07:05:00-05:00\",\"2024-02-26T07:10:00-05:00\",\"2024-02-26T07:15:00-05:00\",\"2024-02-26T07:20:00-05:00\",\"2024-02-26T07:25:00-05:00\",\"2024-02-26T07:30:00-05:00\",\"2024-02-26T07:35:00-05:00\",\"2024-02-26T07:40:00-05:00\",\"2024-02-26T07:45:00-05:00\",\"2024-02-26T07:50:00-05:00\",\"2024-02-26T07:55:00-05:00\",\"2024-02-26T08:00:00-05:00\",\"2024-02-26T08:05:00-05:00\",\"2024-02-26T08:10:00-05:00\",\"2024-02-26T08:15:00-05:00\",\"2024-02-26T08:20:00-05:00\",\"2024-02-26T08:25:00-05:00\",\"2024-02-26T08:30:00-05:00\",\"2024-02-26T08:35:00-05:00\",\"2024-02-26T08:40:00-05:00\",\"2024-02-26T08:45:00-05:00\",\"2024-02-26T08:50:00-05:00\",\"2024-02-26T08:55:00-05:00\",\"2024-02-26T09:00:00-05:00\",\"2024-02-26T09:05:00-05:00\",\"2024-02-26T09:10:00-05:00\",\"2024-02-26T09:15:00-05:00\",\"2024-02-26T09:20:00-05:00\",\"2024-02-26T09:25:00-05:00\",\"2024-02-26T09:30:00-05:00\",\"2024-02-26T09:35:00-05:00\",\"2024-02-26T09:40:00-05:00\",\"2024-02-26T09:45:00-05:00\",\"2024-02-26T09:50:00-05:00\",\"2024-02-26T09:55:00-05:00\",\"2024-02-26T10:00:00-05:00\",\"2024-02-26T10:05:00-05:00\",\"2024-02-26T10:10:00-05:00\",\"2024-02-26T10:15:00-05:00\",\"2024-02-26T10:20:00-05:00\",\"2024-02-26T10:25:00-05:00\",\"2024-02-26T10:30:00-05:00\",\"2024-02-26T10:35:00-05:00\",\"2024-02-26T10:40:00-05:00\",\"2024-02-26T10:45:00-05:00\",\"2024-02-26T10:50:00-05:00\",\"2024-02-26T10:55:00-05:00\",\"2024-02-26T11:00:00-05:00\",\"2024-02-26T11:05:00-05:00\",\"2024-02-26T11:10:00-05:00\",\"2024-02-26T11:15:00-05:00\",\"2024-02-26T11:20:00-05:00\",\"2024-02-26T11:25:00-05:00\",\"2024-02-26T11:30:00-05:00\",\"2024-02-26T11:35:00-05:00\",\"2024-02-26T11:40:00-05:00\",\"2024-02-26T11:45:00-05:00\",\"2024-02-26T11:50:00-05:00\",\"2024-02-26T11:55:00-05:00\",\"2024-02-26T12:00:00-05:00\",\"2024-02-26T12:05:00-05:00\",\"2024-02-26T12:10:00-05:00\",\"2024-02-26T12:15:00-05:00\",\"2024-02-26T12:20:00-05:00\",\"2024-02-26T12:25:00-05:00\",\"2024-02-26T12:30:00-05:00\",\"2024-02-26T12:35:00-05:00\",\"2024-02-26T12:40:00-05:00\",\"2024-02-26T12:45:00-05:00\",\"2024-02-26T12:50:00-05:00\",\"2024-02-26T12:55:00-05:00\",\"2024-02-26T13:00:00-05:00\",\"2024-02-26T13:05:00-05:00\",\"2024-02-26T13:10:00-05:00\",\"2024-02-26T13:15:00-05:00\",\"2024-02-26T13:20:00-05:00\",\"2024-02-26T13:25:00-05:00\",\"2024-02-26T13:30:00-05:00\",\"2024-02-26T13:35:00-05:00\",\"2024-02-26T13:40:00-05:00\",\"2024-02-26T13:45:00-05:00\",\"2024-02-26T13:50:00-05:00\",\"2024-02-26T13:55:00-05:00\",\"2024-02-26T14:00:00-05:00\",\"2024-02-26T14:05:00-05:00\",\"2024-02-26T14:10:00-05:00\",\"2024-02-26T14:15:00-05:00\",\"2024-02-26T14:20:00-05:00\",\"2024-02-26T14:25:00-05:00\",\"2024-02-26T14:30:00-05:00\",\"2024-02-26T14:35:00-05:00\",\"2024-02-26T14:40:00-05:00\",\"2024-02-26T14:45:00-05:00\",\"2024-02-26T14:50:00-05:00\",\"2024-02-26T14:55:00-05:00\",\"2024-02-26T15:00:00-05:00\",\"2024-02-26T15:05:00-05:00\",\"2024-02-26T15:10:00-05:00\",\"2024-02-26T15:15:00-05:00\",\"2024-02-26T15:20:00-05:00\",\"2024-02-26T15:25:00-05:00\",\"2024-02-26T15:30:00-05:00\",\"2024-02-26T15:35:00-05:00\",\"2024-02-26T15:40:00-05:00\",\"2024-02-26T15:45:00-05:00\",\"2024-02-26T15:50:00-05:00\",\"2024-02-26T15:55:00-05:00\",\"2024-02-26T16:00:00-05:00\",\"2024-02-26T16:05:00-05:00\",\"2024-02-26T16:10:00-05:00\",\"2024-02-26T16:15:00-05:00\",\"2024-02-26T16:20:00-05:00\",\"2024-02-26T16:25:00-05:00\",\"2024-02-26T16:30:00-05:00\",\"2024-02-26T16:35:00-05:00\",\"2024-02-26T16:40:00-05:00\",\"2024-02-26T16:45:00-05:00\",\"2024-02-26T16:50:00-05:00\",\"2024-02-26T16:55:00-05:00\",\"2024-02-26T17:00:00-05:00\",\"2024-02-26T17:05:00-05:00\",\"2024-02-26T17:09:37-05:00\",\"2024-02-26T17:10:00-05:00\",\"2024-02-26T17:14:37-05:00\",\"2024-02-26T17:15:00-05:00\",\"2024-02-26T17:15:31-05:00\",\"2024-02-26T17:20:00-05:00\",\"2024-02-26T17:25:00-05:00\",\"2024-02-26T17:30:00-05:00\",\"2024-02-26T17:35:00-05:00\",\"2024-02-26T17:40:00-05:00\",\"2024-02-26T17:45:00-05:00\",\"2024-02-26T17:50:00-05:00\",\"2024-02-26T17:55:00-05:00\",\"2024-02-26T18:00:00-05:00\",\"2024-02-26T18:05:00-05:00\",\"2024-02-26T18:10:00-05:00\",\"2024-02-26T18:15:00-05:00\",\"2024-02-26T18:20:00-05:00\",\"2024-02-26T18:25:00-05:00\",\"2024-02-26T18:30:00-05:00\",\"2024-02-26T18:35:00-05:00\",\"2024-02-26T18:40:00-05:00\",\"2024-02-26T18:45:00-05:00\",\"2024-02-26T18:50:00-05:00\",\"2024-02-26T18:55:00-05:00\",\"2024-02-26T19:00:00-05:00\",\"2024-02-26T19:05:00-05:00\",\"2024-02-26T19:10:00-05:00\",\"2024-02-26T19:15:00-05:00\",\"2024-02-26T19:20:00-05:00\",\"2024-02-26T19:25:00-05:00\",\"2024-02-26T19:30:00-05:00\",\"2024-02-26T19:35:00-05:00\",\"2024-02-26T19:40:00-05:00\",\"2024-02-26T19:45:00-05:00\",\"2024-02-26T19:50:00-05:00\",\"2024-02-26T19:55:00-05:00\",\"2024-02-26T20:00:00-05:00\",\"2024-02-26T20:05:00-05:00\",\"2024-02-26T20:10:00-05:00\",\"2024-02-26T20:15:00-05:00\",\"2024-02-26T20:20:00-05:00\",\"2024-02-26T20:25:00-05:00\",\"2024-02-26T20:30:00-05:00\",\"2024-02-26T20:35:00-05:00\",\"2024-02-26T20:40:00-05:00\",\"2024-02-26T20:45:00-05:00\",\"2024-02-26T20:50:00-05:00\",\"2024-02-26T20:55:00-05:00\",\"2024-02-26T21:00:00-05:00\",\"2024-02-26T21:05:00-05:00\",\"2024-02-26T21:10:00-05:00\",\"2024-02-26T21:15:00-05:00\",\"2024-02-26T21:20:00-05:00\",\"2024-02-26T21:25:00-05:00\",\"2024-02-26T21:30:00-05:00\",\"2024-02-26T21:35:00-05:00\",\"2024-02-26T21:40:00-05:00\",\"2024-02-26T21:45:00-05:00\",\"2024-02-26T21:50:00-05:00\",\"2024-02-26T21:55:00-05:00\",\"2024-02-26T22:00:00-05:00\",\"2024-02-26T22:05:00-05:00\",\"2024-02-26T22:10:00-05:00\",\"2024-02-26T22:15:00-05:00\",\"2024-02-26T22:20:00-05:00\",\"2024-02-26T22:25:00-05:00\",\"2024-02-26T22:30:00-05:00\",\"2024-02-26T22:35:00-05:00\",\"2024-02-26T22:40:00-05:00\",\"2024-02-26T22:45:00-05:00\",\"2024-02-26T22:50:00-05:00\",\"2024-02-26T22:55:00-05:00\",\"2024-02-26T23:00:00-05:00\",\"2024-02-26T23:05:00-05:00\",\"2024-02-26T23:10:00-05:00\",\"2024-02-26T23:15:00-05:00\",\"2024-02-26T23:20:00-05:00\",\"2024-02-26T23:25:00-05:00\",\"2024-02-26T23:30:00-05:00\",\"2024-02-26T23:35:00-05:00\",\"2024-02-26T23:40:00-05:00\",\"2024-02-26T23:45:00-05:00\",\"2024-02-26T23:50:00-05:00\",\"2024-02-26T23:55:00-05:00\"],\"xaxis\":\"x\",\"y\":[26.29,25.9,22.51,21.34,21.36,21.36,21.38,20.32,21.27,21.26,21.24,22.3,22.34,22.39,22.86,22.88,22.89,21.38,20.38,20.4,20.44,21.47,21.47,23.0,23.05,23.07,23.09,23.09,23.02,22.97,22.48,22.58,22.62,22.66,23.04,21.58,22.82,23.96,21.6,21.62,21.53,21.53,24.05,23.99,24.0,24.13,24.03,23.42,22.58,24.13,25.92,25.31,25.86,24.12,24.66,25.29,25.29,25.37,25.99,22.91,25.48,25.97,26.98,30.8,28.82,27.38,27.4,32.09,32.15,32.93,34.35,27.16,26.43,29.27,30.13,32.58,33.3,51.77,117.35,137.15,73.41,52.23,54.0,23.88,26.23,26.41,23.65,22.42,22.44,22.48,22.46,22.42,22.49,22.46,22.24,20.51,19.01,19.02,18.97,18.73,18.71,17.99,16.96,16.95,16.54,16.94,17.0,19.95,21.41,20.21,20.25,21.41,20.97,20.17,20.15,19.06,18.29,18.21,18.12,19.04,19.58,20.19,20.04,20.23,20.21,20.23,20.21,21.64,21.64,20.25,20.25,22.42,21.55,21.53,21.52,20.32,20.34,20.34,20.28,19.75,18.49,18.61,18.54,19.75,20.36,19.77,19.6,18.66,18.5,18.36,17.69,17.29,18.1,18.14,17.71,16.13,16.22,16.06,15.87,15.89,15.84,15.82,15.44,15.32,12.3,12.31,12.31,15.13,15.46,15.49,15.49,16.11,16.1,15.27,14.5,14.87,15.25,15.39,15.35,15.18,14.47,14.75,15.28,15.47,15.92,16.41,16.76,17.08,17.55,17.57,17.11,14.97,14.87,15.93,15.95,18.06,19.04,19.1,19.25,19.57,21.07,21.94,23.96,19.06,18.89,19.93,19.92,21.47,21.47,21.47,21.47,25.23,25.23,29.43,41.99,41.93,33.79,63.9,42.22,42.28,42.32,29.63,29.52,27.65,29.48,29.48,29.41,26.81,26.85,26.52,27.23,27.26,27.32,27.2,27.06,25.73,27.12,27.26,25.72,20.1,18.89,18.85,25.04,29.74,29.28,29.39,29.38,25.74,23.03,22.16,20.94,19.12,19.0,18.98,25.58,28.65,27.1,26.24,24.33,23.1,23.1,22.72,21.0,20.57,19.2,18.93,21.32,19.16,18.94,18.91,18.92,18.25,18.28,18.93,18.24,18.19,18.29,19.13,21.37,20.21,19.02,18.99,18.95,18.32,18.31,18.23,18.16,17.47,16.71,17.3,15.69],\"yaxis\":\"y\",\"type\":\"scatter\"}],                        {\"template\":{\"data\":{\"histogram2dcontour\":[{\"type\":\"histogram2dcontour\",\"colorbar\":{\"outlinewidth\":0,\"ticks\":\"\"},\"colorscale\":[[0.0,\"#0d0887\"],[0.1111111111111111,\"#46039f\"],[0.2222222222222222,\"#7201a8\"],[0.3333333333333333,\"#9c179e\"],[0.4444444444444444,\"#bd3786\"],[0.5555555555555556,\"#d8576b\"],[0.6666666666666666,\"#ed7953\"],[0.7777777777777778,\"#fb9f3a\"],[0.8888888888888888,\"#fdca26\"],[1.0,\"#f0f921\"]]}],\"choropleth\":[{\"type\":\"choropleth\",\"colorbar\":{\"outlinewidth\":0,\"ticks\":\"\"}}],\"histogram2d\":[{\"type\":\"histogram2d\",\"colorbar\":{\"outlinewidth\":0,\"ticks\":\"\"},\"colorscale\":[[0.0,\"#0d0887\"],[0.1111111111111111,\"#46039f\"],[0.2222222222222222,\"#7201a8\"],[0.3333333333333333,\"#9c179e\"],[0.4444444444444444,\"#bd3786\"],[0.5555555555555556,\"#d8576b\"],[0.6666666666666666,\"#ed7953\"],[0.7777777777777778,\"#fb9f3a\"],[0.8888888888888888,\"#fdca26\"],[1.0,\"#f0f921\"]]}],\"heatmap\":[{\"type\":\"heatmap\",\"colorbar\":{\"outlinewidth\":0,\"ticks\":\"\"},\"colorscale\":[[0.0,\"#0d0887\"],[0.1111111111111111,\"#46039f\"],[0.2222222222222222,\"#7201a8\"],[0.3333333333333333,\"#9c179e\"],[0.4444444444444444,\"#bd3786\"],[0.5555555555555556,\"#d8576b\"],[0.6666666666666666,\"#ed7953\"],[0.7777777777777778,\"#fb9f3a\"],[0.8888888888888888,\"#fdca26\"],[1.0,\"#f0f921\"]]}],\"heatmapgl\":[{\"type\":\"heatmapgl\",\"colorbar\":{\"outlinewidth\":0,\"ticks\":\"\"},\"colorscale\":[[0.0,\"#0d0887\"],[0.1111111111111111,\"#46039f\"],[0.2222222222222222,\"#7201a8\"],[0.3333333333333333,\"#9c179e\"],[0.4444444444444444,\"#bd3786\"],[0.5555555555555556,\"#d8576b\"],[0.6666666666666666,\"#ed7953\"],[0.7777777777777778,\"#fb9f3a\"],[0.8888888888888888,\"#fdca26\"],[1.0,\"#f0f921\"]]}],\"contourcarpet\":[{\"type\":\"contourcarpet\",\"colorbar\":{\"outlinewidth\":0,\"ticks\":\"\"}}],\"contour\":[{\"type\":\"contour\",\"colorbar\":{\"outlinewidth\":0,\"ticks\":\"\"},\"colorscale\":[[0.0,\"#0d0887\"],[0.1111111111111111,\"#46039f\"],[0.2222222222222222,\"#7201a8\"],[0.3333333333333333,\"#9c179e\"],[0.4444444444444444,\"#bd3786\"],[0.5555555555555556,\"#d8576b\"],[0.6666666666666666,\"#ed7953\"],[0.7777777777777778,\"#fb9f3a\"],[0.8888888888888888,\"#fdca26\"],[1.0,\"#f0f921\"]]}],\"surface\":[{\"type\":\"surface\",\"colorbar\":{\"outlinewidth\":0,\"ticks\":\"\"},\"colorscale\":[[0.0,\"#0d0887\"],[0.1111111111111111,\"#46039f\"],[0.2222222222222222,\"#7201a8\"],[0.3333333333333333,\"#9c179e\"],[0.4444444444444444,\"#bd3786\"],[0.5555555555555556,\"#d8576b\"],[0.6666666666666666,\"#ed7953\"],[0.7777777777777778,\"#fb9f3a\"],[0.8888888888888888,\"#fdca26\"],[1.0,\"#f0f921\"]]}],\"mesh3d\":[{\"type\":\"mesh3d\",\"colorbar\":{\"outlinewidth\":0,\"ticks\":\"\"}}],\"scatter\":[{\"fillpattern\":{\"fillmode\":\"overlay\",\"size\":10,\"solidity\":0.2},\"type\":\"scatter\"}],\"parcoords\":[{\"type\":\"parcoords\",\"line\":{\"colorbar\":{\"outlinewidth\":0,\"ticks\":\"\"}}}],\"scatterpolargl\":[{\"type\":\"scatterpolargl\",\"marker\":{\"colorbar\":{\"outlinewidth\":0,\"ticks\":\"\"}}}],\"bar\":[{\"error_x\":{\"color\":\"#2a3f5f\"},\"error_y\":{\"color\":\"#2a3f5f\"},\"marker\":{\"line\":{\"color\":\"#E5ECF6\",\"width\":0.5},\"pattern\":{\"fillmode\":\"overlay\",\"size\":10,\"solidity\":0.2}},\"type\":\"bar\"}],\"scattergeo\":[{\"type\":\"scattergeo\",\"marker\":{\"colorbar\":{\"outlinewidth\":0,\"ticks\":\"\"}}}],\"scatterpolar\":[{\"type\":\"scatterpolar\",\"marker\":{\"colorbar\":{\"outlinewidth\":0,\"ticks\":\"\"}}}],\"histogram\":[{\"marker\":{\"pattern\":{\"fillmode\":\"overlay\",\"size\":10,\"solidity\":0.2}},\"type\":\"histogram\"}],\"scattergl\":[{\"type\":\"scattergl\",\"marker\":{\"colorbar\":{\"outlinewidth\":0,\"ticks\":\"\"}}}],\"scatter3d\":[{\"type\":\"scatter3d\",\"line\":{\"colorbar\":{\"outlinewidth\":0,\"ticks\":\"\"}},\"marker\":{\"colorbar\":{\"outlinewidth\":0,\"ticks\":\"\"}}}],\"scattermapbox\":[{\"type\":\"scattermapbox\",\"marker\":{\"colorbar\":{\"outlinewidth\":0,\"ticks\":\"\"}}}],\"scatterternary\":[{\"type\":\"scatterternary\",\"marker\":{\"colorbar\":{\"outlinewidth\":0,\"ticks\":\"\"}}}],\"scattercarpet\":[{\"type\":\"scattercarpet\",\"marker\":{\"colorbar\":{\"outlinewidth\":0,\"ticks\":\"\"}}}],\"carpet\":[{\"aaxis\":{\"endlinecolor\":\"#2a3f5f\",\"gridcolor\":\"white\",\"linecolor\":\"white\",\"minorgridcolor\":\"white\",\"startlinecolor\":\"#2a3f5f\"},\"baxis\":{\"endlinecolor\":\"#2a3f5f\",\"gridcolor\":\"white\",\"linecolor\":\"white\",\"minorgridcolor\":\"white\",\"startlinecolor\":\"#2a3f5f\"},\"type\":\"carpet\"}],\"table\":[{\"cells\":{\"fill\":{\"color\":\"#EBF0F8\"},\"line\":{\"color\":\"white\"}},\"header\":{\"fill\":{\"color\":\"#C8D4E3\"},\"line\":{\"color\":\"white\"}},\"type\":\"table\"}],\"barpolar\":[{\"marker\":{\"line\":{\"color\":\"#E5ECF6\",\"width\":0.5},\"pattern\":{\"fillmode\":\"overlay\",\"size\":10,\"solidity\":0.2}},\"type\":\"barpolar\"}],\"pie\":[{\"automargin\":true,\"type\":\"pie\"}]},\"layout\":{\"autotypenumbers\":\"strict\",\"colorway\":[\"#636efa\",\"#EF553B\",\"#00cc96\",\"#ab63fa\",\"#FFA15A\",\"#19d3f3\",\"#FF6692\",\"#B6E880\",\"#FF97FF\",\"#FECB52\"],\"font\":{\"color\":\"#2a3f5f\"},\"hovermode\":\"closest\",\"hoverlabel\":{\"align\":\"left\"},\"paper_bgcolor\":\"white\",\"plot_bgcolor\":\"#E5ECF6\",\"polar\":{\"bgcolor\":\"#E5ECF6\",\"angularaxis\":{\"gridcolor\":\"white\",\"linecolor\":\"white\",\"ticks\":\"\"},\"radialaxis\":{\"gridcolor\":\"white\",\"linecolor\":\"white\",\"ticks\":\"\"}},\"ternary\":{\"bgcolor\":\"#E5ECF6\",\"aaxis\":{\"gridcolor\":\"white\",\"linecolor\":\"white\",\"ticks\":\"\"},\"baxis\":{\"gridcolor\":\"white\",\"linecolor\":\"white\",\"ticks\":\"\"},\"caxis\":{\"gridcolor\":\"white\",\"linecolor\":\"white\",\"ticks\":\"\"}},\"coloraxis\":{\"colorbar\":{\"outlinewidth\":0,\"ticks\":\"\"}},\"colorscale\":{\"sequential\":[[0.0,\"#0d0887\"],[0.1111111111111111,\"#46039f\"],[0.2222222222222222,\"#7201a8\"],[0.3333333333333333,\"#9c179e\"],[0.4444444444444444,\"#bd3786\"],[0.5555555555555556,\"#d8576b\"],[0.6666666666666666,\"#ed7953\"],[0.7777777777777778,\"#fb9f3a\"],[0.8888888888888888,\"#fdca26\"],[1.0,\"#f0f921\"]],\"sequentialminus\":[[0.0,\"#0d0887\"],[0.1111111111111111,\"#46039f\"],[0.2222222222222222,\"#7201a8\"],[0.3333333333333333,\"#9c179e\"],[0.4444444444444444,\"#bd3786\"],[0.5555555555555556,\"#d8576b\"],[0.6666666666666666,\"#ed7953\"],[0.7777777777777778,\"#fb9f3a\"],[0.8888888888888888,\"#fdca26\"],[1.0,\"#f0f921\"]],\"diverging\":[[0,\"#8e0152\"],[0.1,\"#c51b7d\"],[0.2,\"#de77ae\"],[0.3,\"#f1b6da\"],[0.4,\"#fde0ef\"],[0.5,\"#f7f7f7\"],[0.6,\"#e6f5d0\"],[0.7,\"#b8e186\"],[0.8,\"#7fbc41\"],[0.9,\"#4d9221\"],[1,\"#276419\"]]},\"xaxis\":{\"gridcolor\":\"white\",\"linecolor\":\"white\",\"ticks\":\"\",\"title\":{\"standoff\":15},\"zerolinecolor\":\"white\",\"automargin\":true,\"zerolinewidth\":2},\"yaxis\":{\"gridcolor\":\"white\",\"linecolor\":\"white\",\"ticks\":\"\",\"title\":{\"standoff\":15},\"zerolinecolor\":\"white\",\"automargin\":true,\"zerolinewidth\":2},\"scene\":{\"xaxis\":{\"backgroundcolor\":\"#E5ECF6\",\"gridcolor\":\"white\",\"linecolor\":\"white\",\"showbackground\":true,\"ticks\":\"\",\"zerolinecolor\":\"white\",\"gridwidth\":2},\"yaxis\":{\"backgroundcolor\":\"#E5ECF6\",\"gridcolor\":\"white\",\"linecolor\":\"white\",\"showbackground\":true,\"ticks\":\"\",\"zerolinecolor\":\"white\",\"gridwidth\":2},\"zaxis\":{\"backgroundcolor\":\"#E5ECF6\",\"gridcolor\":\"white\",\"linecolor\":\"white\",\"showbackground\":true,\"ticks\":\"\",\"zerolinecolor\":\"white\",\"gridwidth\":2}},\"shapedefaults\":{\"line\":{\"color\":\"#2a3f5f\"}},\"annotationdefaults\":{\"arrowcolor\":\"#2a3f5f\",\"arrowhead\":0,\"arrowwidth\":1},\"geo\":{\"bgcolor\":\"white\",\"landcolor\":\"#E5ECF6\",\"subunitcolor\":\"white\",\"showland\":true,\"showlakes\":true,\"lakecolor\":\"white\"},\"title\":{\"x\":0.05},\"mapbox\":{\"style\":\"light\"}}},\"xaxis\":{\"anchor\":\"y\",\"domain\":[0.0,1.0],\"title\":{\"text\":\"Time\"}},\"yaxis\":{\"anchor\":\"x\",\"domain\":[0.0,1.0],\"title\":{\"text\":\"LMP\"}},\"legend\":{\"tracegroupgap\":0},\"title\":{\"text\":\"Price Over Time\"}},                        {\"responsive\": true}                    ).then(function(){\n",
       "                            \n",
       "var gd = document.getElementById('2d6b1d5c-410a-496d-8bdc-725099c4eeb9');\n",
       "var x = new MutationObserver(function (mutations, observer) {{\n",
       "        var display = window.getComputedStyle(gd).display;\n",
       "        if (!display || display === 'none') {{\n",
       "            console.log([gd, 'removed!']);\n",
       "            Plotly.purge(gd);\n",
       "            observer.disconnect();\n",
       "        }}\n",
       "}});\n",
       "\n",
       "// Listen for the removal of the full notebook cells\n",
       "var notebookContainer = gd.closest('#notebook-container');\n",
       "if (notebookContainer) {{\n",
       "    x.observe(notebookContainer, {childList: true});\n",
       "}}\n",
       "\n",
       "// Listen for the clearing of the current output cell\n",
       "var outputEl = gd.closest('.output');\n",
       "if (outputEl) {{\n",
       "    x.observe(outputEl, {childList: true});\n",
       "}}\n",
       "\n",
       "                        })                };                });            </script>        </div>"
      ]
     },
     "metadata": {},
     "output_type": "display_data"
    }
   ],
   "source": [
    "import gridstatus\n",
    "import plotly.express as px\n",
    "import numpy as np\n",
    "import pandas as pd\n",
    "import plotly.graph_objects as go\n",
    "from IPython.display import display\n",
    "from operator import itemgetter\n",
    "\n",
    "def get_nyiso_price_data_by_location(date, location):\n",
    "    nyiso = gridstatus.NYISO()\n",
    "    lmp = nyiso.get_lmp(date=date, market=\"REAL_TIME_5_MIN\")\n",
    "    lmp_col_subset = lmp[[\"Time\", \"Location\", \"LMP\"]]\n",
    "    lmp_subset_filtered = lmp_col_subset[lmp_col_subset[\"Location\"] == location]\n",
    "    return lmp_subset_filtered\n",
    "\n",
    "price_data_by_location = get_nyiso_price_data_by_location(\"February 26, 2024\", \"GENESE\");\n",
    "\n",
    "fig = px.line(price_data_by_location, x=\"Time\", y=\"LMP\", title=\"Price Over Time\")\n",
    "fig.show()"
   ]
  },
  {
   "cell_type": "code",
   "execution_count": 96,
   "id": "04a48eeb-b720-4b2e-974c-80c3a5165c34",
   "metadata": {},
   "outputs": [
    {
     "data": {
      "application/vnd.plotly.v1+json": {
       "config": {
        "plotlyServerURL": "https://plot.ly"
       },
       "data": [
        {
         "alignmentgroup": "True",
         "bingroup": "x",
         "histfunc": "sum",
         "hovertemplate": "Time=%{x}<br>sum of Average LMP=%{y}<extra></extra>",
         "legendgroup": "",
         "marker": {
          "color": "#636efa",
          "pattern": {
           "shape": ""
          }
         },
         "name": "",
         "nbinsx": 24,
         "offsetgroup": "",
         "orientation": "v",
         "showlegend": false,
         "type": "histogram",
         "x": [
          "2024-02-26T00:00:00-05:00",
          "2024-02-26T01:05:00-05:00",
          "2024-02-26T02:10:00-05:00",
          "2024-02-26T03:15:00-05:00",
          "2024-02-26T04:15:00-05:00",
          "2024-02-26T05:15:00-05:00",
          "2024-02-26T06:15:00-05:00",
          "2024-02-26T07:15:00-05:00",
          "2024-02-26T08:15:00-05:00",
          "2024-02-26T09:15:00-05:00",
          "2024-02-26T10:15:00-05:00",
          "2024-02-26T11:15:00-05:00",
          "2024-02-26T12:15:00-05:00",
          "2024-02-26T13:15:00-05:00",
          "2024-02-26T14:15:00-05:00",
          "2024-02-26T15:15:00-05:00",
          "2024-02-26T16:15:00-05:00",
          "2024-02-26T17:10:00-05:00",
          "2024-02-26T18:00:00-05:00",
          "2024-02-26T19:00:00-05:00",
          "2024-02-26T20:00:00-05:00",
          "2024-02-26T21:00:00-05:00",
          "2024-02-26T22:00:00-05:00",
          "2024-02-26T23:00:00-05:00"
         ],
         "xaxis": "x",
         "y": [
          22.22076923076923,
          21.975384615384616,
          22.73153846153846,
          23.410833333333333,
          25.269166666666667,
          29.909166666666668,
          54.32999999999999,
          21.409999999999997,
          18.47,
          19.6025,
          20.973333333333333,
          19.679166666666664,
          17.394166666666667,
          14.733333333333334,
          15.21,
          16.299166666666668,
          19.9825,
          32.46666666666667,
          30.598333333333333,
          24.795833333333338,
          24.361666666666665,
          23.021666666666665,
          18.884166666666665,
          18.113333333333333
         ],
         "yaxis": "y"
        }
       ],
       "layout": {
        "autosize": true,
        "barmode": "relative",
        "legend": {
         "tracegroupgap": 0
        },
        "template": {
         "data": {
          "bar": [
           {
            "error_x": {
             "color": "#2a3f5f"
            },
            "error_y": {
             "color": "#2a3f5f"
            },
            "marker": {
             "line": {
              "color": "#E5ECF6",
              "width": 0.5
             },
             "pattern": {
              "fillmode": "overlay",
              "size": 10,
              "solidity": 0.2
             }
            },
            "type": "bar"
           }
          ],
          "barpolar": [
           {
            "marker": {
             "line": {
              "color": "#E5ECF6",
              "width": 0.5
             },
             "pattern": {
              "fillmode": "overlay",
              "size": 10,
              "solidity": 0.2
             }
            },
            "type": "barpolar"
           }
          ],
          "carpet": [
           {
            "aaxis": {
             "endlinecolor": "#2a3f5f",
             "gridcolor": "white",
             "linecolor": "white",
             "minorgridcolor": "white",
             "startlinecolor": "#2a3f5f"
            },
            "baxis": {
             "endlinecolor": "#2a3f5f",
             "gridcolor": "white",
             "linecolor": "white",
             "minorgridcolor": "white",
             "startlinecolor": "#2a3f5f"
            },
            "type": "carpet"
           }
          ],
          "choropleth": [
           {
            "colorbar": {
             "outlinewidth": 0,
             "ticks": ""
            },
            "type": "choropleth"
           }
          ],
          "contour": [
           {
            "colorbar": {
             "outlinewidth": 0,
             "ticks": ""
            },
            "colorscale": [
             [
              0,
              "#0d0887"
             ],
             [
              0.1111111111111111,
              "#46039f"
             ],
             [
              0.2222222222222222,
              "#7201a8"
             ],
             [
              0.3333333333333333,
              "#9c179e"
             ],
             [
              0.4444444444444444,
              "#bd3786"
             ],
             [
              0.5555555555555556,
              "#d8576b"
             ],
             [
              0.6666666666666666,
              "#ed7953"
             ],
             [
              0.7777777777777778,
              "#fb9f3a"
             ],
             [
              0.8888888888888888,
              "#fdca26"
             ],
             [
              1,
              "#f0f921"
             ]
            ],
            "type": "contour"
           }
          ],
          "contourcarpet": [
           {
            "colorbar": {
             "outlinewidth": 0,
             "ticks": ""
            },
            "type": "contourcarpet"
           }
          ],
          "heatmap": [
           {
            "colorbar": {
             "outlinewidth": 0,
             "ticks": ""
            },
            "colorscale": [
             [
              0,
              "#0d0887"
             ],
             [
              0.1111111111111111,
              "#46039f"
             ],
             [
              0.2222222222222222,
              "#7201a8"
             ],
             [
              0.3333333333333333,
              "#9c179e"
             ],
             [
              0.4444444444444444,
              "#bd3786"
             ],
             [
              0.5555555555555556,
              "#d8576b"
             ],
             [
              0.6666666666666666,
              "#ed7953"
             ],
             [
              0.7777777777777778,
              "#fb9f3a"
             ],
             [
              0.8888888888888888,
              "#fdca26"
             ],
             [
              1,
              "#f0f921"
             ]
            ],
            "type": "heatmap"
           }
          ],
          "heatmapgl": [
           {
            "colorbar": {
             "outlinewidth": 0,
             "ticks": ""
            },
            "colorscale": [
             [
              0,
              "#0d0887"
             ],
             [
              0.1111111111111111,
              "#46039f"
             ],
             [
              0.2222222222222222,
              "#7201a8"
             ],
             [
              0.3333333333333333,
              "#9c179e"
             ],
             [
              0.4444444444444444,
              "#bd3786"
             ],
             [
              0.5555555555555556,
              "#d8576b"
             ],
             [
              0.6666666666666666,
              "#ed7953"
             ],
             [
              0.7777777777777778,
              "#fb9f3a"
             ],
             [
              0.8888888888888888,
              "#fdca26"
             ],
             [
              1,
              "#f0f921"
             ]
            ],
            "type": "heatmapgl"
           }
          ],
          "histogram": [
           {
            "marker": {
             "pattern": {
              "fillmode": "overlay",
              "size": 10,
              "solidity": 0.2
             }
            },
            "type": "histogram"
           }
          ],
          "histogram2d": [
           {
            "colorbar": {
             "outlinewidth": 0,
             "ticks": ""
            },
            "colorscale": [
             [
              0,
              "#0d0887"
             ],
             [
              0.1111111111111111,
              "#46039f"
             ],
             [
              0.2222222222222222,
              "#7201a8"
             ],
             [
              0.3333333333333333,
              "#9c179e"
             ],
             [
              0.4444444444444444,
              "#bd3786"
             ],
             [
              0.5555555555555556,
              "#d8576b"
             ],
             [
              0.6666666666666666,
              "#ed7953"
             ],
             [
              0.7777777777777778,
              "#fb9f3a"
             ],
             [
              0.8888888888888888,
              "#fdca26"
             ],
             [
              1,
              "#f0f921"
             ]
            ],
            "type": "histogram2d"
           }
          ],
          "histogram2dcontour": [
           {
            "colorbar": {
             "outlinewidth": 0,
             "ticks": ""
            },
            "colorscale": [
             [
              0,
              "#0d0887"
             ],
             [
              0.1111111111111111,
              "#46039f"
             ],
             [
              0.2222222222222222,
              "#7201a8"
             ],
             [
              0.3333333333333333,
              "#9c179e"
             ],
             [
              0.4444444444444444,
              "#bd3786"
             ],
             [
              0.5555555555555556,
              "#d8576b"
             ],
             [
              0.6666666666666666,
              "#ed7953"
             ],
             [
              0.7777777777777778,
              "#fb9f3a"
             ],
             [
              0.8888888888888888,
              "#fdca26"
             ],
             [
              1,
              "#f0f921"
             ]
            ],
            "type": "histogram2dcontour"
           }
          ],
          "mesh3d": [
           {
            "colorbar": {
             "outlinewidth": 0,
             "ticks": ""
            },
            "type": "mesh3d"
           }
          ],
          "parcoords": [
           {
            "line": {
             "colorbar": {
              "outlinewidth": 0,
              "ticks": ""
             }
            },
            "type": "parcoords"
           }
          ],
          "pie": [
           {
            "automargin": true,
            "type": "pie"
           }
          ],
          "scatter": [
           {
            "fillpattern": {
             "fillmode": "overlay",
             "size": 10,
             "solidity": 0.2
            },
            "type": "scatter"
           }
          ],
          "scatter3d": [
           {
            "line": {
             "colorbar": {
              "outlinewidth": 0,
              "ticks": ""
             }
            },
            "marker": {
             "colorbar": {
              "outlinewidth": 0,
              "ticks": ""
             }
            },
            "type": "scatter3d"
           }
          ],
          "scattercarpet": [
           {
            "marker": {
             "colorbar": {
              "outlinewidth": 0,
              "ticks": ""
             }
            },
            "type": "scattercarpet"
           }
          ],
          "scattergeo": [
           {
            "marker": {
             "colorbar": {
              "outlinewidth": 0,
              "ticks": ""
             }
            },
            "type": "scattergeo"
           }
          ],
          "scattergl": [
           {
            "marker": {
             "colorbar": {
              "outlinewidth": 0,
              "ticks": ""
             }
            },
            "type": "scattergl"
           }
          ],
          "scattermapbox": [
           {
            "marker": {
             "colorbar": {
              "outlinewidth": 0,
              "ticks": ""
             }
            },
            "type": "scattermapbox"
           }
          ],
          "scatterpolar": [
           {
            "marker": {
             "colorbar": {
              "outlinewidth": 0,
              "ticks": ""
             }
            },
            "type": "scatterpolar"
           }
          ],
          "scatterpolargl": [
           {
            "marker": {
             "colorbar": {
              "outlinewidth": 0,
              "ticks": ""
             }
            },
            "type": "scatterpolargl"
           }
          ],
          "scatterternary": [
           {
            "marker": {
             "colorbar": {
              "outlinewidth": 0,
              "ticks": ""
             }
            },
            "type": "scatterternary"
           }
          ],
          "surface": [
           {
            "colorbar": {
             "outlinewidth": 0,
             "ticks": ""
            },
            "colorscale": [
             [
              0,
              "#0d0887"
             ],
             [
              0.1111111111111111,
              "#46039f"
             ],
             [
              0.2222222222222222,
              "#7201a8"
             ],
             [
              0.3333333333333333,
              "#9c179e"
             ],
             [
              0.4444444444444444,
              "#bd3786"
             ],
             [
              0.5555555555555556,
              "#d8576b"
             ],
             [
              0.6666666666666666,
              "#ed7953"
             ],
             [
              0.7777777777777778,
              "#fb9f3a"
             ],
             [
              0.8888888888888888,
              "#fdca26"
             ],
             [
              1,
              "#f0f921"
             ]
            ],
            "type": "surface"
           }
          ],
          "table": [
           {
            "cells": {
             "fill": {
              "color": "#EBF0F8"
             },
             "line": {
              "color": "white"
             }
            },
            "header": {
             "fill": {
              "color": "#C8D4E3"
             },
             "line": {
              "color": "white"
             }
            },
            "type": "table"
           }
          ]
         },
         "layout": {
          "annotationdefaults": {
           "arrowcolor": "#2a3f5f",
           "arrowhead": 0,
           "arrowwidth": 1
          },
          "autotypenumbers": "strict",
          "coloraxis": {
           "colorbar": {
            "outlinewidth": 0,
            "ticks": ""
           }
          },
          "colorscale": {
           "diverging": [
            [
             0,
             "#8e0152"
            ],
            [
             0.1,
             "#c51b7d"
            ],
            [
             0.2,
             "#de77ae"
            ],
            [
             0.3,
             "#f1b6da"
            ],
            [
             0.4,
             "#fde0ef"
            ],
            [
             0.5,
             "#f7f7f7"
            ],
            [
             0.6,
             "#e6f5d0"
            ],
            [
             0.7,
             "#b8e186"
            ],
            [
             0.8,
             "#7fbc41"
            ],
            [
             0.9,
             "#4d9221"
            ],
            [
             1,
             "#276419"
            ]
           ],
           "sequential": [
            [
             0,
             "#0d0887"
            ],
            [
             0.1111111111111111,
             "#46039f"
            ],
            [
             0.2222222222222222,
             "#7201a8"
            ],
            [
             0.3333333333333333,
             "#9c179e"
            ],
            [
             0.4444444444444444,
             "#bd3786"
            ],
            [
             0.5555555555555556,
             "#d8576b"
            ],
            [
             0.6666666666666666,
             "#ed7953"
            ],
            [
             0.7777777777777778,
             "#fb9f3a"
            ],
            [
             0.8888888888888888,
             "#fdca26"
            ],
            [
             1,
             "#f0f921"
            ]
           ],
           "sequentialminus": [
            [
             0,
             "#0d0887"
            ],
            [
             0.1111111111111111,
             "#46039f"
            ],
            [
             0.2222222222222222,
             "#7201a8"
            ],
            [
             0.3333333333333333,
             "#9c179e"
            ],
            [
             0.4444444444444444,
             "#bd3786"
            ],
            [
             0.5555555555555556,
             "#d8576b"
            ],
            [
             0.6666666666666666,
             "#ed7953"
            ],
            [
             0.7777777777777778,
             "#fb9f3a"
            ],
            [
             0.8888888888888888,
             "#fdca26"
            ],
            [
             1,
             "#f0f921"
            ]
           ]
          },
          "colorway": [
           "#636efa",
           "#EF553B",
           "#00cc96",
           "#ab63fa",
           "#FFA15A",
           "#19d3f3",
           "#FF6692",
           "#B6E880",
           "#FF97FF",
           "#FECB52"
          ],
          "font": {
           "color": "#2a3f5f"
          },
          "geo": {
           "bgcolor": "white",
           "lakecolor": "white",
           "landcolor": "#E5ECF6",
           "showlakes": true,
           "showland": true,
           "subunitcolor": "white"
          },
          "hoverlabel": {
           "align": "left"
          },
          "hovermode": "closest",
          "mapbox": {
           "style": "light"
          },
          "paper_bgcolor": "white",
          "plot_bgcolor": "#E5ECF6",
          "polar": {
           "angularaxis": {
            "gridcolor": "white",
            "linecolor": "white",
            "ticks": ""
           },
           "bgcolor": "#E5ECF6",
           "radialaxis": {
            "gridcolor": "white",
            "linecolor": "white",
            "ticks": ""
           }
          },
          "scene": {
           "xaxis": {
            "backgroundcolor": "#E5ECF6",
            "gridcolor": "white",
            "gridwidth": 2,
            "linecolor": "white",
            "showbackground": true,
            "ticks": "",
            "zerolinecolor": "white"
           },
           "yaxis": {
            "backgroundcolor": "#E5ECF6",
            "gridcolor": "white",
            "gridwidth": 2,
            "linecolor": "white",
            "showbackground": true,
            "ticks": "",
            "zerolinecolor": "white"
           },
           "zaxis": {
            "backgroundcolor": "#E5ECF6",
            "gridcolor": "white",
            "gridwidth": 2,
            "linecolor": "white",
            "showbackground": true,
            "ticks": "",
            "zerolinecolor": "white"
           }
          },
          "shapedefaults": {
           "line": {
            "color": "#2a3f5f"
           }
          },
          "ternary": {
           "aaxis": {
            "gridcolor": "white",
            "linecolor": "white",
            "ticks": ""
           },
           "baxis": {
            "gridcolor": "white",
            "linecolor": "white",
            "ticks": ""
           },
           "bgcolor": "#E5ECF6",
           "caxis": {
            "gridcolor": "white",
            "linecolor": "white",
            "ticks": ""
           }
          },
          "title": {
           "x": 0.05
          },
          "xaxis": {
           "automargin": true,
           "gridcolor": "white",
           "linecolor": "white",
           "ticks": "",
           "title": {
            "standoff": 15
           },
           "zerolinecolor": "white",
           "zerolinewidth": 2
          },
          "yaxis": {
           "automargin": true,
           "gridcolor": "white",
           "linecolor": "white",
           "ticks": "",
           "title": {
            "standoff": 15
           },
           "zerolinecolor": "white",
           "zerolinewidth": 2
          }
         }
        },
        "title": {
         "text": "Average Price Over Time"
        },
        "xaxis": {
         "anchor": "y",
         "autorange": true,
         "domain": [
          0,
          1
         ],
         "range": [
          "2024-02-25 23:30",
          "2024-02-26 23:30"
         ],
         "title": {
          "text": "Time"
         },
         "type": "date"
        },
        "yaxis": {
         "anchor": "x",
         "autorange": true,
         "domain": [
          0,
          1
         ],
         "range": [
          0,
          57.18947368421052
         ],
         "title": {
          "text": "sum of Average LMP"
         },
         "type": "linear"
        }
       }
      },
      "image/png": "[encoded data removed]",
      "text/html": [
       "<div>                            <div id=\"f13bb75b-9630-4391-8af9-e43c9b74316f\" class=\"plotly-graph-div\" style=\"height:525px; width:100%;\"></div>            <script type=\"text/javascript\">                require([\"plotly\"], function(Plotly) {                    window.PLOTLYENV=window.PLOTLYENV || {};                                    if (document.getElementById(\"f13bb75b-9630-4391-8af9-e43c9b74316f\")) {                    Plotly.newPlot(                        \"f13bb75b-9630-4391-8af9-e43c9b74316f\",                        [{\"alignmentgroup\":\"True\",\"bingroup\":\"x\",\"histfunc\":\"sum\",\"hovertemplate\":\"Time=%{x}\\u003cbr\\u003esum of Average LMP=%{y}\\u003cextra\\u003e\\u003c\\u002fextra\\u003e\",\"legendgroup\":\"\",\"marker\":{\"color\":\"#636efa\",\"pattern\":{\"shape\":\"\"}},\"name\":\"\",\"nbinsx\":24,\"offsetgroup\":\"\",\"orientation\":\"v\",\"showlegend\":false,\"x\":[\"2024-02-26T00:00:00-05:00\",\"2024-02-26T01:05:00-05:00\",\"2024-02-26T02:10:00-05:00\",\"2024-02-26T03:15:00-05:00\",\"2024-02-26T04:15:00-05:00\",\"2024-02-26T05:15:00-05:00\",\"2024-02-26T06:15:00-05:00\",\"2024-02-26T07:15:00-05:00\",\"2024-02-26T08:15:00-05:00\",\"2024-02-26T09:15:00-05:00\",\"2024-02-26T10:15:00-05:00\",\"2024-02-26T11:15:00-05:00\",\"2024-02-26T12:15:00-05:00\",\"2024-02-26T13:15:00-05:00\",\"2024-02-26T14:15:00-05:00\",\"2024-02-26T15:15:00-05:00\",\"2024-02-26T16:15:00-05:00\",\"2024-02-26T17:10:00-05:00\",\"2024-02-26T18:00:00-05:00\",\"2024-02-26T19:00:00-05:00\",\"2024-02-26T20:00:00-05:00\",\"2024-02-26T21:00:00-05:00\",\"2024-02-26T22:00:00-05:00\",\"2024-02-26T23:00:00-05:00\"],\"xaxis\":\"x\",\"y\":[22.22076923076923,21.975384615384616,22.73153846153846,23.410833333333333,25.269166666666667,29.909166666666668,54.32999999999999,21.409999999999997,18.47,19.6025,20.973333333333333,19.679166666666664,17.394166666666667,14.733333333333334,15.21,16.299166666666668,19.9825,32.46666666666667,30.598333333333333,24.795833333333338,24.361666666666665,23.021666666666665,18.884166666666665,18.113333333333333],\"yaxis\":\"y\",\"type\":\"histogram\"}],                        {\"template\":{\"data\":{\"histogram2dcontour\":[{\"type\":\"histogram2dcontour\",\"colorbar\":{\"outlinewidth\":0,\"ticks\":\"\"},\"colorscale\":[[0.0,\"#0d0887\"],[0.1111111111111111,\"#46039f\"],[0.2222222222222222,\"#7201a8\"],[0.3333333333333333,\"#9c179e\"],[0.4444444444444444,\"#bd3786\"],[0.5555555555555556,\"#d8576b\"],[0.6666666666666666,\"#ed7953\"],[0.7777777777777778,\"#fb9f3a\"],[0.8888888888888888,\"#fdca26\"],[1.0,\"#f0f921\"]]}],\"choropleth\":[{\"type\":\"choropleth\",\"colorbar\":{\"outlinewidth\":0,\"ticks\":\"\"}}],\"histogram2d\":[{\"type\":\"histogram2d\",\"colorbar\":{\"outlinewidth\":0,\"ticks\":\"\"},\"colorscale\":[[0.0,\"#0d0887\"],[0.1111111111111111,\"#46039f\"],[0.2222222222222222,\"#7201a8\"],[0.3333333333333333,\"#9c179e\"],[0.4444444444444444,\"#bd3786\"],[0.5555555555555556,\"#d8576b\"],[0.6666666666666666,\"#ed7953\"],[0.7777777777777778,\"#fb9f3a\"],[0.8888888888888888,\"#fdca26\"],[1.0,\"#f0f921\"]]}],\"heatmap\":[{\"type\":\"heatmap\",\"colorbar\":{\"outlinewidth\":0,\"ticks\":\"\"},\"colorscale\":[[0.0,\"#0d0887\"],[0.1111111111111111,\"#46039f\"],[0.2222222222222222,\"#7201a8\"],[0.3333333333333333,\"#9c179e\"],[0.4444444444444444,\"#bd3786\"],[0.5555555555555556,\"#d8576b\"],[0.6666666666666666,\"#ed7953\"],[0.7777777777777778,\"#fb9f3a\"],[0.8888888888888888,\"#fdca26\"],[1.0,\"#f0f921\"]]}],\"heatmapgl\":[{\"type\":\"heatmapgl\",\"colorbar\":{\"outlinewidth\":0,\"ticks\":\"\"},\"colorscale\":[[0.0,\"#0d0887\"],[0.1111111111111111,\"#46039f\"],[0.2222222222222222,\"#7201a8\"],[0.3333333333333333,\"#9c179e\"],[0.4444444444444444,\"#bd3786\"],[0.5555555555555556,\"#d8576b\"],[0.6666666666666666,\"#ed7953\"],[0.7777777777777778,\"#fb9f3a\"],[0.8888888888888888,\"#fdca26\"],[1.0,\"#f0f921\"]]}],\"contourcarpet\":[{\"type\":\"contourcarpet\",\"colorbar\":{\"outlinewidth\":0,\"ticks\":\"\"}}],\"contour\":[{\"type\":\"contour\",\"colorbar\":{\"outlinewidth\":0,\"ticks\":\"\"},\"colorscale\":[[0.0,\"#0d0887\"],[0.1111111111111111,\"#46039f\"],[0.2222222222222222,\"#7201a8\"],[0.3333333333333333,\"#9c179e\"],[0.4444444444444444,\"#bd3786\"],[0.5555555555555556,\"#d8576b\"],[0.6666666666666666,\"#ed7953\"],[0.7777777777777778,\"#fb9f3a\"],[0.8888888888888888,\"#fdca26\"],[1.0,\"#f0f921\"]]}],\"surface\":[{\"type\":\"surface\",\"colorbar\":{\"outlinewidth\":0,\"ticks\":\"\"},\"colorscale\":[[0.0,\"#0d0887\"],[0.1111111111111111,\"#46039f\"],[0.2222222222222222,\"#7201a8\"],[0.3333333333333333,\"#9c179e\"],[0.4444444444444444,\"#bd3786\"],[0.5555555555555556,\"#d8576b\"],[0.6666666666666666,\"#ed7953\"],[0.7777777777777778,\"#fb9f3a\"],[0.8888888888888888,\"#fdca26\"],[1.0,\"#f0f921\"]]}],\"mesh3d\":[{\"type\":\"mesh3d\",\"colorbar\":{\"outlinewidth\":0,\"ticks\":\"\"}}],\"scatter\":[{\"fillpattern\":{\"fillmode\":\"overlay\",\"size\":10,\"solidity\":0.2},\"type\":\"scatter\"}],\"parcoords\":[{\"type\":\"parcoords\",\"line\":{\"colorbar\":{\"outlinewidth\":0,\"ticks\":\"\"}}}],\"scatterpolargl\":[{\"type\":\"scatterpolargl\",\"marker\":{\"colorbar\":{\"outlinewidth\":0,\"ticks\":\"\"}}}],\"bar\":[{\"error_x\":{\"color\":\"#2a3f5f\"},\"error_y\":{\"color\":\"#2a3f5f\"},\"marker\":{\"line\":{\"color\":\"#E5ECF6\",\"width\":0.5},\"pattern\":{\"fillmode\":\"overlay\",\"size\":10,\"solidity\":0.2}},\"type\":\"bar\"}],\"scattergeo\":[{\"type\":\"scattergeo\",\"marker\":{\"colorbar\":{\"outlinewidth\":0,\"ticks\":\"\"}}}],\"scatterpolar\":[{\"type\":\"scatterpolar\",\"marker\":{\"colorbar\":{\"outlinewidth\":0,\"ticks\":\"\"}}}],\"histogram\":[{\"marker\":{\"pattern\":{\"fillmode\":\"overlay\",\"size\":10,\"solidity\":0.2}},\"type\":\"histogram\"}],\"scattergl\":[{\"type\":\"scattergl\",\"marker\":{\"colorbar\":{\"outlinewidth\":0,\"ticks\":\"\"}}}],\"scatter3d\":[{\"type\":\"scatter3d\",\"line\":{\"colorbar\":{\"outlinewidth\":0,\"ticks\":\"\"}},\"marker\":{\"colorbar\":{\"outlinewidth\":0,\"ticks\":\"\"}}}],\"scattermapbox\":[{\"type\":\"scattermapbox\",\"marker\":{\"colorbar\":{\"outlinewidth\":0,\"ticks\":\"\"}}}],\"scatterternary\":[{\"type\":\"scatterternary\",\"marker\":{\"colorbar\":{\"outlinewidth\":0,\"ticks\":\"\"}}}],\"scattercarpet\":[{\"type\":\"scattercarpet\",\"marker\":{\"colorbar\":{\"outlinewidth\":0,\"ticks\":\"\"}}}],\"carpet\":[{\"aaxis\":{\"endlinecolor\":\"#2a3f5f\",\"gridcolor\":\"white\",\"linecolor\":\"white\",\"minorgridcolor\":\"white\",\"startlinecolor\":\"#2a3f5f\"},\"baxis\":{\"endlinecolor\":\"#2a3f5f\",\"gridcolor\":\"white\",\"linecolor\":\"white\",\"minorgridcolor\":\"white\",\"startlinecolor\":\"#2a3f5f\"},\"type\":\"carpet\"}],\"table\":[{\"cells\":{\"fill\":{\"color\":\"#EBF0F8\"},\"line\":{\"color\":\"white\"}},\"header\":{\"fill\":{\"color\":\"#C8D4E3\"},\"line\":{\"color\":\"white\"}},\"type\":\"table\"}],\"barpolar\":[{\"marker\":{\"line\":{\"color\":\"#E5ECF6\",\"width\":0.5},\"pattern\":{\"fillmode\":\"overlay\",\"size\":10,\"solidity\":0.2}},\"type\":\"barpolar\"}],\"pie\":[{\"automargin\":true,\"type\":\"pie\"}]},\"layout\":{\"autotypenumbers\":\"strict\",\"colorway\":[\"#636efa\",\"#EF553B\",\"#00cc96\",\"#ab63fa\",\"#FFA15A\",\"#19d3f3\",\"#FF6692\",\"#B6E880\",\"#FF97FF\",\"#FECB52\"],\"font\":{\"color\":\"#2a3f5f\"},\"hovermode\":\"closest\",\"hoverlabel\":{\"align\":\"left\"},\"paper_bgcolor\":\"white\",\"plot_bgcolor\":\"#E5ECF6\",\"polar\":{\"bgcolor\":\"#E5ECF6\",\"angularaxis\":{\"gridcolor\":\"white\",\"linecolor\":\"white\",\"ticks\":\"\"},\"radialaxis\":{\"gridcolor\":\"white\",\"linecolor\":\"white\",\"ticks\":\"\"}},\"ternary\":{\"bgcolor\":\"#E5ECF6\",\"aaxis\":{\"gridcolor\":\"white\",\"linecolor\":\"white\",\"ticks\":\"\"},\"baxis\":{\"gridcolor\":\"white\",\"linecolor\":\"white\",\"ticks\":\"\"},\"caxis\":{\"gridcolor\":\"white\",\"linecolor\":\"white\",\"ticks\":\"\"}},\"coloraxis\":{\"colorbar\":{\"outlinewidth\":0,\"ticks\":\"\"}},\"colorscale\":{\"sequential\":[[0.0,\"#0d0887\"],[0.1111111111111111,\"#46039f\"],[0.2222222222222222,\"#7201a8\"],[0.3333333333333333,\"#9c179e\"],[0.4444444444444444,\"#bd3786\"],[0.5555555555555556,\"#d8576b\"],[0.6666666666666666,\"#ed7953\"],[0.7777777777777778,\"#fb9f3a\"],[0.8888888888888888,\"#fdca26\"],[1.0,\"#f0f921\"]],\"sequentialminus\":[[0.0,\"#0d0887\"],[0.1111111111111111,\"#46039f\"],[0.2222222222222222,\"#7201a8\"],[0.3333333333333333,\"#9c179e\"],[0.4444444444444444,\"#bd3786\"],[0.5555555555555556,\"#d8576b\"],[0.6666666666666666,\"#ed7953\"],[0.7777777777777778,\"#fb9f3a\"],[0.8888888888888888,\"#fdca26\"],[1.0,\"#f0f921\"]],\"diverging\":[[0,\"#8e0152\"],[0.1,\"#c51b7d\"],[0.2,\"#de77ae\"],[0.3,\"#f1b6da\"],[0.4,\"#fde0ef\"],[0.5,\"#f7f7f7\"],[0.6,\"#e6f5d0\"],[0.7,\"#b8e186\"],[0.8,\"#7fbc41\"],[0.9,\"#4d9221\"],[1,\"#276419\"]]},\"xaxis\":{\"gridcolor\":\"white\",\"linecolor\":\"white\",\"ticks\":\"\",\"title\":{\"standoff\":15},\"zerolinecolor\":\"white\",\"automargin\":true,\"zerolinewidth\":2},\"yaxis\":{\"gridcolor\":\"white\",\"linecolor\":\"white\",\"ticks\":\"\",\"title\":{\"standoff\":15},\"zerolinecolor\":\"white\",\"automargin\":true,\"zerolinewidth\":2},\"scene\":{\"xaxis\":{\"backgroundcolor\":\"#E5ECF6\",\"gridcolor\":\"white\",\"linecolor\":\"white\",\"showbackground\":true,\"ticks\":\"\",\"zerolinecolor\":\"white\",\"gridwidth\":2},\"yaxis\":{\"backgroundcolor\":\"#E5ECF6\",\"gridcolor\":\"white\",\"linecolor\":\"white\",\"showbackground\":true,\"ticks\":\"\",\"zerolinecolor\":\"white\",\"gridwidth\":2},\"zaxis\":{\"backgroundcolor\":\"#E5ECF6\",\"gridcolor\":\"white\",\"linecolor\":\"white\",\"showbackground\":true,\"ticks\":\"\",\"zerolinecolor\":\"white\",\"gridwidth\":2}},\"shapedefaults\":{\"line\":{\"color\":\"#2a3f5f\"}},\"annotationdefaults\":{\"arrowcolor\":\"#2a3f5f\",\"arrowhead\":0,\"arrowwidth\":1},\"geo\":{\"bgcolor\":\"white\",\"landcolor\":\"#E5ECF6\",\"subunitcolor\":\"white\",\"showland\":true,\"showlakes\":true,\"lakecolor\":\"white\"},\"title\":{\"x\":0.05},\"mapbox\":{\"style\":\"light\"}}},\"xaxis\":{\"anchor\":\"y\",\"domain\":[0.0,1.0],\"title\":{\"text\":\"Time\"}},\"yaxis\":{\"anchor\":\"x\",\"domain\":[0.0,1.0],\"title\":{\"text\":\"sum of Average LMP\"}},\"legend\":{\"tracegroupgap\":0},\"title\":{\"text\":\"Average Price Over Time\"},\"barmode\":\"relative\"},                        {\"responsive\": true}                    ).then(function(){\n",
       "                            \n",
       "var gd = document.getElementById('f13bb75b-9630-4391-8af9-e43c9b74316f');\n",
       "var x = new MutationObserver(function (mutations, observer) {{\n",
       "        var display = window.getComputedStyle(gd).display;\n",
       "        if (!display || display === 'none') {{\n",
       "            console.log([gd, 'removed!']);\n",
       "            Plotly.purge(gd);\n",
       "            observer.disconnect();\n",
       "        }}\n",
       "}});\n",
       "\n",
       "// Listen for the removal of the full notebook cells\n",
       "var notebookContainer = gd.closest('#notebook-container');\n",
       "if (notebookContainer) {{\n",
       "    x.observe(notebookContainer, {childList: true});\n",
       "}}\n",
       "\n",
       "// Listen for the clearing of the current output cell\n",
       "var outputEl = gd.closest('.output');\n",
       "if (outputEl) {{\n",
       "    x.observe(outputEl, {childList: true});\n",
       "}}\n",
       "\n",
       "                        })                };                });            </script>        </div>"
      ]
     },
     "metadata": {},
     "output_type": "display_data"
    }
   ],
   "source": [
    "def get_price_data_averaged_by_hour(price_data_by_location):\n",
    "    price_data_averaged_by_hour = [];\n",
    "    num_chunks = len(price_data_by_location) / 12\n",
    "    for chunk in np.array_split(price_data_by_location, num_chunks):\n",
    "        price_data_averaged_by_hour.append([chunk[\"Time\"].iloc[0], chunk.loc[:, \"LMP\"].mean()])\n",
    "        \n",
    "    return pd.DataFrame(price_data_averaged_by_hour, columns=[\"Time\", \"Average LMP\"])\n",
    "    \n",
    "nyiso_averaged_by_hour_df = get_price_data_averaged_by_hour(price_data_by_location)\n",
    "\n",
    "num_chart_bins = len(price_data_averaged_by_hour)\n",
    "fig = px.histogram(nyiso_averaged_by_hour_df, x=\"Time\", y=\"Average LMP\", title=\"Average Price Over Time\", nbins = num_chart_bins)\n",
    "fig.show()"
   ]
  },
  {
   "cell_type": "code",
   "execution_count": 113,
   "id": "41694c74-82b7-4495-bf4b-babcccba7ac0",
   "metadata": {},
   "outputs": [
    {
     "data": {
      "application/vnd.plotly.v1+json": {
       "config": {
        "plotlyServerURL": "https://plot.ly"
       },
       "data": [
        {
         "alignmentgroup": "True",
         "bingroup": "x",
         "histfunc": "sum",
         "hovertemplate": "Resource=Battery<br>Time=%{x}<br>sum of Average LMP=%{y}<extra></extra>",
         "legendgroup": "Battery",
         "marker": {
          "color": "#636efa",
          "pattern": {
           "shape": ""
          }
         },
         "name": "Battery",
         "nbinsx": 24,
         "offsetgroup": "Battery",
         "orientation": "v",
         "showlegend": true,
         "type": "histogram",
         "x": [
          "2024-02-26T13:15:00-05:00",
          "2024-02-26T14:15:00-05:00",
          "2024-02-26T15:15:00-05:00"
         ],
         "xaxis": "x",
         "y": [
          14.733333333333334,
          15.21,
          16.299166666666668
         ],
         "yaxis": "y"
        },
        {
         "alignmentgroup": "True",
         "bingroup": "x",
         "histfunc": "sum",
         "hovertemplate": "Resource=Dryer<br>Time=%{x}<br>sum of Average LMP=%{y}<extra></extra>",
         "legendgroup": "Dryer",
         "marker": {
          "color": "#EF553B",
          "pattern": {
           "shape": ""
          }
         },
         "name": "Dryer",
         "nbinsx": 24,
         "offsetgroup": "Dryer",
         "orientation": "v",
         "showlegend": true,
         "type": "histogram",
         "x": [
          "2024-02-26T12:15:00-05:00"
         ],
         "xaxis": "x",
         "y": [
          17.394166666666667
         ],
         "yaxis": "y"
        },
        {
         "alignmentgroup": "True",
         "bingroup": "x",
         "histfunc": "sum",
         "hovertemplate": "Resource=Dishwasher<br>Time=%{x}<br>sum of Average LMP=%{y}<extra></extra>",
         "legendgroup": "Dishwasher",
         "marker": {
          "color": "#00cc96",
          "pattern": {
           "shape": ""
          }
         },
         "name": "Dishwasher",
         "nbinsx": 24,
         "offsetgroup": "Dishwasher",
         "orientation": "v",
         "showlegend": true,
         "type": "histogram",
         "x": [
          "2024-02-26T23:00:00-05:00",
          "2024-02-26T08:15:00-05:00"
         ],
         "xaxis": "x",
         "y": [
          18.113333333333333,
          18.47
         ],
         "yaxis": "y"
        },
        {
         "alignmentgroup": "True",
         "bingroup": "x",
         "histfunc": "sum",
         "hovertemplate": "Resource=Electric Vehicle<br>Time=%{x}<br>sum of Average LMP=%{y}<extra></extra>",
         "legendgroup": "Electric Vehicle",
         "marker": {
          "color": "#ab63fa",
          "pattern": {
           "shape": ""
          }
         },
         "name": "Electric Vehicle",
         "nbinsx": 24,
         "offsetgroup": "Electric Vehicle",
         "orientation": "v",
         "showlegend": true,
         "type": "histogram",
         "x": [
          "2024-02-26T22:00:00-05:00",
          "2024-02-26T09:15:00-05:00",
          "2024-02-26T11:15:00-05:00",
          "2024-02-26T16:15:00-05:00",
          "2024-02-26T10:15:00-05:00"
         ],
         "xaxis": "x",
         "y": [
          18.884166666666665,
          19.6025,
          19.679166666666664,
          19.9825,
          20.973333333333333
         ],
         "yaxis": "y"
        },
        {
         "alignmentgroup": "True",
         "bingroup": "x",
         "histfunc": "sum",
         "hovertemplate": "Resource=Water Heater<br>Time=%{x}<br>sum of Average LMP=%{y}<extra></extra>",
         "legendgroup": "Water Heater",
         "marker": {
          "color": "#FFA15A",
          "pattern": {
           "shape": ""
          }
         },
         "name": "Water Heater",
         "nbinsx": 24,
         "offsetgroup": "Water Heater",
         "orientation": "v",
         "showlegend": true,
         "type": "histogram",
         "x": [
          "2024-02-26T07:15:00-05:00",
          "2024-02-26T01:05:00-05:00",
          "2024-02-26T00:00:00-05:00"
         ],
         "xaxis": "x",
         "y": [
          21.409999999999997,
          21.975384615384616,
          22.22076923076923
         ],
         "yaxis": "y"
        },
        {
         "alignmentgroup": "True",
         "bingroup": "x",
         "histfunc": "sum",
         "hovertemplate": "Resource=Unallocated<br>Time=%{x}<br>sum of Average LMP=%{y}<extra></extra>",
         "legendgroup": "Unallocated",
         "marker": {
          "color": "#19d3f3",
          "pattern": {
           "shape": ""
          }
         },
         "name": "Unallocated",
         "nbinsx": 24,
         "offsetgroup": "Unallocated",
         "orientation": "v",
         "showlegend": true,
         "type": "histogram",
         "x": [
          "2024-02-26T02:10:00-05:00",
          "2024-02-26T21:00:00-05:00",
          "2024-02-26T03:15:00-05:00",
          "2024-02-26T20:00:00-05:00",
          "2024-02-26T19:00:00-05:00",
          "2024-02-26T04:15:00-05:00",
          "2024-02-26T05:15:00-05:00",
          "2024-02-26T18:00:00-05:00",
          "2024-02-26T17:10:00-05:00",
          "2024-02-26T06:15:00-05:00"
         ],
         "xaxis": "x",
         "y": [
          22.73153846153846,
          23.021666666666665,
          23.410833333333333,
          24.361666666666665,
          24.795833333333338,
          25.269166666666667,
          29.909166666666668,
          30.598333333333333,
          32.46666666666667,
          54.32999999999999
         ],
         "yaxis": "y"
        }
       ],
       "layout": {
        "autosize": true,
        "barmode": "relative",
        "legend": {
         "title": {
          "text": "Resource"
         },
         "tracegroupgap": 0
        },
        "template": {
         "data": {
          "bar": [
           {
            "error_x": {
             "color": "#2a3f5f"
            },
            "error_y": {
             "color": "#2a3f5f"
            },
            "marker": {
             "line": {
              "color": "#E5ECF6",
              "width": 0.5
             },
             "pattern": {
              "fillmode": "overlay",
              "size": 10,
              "solidity": 0.2
             }
            },
            "type": "bar"
           }
          ],
          "barpolar": [
           {
            "marker": {
             "line": {
              "color": "#E5ECF6",
              "width": 0.5
             },
             "pattern": {
              "fillmode": "overlay",
              "size": 10,
              "solidity": 0.2
             }
            },
            "type": "barpolar"
           }
          ],
          "carpet": [
           {
            "aaxis": {
             "endlinecolor": "#2a3f5f",
             "gridcolor": "white",
             "linecolor": "white",
             "minorgridcolor": "white",
             "startlinecolor": "#2a3f5f"
            },
            "baxis": {
             "endlinecolor": "#2a3f5f",
             "gridcolor": "white",
             "linecolor": "white",
             "minorgridcolor": "white",
             "startlinecolor": "#2a3f5f"
            },
            "type": "carpet"
           }
          ],
          "choropleth": [
           {
            "colorbar": {
             "outlinewidth": 0,
             "ticks": ""
            },
            "type": "choropleth"
           }
          ],
          "contour": [
           {
            "colorbar": {
             "outlinewidth": 0,
             "ticks": ""
            },
            "colorscale": [
             [
              0,
              "#0d0887"
             ],
             [
              0.1111111111111111,
              "#46039f"
             ],
             [
              0.2222222222222222,
              "#7201a8"
             ],
             [
              0.3333333333333333,
              "#9c179e"
             ],
             [
              0.4444444444444444,
              "#bd3786"
             ],
             [
              0.5555555555555556,
              "#d8576b"
             ],
             [
              0.6666666666666666,
              "#ed7953"
             ],
             [
              0.7777777777777778,
              "#fb9f3a"
             ],
             [
              0.8888888888888888,
              "#fdca26"
             ],
             [
              1,
              "#f0f921"
             ]
            ],
            "type": "contour"
           }
          ],
          "contourcarpet": [
           {
            "colorbar": {
             "outlinewidth": 0,
             "ticks": ""
            },
            "type": "contourcarpet"
           }
          ],
          "heatmap": [
           {
            "colorbar": {
             "outlinewidth": 0,
             "ticks": ""
            },
            "colorscale": [
             [
              0,
              "#0d0887"
             ],
             [
              0.1111111111111111,
              "#46039f"
             ],
             [
              0.2222222222222222,
              "#7201a8"
             ],
             [
              0.3333333333333333,
              "#9c179e"
             ],
             [
              0.4444444444444444,
              "#bd3786"
             ],
             [
              0.5555555555555556,
              "#d8576b"
             ],
             [
              0.6666666666666666,
              "#ed7953"
             ],
             [
              0.7777777777777778,
              "#fb9f3a"
             ],
             [
              0.8888888888888888,
              "#fdca26"
             ],
             [
              1,
              "#f0f921"
             ]
            ],
            "type": "heatmap"
           }
          ],
          "heatmapgl": [
           {
            "colorbar": {
             "outlinewidth": 0,
             "ticks": ""
            },
            "colorscale": [
             [
              0,
              "#0d0887"
             ],
             [
              0.1111111111111111,
              "#46039f"
             ],
             [
              0.2222222222222222,
              "#7201a8"
             ],
             [
              0.3333333333333333,
              "#9c179e"
             ],
             [
              0.4444444444444444,
              "#bd3786"
             ],
             [
              0.5555555555555556,
              "#d8576b"
             ],
             [
              0.6666666666666666,
              "#ed7953"
             ],
             [
              0.7777777777777778,
              "#fb9f3a"
             ],
             [
              0.8888888888888888,
              "#fdca26"
             ],
             [
              1,
              "#f0f921"
             ]
            ],
            "type": "heatmapgl"
           }
          ],
          "histogram": [
           {
            "marker": {
             "pattern": {
              "fillmode": "overlay",
              "size": 10,
              "solidity": 0.2
             }
            },
            "type": "histogram"
           }
          ],
          "histogram2d": [
           {
            "colorbar": {
             "outlinewidth": 0,
             "ticks": ""
            },
            "colorscale": [
             [
              0,
              "#0d0887"
             ],
             [
              0.1111111111111111,
              "#46039f"
             ],
             [
              0.2222222222222222,
              "#7201a8"
             ],
             [
              0.3333333333333333,
              "#9c179e"
             ],
             [
              0.4444444444444444,
              "#bd3786"
             ],
             [
              0.5555555555555556,
              "#d8576b"
             ],
             [
              0.6666666666666666,
              "#ed7953"
             ],
             [
              0.7777777777777778,
              "#fb9f3a"
             ],
             [
              0.8888888888888888,
              "#fdca26"
             ],
             [
              1,
              "#f0f921"
             ]
            ],
            "type": "histogram2d"
           }
          ],
          "histogram2dcontour": [
           {
            "colorbar": {
             "outlinewidth": 0,
             "ticks": ""
            },
            "colorscale": [
             [
              0,
              "#0d0887"
             ],
             [
              0.1111111111111111,
              "#46039f"
             ],
             [
              0.2222222222222222,
              "#7201a8"
             ],
             [
              0.3333333333333333,
              "#9c179e"
             ],
             [
              0.4444444444444444,
              "#bd3786"
             ],
             [
              0.5555555555555556,
              "#d8576b"
             ],
             [
              0.6666666666666666,
              "#ed7953"
             ],
             [
              0.7777777777777778,
              "#fb9f3a"
             ],
             [
              0.8888888888888888,
              "#fdca26"
             ],
             [
              1,
              "#f0f921"
             ]
            ],
            "type": "histogram2dcontour"
           }
          ],
          "mesh3d": [
           {
            "colorbar": {
             "outlinewidth": 0,
             "ticks": ""
            },
            "type": "mesh3d"
           }
          ],
          "parcoords": [
           {
            "line": {
             "colorbar": {
              "outlinewidth": 0,
              "ticks": ""
             }
            },
            "type": "parcoords"
           }
          ],
          "pie": [
           {
            "automargin": true,
            "type": "pie"
           }
          ],
          "scatter": [
           {
            "fillpattern": {
             "fillmode": "overlay",
             "size": 10,
             "solidity": 0.2
            },
            "type": "scatter"
           }
          ],
          "scatter3d": [
           {
            "line": {
             "colorbar": {
              "outlinewidth": 0,
              "ticks": ""
             }
            },
            "marker": {
             "colorbar": {
              "outlinewidth": 0,
              "ticks": ""
             }
            },
            "type": "scatter3d"
           }
          ],
          "scattercarpet": [
           {
            "marker": {
             "colorbar": {
              "outlinewidth": 0,
              "ticks": ""
             }
            },
            "type": "scattercarpet"
           }
          ],
          "scattergeo": [
           {
            "marker": {
             "colorbar": {
              "outlinewidth": 0,
              "ticks": ""
             }
            },
            "type": "scattergeo"
           }
          ],
          "scattergl": [
           {
            "marker": {
             "colorbar": {
              "outlinewidth": 0,
              "ticks": ""
             }
            },
            "type": "scattergl"
           }
          ],
          "scattermapbox": [
           {
            "marker": {
             "colorbar": {
              "outlinewidth": 0,
              "ticks": ""
             }
            },
            "type": "scattermapbox"
           }
          ],
          "scatterpolar": [
           {
            "marker": {
             "colorbar": {
              "outlinewidth": 0,
              "ticks": ""
             }
            },
            "type": "scatterpolar"
           }
          ],
          "scatterpolargl": [
           {
            "marker": {
             "colorbar": {
              "outlinewidth": 0,
              "ticks": ""
             }
            },
            "type": "scatterpolargl"
           }
          ],
          "scatterternary": [
           {
            "marker": {
             "colorbar": {
              "outlinewidth": 0,
              "ticks": ""
             }
            },
            "type": "scatterternary"
           }
          ],
          "surface": [
           {
            "colorbar": {
             "outlinewidth": 0,
             "ticks": ""
            },
            "colorscale": [
             [
              0,
              "#0d0887"
             ],
             [
              0.1111111111111111,
              "#46039f"
             ],
             [
              0.2222222222222222,
              "#7201a8"
             ],
             [
              0.3333333333333333,
              "#9c179e"
             ],
             [
              0.4444444444444444,
              "#bd3786"
             ],
             [
              0.5555555555555556,
              "#d8576b"
             ],
             [
              0.6666666666666666,
              "#ed7953"
             ],
             [
              0.7777777777777778,
              "#fb9f3a"
             ],
             [
              0.8888888888888888,
              "#fdca26"
             ],
             [
              1,
              "#f0f921"
             ]
            ],
            "type": "surface"
           }
          ],
          "table": [
           {
            "cells": {
             "fill": {
              "color": "#EBF0F8"
             },
             "line": {
              "color": "white"
             }
            },
            "header": {
             "fill": {
              "color": "#C8D4E3"
             },
             "line": {
              "color": "white"
             }
            },
            "type": "table"
           }
          ]
         },
         "layout": {
          "annotationdefaults": {
           "arrowcolor": "#2a3f5f",
           "arrowhead": 0,
           "arrowwidth": 1
          },
          "autotypenumbers": "strict",
          "coloraxis": {
           "colorbar": {
            "outlinewidth": 0,
            "ticks": ""
           }
          },
          "colorscale": {
           "diverging": [
            [
             0,
             "#8e0152"
            ],
            [
             0.1,
             "#c51b7d"
            ],
            [
             0.2,
             "#de77ae"
            ],
            [
             0.3,
             "#f1b6da"
            ],
            [
             0.4,
             "#fde0ef"
            ],
            [
             0.5,
             "#f7f7f7"
            ],
            [
             0.6,
             "#e6f5d0"
            ],
            [
             0.7,
             "#b8e186"
            ],
            [
             0.8,
             "#7fbc41"
            ],
            [
             0.9,
             "#4d9221"
            ],
            [
             1,
             "#276419"
            ]
           ],
           "sequential": [
            [
             0,
             "#0d0887"
            ],
            [
             0.1111111111111111,
             "#46039f"
            ],
            [
             0.2222222222222222,
             "#7201a8"
            ],
            [
             0.3333333333333333,
             "#9c179e"
            ],
            [
             0.4444444444444444,
             "#bd3786"
            ],
            [
             0.5555555555555556,
             "#d8576b"
            ],
            [
             0.6666666666666666,
             "#ed7953"
            ],
            [
             0.7777777777777778,
             "#fb9f3a"
            ],
            [
             0.8888888888888888,
             "#fdca26"
            ],
            [
             1,
             "#f0f921"
            ]
           ],
           "sequentialminus": [
            [
             0,
             "#0d0887"
            ],
            [
             0.1111111111111111,
             "#46039f"
            ],
            [
             0.2222222222222222,
             "#7201a8"
            ],
            [
             0.3333333333333333,
             "#9c179e"
            ],
            [
             0.4444444444444444,
             "#bd3786"
            ],
            [
             0.5555555555555556,
             "#d8576b"
            ],
            [
             0.6666666666666666,
             "#ed7953"
            ],
            [
             0.7777777777777778,
             "#fb9f3a"
            ],
            [
             0.8888888888888888,
             "#fdca26"
            ],
            [
             1,
             "#f0f921"
            ]
           ]
          },
          "colorway": [
           "#636efa",
           "#EF553B",
           "#00cc96",
           "#ab63fa",
           "#FFA15A",
           "#19d3f3",
           "#FF6692",
           "#B6E880",
           "#FF97FF",
           "#FECB52"
          ],
          "font": {
           "color": "#2a3f5f"
          },
          "geo": {
           "bgcolor": "white",
           "lakecolor": "white",
           "landcolor": "#E5ECF6",
           "showlakes": true,
           "showland": true,
           "subunitcolor": "white"
          },
          "hoverlabel": {
           "align": "left"
          },
          "hovermode": "closest",
          "mapbox": {
           "style": "light"
          },
          "paper_bgcolor": "white",
          "plot_bgcolor": "#E5ECF6",
          "polar": {
           "angularaxis": {
            "gridcolor": "white",
            "linecolor": "white",
            "ticks": ""
           },
           "bgcolor": "#E5ECF6",
           "radialaxis": {
            "gridcolor": "white",
            "linecolor": "white",
            "ticks": ""
           }
          },
          "scene": {
           "xaxis": {
            "backgroundcolor": "#E5ECF6",
            "gridcolor": "white",
            "gridwidth": 2,
            "linecolor": "white",
            "showbackground": true,
            "ticks": "",
            "zerolinecolor": "white"
           },
           "yaxis": {
            "backgroundcolor": "#E5ECF6",
            "gridcolor": "white",
            "gridwidth": 2,
            "linecolor": "white",
            "showbackground": true,
            "ticks": "",
            "zerolinecolor": "white"
           },
           "zaxis": {
            "backgroundcolor": "#E5ECF6",
            "gridcolor": "white",
            "gridwidth": 2,
            "linecolor": "white",
            "showbackground": true,
            "ticks": "",
            "zerolinecolor": "white"
           }
          },
          "shapedefaults": {
           "line": {
            "color": "#2a3f5f"
           }
          },
          "ternary": {
           "aaxis": {
            "gridcolor": "white",
            "linecolor": "white",
            "ticks": ""
           },
           "baxis": {
            "gridcolor": "white",
            "linecolor": "white",
            "ticks": ""
           },
           "bgcolor": "#E5ECF6",
           "caxis": {
            "gridcolor": "white",
            "linecolor": "white",
            "ticks": ""
           }
          },
          "title": {
           "x": 0.05
          },
          "xaxis": {
           "automargin": true,
           "gridcolor": "white",
           "linecolor": "white",
           "ticks": "",
           "title": {
            "standoff": 15
           },
           "zerolinecolor": "white",
           "zerolinewidth": 2
          },
          "yaxis": {
           "automargin": true,
           "gridcolor": "white",
           "linecolor": "white",
           "ticks": "",
           "title": {
            "standoff": 15
           },
           "zerolinecolor": "white",
           "zerolinewidth": 2
          }
         }
        },
        "title": {
         "text": "Average Price Over Time"
        },
        "xaxis": {
         "anchor": "y",
         "autorange": true,
         "domain": [
          0,
          1
         ],
         "range": [
          "2024-02-25 23:30",
          "2024-02-26 23:30"
         ],
         "title": {
          "text": "Time"
         },
         "type": "date"
        },
        "yaxis": {
         "anchor": "x",
         "autorange": true,
         "domain": [
          0,
          1
         ],
         "range": [
          0,
          57.18947368421052
         ],
         "title": {
          "text": "sum of Average LMP"
         },
         "type": "linear"
        }
       }
      },
      "image/png": "[encoded data removed]",
      "text/html": [
       "<div>                            <div id=\"f5d5f90d-d500-4991-be44-56141cfaa9df\" class=\"plotly-graph-div\" style=\"height:525px; width:100%;\"></div>            <script type=\"text/javascript\">                require([\"plotly\"], function(Plotly) {                    window.PLOTLYENV=window.PLOTLYENV || {};                                    if (document.getElementById(\"f5d5f90d-d500-4991-be44-56141cfaa9df\")) {                    Plotly.newPlot(                        \"f5d5f90d-d500-4991-be44-56141cfaa9df\",                        [{\"alignmentgroup\":\"True\",\"bingroup\":\"x\",\"histfunc\":\"sum\",\"hovertemplate\":\"Resource=Battery\\u003cbr\\u003eTime=%{x}\\u003cbr\\u003esum of Average LMP=%{y}\\u003cextra\\u003e\\u003c\\u002fextra\\u003e\",\"legendgroup\":\"Battery\",\"marker\":{\"color\":\"#636efa\",\"pattern\":{\"shape\":\"\"}},\"name\":\"Battery\",\"nbinsx\":24,\"offsetgroup\":\"Battery\",\"orientation\":\"v\",\"showlegend\":true,\"x\":[\"2024-02-26T13:15:00-05:00\",\"2024-02-26T14:15:00-05:00\",\"2024-02-26T15:15:00-05:00\"],\"xaxis\":\"x\",\"y\":[14.733333333333334,15.21,16.299166666666668],\"yaxis\":\"y\",\"type\":\"histogram\"},{\"alignmentgroup\":\"True\",\"bingroup\":\"x\",\"histfunc\":\"sum\",\"hovertemplate\":\"Resource=Dryer\\u003cbr\\u003eTime=%{x}\\u003cbr\\u003esum of Average LMP=%{y}\\u003cextra\\u003e\\u003c\\u002fextra\\u003e\",\"legendgroup\":\"Dryer\",\"marker\":{\"color\":\"#EF553B\",\"pattern\":{\"shape\":\"\"}},\"name\":\"Dryer\",\"nbinsx\":24,\"offsetgroup\":\"Dryer\",\"orientation\":\"v\",\"showlegend\":true,\"x\":[\"2024-02-26T12:15:00-05:00\"],\"xaxis\":\"x\",\"y\":[17.394166666666667],\"yaxis\":\"y\",\"type\":\"histogram\"},{\"alignmentgroup\":\"True\",\"bingroup\":\"x\",\"histfunc\":\"sum\",\"hovertemplate\":\"Resource=Dishwasher\\u003cbr\\u003eTime=%{x}\\u003cbr\\u003esum of Average LMP=%{y}\\u003cextra\\u003e\\u003c\\u002fextra\\u003e\",\"legendgroup\":\"Dishwasher\",\"marker\":{\"color\":\"#00cc96\",\"pattern\":{\"shape\":\"\"}},\"name\":\"Dishwasher\",\"nbinsx\":24,\"offsetgroup\":\"Dishwasher\",\"orientation\":\"v\",\"showlegend\":true,\"x\":[\"2024-02-26T23:00:00-05:00\",\"2024-02-26T08:15:00-05:00\"],\"xaxis\":\"x\",\"y\":[18.113333333333333,18.47],\"yaxis\":\"y\",\"type\":\"histogram\"},{\"alignmentgroup\":\"True\",\"bingroup\":\"x\",\"histfunc\":\"sum\",\"hovertemplate\":\"Resource=Electric Vehicle\\u003cbr\\u003eTime=%{x}\\u003cbr\\u003esum of Average LMP=%{y}\\u003cextra\\u003e\\u003c\\u002fextra\\u003e\",\"legendgroup\":\"Electric Vehicle\",\"marker\":{\"color\":\"#ab63fa\",\"pattern\":{\"shape\":\"\"}},\"name\":\"Electric Vehicle\",\"nbinsx\":24,\"offsetgroup\":\"Electric Vehicle\",\"orientation\":\"v\",\"showlegend\":true,\"x\":[\"2024-02-26T22:00:00-05:00\",\"2024-02-26T09:15:00-05:00\",\"2024-02-26T11:15:00-05:00\",\"2024-02-26T16:15:00-05:00\",\"2024-02-26T10:15:00-05:00\"],\"xaxis\":\"x\",\"y\":[18.884166666666665,19.6025,19.679166666666664,19.9825,20.973333333333333],\"yaxis\":\"y\",\"type\":\"histogram\"},{\"alignmentgroup\":\"True\",\"bingroup\":\"x\",\"histfunc\":\"sum\",\"hovertemplate\":\"Resource=Water Heater\\u003cbr\\u003eTime=%{x}\\u003cbr\\u003esum of Average LMP=%{y}\\u003cextra\\u003e\\u003c\\u002fextra\\u003e\",\"legendgroup\":\"Water Heater\",\"marker\":{\"color\":\"#FFA15A\",\"pattern\":{\"shape\":\"\"}},\"name\":\"Water Heater\",\"nbinsx\":24,\"offsetgroup\":\"Water Heater\",\"orientation\":\"v\",\"showlegend\":true,\"x\":[\"2024-02-26T07:15:00-05:00\",\"2024-02-26T01:05:00-05:00\",\"2024-02-26T00:00:00-05:00\"],\"xaxis\":\"x\",\"y\":[21.409999999999997,21.975384615384616,22.22076923076923],\"yaxis\":\"y\",\"type\":\"histogram\"},{\"alignmentgroup\":\"True\",\"bingroup\":\"x\",\"histfunc\":\"sum\",\"hovertemplate\":\"Resource=Unallocated\\u003cbr\\u003eTime=%{x}\\u003cbr\\u003esum of Average LMP=%{y}\\u003cextra\\u003e\\u003c\\u002fextra\\u003e\",\"legendgroup\":\"Unallocated\",\"marker\":{\"color\":\"#19d3f3\",\"pattern\":{\"shape\":\"\"}},\"name\":\"Unallocated\",\"nbinsx\":24,\"offsetgroup\":\"Unallocated\",\"orientation\":\"v\",\"showlegend\":true,\"x\":[\"2024-02-26T02:10:00-05:00\",\"2024-02-26T21:00:00-05:00\",\"2024-02-26T03:15:00-05:00\",\"2024-02-26T20:00:00-05:00\",\"2024-02-26T19:00:00-05:00\",\"2024-02-26T04:15:00-05:00\",\"2024-02-26T05:15:00-05:00\",\"2024-02-26T18:00:00-05:00\",\"2024-02-26T17:10:00-05:00\",\"2024-02-26T06:15:00-05:00\"],\"xaxis\":\"x\",\"y\":[22.73153846153846,23.021666666666665,23.410833333333333,24.361666666666665,24.795833333333338,25.269166666666667,29.909166666666668,30.598333333333333,32.46666666666667,54.32999999999999],\"yaxis\":\"y\",\"type\":\"histogram\"}],                        {\"template\":{\"data\":{\"histogram2dcontour\":[{\"type\":\"histogram2dcontour\",\"colorbar\":{\"outlinewidth\":0,\"ticks\":\"\"},\"colorscale\":[[0.0,\"#0d0887\"],[0.1111111111111111,\"#46039f\"],[0.2222222222222222,\"#7201a8\"],[0.3333333333333333,\"#9c179e\"],[0.4444444444444444,\"#bd3786\"],[0.5555555555555556,\"#d8576b\"],[0.6666666666666666,\"#ed7953\"],[0.7777777777777778,\"#fb9f3a\"],[0.8888888888888888,\"#fdca26\"],[1.0,\"#f0f921\"]]}],\"choropleth\":[{\"type\":\"choropleth\",\"colorbar\":{\"outlinewidth\":0,\"ticks\":\"\"}}],\"histogram2d\":[{\"type\":\"histogram2d\",\"colorbar\":{\"outlinewidth\":0,\"ticks\":\"\"},\"colorscale\":[[0.0,\"#0d0887\"],[0.1111111111111111,\"#46039f\"],[0.2222222222222222,\"#7201a8\"],[0.3333333333333333,\"#9c179e\"],[0.4444444444444444,\"#bd3786\"],[0.5555555555555556,\"#d8576b\"],[0.6666666666666666,\"#ed7953\"],[0.7777777777777778,\"#fb9f3a\"],[0.8888888888888888,\"#fdca26\"],[1.0,\"#f0f921\"]]}],\"heatmap\":[{\"type\":\"heatmap\",\"colorbar\":{\"outlinewidth\":0,\"ticks\":\"\"},\"colorscale\":[[0.0,\"#0d0887\"],[0.1111111111111111,\"#46039f\"],[0.2222222222222222,\"#7201a8\"],[0.3333333333333333,\"#9c179e\"],[0.4444444444444444,\"#bd3786\"],[0.5555555555555556,\"#d8576b\"],[0.6666666666666666,\"#ed7953\"],[0.7777777777777778,\"#fb9f3a\"],[0.8888888888888888,\"#fdca26\"],[1.0,\"#f0f921\"]]}],\"heatmapgl\":[{\"type\":\"heatmapgl\",\"colorbar\":{\"outlinewidth\":0,\"ticks\":\"\"},\"colorscale\":[[0.0,\"#0d0887\"],[0.1111111111111111,\"#46039f\"],[0.2222222222222222,\"#7201a8\"],[0.3333333333333333,\"#9c179e\"],[0.4444444444444444,\"#bd3786\"],[0.5555555555555556,\"#d8576b\"],[0.6666666666666666,\"#ed7953\"],[0.7777777777777778,\"#fb9f3a\"],[0.8888888888888888,\"#fdca26\"],[1.0,\"#f0f921\"]]}],\"contourcarpet\":[{\"type\":\"contourcarpet\",\"colorbar\":{\"outlinewidth\":0,\"ticks\":\"\"}}],\"contour\":[{\"type\":\"contour\",\"colorbar\":{\"outlinewidth\":0,\"ticks\":\"\"},\"colorscale\":[[0.0,\"#0d0887\"],[0.1111111111111111,\"#46039f\"],[0.2222222222222222,\"#7201a8\"],[0.3333333333333333,\"#9c179e\"],[0.4444444444444444,\"#bd3786\"],[0.5555555555555556,\"#d8576b\"],[0.6666666666666666,\"#ed7953\"],[0.7777777777777778,\"#fb9f3a\"],[0.8888888888888888,\"#fdca26\"],[1.0,\"#f0f921\"]]}],\"surface\":[{\"type\":\"surface\",\"colorbar\":{\"outlinewidth\":0,\"ticks\":\"\"},\"colorscale\":[[0.0,\"#0d0887\"],[0.1111111111111111,\"#46039f\"],[0.2222222222222222,\"#7201a8\"],[0.3333333333333333,\"#9c179e\"],[0.4444444444444444,\"#bd3786\"],[0.5555555555555556,\"#d8576b\"],[0.6666666666666666,\"#ed7953\"],[0.7777777777777778,\"#fb9f3a\"],[0.8888888888888888,\"#fdca26\"],[1.0,\"#f0f921\"]]}],\"mesh3d\":[{\"type\":\"mesh3d\",\"colorbar\":{\"outlinewidth\":0,\"ticks\":\"\"}}],\"scatter\":[{\"fillpattern\":{\"fillmode\":\"overlay\",\"size\":10,\"solidity\":0.2},\"type\":\"scatter\"}],\"parcoords\":[{\"type\":\"parcoords\",\"line\":{\"colorbar\":{\"outlinewidth\":0,\"ticks\":\"\"}}}],\"scatterpolargl\":[{\"type\":\"scatterpolargl\",\"marker\":{\"colorbar\":{\"outlinewidth\":0,\"ticks\":\"\"}}}],\"bar\":[{\"error_x\":{\"color\":\"#2a3f5f\"},\"error_y\":{\"color\":\"#2a3f5f\"},\"marker\":{\"line\":{\"color\":\"#E5ECF6\",\"width\":0.5},\"pattern\":{\"fillmode\":\"overlay\",\"size\":10,\"solidity\":0.2}},\"type\":\"bar\"}],\"scattergeo\":[{\"type\":\"scattergeo\",\"marker\":{\"colorbar\":{\"outlinewidth\":0,\"ticks\":\"\"}}}],\"scatterpolar\":[{\"type\":\"scatterpolar\",\"marker\":{\"colorbar\":{\"outlinewidth\":0,\"ticks\":\"\"}}}],\"histogram\":[{\"marker\":{\"pattern\":{\"fillmode\":\"overlay\",\"size\":10,\"solidity\":0.2}},\"type\":\"histogram\"}],\"scattergl\":[{\"type\":\"scattergl\",\"marker\":{\"colorbar\":{\"outlinewidth\":0,\"ticks\":\"\"}}}],\"scatter3d\":[{\"type\":\"scatter3d\",\"line\":{\"colorbar\":{\"outlinewidth\":0,\"ticks\":\"\"}},\"marker\":{\"colorbar\":{\"outlinewidth\":0,\"ticks\":\"\"}}}],\"scattermapbox\":[{\"type\":\"scattermapbox\",\"marker\":{\"colorbar\":{\"outlinewidth\":0,\"ticks\":\"\"}}}],\"scatterternary\":[{\"type\":\"scatterternary\",\"marker\":{\"colorbar\":{\"outlinewidth\":0,\"ticks\":\"\"}}}],\"scattercarpet\":[{\"type\":\"scattercarpet\",\"marker\":{\"colorbar\":{\"outlinewidth\":0,\"ticks\":\"\"}}}],\"carpet\":[{\"aaxis\":{\"endlinecolor\":\"#2a3f5f\",\"gridcolor\":\"white\",\"linecolor\":\"white\",\"minorgridcolor\":\"white\",\"startlinecolor\":\"#2a3f5f\"},\"baxis\":{\"endlinecolor\":\"#2a3f5f\",\"gridcolor\":\"white\",\"linecolor\":\"white\",\"minorgridcolor\":\"white\",\"startlinecolor\":\"#2a3f5f\"},\"type\":\"carpet\"}],\"table\":[{\"cells\":{\"fill\":{\"color\":\"#EBF0F8\"},\"line\":{\"color\":\"white\"}},\"header\":{\"fill\":{\"color\":\"#C8D4E3\"},\"line\":{\"color\":\"white\"}},\"type\":\"table\"}],\"barpolar\":[{\"marker\":{\"line\":{\"color\":\"#E5ECF6\",\"width\":0.5},\"pattern\":{\"fillmode\":\"overlay\",\"size\":10,\"solidity\":0.2}},\"type\":\"barpolar\"}],\"pie\":[{\"automargin\":true,\"type\":\"pie\"}]},\"layout\":{\"autotypenumbers\":\"strict\",\"colorway\":[\"#636efa\",\"#EF553B\",\"#00cc96\",\"#ab63fa\",\"#FFA15A\",\"#19d3f3\",\"#FF6692\",\"#B6E880\",\"#FF97FF\",\"#FECB52\"],\"font\":{\"color\":\"#2a3f5f\"},\"hovermode\":\"closest\",\"hoverlabel\":{\"align\":\"left\"},\"paper_bgcolor\":\"white\",\"plot_bgcolor\":\"#E5ECF6\",\"polar\":{\"bgcolor\":\"#E5ECF6\",\"angularaxis\":{\"gridcolor\":\"white\",\"linecolor\":\"white\",\"ticks\":\"\"},\"radialaxis\":{\"gridcolor\":\"white\",\"linecolor\":\"white\",\"ticks\":\"\"}},\"ternary\":{\"bgcolor\":\"#E5ECF6\",\"aaxis\":{\"gridcolor\":\"white\",\"linecolor\":\"white\",\"ticks\":\"\"},\"baxis\":{\"gridcolor\":\"white\",\"linecolor\":\"white\",\"ticks\":\"\"},\"caxis\":{\"gridcolor\":\"white\",\"linecolor\":\"white\",\"ticks\":\"\"}},\"coloraxis\":{\"colorbar\":{\"outlinewidth\":0,\"ticks\":\"\"}},\"colorscale\":{\"sequential\":[[0.0,\"#0d0887\"],[0.1111111111111111,\"#46039f\"],[0.2222222222222222,\"#7201a8\"],[0.3333333333333333,\"#9c179e\"],[0.4444444444444444,\"#bd3786\"],[0.5555555555555556,\"#d8576b\"],[0.6666666666666666,\"#ed7953\"],[0.7777777777777778,\"#fb9f3a\"],[0.8888888888888888,\"#fdca26\"],[1.0,\"#f0f921\"]],\"sequentialminus\":[[0.0,\"#0d0887\"],[0.1111111111111111,\"#46039f\"],[0.2222222222222222,\"#7201a8\"],[0.3333333333333333,\"#9c179e\"],[0.4444444444444444,\"#bd3786\"],[0.5555555555555556,\"#d8576b\"],[0.6666666666666666,\"#ed7953\"],[0.7777777777777778,\"#fb9f3a\"],[0.8888888888888888,\"#fdca26\"],[1.0,\"#f0f921\"]],\"diverging\":[[0,\"#8e0152\"],[0.1,\"#c51b7d\"],[0.2,\"#de77ae\"],[0.3,\"#f1b6da\"],[0.4,\"#fde0ef\"],[0.5,\"#f7f7f7\"],[0.6,\"#e6f5d0\"],[0.7,\"#b8e186\"],[0.8,\"#7fbc41\"],[0.9,\"#4d9221\"],[1,\"#276419\"]]},\"xaxis\":{\"gridcolor\":\"white\",\"linecolor\":\"white\",\"ticks\":\"\",\"title\":{\"standoff\":15},\"zerolinecolor\":\"white\",\"automargin\":true,\"zerolinewidth\":2},\"yaxis\":{\"gridcolor\":\"white\",\"linecolor\":\"white\",\"ticks\":\"\",\"title\":{\"standoff\":15},\"zerolinecolor\":\"white\",\"automargin\":true,\"zerolinewidth\":2},\"scene\":{\"xaxis\":{\"backgroundcolor\":\"#E5ECF6\",\"gridcolor\":\"white\",\"linecolor\":\"white\",\"showbackground\":true,\"ticks\":\"\",\"zerolinecolor\":\"white\",\"gridwidth\":2},\"yaxis\":{\"backgroundcolor\":\"#E5ECF6\",\"gridcolor\":\"white\",\"linecolor\":\"white\",\"showbackground\":true,\"ticks\":\"\",\"zerolinecolor\":\"white\",\"gridwidth\":2},\"zaxis\":{\"backgroundcolor\":\"#E5ECF6\",\"gridcolor\":\"white\",\"linecolor\":\"white\",\"showbackground\":true,\"ticks\":\"\",\"zerolinecolor\":\"white\",\"gridwidth\":2}},\"shapedefaults\":{\"line\":{\"color\":\"#2a3f5f\"}},\"annotationdefaults\":{\"arrowcolor\":\"#2a3f5f\",\"arrowhead\":0,\"arrowwidth\":1},\"geo\":{\"bgcolor\":\"white\",\"landcolor\":\"#E5ECF6\",\"subunitcolor\":\"white\",\"showland\":true,\"showlakes\":true,\"lakecolor\":\"white\"},\"title\":{\"x\":0.05},\"mapbox\":{\"style\":\"light\"}}},\"xaxis\":{\"anchor\":\"y\",\"domain\":[0.0,1.0],\"title\":{\"text\":\"Time\"}},\"yaxis\":{\"anchor\":\"x\",\"domain\":[0.0,1.0],\"title\":{\"text\":\"sum of Average LMP\"}},\"legend\":{\"title\":{\"text\":\"Resource\"},\"tracegroupgap\":0},\"title\":{\"text\":\"Average Price Over Time\"},\"barmode\":\"relative\"},                        {\"responsive\": true}                    ).then(function(){\n",
       "                            \n",
       "var gd = document.getElementById('f5d5f90d-d500-4991-be44-56141cfaa9df');\n",
       "var x = new MutationObserver(function (mutations, observer) {{\n",
       "        var display = window.getComputedStyle(gd).display;\n",
       "        if (!display || display === 'none') {{\n",
       "            console.log([gd, 'removed!']);\n",
       "            Plotly.purge(gd);\n",
       "            observer.disconnect();\n",
       "        }}\n",
       "}});\n",
       "\n",
       "// Listen for the removal of the full notebook cells\n",
       "var notebookContainer = gd.closest('#notebook-container');\n",
       "if (notebookContainer) {{\n",
       "    x.observe(notebookContainer, {childList: true});\n",
       "}}\n",
       "\n",
       "// Listen for the clearing of the current output cell\n",
       "var outputEl = gd.closest('.output');\n",
       "if (outputEl) {{\n",
       "    x.observe(outputEl, {childList: true});\n",
       "}}\n",
       "\n",
       "                        })                };                });            </script>        </div>"
      ]
     },
     "metadata": {},
     "output_type": "display_data"
    }
   ],
   "source": [
    "def get_resources():\n",
    "    return [\n",
    "        {\"name\": \"Battery\", \"hours\": 3, \"priority\": 1},\n",
    "        {\"name\": \"Dryer\", \"hours\": 1, \"priority\": 2},\n",
    "        {\"name\": \"Dishwasher\", \"hours\": 2, \"priority\": 3},\n",
    "        {\"name\": \"Electric Vehicle\", \"hours\": 5, \"priority\": 4},\n",
    "        {\"name\": \"Water Heater\", \"hours\": 3, \"priority\": 5},\n",
    "    ]\n",
    "\n",
    "def allocate_resources(resources, price_data_averaged_by_hour):\n",
    "    # sort by price asc\n",
    "    price_data_averaged_by_hour_sorted = sorted(price_data_averaged_by_hour, key=itemgetter(1))\n",
    "    # sort by priority asc\n",
    "    resources_sorted = sorted(resources, key=itemgetter(\"priority\"))\n",
    "    allocated = []\n",
    "    i = 0\n",
    "    for resource in resources_sorted: \n",
    "        for hour in range(resource[\"hours\"]):\n",
    "            allocated.append([resource[\"name\"],\n",
    "                              price_data_averaged_by_hour_sorted[i][0], \n",
    "                              price_data_averaged_by_hour_sorted[i][1]])\n",
    "            i += 1\n",
    "            \n",
    "    for rem_i in range(len(price_data_averaged_by_hour_sorted) - i):\n",
    "        allocated.append([\"Unallocated\", \n",
    "                          price_data_averaged_by_hour_sorted[i + rem_i][0], \n",
    "                          price_data_averaged_by_hour_sorted[i + rem_i][1]])\n",
    "    return allocated;\n",
    "\n",
    "# allocate our resources to lowest price throughout day\n",
    "resources = get_resources()\n",
    "price_data_with_resources_allocated = allocate_resources(resources, price_data_averaged_by_hour)\n",
    "\n",
    "resources_allocated = pd.DataFrame(price_data_with_resources_allocated, columns=[\"Resource\", \"Time\", \"Average LMP\"])\n",
    "num_chart_bins = len(resources_allocated)\n",
    "fig = px.histogram(resources_allocated, x=\"Time\", y=\"Average LMP\", title=\"Average Price Over Time\", color=\"Resource\", nbins = num_chart_bins)\n",
    "fig.show()"
   ]
  },
  {
   "cell_type": "code",
   "execution_count": null,
   "id": "f6cc056f-e75a-4c4c-8dd0-84281a2b8d84",
   "metadata": {},
   "outputs": [],
   "source": []
  }
 ],
 "metadata": {
  "kernelspec": {
   "display_name": "Python 3 (ipykernel)",
   "language": "python",
   "name": "python3"
  },
  "language_info": {
   "codemirror_mode": {
    "name": "ipython",
    "version": 3
   },
   "file_extension": ".py",
   "mimetype": "text/x-python",
   "name": "python",
   "nbconvert_exporter": "python",
   "pygments_lexer": "ipython3",
   "version": "3.11.8"
  }
 },
 "nbformat": 4,
 "nbformat_minor": 5
}
